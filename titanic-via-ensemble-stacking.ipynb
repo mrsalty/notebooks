{
 "cells": [
  {
   "cell_type": "code",
   "execution_count": 1,
   "id": "10770a4c",
   "metadata": {
    "_cell_guid": "b1076dfc-b9ad-4769-8c92-a6c4dae69d19",
    "_uuid": "8f2839f25d086af736a60e9eeb907d3b93b6e0e5",
    "execution": {
     "iopub.execute_input": "2023-02-17T13:24:04.803506Z",
     "iopub.status.busy": "2023-02-17T13:24:04.802452Z",
     "iopub.status.idle": "2023-02-17T13:24:15.460079Z",
     "shell.execute_reply": "2023-02-17T13:24:15.458670Z"
    },
    "papermill": {
     "duration": 10.669865,
     "end_time": "2023-02-17T13:24:15.463512",
     "exception": false,
     "start_time": "2023-02-17T13:24:04.793647",
     "status": "completed"
    },
    "tags": []
   },
   "outputs": [
    {
     "name": "stdout",
     "output_type": "stream",
     "text": [
      "/kaggle/input/titanic/train.csv\n",
      "/kaggle/input/titanic/test.csv\n",
      "/kaggle/input/titanic/gender_submission.csv\n"
     ]
    }
   ],
   "source": [
    "import numpy as np \n",
    "import pandas as pd \n",
    "import os\n",
    "import matplotlib.pyplot as plt\n",
    "from xgboost import XGBClassifier\n",
    "from sklearn.ensemble import RandomForestClassifier\n",
    "from sklearn.preprocessing import OrdinalEncoder, MinMaxScaler, KBinsDiscretizer\n",
    "from sklearn.model_selection import train_test_split\n",
    "from keras.models import Model, Sequential \n",
    "from numpy import mean\n",
    "from numpy import std\n",
    "from sklearn.datasets import make_classification\n",
    "from sklearn.model_selection import cross_val_score\n",
    "from sklearn.model_selection import RepeatedStratifiedKFold\n",
    "from sklearn.linear_model import LogisticRegression\n",
    "from sklearn.neighbors import KNeighborsClassifier\n",
    "from sklearn.tree import DecisionTreeClassifier\n",
    "from sklearn.svm import SVC\n",
    "from sklearn.naive_bayes import GaussianNB\n",
    "from matplotlib import pyplot\n",
    "from numpy import mean\n",
    "from sklearn.ensemble import StackingClassifier\n",
    "\n",
    "for dirname, _, filenames in os.walk('/kaggle/input'):\n",
    "    for filename in filenames:\n",
    "        print(os.path.join(dirname, filename))"
   ]
  },
  {
   "cell_type": "markdown",
   "id": "b9de032f",
   "metadata": {
    "papermill": {
     "duration": 0.005773,
     "end_time": "2023-02-17T13:24:15.476113",
     "exception": false,
     "start_time": "2023-02-17T13:24:15.470340",
     "status": "completed"
    },
    "tags": []
   },
   "source": [
    "# Load data"
   ]
  },
  {
   "cell_type": "code",
   "execution_count": 2,
   "id": "cf5d165b",
   "metadata": {
    "execution": {
     "iopub.execute_input": "2023-02-17T13:24:15.491154Z",
     "iopub.status.busy": "2023-02-17T13:24:15.489993Z",
     "iopub.status.idle": "2023-02-17T13:24:15.540122Z",
     "shell.execute_reply": "2023-02-17T13:24:15.538687Z"
    },
    "papermill": {
     "duration": 0.061036,
     "end_time": "2023-02-17T13:24:15.543204",
     "exception": false,
     "start_time": "2023-02-17T13:24:15.482168",
     "status": "completed"
    },
    "tags": []
   },
   "outputs": [],
   "source": [
    "# load data from files\n",
    "X_train = pd.read_csv(\"/kaggle/input/titanic/train.csv\")\n",
    "X_submission = pd.read_csv(\"/kaggle/input/titanic/test.csv\")\n",
    "y_train = X_train['Survived']\n",
    "\n",
    "# remove y column\n",
    "X_train = X_train.drop(columns='Survived')"
   ]
  },
  {
   "cell_type": "markdown",
   "id": "0a302c6c",
   "metadata": {
    "papermill": {
     "duration": 0.005947,
     "end_time": "2023-02-17T13:24:15.555826",
     "exception": false,
     "start_time": "2023-02-17T13:24:15.549879",
     "status": "completed"
    },
    "tags": []
   },
   "source": [
    "## Data dictionary\n",
    "\n",
    "\n",
    "|Variable|Definition|Key\n",
    "|----|----|----\n",
    "|survival|Survival|0 = No, 1 = Yes\n",
    "|pclass|Ticket class|1 = 1st, 2 = 2nd, 3 = 3rd\n",
    "|sex|Sex|\n",
    "|Age|Age in years|\n",
    "|sibsp|# of siblings / spouses aboard the Titanic\n",
    "|parch|# of parents / children aboard the Titanic\n",
    "|ticket|Ticket number\n",
    "|fare|Passenger fare\n",
    "|cabin|Cabin number\n",
    "|embarked|Port of Embarkation|C = Cherbourg, Q = Queenstown, S = Southampto"
   ]
  },
  {
   "cell_type": "markdown",
   "id": "dbf74db0",
   "metadata": {
    "papermill": {
     "duration": 0.005658,
     "end_time": "2023-02-17T13:24:15.567572",
     "exception": false,
     "start_time": "2023-02-17T13:24:15.561914",
     "status": "completed"
    },
    "tags": []
   },
   "source": [
    "# Preprocessing"
   ]
  },
  {
   "cell_type": "code",
   "execution_count": 3,
   "id": "ee774339",
   "metadata": {
    "execution": {
     "iopub.execute_input": "2023-02-17T13:24:15.581504Z",
     "iopub.status.busy": "2023-02-17T13:24:15.581047Z",
     "iopub.status.idle": "2023-02-17T13:24:15.593513Z",
     "shell.execute_reply": "2023-02-17T13:24:15.591963Z"
    },
    "papermill": {
     "duration": 0.022834,
     "end_time": "2023-02-17T13:24:15.596496",
     "exception": false,
     "start_time": "2023-02-17T13:24:15.573662",
     "status": "completed"
    },
    "tags": []
   },
   "outputs": [],
   "source": [
    "X_train[\"Age\"] = X_train[\"Age\"].fillna(X_train[\"Age\"].mean())\n",
    "X_submission[\"Age\"] = X_submission[\"Age\"].fillna(X_submission[\"Age\"].mean())\n",
    "\n",
    "X_train[\"Cabin\"] = X_train[\"Cabin\"].fillna(0)\n",
    "X_submission[\"Cabin\"] = X_submission[\"Cabin\"].fillna(0)\n",
    "\n",
    "X_train[\"Embarked\"] = X_train[\"Embarked\"].fillna(0)\n",
    "X_submission[\"Embarked\"] = X_submission[\"Embarked\"].fillna(0)"
   ]
  },
  {
   "cell_type": "code",
   "execution_count": 4,
   "id": "38c2a3e0",
   "metadata": {
    "execution": {
     "iopub.execute_input": "2023-02-17T13:24:15.610689Z",
     "iopub.status.busy": "2023-02-17T13:24:15.610235Z",
     "iopub.status.idle": "2023-02-17T13:24:15.625207Z",
     "shell.execute_reply": "2023-02-17T13:24:15.623827Z"
    },
    "papermill": {
     "duration": 0.025571,
     "end_time": "2023-02-17T13:24:15.628141",
     "exception": false,
     "start_time": "2023-02-17T13:24:15.602570",
     "status": "completed"
    },
    "tags": []
   },
   "outputs": [],
   "source": [
    "# to use later for submission\n",
    "X_submission_passengerId = X_submission['PassengerId']\n",
    "\n",
    "X_train = X_train.drop(columns='Name')\n",
    "X_train = X_train.drop(columns='Ticket')\n",
    "X_train = X_train.drop(columns='PassengerId')\n",
    "X_train = X_train.drop(columns='Pclass')\n",
    "X_submission = X_submission.drop(columns='Name')\n",
    "X_submission = X_submission.drop(columns='Ticket')\n",
    "X_submission = X_submission.drop(columns='PassengerId')\n",
    "X_submission = X_submission.drop(columns='Pclass')\n"
   ]
  },
  {
   "cell_type": "code",
   "execution_count": 5,
   "id": "2301f526",
   "metadata": {
    "execution": {
     "iopub.execute_input": "2023-02-17T13:24:15.642927Z",
     "iopub.status.busy": "2023-02-17T13:24:15.642163Z",
     "iopub.status.idle": "2023-02-17T13:24:15.673758Z",
     "shell.execute_reply": "2023-02-17T13:24:15.671879Z"
    },
    "papermill": {
     "duration": 0.044338,
     "end_time": "2023-02-17T13:24:15.678485",
     "exception": false,
     "start_time": "2023-02-17T13:24:15.634147",
     "status": "completed"
    },
    "tags": []
   },
   "outputs": [
    {
     "name": "stdout",
     "output_type": "stream",
     "text": [
      "   Sex   Age  SibSp  Parch     Fare  Cabin  Embarked\n",
      "0  1.0  22.0      1      0   7.2500    0.0       3.0\n",
      "1  0.0  38.0      1      0  71.2833   82.0       1.0\n",
      "2  0.0  26.0      0      0   7.9250    0.0       3.0\n",
      "3  0.0  35.0      1      0  53.1000   56.0       3.0\n",
      "4  1.0  35.0      0      0   8.0500    0.0       3.0\n",
      "\n",
      "   Sex   Age  SibSp  Parch     Fare  Cabin  Embarked\n",
      "0  1.0  34.5      0      0   7.8292    0.0       3.0\n",
      "1  0.0  47.0      1      0   7.0000   82.0       1.0\n",
      "2  0.0  62.0      0      0   9.6875    0.0       3.0\n",
      "3  0.0  27.0      0      0   8.6625   56.0       3.0\n",
      "4  1.0  22.0      1      1  12.2875    0.0       3.0\n"
     ]
    }
   ],
   "source": [
    "cols_to_encode = [\"Sex\",\"Cabin\",\"Embarked\"]\n",
    "\n",
    "enc = OrdinalEncoder()\n",
    "for col in cols_to_encode:\n",
    "    X_train[col] = X_train[col].astype('str')\n",
    "    X_submission[col] = X_train[col].astype('str') \n",
    "    \n",
    "enc.fit(X_train[cols_to_encode])\n",
    "enc.categories_\n",
    "X_train[cols_to_encode] = enc.transform(X_train[cols_to_encode])\n",
    "X_submission[cols_to_encode] = enc.transform(X_submission[cols_to_encode])\n",
    "print(X_train.head())\n",
    "print()\n",
    "print(X_submission.head())"
   ]
  },
  {
   "cell_type": "code",
   "execution_count": 6,
   "id": "f6d3fcb5",
   "metadata": {
    "execution": {
     "iopub.execute_input": "2023-02-17T13:24:15.692928Z",
     "iopub.status.busy": "2023-02-17T13:24:15.692506Z",
     "iopub.status.idle": "2023-02-17T13:24:15.699697Z",
     "shell.execute_reply": "2023-02-17T13:24:15.698358Z"
    },
    "papermill": {
     "duration": 0.016929,
     "end_time": "2023-02-17T13:24:15.702063",
     "exception": false,
     "start_time": "2023-02-17T13:24:15.685134",
     "status": "completed"
    },
    "tags": []
   },
   "outputs": [],
   "source": [
    "X_submission = X_submission.fillna(0)"
   ]
  },
  {
   "cell_type": "markdown",
   "id": "fc655a92",
   "metadata": {
    "papermill": {
     "duration": 0.005617,
     "end_time": "2023-02-17T13:24:15.713673",
     "exception": false,
     "start_time": "2023-02-17T13:24:15.708056",
     "status": "completed"
    },
    "tags": []
   },
   "source": [
    "scaling"
   ]
  },
  {
   "cell_type": "code",
   "execution_count": 7,
   "id": "7b16621e",
   "metadata": {
    "execution": {
     "iopub.execute_input": "2023-02-17T13:24:15.727212Z",
     "iopub.status.busy": "2023-02-17T13:24:15.726793Z",
     "iopub.status.idle": "2023-02-17T13:24:15.777416Z",
     "shell.execute_reply": "2023-02-17T13:24:15.776360Z"
    },
    "papermill": {
     "duration": 0.060363,
     "end_time": "2023-02-17T13:24:15.779912",
     "exception": false,
     "start_time": "2023-02-17T13:24:15.719549",
     "status": "completed"
    },
    "tags": []
   },
   "outputs": [
    {
     "data": {
      "text/html": [
       "<div>\n",
       "<style scoped>\n",
       "    .dataframe tbody tr th:only-of-type {\n",
       "        vertical-align: middle;\n",
       "    }\n",
       "\n",
       "    .dataframe tbody tr th {\n",
       "        vertical-align: top;\n",
       "    }\n",
       "\n",
       "    .dataframe thead th {\n",
       "        text-align: right;\n",
       "    }\n",
       "</style>\n",
       "<table border=\"1\" class=\"dataframe\">\n",
       "  <thead>\n",
       "    <tr style=\"text-align: right;\">\n",
       "      <th></th>\n",
       "      <th>Sex</th>\n",
       "      <th>Age</th>\n",
       "      <th>SibSp</th>\n",
       "      <th>Parch</th>\n",
       "      <th>Fare</th>\n",
       "      <th>Cabin</th>\n",
       "      <th>Embarked</th>\n",
       "    </tr>\n",
       "  </thead>\n",
       "  <tbody>\n",
       "    <tr>\n",
       "      <th>0</th>\n",
       "      <td>1.0</td>\n",
       "      <td>-0.592481</td>\n",
       "      <td>1</td>\n",
       "      <td>0</td>\n",
       "      <td>-0.502445</td>\n",
       "      <td>-0.462490</td>\n",
       "      <td>3.0</td>\n",
       "    </tr>\n",
       "    <tr>\n",
       "      <th>1</th>\n",
       "      <td>0.0</td>\n",
       "      <td>0.638789</td>\n",
       "      <td>1</td>\n",
       "      <td>0</td>\n",
       "      <td>0.786845</td>\n",
       "      <td>1.688672</td>\n",
       "      <td>1.0</td>\n",
       "    </tr>\n",
       "    <tr>\n",
       "      <th>2</th>\n",
       "      <td>0.0</td>\n",
       "      <td>-0.284663</td>\n",
       "      <td>0</td>\n",
       "      <td>0</td>\n",
       "      <td>-0.488854</td>\n",
       "      <td>-0.462490</td>\n",
       "      <td>3.0</td>\n",
       "    </tr>\n",
       "    <tr>\n",
       "      <th>3</th>\n",
       "      <td>0.0</td>\n",
       "      <td>0.407926</td>\n",
       "      <td>1</td>\n",
       "      <td>0</td>\n",
       "      <td>0.420730</td>\n",
       "      <td>1.006596</td>\n",
       "      <td>3.0</td>\n",
       "    </tr>\n",
       "    <tr>\n",
       "      <th>4</th>\n",
       "      <td>1.0</td>\n",
       "      <td>0.407926</td>\n",
       "      <td>0</td>\n",
       "      <td>0</td>\n",
       "      <td>-0.486337</td>\n",
       "      <td>-0.462490</td>\n",
       "      <td>3.0</td>\n",
       "    </tr>\n",
       "  </tbody>\n",
       "</table>\n",
       "</div>"
      ],
      "text/plain": [
       "   Sex       Age  SibSp  Parch      Fare     Cabin  Embarked\n",
       "0  1.0 -0.592481      1      0 -0.502445 -0.462490       3.0\n",
       "1  0.0  0.638789      1      0  0.786845  1.688672       1.0\n",
       "2  0.0 -0.284663      0      0 -0.488854 -0.462490       3.0\n",
       "3  0.0  0.407926      1      0  0.420730  1.006596       3.0\n",
       "4  1.0  0.407926      0      0 -0.486337 -0.462490       3.0"
      ]
     },
     "execution_count": 7,
     "metadata": {},
     "output_type": "execute_result"
    }
   ],
   "source": [
    "def scale_cols(df, cols, scaler):\n",
    "    for col in cols:\n",
    "        scaler = StandardScaler().fit(df[[col]])\n",
    "        df[col] = scaler.transform(df[[col]])\n",
    "        # scalers[col] = scaler\n",
    "\n",
    "from sklearn.preprocessing import StandardScaler\n",
    "sc = StandardScaler()\n",
    "\n",
    "col_scale = ['Age', 'Fare', 'Cabin']\n",
    "\n",
    "scale_cols(X_train, col_scale, sc)\n",
    "scale_cols(X_submission, col_scale, sc)\n",
    "X_train.head()"
   ]
  },
  {
   "cell_type": "markdown",
   "id": "f48ce43b",
   "metadata": {
    "papermill": {
     "duration": 0.00592,
     "end_time": "2023-02-17T13:24:15.792247",
     "exception": false,
     "start_time": "2023-02-17T13:24:15.786327",
     "status": "completed"
    },
    "tags": []
   },
   "source": [
    "# Ensemble / Stacking"
   ]
  },
  {
   "cell_type": "markdown",
   "id": "fe66123a",
   "metadata": {
    "papermill": {
     "duration": 0.005887,
     "end_time": "2023-02-17T13:24:15.804459",
     "exception": false,
     "start_time": "2023-02-17T13:24:15.798572",
     "status": "completed"
    },
    "tags": []
   },
   "source": []
  },
  {
   "cell_type": "code",
   "execution_count": 8,
   "id": "e52449bf",
   "metadata": {
    "execution": {
     "iopub.execute_input": "2023-02-17T13:24:15.819205Z",
     "iopub.status.busy": "2023-02-17T13:24:15.818342Z",
     "iopub.status.idle": "2023-02-17T13:24:26.257916Z",
     "shell.execute_reply": "2023-02-17T13:24:26.256682Z"
    },
    "papermill": {
     "duration": 10.450232,
     "end_time": "2023-02-17T13:24:26.260977",
     "exception": false,
     "start_time": "2023-02-17T13:24:15.810745",
     "status": "completed"
    },
    "tags": []
   },
   "outputs": [
    {
     "name": "stdout",
     "output_type": "stream",
     "text": [
      ">lr 0.789 (0.039)\n",
      ">knn 0.794 (0.033)\n",
      ">dt 0.775 (0.038)\n",
      ">svm 0.814 (0.038)\n",
      ">bayes 0.792 (0.044)\n",
      ">xgb 0.802 (0.038)\n",
      ">rf 0.807 (0.039)\n"
     ]
    },
    {
     "data": {
      "image/png": "[encoded data removed]",
      "text/plain": [
       "<Figure size 640x480 with 1 Axes>"
      ]
     },
     "metadata": {},
     "output_type": "display_data"
    }
   ],
   "source": [
    "# get a list of models to evaluate\n",
    "def get_models():\n",
    " models = dict()\n",
    " models['lr'] = LogisticRegression()\n",
    " models['knn'] = KNeighborsClassifier()\n",
    " models['dt'] = DecisionTreeClassifier()\n",
    " models['svm'] = SVC()\n",
    " models['bayes'] = GaussianNB()\n",
    " models['xgb'] = XGBClassifier()\n",
    " models['rf'] = RandomForestClassifier()\n",
    " return models\n",
    "\n",
    "# evaluate a given model using cross-validation\n",
    "def evaluate_model(model, X, y):\n",
    " cv = RepeatedStratifiedKFold(n_splits=10, n_repeats=3, random_state=1)\n",
    " scores = cross_val_score(model, X, y, scoring='accuracy', cv=cv, n_jobs=-1, error_score='raise')\n",
    " return scores\n",
    " \n",
    "# get the models to evaluate\n",
    "models = get_models()\n",
    "\n",
    "# evaluate the models and store results\n",
    "results, names = list(), list()\n",
    "for name, model in models.items():\n",
    " scores = evaluate_model(model, X_train, y_train)\n",
    " results.append(scores)\n",
    " names.append(name)\n",
    " print('>%s %.3f (%.3f)' % (name, mean(scores), std(scores)))\n",
    "# plot model performance for comparison\n",
    "pyplot.boxplot(results, labels=names, showmeans=True)\n",
    "pyplot.show()"
   ]
  },
  {
   "cell_type": "code",
   "execution_count": 9,
   "id": "b3d8df9a",
   "metadata": {
    "execution": {
     "iopub.execute_input": "2023-02-17T13:24:26.278200Z",
     "iopub.status.busy": "2023-02-17T13:24:26.277778Z",
     "iopub.status.idle": "2023-02-17T13:24:26.285687Z",
     "shell.execute_reply": "2023-02-17T13:24:26.284476Z"
    },
    "papermill": {
     "duration": 0.018819,
     "end_time": "2023-02-17T13:24:26.287850",
     "exception": false,
     "start_time": "2023-02-17T13:24:26.269031",
     "status": "completed"
    },
    "tags": []
   },
   "outputs": [],
   "source": [
    "def get_stacking():\n",
    "    level0 = list()\n",
    "    level0.append(('lr', LogisticRegression()))\n",
    "    level0.append(('knn', KNeighborsClassifier()))\n",
    "    level0.append(('dt', DecisionTreeClassifier()))\n",
    "    level0.append(('svm', SVC()))\n",
    "    level0.append(('bayes', GaussianNB()))\n",
    "    level0.append(('xgb', XGBClassifier()))\n",
    "    level0.append(('rf', RandomForestClassifier()))\n",
    "    # define meta learner model\n",
    "    level1 = LogisticRegression()\n",
    "    # define the stacking ensemble\n",
    "    model = StackingClassifier(estimators=level0, final_estimator=level1, cv=5)\n",
    "    return model"
   ]
  },
  {
   "cell_type": "code",
   "execution_count": 10,
   "id": "bb2131f1",
   "metadata": {
    "execution": {
     "iopub.execute_input": "2023-02-17T13:24:26.304079Z",
     "iopub.status.busy": "2023-02-17T13:24:26.303360Z",
     "iopub.status.idle": "2023-02-17T13:24:26.309429Z",
     "shell.execute_reply": "2023-02-17T13:24:26.308517Z"
    },
    "papermill": {
     "duration": 0.016928,
     "end_time": "2023-02-17T13:24:26.311852",
     "exception": false,
     "start_time": "2023-02-17T13:24:26.294924",
     "status": "completed"
    },
    "tags": []
   },
   "outputs": [],
   "source": [
    "def get_models():\n",
    " models = dict()\n",
    " models['lr'] = LogisticRegression()\n",
    " models['knn'] = KNeighborsClassifier()\n",
    " models['dt'] = DecisionTreeClassifier()\n",
    " models['svm'] = SVC()\n",
    " models['bayes'] = GaussianNB()\n",
    " models['xgb'] = XGBClassifier()\n",
    " models['rf'] = RandomForestClassifier()\n",
    " models['stacking'] = get_stacking()\n",
    " return models"
   ]
  },
  {
   "cell_type": "code",
   "execution_count": 11,
   "id": "32f1ce59",
   "metadata": {
    "execution": {
     "iopub.execute_input": "2023-02-17T13:24:26.328146Z",
     "iopub.status.busy": "2023-02-17T13:24:26.327434Z",
     "iopub.status.idle": "2023-02-17T13:24:26.332817Z",
     "shell.execute_reply": "2023-02-17T13:24:26.331920Z"
    },
    "papermill": {
     "duration": 0.01619,
     "end_time": "2023-02-17T13:24:26.334996",
     "exception": false,
     "start_time": "2023-02-17T13:24:26.318806",
     "status": "completed"
    },
    "tags": []
   },
   "outputs": [],
   "source": [
    "# evaluate a give model using cross-validation\n",
    "def evaluate_model(model, X, y):\n",
    " cv = RepeatedStratifiedKFold(n_splits=10, n_repeats=3, random_state=1)\n",
    " scores = cross_val_score(model, X, y, scoring='accuracy', cv=cv, n_jobs=-1, error_score='raise')\n",
    " return scores"
   ]
  },
  {
   "cell_type": "code",
   "execution_count": 12,
   "id": "4420da26",
   "metadata": {
    "execution": {
     "iopub.execute_input": "2023-02-17T13:24:26.351632Z",
     "iopub.status.busy": "2023-02-17T13:24:26.350488Z",
     "iopub.status.idle": "2023-02-17T13:25:14.468643Z",
     "shell.execute_reply": "2023-02-17T13:25:14.467468Z"
    },
    "papermill": {
     "duration": 48.129241,
     "end_time": "2023-02-17T13:25:14.471303",
     "exception": false,
     "start_time": "2023-02-17T13:24:26.342062",
     "status": "completed"
    },
    "tags": []
   },
   "outputs": [
    {
     "name": "stdout",
     "output_type": "stream",
     "text": [
      ">lr 0.789 (0.039)\n",
      ">knn 0.794 (0.033)\n",
      ">dt 0.775 (0.036)\n",
      ">svm 0.814 (0.038)\n",
      ">bayes 0.792 (0.044)\n",
      ">xgb 0.802 (0.038)\n",
      ">rf 0.808 (0.040)\n",
      ">stacking 0.828 (0.037)\n"
     ]
    },
    {
     "data": {
      "image/png": "[encoded data removed]",
      "text/plain": [
       "<Figure size 640x480 with 1 Axes>"
      ]
     },
     "metadata": {},
     "output_type": "display_data"
    }
   ],
   "source": [
    "models = get_models()\n",
    "results, names = list(), list()\n",
    "\n",
    "for name, model in models.items():\n",
    " scores = evaluate_model(model, X_train, y_train)\n",
    " results.append(scores)\n",
    " names.append(name)\n",
    " print('>%s %.3f (%.3f)' % (name, mean(scores), std(scores)))\n",
    "# plot model performance for comparison\n",
    "pyplot.boxplot(results, labels=names, showmeans=True)\n",
    "pyplot.show()"
   ]
  },
  {
   "cell_type": "markdown",
   "id": "02c1bbf4",
   "metadata": {
    "papermill": {
     "duration": 0.007172,
     "end_time": "2023-02-17T13:25:14.486071",
     "exception": false,
     "start_time": "2023-02-17T13:25:14.478899",
     "status": "completed"
    },
    "tags": []
   },
   "source": [
    "# Predict and submission"
   ]
  },
  {
   "cell_type": "code",
   "execution_count": 13,
   "id": "bada1067",
   "metadata": {
    "execution": {
     "iopub.execute_input": "2023-02-17T13:25:14.503677Z",
     "iopub.status.busy": "2023-02-17T13:25:14.502397Z",
     "iopub.status.idle": "2023-02-17T13:25:17.956788Z",
     "shell.execute_reply": "2023-02-17T13:25:17.955887Z"
    },
    "papermill": {
     "duration": 3.465877,
     "end_time": "2023-02-17T13:25:17.959410",
     "exception": false,
     "start_time": "2023-02-17T13:25:14.493533",
     "status": "completed"
    },
    "tags": []
   },
   "outputs": [],
   "source": [
    "level0 = list()\n",
    "level0.append(('lr', LogisticRegression()))\n",
    "level0.append(('knn', KNeighborsClassifier()))\n",
    "level0.append(('dt', DecisionTreeClassifier()))\n",
    "level0.append(('svm', SVC()))\n",
    "level0.append(('bayes', GaussianNB()))\n",
    "level0.append(('xgb', XGBClassifier()))\n",
    "level0.append(('rf', RandomForestClassifier()))\n",
    "\n",
    "# define meta learner model\n",
    "level1 = LogisticRegression()\n",
    "\n",
    "# define the stacking ensemble\n",
    "model = StackingClassifier(estimators=level0, final_estimator=level1, cv=5)\n",
    "\n",
    "# fit the model on all available data\n",
    "model.fit(X_train, y_train)\n",
    "y_pred = model.predict(X_submission)"
   ]
  },
  {
   "cell_type": "code",
   "execution_count": 14,
   "id": "f6bbf1de",
   "metadata": {
    "execution": {
     "iopub.execute_input": "2023-02-17T13:25:17.977632Z",
     "iopub.status.busy": "2023-02-17T13:25:17.976442Z",
     "iopub.status.idle": "2023-02-17T13:25:17.984573Z",
     "shell.execute_reply": "2023-02-17T13:25:17.983663Z"
    },
    "papermill": {
     "duration": 0.019456,
     "end_time": "2023-02-17T13:25:17.986765",
     "exception": false,
     "start_time": "2023-02-17T13:25:17.967309",
     "status": "completed"
    },
    "tags": []
   },
   "outputs": [
    {
     "data": {
      "text/plain": [
       "array([0, 0, 1, 1, 0, 0, 0, 0, 1, 1, 0, 1, 0, 0, 1, 1, 0, 0, 1, 0, 0, 1,\n",
       "       1, 0, 1, 1, 0, 0, 1, 0, 0, 1, 1, 0, 0, 0, 0, 0, 0, 1, 1, 1, 0, 1,\n",
       "       1, 0, 0, 1, 0, 1, 0, 0, 1, 0, 0, 0, 0, 0, 0, 0, 0, 1, 0, 0, 0, 0,\n",
       "       1, 0, 1, 0, 0, 1, 0, 0, 0, 0, 0, 0, 0, 1, 1, 0, 1, 0, 1, 1, 0, 0,\n",
       "       0, 1, 0, 0, 1, 0, 0, 0, 0, 0, 1, 0, 1, 0, 0, 0, 0, 0, 1, 0, 0, 1,\n",
       "       0, 1, 0, 1, 1, 0, 0, 1, 1, 1, 0, 0, 0, 1, 0, 0, 0, 0, 1, 0, 0, 0,\n",
       "       0, 0, 0, 0, 1, 0, 0, 0, 0, 1, 1, 0, 0, 0, 0, 1, 0, 0, 0, 0, 0, 0,\n",
       "       0, 0, 1, 0, 0, 0, 0, 1, 0, 0, 0, 0, 1, 0, 0, 0, 0, 0, 0, 0, 0, 0,\n",
       "       0, 1, 0, 0, 1, 0, 0, 0, 1, 0, 1, 0, 0, 0, 1, 0, 1, 0, 1, 1, 1, 0,\n",
       "       1, 1, 0, 1, 0, 1, 0, 1, 0, 0, 1, 0, 0, 0, 0, 0, 0, 1, 0, 0, 1, 0,\n",
       "       0, 0, 0, 0, 0, 0, 0, 0, 0, 1, 1, 0, 0, 0, 0, 1, 0, 1, 0, 1, 1, 1,\n",
       "       0, 0, 0, 0, 1, 1, 0, 0, 1, 1, 0, 0, 1, 1, 1, 1, 1, 1, 0, 0, 0, 1,\n",
       "       1, 0, 0, 0, 1, 1, 0, 0, 1, 0, 1, 1, 1, 0, 0, 1, 0, 1, 0, 1, 1, 0,\n",
       "       0, 0, 0, 1, 1, 1, 0, 1, 0, 0, 1, 1, 0, 1, 0, 0, 0, 1, 0, 0, 1, 1,\n",
       "       0, 1, 1, 1, 0, 0, 0, 1, 1, 0, 1, 1, 0, 0, 1, 1, 0, 1, 0, 1, 1, 1,\n",
       "       1, 0, 0, 0, 1, 0, 0, 0, 0, 0, 0, 0, 0, 0, 0, 1, 1, 0, 0, 0, 0, 0,\n",
       "       0, 0, 1, 0, 1, 0, 1, 0, 0, 0, 1, 0, 0, 0, 1, 1, 1, 1, 1, 0, 0, 0,\n",
       "       1, 1, 0, 1, 0, 0, 1, 1, 0, 0, 0, 0, 0, 1, 0, 1, 0, 0, 0, 1, 1, 0,\n",
       "       1, 0, 0, 0, 0, 0, 1, 0, 1, 0, 0, 0, 0, 1, 0, 0, 1, 0, 0, 0, 1, 1])"
      ]
     },
     "execution_count": 14,
     "metadata": {},
     "output_type": "execute_result"
    }
   ],
   "source": [
    "y_pred"
   ]
  },
  {
   "cell_type": "code",
   "execution_count": 15,
   "id": "dcc0e4d7",
   "metadata": {
    "execution": {
     "iopub.execute_input": "2023-02-17T13:25:18.006269Z",
     "iopub.status.busy": "2023-02-17T13:25:18.004025Z",
     "iopub.status.idle": "2023-02-17T13:25:18.019109Z",
     "shell.execute_reply": "2023-02-17T13:25:18.017898Z"
    },
    "papermill": {
     "duration": 0.027153,
     "end_time": "2023-02-17T13:25:18.021967",
     "exception": false,
     "start_time": "2023-02-17T13:25:17.994814",
     "status": "completed"
    },
    "tags": []
   },
   "outputs": [
    {
     "data": {
      "text/html": [
       "<div>\n",
       "<style scoped>\n",
       "    .dataframe tbody tr th:only-of-type {\n",
       "        vertical-align: middle;\n",
       "    }\n",
       "\n",
       "    .dataframe tbody tr th {\n",
       "        vertical-align: top;\n",
       "    }\n",
       "\n",
       "    .dataframe thead th {\n",
       "        text-align: right;\n",
       "    }\n",
       "</style>\n",
       "<table border=\"1\" class=\"dataframe\">\n",
       "  <thead>\n",
       "    <tr style=\"text-align: right;\">\n",
       "      <th></th>\n",
       "      <th>PassengerId</th>\n",
       "      <th>Survived</th>\n",
       "    </tr>\n",
       "  </thead>\n",
       "  <tbody>\n",
       "    <tr>\n",
       "      <th>0</th>\n",
       "      <td>892</td>\n",
       "      <td>0</td>\n",
       "    </tr>\n",
       "    <tr>\n",
       "      <th>1</th>\n",
       "      <td>893</td>\n",
       "      <td>0</td>\n",
       "    </tr>\n",
       "    <tr>\n",
       "      <th>2</th>\n",
       "      <td>894</td>\n",
       "      <td>1</td>\n",
       "    </tr>\n",
       "    <tr>\n",
       "      <th>3</th>\n",
       "      <td>895</td>\n",
       "      <td>1</td>\n",
       "    </tr>\n",
       "    <tr>\n",
       "      <th>4</th>\n",
       "      <td>896</td>\n",
       "      <td>0</td>\n",
       "    </tr>\n",
       "    <tr>\n",
       "      <th>...</th>\n",
       "      <td>...</td>\n",
       "      <td>...</td>\n",
       "    </tr>\n",
       "    <tr>\n",
       "      <th>413</th>\n",
       "      <td>1305</td>\n",
       "      <td>0</td>\n",
       "    </tr>\n",
       "    <tr>\n",
       "      <th>414</th>\n",
       "      <td>1306</td>\n",
       "      <td>0</td>\n",
       "    </tr>\n",
       "    <tr>\n",
       "      <th>415</th>\n",
       "      <td>1307</td>\n",
       "      <td>0</td>\n",
       "    </tr>\n",
       "    <tr>\n",
       "      <th>416</th>\n",
       "      <td>1308</td>\n",
       "      <td>1</td>\n",
       "    </tr>\n",
       "    <tr>\n",
       "      <th>417</th>\n",
       "      <td>1309</td>\n",
       "      <td>1</td>\n",
       "    </tr>\n",
       "  </tbody>\n",
       "</table>\n",
       "<p>418 rows × 2 columns</p>\n",
       "</div>"
      ],
      "text/plain": [
       "     PassengerId  Survived\n",
       "0            892         0\n",
       "1            893         0\n",
       "2            894         1\n",
       "3            895         1\n",
       "4            896         0\n",
       "..           ...       ...\n",
       "413         1305         0\n",
       "414         1306         0\n",
       "415         1307         0\n",
       "416         1308         1\n",
       "417         1309         1\n",
       "\n",
       "[418 rows x 2 columns]"
      ]
     },
     "execution_count": 15,
     "metadata": {},
     "output_type": "execute_result"
    }
   ],
   "source": [
    "final_df = pd.DataFrame({'PassengerId': X_submission_passengerId, 'Survived': y_pred})\n",
    "final_df"
   ]
  },
  {
   "cell_type": "code",
   "execution_count": 16,
   "id": "d0381b08",
   "metadata": {
    "execution": {
     "iopub.execute_input": "2023-02-17T13:25:18.040383Z",
     "iopub.status.busy": "2023-02-17T13:25:18.039921Z",
     "iopub.status.idle": "2023-02-17T13:25:18.052502Z",
     "shell.execute_reply": "2023-02-17T13:25:18.050668Z"
    },
    "papermill": {
     "duration": 0.025232,
     "end_time": "2023-02-17T13:25:18.055316",
     "exception": false,
     "start_time": "2023-02-17T13:25:18.030084",
     "status": "completed"
    },
    "tags": []
   },
   "outputs": [
    {
     "name": "stdout",
     "output_type": "stream",
     "text": [
      " Submission saved\n"
     ]
    }
   ],
   "source": [
    "final_df.to_csv('submission.csv', index=False)\n",
    "print(\" Submission saved\")"
   ]
  }
 ],
 "metadata": {
  "kernelspec": {
   "display_name": "Python 3",
   "language": "python",
   "name": "python3"
  },
  "language_info": {
   "codemirror_mode": {
    "name": "ipython",
    "version": 3
   },
   "file_extension": ".py",
   "mimetype": "text/x-python",
   "name": "python",
   "nbconvert_exporter": "python",
   "pygments_lexer": "ipython3",
   "version": "3.7.12"
  },
  "papermill": {
   "default_parameters": {},
   "duration": 85.370603,
   "end_time": "2023-02-17T13:25:20.685380",
   "environment_variables": {},
   "exception": null,
   "input_path": "__notebook__.ipynb",
   "output_path": "__notebook__.ipynb",
   "parameters": {},
   "start_time": "2023-02-17T13:23:55.314777",
   "version": "2.3.4"
  }
 },
 "nbformat": 4,
 "nbformat_minor": 5
}
