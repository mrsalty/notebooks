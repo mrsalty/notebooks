{
 "cells": [
  {
   "cell_type": "code",
   "execution_count": 1,
   "id": "9376f420",
   "metadata": {
    "_cell_guid": "b1076dfc-b9ad-4769-8c92-a6c4dae69d19",
    "_uuid": "8f2839f25d086af736a60e9eeb907d3b93b6e0e5",
    "execution": {
     "iopub.execute_input": "2023-02-16T16:06:23.326463Z",
     "iopub.status.busy": "2023-02-16T16:06:23.324916Z",
     "iopub.status.idle": "2023-02-16T16:06:32.710858Z",
     "shell.execute_reply": "2023-02-16T16:06:32.709510Z"
    },
    "papermill": {
     "duration": 9.398268,
     "end_time": "2023-02-16T16:06:32.714375",
     "exception": false,
     "start_time": "2023-02-16T16:06:23.316107",
     "status": "completed"
    },
    "tags": []
   },
   "outputs": [
    {
     "name": "stdout",
     "output_type": "stream",
     "text": [
      "/kaggle/input/titanic/train.csv\n",
      "/kaggle/input/titanic/test.csv\n",
      "/kaggle/input/titanic/gender_submission.csv\n"
     ]
    }
   ],
   "source": [
    "import numpy as np \n",
    "import pandas as pd \n",
    "import os\n",
    "import matplotlib.pyplot as plt\n",
    "from xgboost import XGBClassifier\n",
    "from sklearn.ensemble import RandomForestClassifier\n",
    "from sklearn.preprocessing import OrdinalEncoder, MinMaxScaler, KBinsDiscretizer\n",
    "from sklearn.model_selection import train_test_split\n",
    "from keras.models import Model, Sequential \n",
    "from numpy import mean\n",
    "from numpy import std\n",
    "from sklearn.datasets import make_classification\n",
    "from sklearn.model_selection import cross_val_score\n",
    "from sklearn.model_selection import RepeatedStratifiedKFold\n",
    "from sklearn.linear_model import LogisticRegression\n",
    "from sklearn.neighbors import KNeighborsClassifier\n",
    "from sklearn.tree import DecisionTreeClassifier\n",
    "from sklearn.svm import SVC\n",
    "from sklearn.naive_bayes import GaussianNB\n",
    "from matplotlib import pyplot\n",
    "from numpy import mean\n",
    "from sklearn.ensemble import StackingClassifier\n",
    "\n",
    "for dirname, _, filenames in os.walk('/kaggle/input'):\n",
    "    for filename in filenames:\n",
    "        print(os.path.join(dirname, filename))"
   ]
  },
  {
   "cell_type": "markdown",
   "id": "176c11d6",
   "metadata": {
    "papermill": {
     "duration": 0.005362,
     "end_time": "2023-02-16T16:06:32.725800",
     "exception": false,
     "start_time": "2023-02-16T16:06:32.720438",
     "status": "completed"
    },
    "tags": []
   },
   "source": [
    "# Load data"
   ]
  },
  {
   "cell_type": "code",
   "execution_count": 2,
   "id": "968b18f6",
   "metadata": {
    "execution": {
     "iopub.execute_input": "2023-02-16T16:06:32.739866Z",
     "iopub.status.busy": "2023-02-16T16:06:32.738818Z",
     "iopub.status.idle": "2023-02-16T16:06:32.782751Z",
     "shell.execute_reply": "2023-02-16T16:06:32.781492Z"
    },
    "papermill": {
     "duration": 0.0538,
     "end_time": "2023-02-16T16:06:32.785510",
     "exception": false,
     "start_time": "2023-02-16T16:06:32.731710",
     "status": "completed"
    },
    "tags": []
   },
   "outputs": [],
   "source": [
    "# load data from files\n",
    "X_train = pd.read_csv(\"/kaggle/input/titanic/train.csv\")\n",
    "X_submission = pd.read_csv(\"/kaggle/input/titanic/test.csv\")\n",
    "y_train = X_train['Survived']\n",
    "\n",
    "# remove y column\n",
    "X_train = X_train.drop(columns='Survived')"
   ]
  },
  {
   "cell_type": "markdown",
   "id": "a8951f16",
   "metadata": {
    "papermill": {
     "duration": 0.005462,
     "end_time": "2023-02-16T16:06:32.796721",
     "exception": false,
     "start_time": "2023-02-16T16:06:32.791259",
     "status": "completed"
    },
    "tags": []
   },
   "source": [
    "## Data dictionary\n",
    "\n",
    "\n",
    "|Variable|Definition|Key\n",
    "|----|----|----\n",
    "|survival|Survival|0 = No, 1 = Yes\n",
    "|pclass|Ticket class|1 = 1st, 2 = 2nd, 3 = 3rd\n",
    "|sex|Sex|\n",
    "|Age|Age in years|\n",
    "|sibsp|# of siblings / spouses aboard the Titanic\n",
    "|parch|# of parents / children aboard the Titanic\n",
    "|ticket|Ticket number\n",
    "|fare|Passenger fare\n",
    "|cabin|Cabin number\n",
    "|embarked|Port of Embarkation|C = Cherbourg, Q = Queenstown, S = Southampto"
   ]
  },
  {
   "cell_type": "markdown",
   "id": "d13bb5d7",
   "metadata": {
    "papermill": {
     "duration": 0.005494,
     "end_time": "2023-02-16T16:06:32.807969",
     "exception": false,
     "start_time": "2023-02-16T16:06:32.802475",
     "status": "completed"
    },
    "tags": []
   },
   "source": [
    "# Preprocessing"
   ]
  },
  {
   "cell_type": "code",
   "execution_count": 3,
   "id": "c507ad6f",
   "metadata": {
    "execution": {
     "iopub.execute_input": "2023-02-16T16:06:32.821407Z",
     "iopub.status.busy": "2023-02-16T16:06:32.820993Z",
     "iopub.status.idle": "2023-02-16T16:06:32.832278Z",
     "shell.execute_reply": "2023-02-16T16:06:32.831077Z"
    },
    "papermill": {
     "duration": 0.02132,
     "end_time": "2023-02-16T16:06:32.835014",
     "exception": false,
     "start_time": "2023-02-16T16:06:32.813694",
     "status": "completed"
    },
    "tags": []
   },
   "outputs": [],
   "source": [
    "X_train[\"Age\"] = X_train[\"Age\"].fillna(X_train[\"Age\"].mean())\n",
    "X_submission[\"Age\"] = X_submission[\"Age\"].fillna(X_submission[\"Age\"].mean())\n",
    "\n",
    "X_train[\"Cabin\"] = X_train[\"Cabin\"].fillna(0)\n",
    "X_submission[\"Cabin\"] = X_submission[\"Cabin\"].fillna(0)\n",
    "\n",
    "X_train[\"Embarked\"] = X_train[\"Embarked\"].fillna(0)\n",
    "X_submission[\"Embarked\"] = X_submission[\"Embarked\"].fillna(0)"
   ]
  },
  {
   "cell_type": "code",
   "execution_count": 4,
   "id": "194513e1",
   "metadata": {
    "execution": {
     "iopub.execute_input": "2023-02-16T16:06:32.848896Z",
     "iopub.status.busy": "2023-02-16T16:06:32.848456Z",
     "iopub.status.idle": "2023-02-16T16:06:32.862750Z",
     "shell.execute_reply": "2023-02-16T16:06:32.861717Z"
    },
    "papermill": {
     "duration": 0.023797,
     "end_time": "2023-02-16T16:06:32.865021",
     "exception": false,
     "start_time": "2023-02-16T16:06:32.841224",
     "status": "completed"
    },
    "tags": []
   },
   "outputs": [],
   "source": [
    "# to use later for submission\n",
    "X_submission_passengerId = X_submission['PassengerId']\n",
    "\n",
    "X_train = X_train.drop(columns='Name')\n",
    "X_train = X_train.drop(columns='Ticket')\n",
    "X_train = X_train.drop(columns='PassengerId')\n",
    "X_train = X_train.drop(columns='Pclass')\n",
    "X_submission = X_submission.drop(columns='Name')\n",
    "X_submission = X_submission.drop(columns='Ticket')\n",
    "X_submission = X_submission.drop(columns='PassengerId')\n",
    "X_submission = X_submission.drop(columns='Pclass')\n"
   ]
  },
  {
   "cell_type": "code",
   "execution_count": 5,
   "id": "23424b1a",
   "metadata": {
    "execution": {
     "iopub.execute_input": "2023-02-16T16:06:32.878836Z",
     "iopub.status.busy": "2023-02-16T16:06:32.878256Z",
     "iopub.status.idle": "2023-02-16T16:06:32.909281Z",
     "shell.execute_reply": "2023-02-16T16:06:32.908381Z"
    },
    "papermill": {
     "duration": 0.041488,
     "end_time": "2023-02-16T16:06:32.912311",
     "exception": false,
     "start_time": "2023-02-16T16:06:32.870823",
     "status": "completed"
    },
    "tags": []
   },
   "outputs": [
    {
     "name": "stdout",
     "output_type": "stream",
     "text": [
      "   Sex   Age  SibSp  Parch     Fare  Cabin  Embarked\n",
      "0  1.0  22.0      1      0   7.2500    0.0       3.0\n",
      "1  0.0  38.0      1      0  71.2833   82.0       1.0\n",
      "2  0.0  26.0      0      0   7.9250    0.0       3.0\n",
      "3  0.0  35.0      1      0  53.1000   56.0       3.0\n",
      "4  1.0  35.0      0      0   8.0500    0.0       3.0\n",
      "\n",
      "   Sex   Age  SibSp  Parch     Fare  Cabin  Embarked\n",
      "0  1.0  34.5      0      0   7.8292    0.0       3.0\n",
      "1  0.0  47.0      1      0   7.0000   82.0       1.0\n",
      "2  0.0  62.0      0      0   9.6875    0.0       3.0\n",
      "3  0.0  27.0      0      0   8.6625   56.0       3.0\n",
      "4  1.0  22.0      1      1  12.2875    0.0       3.0\n"
     ]
    }
   ],
   "source": [
    "cols_to_encode = [\"Sex\",\"Cabin\",\"Embarked\"]\n",
    "\n",
    "enc = OrdinalEncoder()\n",
    "for col in cols_to_encode:\n",
    "    X_train[col] = X_train[col].astype('str')\n",
    "    X_submission[col] = X_train[col].astype('str') \n",
    "    \n",
    "enc.fit(X_train[cols_to_encode])\n",
    "enc.categories_\n",
    "X_train[cols_to_encode] = enc.transform(X_train[cols_to_encode])\n",
    "X_submission[cols_to_encode] = enc.transform(X_submission[cols_to_encode])\n",
    "print(X_train.head())\n",
    "print()\n",
    "print(X_submission.head())"
   ]
  },
  {
   "cell_type": "code",
   "execution_count": 6,
   "id": "c4d33ed5",
   "metadata": {
    "execution": {
     "iopub.execute_input": "2023-02-16T16:06:32.926603Z",
     "iopub.status.busy": "2023-02-16T16:06:32.926150Z",
     "iopub.status.idle": "2023-02-16T16:06:32.931929Z",
     "shell.execute_reply": "2023-02-16T16:06:32.930894Z"
    },
    "papermill": {
     "duration": 0.015621,
     "end_time": "2023-02-16T16:06:32.934390",
     "exception": false,
     "start_time": "2023-02-16T16:06:32.918769",
     "status": "completed"
    },
    "tags": []
   },
   "outputs": [],
   "source": [
    "X_submission = X_submission.fillna(0)"
   ]
  },
  {
   "cell_type": "code",
   "execution_count": 7,
   "id": "fe99626b",
   "metadata": {
    "execution": {
     "iopub.execute_input": "2023-02-16T16:06:32.948314Z",
     "iopub.status.busy": "2023-02-16T16:06:32.947487Z",
     "iopub.status.idle": "2023-02-16T16:06:32.961609Z",
     "shell.execute_reply": "2023-02-16T16:06:32.960370Z"
    },
    "papermill": {
     "duration": 0.023848,
     "end_time": "2023-02-16T16:06:32.964153",
     "exception": false,
     "start_time": "2023-02-16T16:06:32.940305",
     "status": "completed"
    },
    "tags": []
   },
   "outputs": [],
   "source": [
    "from sklearn.preprocessing import StandardScaler\n",
    "sc = StandardScaler()\n",
    "X_train = sc.fit_transform(X_train)\n",
    "X_submission = sc.fit_transform(X_submission)"
   ]
  },
  {
   "cell_type": "markdown",
   "id": "0211be86",
   "metadata": {
    "papermill": {
     "duration": 0.005613,
     "end_time": "2023-02-16T16:06:32.975641",
     "exception": false,
     "start_time": "2023-02-16T16:06:32.970028",
     "status": "completed"
    },
    "tags": []
   },
   "source": [
    "# Ensemble / Stacking"
   ]
  },
  {
   "cell_type": "markdown",
   "id": "5d87e8e0",
   "metadata": {
    "papermill": {
     "duration": 0.00543,
     "end_time": "2023-02-16T16:06:32.986902",
     "exception": false,
     "start_time": "2023-02-16T16:06:32.981472",
     "status": "completed"
    },
    "tags": []
   },
   "source": []
  },
  {
   "cell_type": "code",
   "execution_count": 8,
   "id": "7017ab35",
   "metadata": {
    "execution": {
     "iopub.execute_input": "2023-02-16T16:06:33.000628Z",
     "iopub.status.busy": "2023-02-16T16:06:33.000133Z",
     "iopub.status.idle": "2023-02-16T16:06:43.957807Z",
     "shell.execute_reply": "2023-02-16T16:06:43.956769Z"
    },
    "papermill": {
     "duration": 10.967527,
     "end_time": "2023-02-16T16:06:43.960301",
     "exception": false,
     "start_time": "2023-02-16T16:06:32.992774",
     "status": "completed"
    },
    "tags": []
   },
   "outputs": [
    {
     "name": "stdout",
     "output_type": "stream",
     "text": [
      ">lr 0.790 (0.039)\n",
      ">knn 0.796 (0.034)\n",
      ">dt 0.771 (0.033)\n",
      ">svm 0.818 (0.038)\n",
      ">bayes 0.792 (0.044)\n",
      ">xgb 0.802 (0.038)\n",
      ">rf 0.805 (0.039)\n"
     ]
    },
    {
     "data": {
      "image/png": "[encoded data removed]",
      "text/plain": [
       "<Figure size 640x480 with 1 Axes>"
      ]
     },
     "metadata": {},
     "output_type": "display_data"
    }
   ],
   "source": [
    "# get a list of models to evaluate\n",
    "def get_models():\n",
    " models = dict()\n",
    " models['lr'] = LogisticRegression()\n",
    " models['knn'] = KNeighborsClassifier()\n",
    " models['dt'] = DecisionTreeClassifier()\n",
    " models['svm'] = SVC()\n",
    " models['bayes'] = GaussianNB()\n",
    " models['xgb'] = XGBClassifier()\n",
    " models['rf'] = RandomForestClassifier()\n",
    " return models\n",
    "\n",
    "# evaluate a given model using cross-validation\n",
    "def evaluate_model(model, X, y):\n",
    " cv = RepeatedStratifiedKFold(n_splits=10, n_repeats=3, random_state=1)\n",
    " scores = cross_val_score(model, X, y, scoring='accuracy', cv=cv, n_jobs=-1, error_score='raise')\n",
    " return scores\n",
    " \n",
    "# get the models to evaluate\n",
    "models = get_models()\n",
    "\n",
    "# evaluate the models and store results\n",
    "results, names = list(), list()\n",
    "for name, model in models.items():\n",
    " scores = evaluate_model(model, X_train, y_train)\n",
    " results.append(scores)\n",
    " names.append(name)\n",
    " print('>%s %.3f (%.3f)' % (name, mean(scores), std(scores)))\n",
    "# plot model performance for comparison\n",
    "pyplot.boxplot(results, labels=names, showmeans=True)\n",
    "pyplot.show()"
   ]
  },
  {
   "cell_type": "code",
   "execution_count": 9,
   "id": "0cf4a0bd",
   "metadata": {
    "execution": {
     "iopub.execute_input": "2023-02-16T16:06:43.976560Z",
     "iopub.status.busy": "2023-02-16T16:06:43.975482Z",
     "iopub.status.idle": "2023-02-16T16:06:43.982937Z",
     "shell.execute_reply": "2023-02-16T16:06:43.982072Z"
    },
    "papermill": {
     "duration": 0.017972,
     "end_time": "2023-02-16T16:06:43.985160",
     "exception": false,
     "start_time": "2023-02-16T16:06:43.967188",
     "status": "completed"
    },
    "tags": []
   },
   "outputs": [],
   "source": [
    "def get_stacking():\n",
    "    level0 = list()\n",
    "    level0.append(('lr', LogisticRegression()))\n",
    "    level0.append(('knn', KNeighborsClassifier()))\n",
    "    level0.append(('dt', DecisionTreeClassifier()))\n",
    "    level0.append(('svm', SVC()))\n",
    "    level0.append(('bayes', GaussianNB()))\n",
    "    level0.append(('xgb', XGBClassifier()))\n",
    "    level0.append(('rf', RandomForestClassifier()))\n",
    "    # define meta learner model\n",
    "    level1 = LogisticRegression()\n",
    "    # define the stacking ensemble\n",
    "    model = StackingClassifier(estimators=level0, final_estimator=level1, cv=5)\n",
    "    return model"
   ]
  },
  {
   "cell_type": "code",
   "execution_count": 10,
   "id": "bb6da38a",
   "metadata": {
    "execution": {
     "iopub.execute_input": "2023-02-16T16:06:44.000660Z",
     "iopub.status.busy": "2023-02-16T16:06:43.999989Z",
     "iopub.status.idle": "2023-02-16T16:06:44.005925Z",
     "shell.execute_reply": "2023-02-16T16:06:44.004843Z"
    },
    "papermill": {
     "duration": 0.017049,
     "end_time": "2023-02-16T16:06:44.008883",
     "exception": false,
     "start_time": "2023-02-16T16:06:43.991834",
     "status": "completed"
    },
    "tags": []
   },
   "outputs": [],
   "source": [
    "def get_models():\n",
    " models = dict()\n",
    " models['lr'] = LogisticRegression()\n",
    " models['knn'] = KNeighborsClassifier()\n",
    " models['dt'] = DecisionTreeClassifier()\n",
    " models['svm'] = SVC()\n",
    " models['bayes'] = GaussianNB()\n",
    " models['xgb'] = XGBClassifier()\n",
    " models['rf'] = RandomForestClassifier()\n",
    " models['stacking'] = get_stacking()\n",
    " return models"
   ]
  },
  {
   "cell_type": "code",
   "execution_count": 11,
   "id": "75e7769a",
   "metadata": {
    "execution": {
     "iopub.execute_input": "2023-02-16T16:06:44.024036Z",
     "iopub.status.busy": "2023-02-16T16:06:44.023621Z",
     "iopub.status.idle": "2023-02-16T16:06:44.029940Z",
     "shell.execute_reply": "2023-02-16T16:06:44.028832Z"
    },
    "papermill": {
     "duration": 0.016668,
     "end_time": "2023-02-16T16:06:44.032247",
     "exception": false,
     "start_time": "2023-02-16T16:06:44.015579",
     "status": "completed"
    },
    "tags": []
   },
   "outputs": [],
   "source": [
    "# evaluate a give model using cross-validation\n",
    "def evaluate_model(model, X, y):\n",
    " cv = RepeatedStratifiedKFold(n_splits=10, n_repeats=3, random_state=1)\n",
    " scores = cross_val_score(model, X, y, scoring='accuracy', cv=cv, n_jobs=-1, error_score='raise')\n",
    " return scores"
   ]
  },
  {
   "cell_type": "code",
   "execution_count": 12,
   "id": "8426e65d",
   "metadata": {
    "execution": {
     "iopub.execute_input": "2023-02-16T16:06:44.047648Z",
     "iopub.status.busy": "2023-02-16T16:06:44.046687Z",
     "iopub.status.idle": "2023-02-16T16:07:38.093089Z",
     "shell.execute_reply": "2023-02-16T16:07:38.092184Z"
    },
    "papermill": {
     "duration": 54.056685,
     "end_time": "2023-02-16T16:07:38.095545",
     "exception": false,
     "start_time": "2023-02-16T16:06:44.038860",
     "status": "completed"
    },
    "tags": []
   },
   "outputs": [
    {
     "name": "stdout",
     "output_type": "stream",
     "text": [
      ">lr 0.790 (0.039)\n",
      ">knn 0.796 (0.034)\n",
      ">dt 0.774 (0.034)\n",
      ">svm 0.818 (0.038)\n",
      ">bayes 0.792 (0.044)\n",
      ">xgb 0.802 (0.038)\n",
      ">rf 0.811 (0.037)\n",
      ">stacking 0.828 (0.036)\n"
     ]
    },
    {
     "data": {
      "image/png": "[encoded data removed]",
      "text/plain": [
       "<Figure size 640x480 with 1 Axes>"
      ]
     },
     "metadata": {},
     "output_type": "display_data"
    }
   ],
   "source": [
    "models = get_models()\n",
    "results, names = list(), list()\n",
    "\n",
    "for name, model in models.items():\n",
    " scores = evaluate_model(model, X_train, y_train)\n",
    " results.append(scores)\n",
    " names.append(name)\n",
    " print('>%s %.3f (%.3f)' % (name, mean(scores), std(scores)))\n",
    "# plot model performance for comparison\n",
    "pyplot.boxplot(results, labels=names, showmeans=True)\n",
    "pyplot.show()"
   ]
  },
  {
   "cell_type": "markdown",
   "id": "c5881ea0",
   "metadata": {
    "papermill": {
     "duration": 0.007064,
     "end_time": "2023-02-16T16:07:38.110189",
     "exception": false,
     "start_time": "2023-02-16T16:07:38.103125",
     "status": "completed"
    },
    "tags": []
   },
   "source": [
    "# Predict and submission"
   ]
  },
  {
   "cell_type": "code",
   "execution_count": 13,
   "id": "a58d7161",
   "metadata": {
    "execution": {
     "iopub.execute_input": "2023-02-16T16:07:38.126929Z",
     "iopub.status.busy": "2023-02-16T16:07:38.126154Z",
     "iopub.status.idle": "2023-02-16T16:07:42.085723Z",
     "shell.execute_reply": "2023-02-16T16:07:42.084406Z"
    },
    "papermill": {
     "duration": 3.971405,
     "end_time": "2023-02-16T16:07:42.088915",
     "exception": false,
     "start_time": "2023-02-16T16:07:38.117510",
     "status": "completed"
    },
    "tags": []
   },
   "outputs": [],
   "source": [
    "level0 = list()\n",
    "level0.append(('lr', LogisticRegression()))\n",
    "level0.append(('knn', KNeighborsClassifier()))\n",
    "level0.append(('dt', DecisionTreeClassifier()))\n",
    "level0.append(('svm', SVC()))\n",
    "level0.append(('bayes', GaussianNB()))\n",
    "level0.append(('xgb', XGBClassifier()))\n",
    "level0.append(('rf', RandomForestClassifier()))\n",
    "\n",
    "# define meta learner model\n",
    "level1 = LogisticRegression()\n",
    "\n",
    "# define the stacking ensemble\n",
    "model = StackingClassifier(estimators=level0, final_estimator=level1, cv=5)\n",
    "\n",
    "# fit the model on all available data\n",
    "model.fit(X_train, y_train)\n",
    "y_pred = model.predict(X_submission)"
   ]
  },
  {
   "cell_type": "code",
   "execution_count": 14,
   "id": "4d209604",
   "metadata": {
    "execution": {
     "iopub.execute_input": "2023-02-16T16:07:42.106183Z",
     "iopub.status.busy": "2023-02-16T16:07:42.105483Z",
     "iopub.status.idle": "2023-02-16T16:07:42.114328Z",
     "shell.execute_reply": "2023-02-16T16:07:42.113004Z"
    },
    "papermill": {
     "duration": 0.019951,
     "end_time": "2023-02-16T16:07:42.116593",
     "exception": false,
     "start_time": "2023-02-16T16:07:42.096642",
     "status": "completed"
    },
    "tags": []
   },
   "outputs": [
    {
     "data": {
      "text/plain": [
       "array([0, 0, 1, 1, 0, 0, 0, 0, 1, 1, 0, 1, 0, 0, 1, 1, 0, 0, 1, 0, 0, 1,\n",
       "       1, 0, 1, 1, 0, 0, 1, 0, 0, 1, 1, 0, 0, 0, 0, 0, 0, 1, 1, 1, 0, 1,\n",
       "       1, 0, 0, 1, 0, 1, 0, 0, 1, 0, 0, 0, 0, 0, 0, 0, 0, 1, 0, 0, 0, 0,\n",
       "       1, 0, 1, 0, 0, 1, 0, 0, 0, 0, 0, 0, 0, 1, 1, 0, 1, 0, 1, 1, 0, 0,\n",
       "       0, 1, 0, 0, 1, 0, 0, 0, 0, 0, 1, 0, 1, 0, 0, 0, 0, 0, 1, 0, 0, 1,\n",
       "       0, 1, 0, 1, 1, 0, 0, 1, 1, 1, 0, 0, 0, 1, 0, 0, 0, 0, 1, 0, 0, 0,\n",
       "       0, 0, 0, 0, 1, 0, 0, 0, 0, 1, 1, 0, 0, 0, 0, 1, 0, 0, 0, 0, 0, 0,\n",
       "       0, 0, 1, 0, 0, 0, 0, 1, 0, 0, 0, 0, 1, 0, 0, 0, 0, 0, 1, 0, 0, 0,\n",
       "       0, 1, 0, 0, 1, 0, 0, 0, 1, 0, 1, 0, 0, 0, 1, 0, 0, 0, 1, 1, 1, 0,\n",
       "       1, 1, 0, 1, 0, 1, 0, 1, 0, 0, 1, 0, 0, 0, 0, 0, 0, 1, 0, 0, 1, 0,\n",
       "       0, 0, 0, 0, 0, 0, 0, 0, 0, 1, 1, 0, 0, 0, 0, 1, 0, 1, 0, 0, 1, 1,\n",
       "       0, 0, 0, 0, 1, 1, 0, 0, 1, 1, 0, 0, 1, 1, 1, 1, 1, 1, 0, 0, 0, 1,\n",
       "       1, 0, 0, 0, 1, 1, 0, 0, 1, 0, 0, 1, 1, 0, 0, 1, 0, 1, 0, 1, 1, 0,\n",
       "       0, 0, 0, 1, 1, 1, 0, 1, 0, 0, 1, 1, 0, 1, 0, 0, 0, 1, 0, 0, 1, 1,\n",
       "       0, 1, 1, 1, 1, 0, 0, 1, 1, 0, 1, 1, 0, 0, 1, 1, 0, 1, 0, 1, 1, 1,\n",
       "       1, 0, 0, 0, 1, 0, 0, 0, 0, 0, 0, 0, 0, 0, 0, 1, 1, 0, 0, 0, 0, 0,\n",
       "       0, 0, 1, 0, 1, 0, 1, 0, 0, 0, 1, 0, 0, 0, 1, 1, 1, 1, 1, 0, 0, 0,\n",
       "       1, 1, 0, 1, 0, 0, 1, 1, 0, 0, 0, 0, 0, 1, 0, 1, 0, 0, 0, 1, 1, 0,\n",
       "       1, 0, 0, 0, 0, 0, 1, 0, 1, 0, 0, 0, 0, 1, 0, 0, 1, 0, 0, 0, 1, 1])"
      ]
     },
     "execution_count": 14,
     "metadata": {},
     "output_type": "execute_result"
    }
   ],
   "source": [
    "y_pred"
   ]
  },
  {
   "cell_type": "code",
   "execution_count": 15,
   "id": "bf9bcbff",
   "metadata": {
    "execution": {
     "iopub.execute_input": "2023-02-16T16:07:42.133574Z",
     "iopub.status.busy": "2023-02-16T16:07:42.132609Z",
     "iopub.status.idle": "2023-02-16T16:07:42.149340Z",
     "shell.execute_reply": "2023-02-16T16:07:42.148490Z"
    },
    "papermill": {
     "duration": 0.02735,
     "end_time": "2023-02-16T16:07:42.151349",
     "exception": false,
     "start_time": "2023-02-16T16:07:42.123999",
     "status": "completed"
    },
    "tags": []
   },
   "outputs": [
    {
     "data": {
      "text/html": [
       "<div>\n",
       "<style scoped>\n",
       "    .dataframe tbody tr th:only-of-type {\n",
       "        vertical-align: middle;\n",
       "    }\n",
       "\n",
       "    .dataframe tbody tr th {\n",
       "        vertical-align: top;\n",
       "    }\n",
       "\n",
       "    .dataframe thead th {\n",
       "        text-align: right;\n",
       "    }\n",
       "</style>\n",
       "<table border=\"1\" class=\"dataframe\">\n",
       "  <thead>\n",
       "    <tr style=\"text-align: right;\">\n",
       "      <th></th>\n",
       "      <th>PassengerId</th>\n",
       "      <th>Survived</th>\n",
       "    </tr>\n",
       "  </thead>\n",
       "  <tbody>\n",
       "    <tr>\n",
       "      <th>0</th>\n",
       "      <td>892</td>\n",
       "      <td>0</td>\n",
       "    </tr>\n",
       "    <tr>\n",
       "      <th>1</th>\n",
       "      <td>893</td>\n",
       "      <td>0</td>\n",
       "    </tr>\n",
       "    <tr>\n",
       "      <th>2</th>\n",
       "      <td>894</td>\n",
       "      <td>1</td>\n",
       "    </tr>\n",
       "    <tr>\n",
       "      <th>3</th>\n",
       "      <td>895</td>\n",
       "      <td>1</td>\n",
       "    </tr>\n",
       "    <tr>\n",
       "      <th>4</th>\n",
       "      <td>896</td>\n",
       "      <td>0</td>\n",
       "    </tr>\n",
       "    <tr>\n",
       "      <th>...</th>\n",
       "      <td>...</td>\n",
       "      <td>...</td>\n",
       "    </tr>\n",
       "    <tr>\n",
       "      <th>413</th>\n",
       "      <td>1305</td>\n",
       "      <td>0</td>\n",
       "    </tr>\n",
       "    <tr>\n",
       "      <th>414</th>\n",
       "      <td>1306</td>\n",
       "      <td>0</td>\n",
       "    </tr>\n",
       "    <tr>\n",
       "      <th>415</th>\n",
       "      <td>1307</td>\n",
       "      <td>0</td>\n",
       "    </tr>\n",
       "    <tr>\n",
       "      <th>416</th>\n",
       "      <td>1308</td>\n",
       "      <td>1</td>\n",
       "    </tr>\n",
       "    <tr>\n",
       "      <th>417</th>\n",
       "      <td>1309</td>\n",
       "      <td>1</td>\n",
       "    </tr>\n",
       "  </tbody>\n",
       "</table>\n",
       "<p>418 rows × 2 columns</p>\n",
       "</div>"
      ],
      "text/plain": [
       "     PassengerId  Survived\n",
       "0            892         0\n",
       "1            893         0\n",
       "2            894         1\n",
       "3            895         1\n",
       "4            896         0\n",
       "..           ...       ...\n",
       "413         1305         0\n",
       "414         1306         0\n",
       "415         1307         0\n",
       "416         1308         1\n",
       "417         1309         1\n",
       "\n",
       "[418 rows x 2 columns]"
      ]
     },
     "execution_count": 15,
     "metadata": {},
     "output_type": "execute_result"
    }
   ],
   "source": [
    "final_df = pd.DataFrame({'PassengerId': X_submission_passengerId, 'Survived': y_pred})\n",
    "final_df"
   ]
  },
  {
   "cell_type": "code",
   "execution_count": 16,
   "id": "0d1456e9",
   "metadata": {
    "execution": {
     "iopub.execute_input": "2023-02-16T16:07:42.169532Z",
     "iopub.status.busy": "2023-02-16T16:07:42.168335Z",
     "iopub.status.idle": "2023-02-16T16:07:42.179759Z",
     "shell.execute_reply": "2023-02-16T16:07:42.177959Z"
    },
    "papermill": {
     "duration": 0.023263,
     "end_time": "2023-02-16T16:07:42.182334",
     "exception": false,
     "start_time": "2023-02-16T16:07:42.159071",
     "status": "completed"
    },
    "tags": []
   },
   "outputs": [
    {
     "name": "stdout",
     "output_type": "stream",
     "text": [
      " Submission saved\n"
     ]
    }
   ],
   "source": [
    "final_df.to_csv('submission.csv', index=False)\n",
    "print(\" Submission saved\")"
   ]
  }
 ],
 "metadata": {
  "kernelspec": {
   "display_name": "Python 3",
   "language": "python",
   "name": "python3"
  },
  "language_info": {
   "codemirror_mode": {
    "name": "ipython",
    "version": 3
   },
   "file_extension": ".py",
   "mimetype": "text/x-python",
   "name": "python",
   "nbconvert_exporter": "python",
   "pygments_lexer": "ipython3",
   "version": "3.7.12"
  },
  "papermill": {
   "default_parameters": {},
   "duration": 90.273015,
   "end_time": "2023-02-16T16:07:44.810785",
   "environment_variables": {},
   "exception": null,
   "input_path": "__notebook__.ipynb",
   "output_path": "__notebook__.ipynb",
   "parameters": {},
   "start_time": "2023-02-16T16:06:14.537770",
   "version": "2.3.4"
  }
 },
 "nbformat": 4,
 "nbformat_minor": 5
}
