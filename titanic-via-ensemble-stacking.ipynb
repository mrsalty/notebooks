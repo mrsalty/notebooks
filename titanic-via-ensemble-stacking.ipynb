{
 "cells": [
  {
   "cell_type": "code",
   "execution_count": 1,
   "id": "abecd518",
   "metadata": {
    "_cell_guid": "b1076dfc-b9ad-4769-8c92-a6c4dae69d19",
    "_uuid": "8f2839f25d086af736a60e9eeb907d3b93b6e0e5",
    "execution": {
     "iopub.execute_input": "2023-02-16T13:40:25.624810Z",
     "iopub.status.busy": "2023-02-16T13:40:25.623638Z",
     "iopub.status.idle": "2023-02-16T13:40:33.882137Z",
     "shell.execute_reply": "2023-02-16T13:40:33.880375Z"
    },
    "papermill": {
     "duration": 8.270328,
     "end_time": "2023-02-16T13:40:33.885222",
     "exception": false,
     "start_time": "2023-02-16T13:40:25.614894",
     "status": "completed"
    },
    "tags": []
   },
   "outputs": [
    {
     "name": "stdout",
     "output_type": "stream",
     "text": [
      "/kaggle/input/titanic/train.csv\n",
      "/kaggle/input/titanic/test.csv\n",
      "/kaggle/input/titanic/gender_submission.csv\n"
     ]
    }
   ],
   "source": [
    "import numpy as np \n",
    "import pandas as pd \n",
    "import os\n",
    "import matplotlib.pyplot as plt\n",
    "from sklearn.preprocessing import OrdinalEncoder, MinMaxScaler, KBinsDiscretizer\n",
    "from sklearn.model_selection import train_test_split\n",
    "from keras.models import Model, Sequential \n",
    "from numpy import mean\n",
    "from numpy import std\n",
    "from sklearn.datasets import make_classification\n",
    "from sklearn.model_selection import cross_val_score\n",
    "from sklearn.model_selection import RepeatedStratifiedKFold\n",
    "from sklearn.linear_model import LogisticRegression\n",
    "from sklearn.neighbors import KNeighborsClassifier\n",
    "from sklearn.tree import DecisionTreeClassifier\n",
    "from sklearn.svm import SVC\n",
    "from sklearn.naive_bayes import GaussianNB\n",
    "from matplotlib import pyplot\n",
    "from numpy import mean\n",
    "from sklearn.ensemble import StackingClassifier\n",
    "\n",
    "for dirname, _, filenames in os.walk('/kaggle/input'):\n",
    "    for filename in filenames:\n",
    "        print(os.path.join(dirname, filename))"
   ]
  },
  {
   "cell_type": "markdown",
   "id": "87e3b0c7",
   "metadata": {
    "papermill": {
     "duration": 0.005405,
     "end_time": "2023-02-16T13:40:33.896820",
     "exception": false,
     "start_time": "2023-02-16T13:40:33.891415",
     "status": "completed"
    },
    "tags": []
   },
   "source": [
    "# Load data"
   ]
  },
  {
   "cell_type": "code",
   "execution_count": 2,
   "id": "4dad8730",
   "metadata": {
    "execution": {
     "iopub.execute_input": "2023-02-16T13:40:33.910740Z",
     "iopub.status.busy": "2023-02-16T13:40:33.910002Z",
     "iopub.status.idle": "2023-02-16T13:40:33.952628Z",
     "shell.execute_reply": "2023-02-16T13:40:33.951436Z"
    },
    "papermill": {
     "duration": 0.053395,
     "end_time": "2023-02-16T13:40:33.955951",
     "exception": false,
     "start_time": "2023-02-16T13:40:33.902556",
     "status": "completed"
    },
    "tags": []
   },
   "outputs": [],
   "source": [
    "# load data from files\n",
    "X_train = pd.read_csv(\"/kaggle/input/titanic/train.csv\")\n",
    "X_submission = pd.read_csv(\"/kaggle/input/titanic/test.csv\")\n",
    "y_train = X_train['Survived']\n",
    "\n",
    "# remove y column\n",
    "X_train = X_train.drop(columns='Survived')"
   ]
  },
  {
   "cell_type": "markdown",
   "id": "d950d808",
   "metadata": {
    "papermill": {
     "duration": 0.005356,
     "end_time": "2023-02-16T13:40:33.967214",
     "exception": false,
     "start_time": "2023-02-16T13:40:33.961858",
     "status": "completed"
    },
    "tags": []
   },
   "source": [
    "## Data dictionary\n",
    "\n",
    "\n",
    "|Variable|Definition|Key\n",
    "|----|----|----\n",
    "|survival|Survival|0 = No, 1 = Yes\n",
    "|pclass|Ticket class|1 = 1st, 2 = 2nd, 3 = 3rd\n",
    "|sex|Sex|\n",
    "|Age|Age in years|\n",
    "|sibsp|# of siblings / spouses aboard the Titanic\n",
    "|parch|# of parents / children aboard the Titanic\n",
    "|ticket|Ticket number\n",
    "|fare|Passenger fare\n",
    "|cabin|Cabin number\n",
    "|embarked|Port of Embarkation|C = Cherbourg, Q = Queenstown, S = Southampto"
   ]
  },
  {
   "cell_type": "markdown",
   "id": "5715ceac",
   "metadata": {
    "papermill": {
     "duration": 0.005465,
     "end_time": "2023-02-16T13:40:33.978410",
     "exception": false,
     "start_time": "2023-02-16T13:40:33.972945",
     "status": "completed"
    },
    "tags": []
   },
   "source": [
    "# Preprocessing"
   ]
  },
  {
   "cell_type": "code",
   "execution_count": 3,
   "id": "30e42970",
   "metadata": {
    "execution": {
     "iopub.execute_input": "2023-02-16T13:40:33.992326Z",
     "iopub.status.busy": "2023-02-16T13:40:33.991843Z",
     "iopub.status.idle": "2023-02-16T13:40:34.003582Z",
     "shell.execute_reply": "2023-02-16T13:40:34.002386Z"
    },
    "papermill": {
     "duration": 0.022264,
     "end_time": "2023-02-16T13:40:34.006390",
     "exception": false,
     "start_time": "2023-02-16T13:40:33.984126",
     "status": "completed"
    },
    "tags": []
   },
   "outputs": [],
   "source": [
    "X_train[\"Age\"] = X_train[\"Age\"].fillna(X_train[\"Age\"].mean())\n",
    "X_submission[\"Age\"] = X_submission[\"Age\"].fillna(X_submission[\"Age\"].mean())\n",
    "\n",
    "X_train[\"Cabin\"] = X_train[\"Cabin\"].fillna(0)\n",
    "X_submission[\"Cabin\"] = X_submission[\"Cabin\"].fillna(0)\n",
    "\n",
    "X_train[\"Embarked\"] = X_train[\"Embarked\"].fillna(0)\n",
    "X_submission[\"Embarked\"] = X_submission[\"Embarked\"].fillna(0)"
   ]
  },
  {
   "cell_type": "code",
   "execution_count": 4,
   "id": "037b3b6d",
   "metadata": {
    "execution": {
     "iopub.execute_input": "2023-02-16T13:40:34.019787Z",
     "iopub.status.busy": "2023-02-16T13:40:34.019393Z",
     "iopub.status.idle": "2023-02-16T13:40:34.032571Z",
     "shell.execute_reply": "2023-02-16T13:40:34.031274Z"
    },
    "papermill": {
     "duration": 0.02312,
     "end_time": "2023-02-16T13:40:34.035367",
     "exception": false,
     "start_time": "2023-02-16T13:40:34.012247",
     "status": "completed"
    },
    "tags": []
   },
   "outputs": [],
   "source": [
    "# to use later for submission\n",
    "X_submission_passengerId = X_submission['PassengerId']\n",
    "\n",
    "X_train = X_train.drop(columns='Name')\n",
    "X_train = X_train.drop(columns='Ticket')\n",
    "X_train = X_train.drop(columns='PassengerId')\n",
    "X_train = X_train.drop(columns='Pclass')\n",
    "X_submission = X_submission.drop(columns='Name')\n",
    "X_submission = X_submission.drop(columns='Ticket')\n",
    "X_submission = X_submission.drop(columns='PassengerId')\n",
    "X_submission = X_submission.drop(columns='Pclass')\n"
   ]
  },
  {
   "cell_type": "code",
   "execution_count": 5,
   "id": "6c5d7c09",
   "metadata": {
    "execution": {
     "iopub.execute_input": "2023-02-16T13:40:34.048688Z",
     "iopub.status.busy": "2023-02-16T13:40:34.048262Z",
     "iopub.status.idle": "2023-02-16T13:40:34.080701Z",
     "shell.execute_reply": "2023-02-16T13:40:34.079052Z"
    },
    "papermill": {
     "duration": 0.042261,
     "end_time": "2023-02-16T13:40:34.083345",
     "exception": false,
     "start_time": "2023-02-16T13:40:34.041084",
     "status": "completed"
    },
    "tags": []
   },
   "outputs": [
    {
     "name": "stdout",
     "output_type": "stream",
     "text": [
      "   Sex   Age  SibSp  Parch     Fare  Cabin  Embarked\n",
      "0  1.0  22.0      1      0   7.2500    0.0       3.0\n",
      "1  0.0  38.0      1      0  71.2833   82.0       1.0\n",
      "2  0.0  26.0      0      0   7.9250    0.0       3.0\n",
      "3  0.0  35.0      1      0  53.1000   56.0       3.0\n",
      "4  1.0  35.0      0      0   8.0500    0.0       3.0\n",
      "\n",
      "   Sex   Age  SibSp  Parch     Fare  Cabin  Embarked\n",
      "0  1.0  34.5      0      0   7.8292    0.0       3.0\n",
      "1  0.0  47.0      1      0   7.0000   82.0       1.0\n",
      "2  0.0  62.0      0      0   9.6875    0.0       3.0\n",
      "3  0.0  27.0      0      0   8.6625   56.0       3.0\n",
      "4  1.0  22.0      1      1  12.2875    0.0       3.0\n"
     ]
    }
   ],
   "source": [
    "cols_to_encode = [\"Sex\",\"Cabin\",\"Embarked\"]\n",
    "\n",
    "enc = OrdinalEncoder()\n",
    "for col in cols_to_encode:\n",
    "    X_train[col] = X_train[col].astype('str')\n",
    "    X_submission[col] = X_train[col].astype('str') \n",
    "    \n",
    "enc.fit(X_train[cols_to_encode])\n",
    "enc.categories_\n",
    "X_train[cols_to_encode] = enc.transform(X_train[cols_to_encode])\n",
    "X_submission[cols_to_encode] = enc.transform(X_submission[cols_to_encode])\n",
    "print(X_train.head())\n",
    "print()\n",
    "print(X_submission.head())"
   ]
  },
  {
   "cell_type": "code",
   "execution_count": 6,
   "id": "90116fde",
   "metadata": {
    "execution": {
     "iopub.execute_input": "2023-02-16T13:40:34.097124Z",
     "iopub.status.busy": "2023-02-16T13:40:34.096703Z",
     "iopub.status.idle": "2023-02-16T13:40:34.104008Z",
     "shell.execute_reply": "2023-02-16T13:40:34.102635Z"
    },
    "papermill": {
     "duration": 0.017527,
     "end_time": "2023-02-16T13:40:34.106915",
     "exception": false,
     "start_time": "2023-02-16T13:40:34.089388",
     "status": "completed"
    },
    "tags": []
   },
   "outputs": [],
   "source": [
    "X_submission = X_submission.fillna(0)"
   ]
  },
  {
   "cell_type": "code",
   "execution_count": 7,
   "id": "687d41c7",
   "metadata": {
    "execution": {
     "iopub.execute_input": "2023-02-16T13:40:34.121375Z",
     "iopub.status.busy": "2023-02-16T13:40:34.120263Z",
     "iopub.status.idle": "2023-02-16T13:40:34.135825Z",
     "shell.execute_reply": "2023-02-16T13:40:34.134557Z"
    },
    "papermill": {
     "duration": 0.025792,
     "end_time": "2023-02-16T13:40:34.138720",
     "exception": false,
     "start_time": "2023-02-16T13:40:34.112928",
     "status": "completed"
    },
    "tags": []
   },
   "outputs": [],
   "source": [
    "from sklearn.preprocessing import StandardScaler\n",
    "sc = StandardScaler()\n",
    "X_train = sc.fit_transform(X_train)\n",
    "X_submission = sc.fit_transform(X_submission)"
   ]
  },
  {
   "cell_type": "markdown",
   "id": "412a70b9",
   "metadata": {
    "papermill": {
     "duration": 0.005526,
     "end_time": "2023-02-16T13:40:34.150059",
     "exception": false,
     "start_time": "2023-02-16T13:40:34.144533",
     "status": "completed"
    },
    "tags": []
   },
   "source": [
    "# Ensemble / Stacking"
   ]
  },
  {
   "cell_type": "markdown",
   "id": "bc536ab6",
   "metadata": {
    "papermill": {
     "duration": 0.005455,
     "end_time": "2023-02-16T13:40:34.161355",
     "exception": false,
     "start_time": "2023-02-16T13:40:34.155900",
     "status": "completed"
    },
    "tags": []
   },
   "source": []
  },
  {
   "cell_type": "code",
   "execution_count": 8,
   "id": "9532753b",
   "metadata": {
    "execution": {
     "iopub.execute_input": "2023-02-16T13:40:34.174606Z",
     "iopub.status.busy": "2023-02-16T13:40:34.174160Z",
     "iopub.status.idle": "2023-02-16T13:40:37.190829Z",
     "shell.execute_reply": "2023-02-16T13:40:37.189504Z"
    },
    "papermill": {
     "duration": 3.02669,
     "end_time": "2023-02-16T13:40:37.193807",
     "exception": false,
     "start_time": "2023-02-16T13:40:34.167117",
     "status": "completed"
    },
    "tags": []
   },
   "outputs": [
    {
     "name": "stdout",
     "output_type": "stream",
     "text": [
      ">lr 0.790 (0.039)\n",
      ">knn 0.796 (0.034)\n",
      ">dt 0.779 (0.037)\n",
      ">svm 0.818 (0.038)\n",
      ">bayes 0.792 (0.044)\n"
     ]
    },
    {
     "data": {
      "image/png": "[encoded data removed]",
      "text/plain": [
       "<Figure size 640x480 with 1 Axes>"
      ]
     },
     "metadata": {},
     "output_type": "display_data"
    }
   ],
   "source": [
    "# get a list of models to evaluate\n",
    "def get_models():\n",
    " models = dict()\n",
    " models['lr'] = LogisticRegression()\n",
    " models['knn'] = KNeighborsClassifier()\n",
    " models['dt'] = DecisionTreeClassifier()\n",
    " models['svm'] = SVC()\n",
    " models['bayes'] = GaussianNB()\n",
    " return models\n",
    "\n",
    "# evaluate a given model using cross-validation\n",
    "def evaluate_model(model, X, y):\n",
    " cv = RepeatedStratifiedKFold(n_splits=10, n_repeats=3, random_state=1)\n",
    " scores = cross_val_score(model, X, y, scoring='accuracy', cv=cv, n_jobs=-1, error_score='raise')\n",
    " return scores\n",
    " \n",
    "# get the models to evaluate\n",
    "models = get_models()\n",
    "\n",
    "# evaluate the models and store results\n",
    "results, names = list(), list()\n",
    "for name, model in models.items():\n",
    " scores = evaluate_model(model, X_train, y_train)\n",
    " results.append(scores)\n",
    " names.append(name)\n",
    " print('>%s %.3f (%.3f)' % (name, mean(scores), std(scores)))\n",
    "# plot model performance for comparison\n",
    "pyplot.boxplot(results, labels=names, showmeans=True)\n",
    "pyplot.show()"
   ]
  },
  {
   "cell_type": "code",
   "execution_count": 9,
   "id": "3652628a",
   "metadata": {
    "execution": {
     "iopub.execute_input": "2023-02-16T13:40:37.209470Z",
     "iopub.status.busy": "2023-02-16T13:40:37.208599Z",
     "iopub.status.idle": "2023-02-16T13:40:37.216331Z",
     "shell.execute_reply": "2023-02-16T13:40:37.215089Z"
    },
    "papermill": {
     "duration": 0.018416,
     "end_time": "2023-02-16T13:40:37.218934",
     "exception": false,
     "start_time": "2023-02-16T13:40:37.200518",
     "status": "completed"
    },
    "tags": []
   },
   "outputs": [],
   "source": [
    "def get_stacking():\n",
    "    level0 = list()\n",
    "    level0.append(('lr', LogisticRegression()))\n",
    "    level0.append(('knn', KNeighborsClassifier()))\n",
    "    level0.append(('dt', DecisionTreeClassifier()))\n",
    "    level0.append(('svm', SVC()))\n",
    "    level0.append(('bayes', GaussianNB()))\n",
    "    # define meta learner model\n",
    "    level1 = LogisticRegression()\n",
    "    # define the stacking ensemble\n",
    "    model = StackingClassifier(estimators=level0, final_estimator=level1, cv=5)\n",
    "    return model"
   ]
  },
  {
   "cell_type": "code",
   "execution_count": 10,
   "id": "b042c78e",
   "metadata": {
    "execution": {
     "iopub.execute_input": "2023-02-16T13:40:37.234537Z",
     "iopub.status.busy": "2023-02-16T13:40:37.233262Z",
     "iopub.status.idle": "2023-02-16T13:40:37.239621Z",
     "shell.execute_reply": "2023-02-16T13:40:37.238705Z"
    },
    "papermill": {
     "duration": 0.016589,
     "end_time": "2023-02-16T13:40:37.242055",
     "exception": false,
     "start_time": "2023-02-16T13:40:37.225466",
     "status": "completed"
    },
    "tags": []
   },
   "outputs": [],
   "source": [
    "def get_models():\n",
    " models = dict()\n",
    " models['lr'] = LogisticRegression()\n",
    " models['knn'] = KNeighborsClassifier()\n",
    " models['dt'] = DecisionTreeClassifier()\n",
    " models['svm'] = SVC()\n",
    " models['bayes'] = GaussianNB()\n",
    " models['stacking'] = get_stacking()\n",
    " return models"
   ]
  },
  {
   "cell_type": "code",
   "execution_count": 11,
   "id": "c8a05a18",
   "metadata": {
    "execution": {
     "iopub.execute_input": "2023-02-16T13:40:37.257305Z",
     "iopub.status.busy": "2023-02-16T13:40:37.256639Z",
     "iopub.status.idle": "2023-02-16T13:40:37.262123Z",
     "shell.execute_reply": "2023-02-16T13:40:37.261211Z"
    },
    "papermill": {
     "duration": 0.016072,
     "end_time": "2023-02-16T13:40:37.264708",
     "exception": false,
     "start_time": "2023-02-16T13:40:37.248636",
     "status": "completed"
    },
    "tags": []
   },
   "outputs": [],
   "source": [
    "# evaluate a give model using cross-validation\n",
    "def evaluate_model(model, X, y):\n",
    " cv = RepeatedStratifiedKFold(n_splits=10, n_repeats=3, random_state=1)\n",
    " scores = cross_val_score(model, X, y, scoring='accuracy', cv=cv, n_jobs=-1, error_score='raise')\n",
    " return scores"
   ]
  },
  {
   "cell_type": "code",
   "execution_count": 12,
   "id": "e6dfb958",
   "metadata": {
    "execution": {
     "iopub.execute_input": "2023-02-16T13:40:37.280034Z",
     "iopub.status.busy": "2023-02-16T13:40:37.279394Z",
     "iopub.status.idle": "2023-02-16T13:40:41.293297Z",
     "shell.execute_reply": "2023-02-16T13:40:41.291765Z"
    },
    "papermill": {
     "duration": 4.024887,
     "end_time": "2023-02-16T13:40:41.296133",
     "exception": false,
     "start_time": "2023-02-16T13:40:37.271246",
     "status": "completed"
    },
    "tags": []
   },
   "outputs": [
    {
     "name": "stdout",
     "output_type": "stream",
     "text": [
      ">lr 0.790 (0.039)\n",
      ">knn 0.796 (0.034)\n",
      ">dt 0.778 (0.035)\n",
      ">svm 0.818 (0.038)\n",
      ">bayes 0.792 (0.044)\n",
      ">stacking 0.815 (0.037)\n"
     ]
    },
    {
     "data": {
      "image/png": "[encoded data removed]",
      "text/plain": [
       "<Figure size 640x480 with 1 Axes>"
      ]
     },
     "metadata": {},
     "output_type": "display_data"
    }
   ],
   "source": [
    "models = get_models()\n",
    "results, names = list(), list()\n",
    "\n",
    "for name, model in models.items():\n",
    " scores = evaluate_model(model, X_train, y_train)\n",
    " results.append(scores)\n",
    " names.append(name)\n",
    " print('>%s %.3f (%.3f)' % (name, mean(scores), std(scores)))\n",
    "# plot model performance for comparison\n",
    "pyplot.boxplot(results, labels=names, showmeans=True)\n",
    "pyplot.show()"
   ]
  },
  {
   "cell_type": "markdown",
   "id": "9a599e1f",
   "metadata": {
    "papermill": {
     "duration": 0.006811,
     "end_time": "2023-02-16T13:40:41.310360",
     "exception": false,
     "start_time": "2023-02-16T13:40:41.303549",
     "status": "completed"
    },
    "tags": []
   },
   "source": [
    "# Predict and submission"
   ]
  },
  {
   "cell_type": "code",
   "execution_count": 13,
   "id": "934bcd90",
   "metadata": {
    "execution": {
     "iopub.execute_input": "2023-02-16T13:40:41.326854Z",
     "iopub.status.busy": "2023-02-16T13:40:41.326422Z",
     "iopub.status.idle": "2023-02-16T13:40:41.570261Z",
     "shell.execute_reply": "2023-02-16T13:40:41.569002Z"
    },
    "papermill": {
     "duration": 0.255369,
     "end_time": "2023-02-16T13:40:41.573088",
     "exception": false,
     "start_time": "2023-02-16T13:40:41.317719",
     "status": "completed"
    },
    "tags": []
   },
   "outputs": [],
   "source": [
    "level0 = list()\n",
    "level0.append(('lr', LogisticRegression()))\n",
    "level0.append(('knn', KNeighborsClassifier()))\n",
    "level0.append(('cart', DecisionTreeClassifier()))\n",
    "level0.append(('svm', SVC()))\n",
    "level0.append(('bayes', GaussianNB()))\n",
    "\n",
    "# define meta learner model\n",
    "level1 = LogisticRegression()\n",
    "\n",
    "# define the stacking ensemble\n",
    "model = StackingClassifier(estimators=level0, final_estimator=level1, cv=5)\n",
    "\n",
    "# fit the model on all available data\n",
    "model.fit(X_train, y_train)\n",
    "y_pred = model.predict(X_submission)"
   ]
  },
  {
   "cell_type": "code",
   "execution_count": 14,
   "id": "860b3139",
   "metadata": {
    "execution": {
     "iopub.execute_input": "2023-02-16T13:40:41.589908Z",
     "iopub.status.busy": "2023-02-16T13:40:41.588869Z",
     "iopub.status.idle": "2023-02-16T13:40:41.598081Z",
     "shell.execute_reply": "2023-02-16T13:40:41.596763Z"
    },
    "papermill": {
     "duration": 0.020139,
     "end_time": "2023-02-16T13:40:41.600447",
     "exception": false,
     "start_time": "2023-02-16T13:40:41.580308",
     "status": "completed"
    },
    "tags": []
   },
   "outputs": [
    {
     "data": {
      "text/plain": [
       "array([0, 1, 1, 1, 0, 0, 0, 0, 1, 1, 1, 1, 0, 0, 1, 1, 0, 0, 0, 1, 0, 1,\n",
       "       1, 0, 1, 1, 0, 0, 1, 0, 0, 1, 0, 0, 0, 0, 0, 0, 1, 1, 1, 1, 0, 1,\n",
       "       1, 0, 0, 1, 0, 1, 0, 0, 1, 1, 0, 0, 1, 0, 1, 0, 0, 1, 1, 0, 0, 0,\n",
       "       1, 0, 1, 0, 0, 1, 0, 0, 0, 0, 0, 0, 0, 1, 1, 0, 1, 0, 1, 1, 0, 0,\n",
       "       1, 1, 0, 0, 0, 0, 0, 0, 0, 0, 1, 0, 1, 0, 0, 0, 0, 0, 1, 0, 0, 1,\n",
       "       0, 1, 0, 1, 1, 0, 0, 1, 0, 1, 0, 0, 0, 1, 0, 0, 0, 0, 1, 0, 0, 0,\n",
       "       0, 0, 0, 0, 1, 0, 0, 0, 0, 1, 1, 0, 0, 0, 0, 1, 1, 0, 0, 1, 0, 0,\n",
       "       0, 0, 1, 0, 0, 0, 0, 1, 0, 0, 0, 0, 1, 0, 0, 0, 0, 0, 0, 0, 0, 0,\n",
       "       0, 1, 0, 0, 1, 0, 0, 0, 1, 0, 1, 0, 0, 0, 1, 0, 1, 0, 1, 1, 1, 0,\n",
       "       1, 1, 0, 1, 1, 1, 0, 1, 0, 0, 1, 0, 0, 1, 0, 0, 0, 1, 1, 0, 1, 0,\n",
       "       0, 0, 0, 0, 0, 0, 0, 0, 0, 1, 1, 0, 0, 1, 0, 1, 0, 1, 0, 0, 1, 1,\n",
       "       0, 0, 0, 0, 1, 1, 0, 0, 1, 1, 0, 0, 1, 1, 1, 1, 1, 1, 0, 0, 0, 1,\n",
       "       1, 0, 0, 0, 1, 1, 0, 0, 1, 0, 1, 1, 1, 0, 0, 1, 0, 1, 0, 1, 1, 0,\n",
       "       0, 0, 0, 1, 1, 1, 0, 1, 0, 0, 1, 1, 0, 1, 1, 0, 0, 1, 0, 0, 1, 1,\n",
       "       0, 1, 1, 1, 1, 0, 0, 1, 1, 0, 1, 1, 0, 0, 1, 1, 0, 1, 0, 1, 1, 1,\n",
       "       1, 0, 0, 0, 1, 0, 0, 1, 0, 0, 1, 1, 0, 1, 0, 1, 1, 1, 0, 0, 0, 0,\n",
       "       0, 0, 1, 0, 1, 1, 1, 1, 0, 0, 1, 0, 0, 0, 1, 1, 1, 1, 1, 0, 0, 0,\n",
       "       1, 1, 0, 1, 0, 0, 1, 1, 0, 1, 0, 0, 0, 1, 0, 1, 0, 0, 0, 1, 1, 0,\n",
       "       1, 0, 0, 1, 0, 0, 1, 0, 1, 0, 0, 1, 0, 1, 0, 0, 1, 0, 0, 1, 1, 0])"
      ]
     },
     "execution_count": 14,
     "metadata": {},
     "output_type": "execute_result"
    }
   ],
   "source": [
    "y_pred"
   ]
  },
  {
   "cell_type": "code",
   "execution_count": 15,
   "id": "22b5b9d8",
   "metadata": {
    "execution": {
     "iopub.execute_input": "2023-02-16T13:40:41.617165Z",
     "iopub.status.busy": "2023-02-16T13:40:41.616721Z",
     "iopub.status.idle": "2023-02-16T13:40:41.631636Z",
     "shell.execute_reply": "2023-02-16T13:40:41.630400Z"
    },
    "papermill": {
     "duration": 0.026605,
     "end_time": "2023-02-16T13:40:41.634238",
     "exception": false,
     "start_time": "2023-02-16T13:40:41.607633",
     "status": "completed"
    },
    "tags": []
   },
   "outputs": [
    {
     "data": {
      "text/html": [
       "<div>\n",
       "<style scoped>\n",
       "    .dataframe tbody tr th:only-of-type {\n",
       "        vertical-align: middle;\n",
       "    }\n",
       "\n",
       "    .dataframe tbody tr th {\n",
       "        vertical-align: top;\n",
       "    }\n",
       "\n",
       "    .dataframe thead th {\n",
       "        text-align: right;\n",
       "    }\n",
       "</style>\n",
       "<table border=\"1\" class=\"dataframe\">\n",
       "  <thead>\n",
       "    <tr style=\"text-align: right;\">\n",
       "      <th></th>\n",
       "      <th>PassengerId</th>\n",
       "      <th>Survived</th>\n",
       "    </tr>\n",
       "  </thead>\n",
       "  <tbody>\n",
       "    <tr>\n",
       "      <th>0</th>\n",
       "      <td>892</td>\n",
       "      <td>0</td>\n",
       "    </tr>\n",
       "    <tr>\n",
       "      <th>1</th>\n",
       "      <td>893</td>\n",
       "      <td>1</td>\n",
       "    </tr>\n",
       "    <tr>\n",
       "      <th>2</th>\n",
       "      <td>894</td>\n",
       "      <td>1</td>\n",
       "    </tr>\n",
       "    <tr>\n",
       "      <th>3</th>\n",
       "      <td>895</td>\n",
       "      <td>1</td>\n",
       "    </tr>\n",
       "    <tr>\n",
       "      <th>4</th>\n",
       "      <td>896</td>\n",
       "      <td>0</td>\n",
       "    </tr>\n",
       "  </tbody>\n",
       "</table>\n",
       "</div>"
      ],
      "text/plain": [
       "   PassengerId  Survived\n",
       "0          892         0\n",
       "1          893         1\n",
       "2          894         1\n",
       "3          895         1\n",
       "4          896         0"
      ]
     },
     "execution_count": 15,
     "metadata": {},
     "output_type": "execute_result"
    }
   ],
   "source": [
    "final_df = pd.DataFrame({'PassengerId': X_submission_passengerId, 'Survived': y_pred})\n",
    "final_df.head()"
   ]
  },
  {
   "cell_type": "code",
   "execution_count": 16,
   "id": "1c0a07b2",
   "metadata": {
    "execution": {
     "iopub.execute_input": "2023-02-16T13:40:41.651152Z",
     "iopub.status.busy": "2023-02-16T13:40:41.650762Z",
     "iopub.status.idle": "2023-02-16T13:40:41.660659Z",
     "shell.execute_reply": "2023-02-16T13:40:41.659322Z"
    },
    "papermill": {
     "duration": 0.021675,
     "end_time": "2023-02-16T13:40:41.663379",
     "exception": false,
     "start_time": "2023-02-16T13:40:41.641704",
     "status": "completed"
    },
    "tags": []
   },
   "outputs": [
    {
     "name": "stdout",
     "output_type": "stream",
     "text": [
      " Submission saved\n"
     ]
    }
   ],
   "source": [
    "final_df.to_csv('submission.csv', index=False)\n",
    "print(\" Submission saved\")"
   ]
  }
 ],
 "metadata": {
  "kernelspec": {
   "display_name": "Python 3",
   "language": "python",
   "name": "python3"
  },
  "language_info": {
   "codemirror_mode": {
    "name": "ipython",
    "version": 3
   },
   "file_extension": ".py",
   "mimetype": "text/x-python",
   "name": "python",
   "nbconvert_exporter": "python",
   "pygments_lexer": "ipython3",
   "version": "3.7.12"
  },
  "papermill": {
   "default_parameters": {},
   "duration": 27.523138,
   "end_time": "2023-02-16T13:40:44.293223",
   "environment_variables": {},
   "exception": null,
   "input_path": "__notebook__.ipynb",
   "output_path": "__notebook__.ipynb",
   "parameters": {},
   "start_time": "2023-02-16T13:40:16.770085",
   "version": "2.3.4"
  }
 },
 "nbformat": 4,
 "nbformat_minor": 5
}
