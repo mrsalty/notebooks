{
 "cells": [
  {
   "cell_type": "code",
   "execution_count": 1,
   "id": "48e45b83",
   "metadata": {
    "_cell_guid": "b1076dfc-b9ad-4769-8c92-a6c4dae69d19",
    "_uuid": "8f2839f25d086af736a60e9eeb907d3b93b6e0e5",
    "execution": {
     "iopub.execute_input": "2023-02-16T13:19:25.219023Z",
     "iopub.status.busy": "2023-02-16T13:19:25.217940Z",
     "iopub.status.idle": "2023-02-16T13:19:35.168423Z",
     "shell.execute_reply": "2023-02-16T13:19:35.167058Z"
    },
    "papermill": {
     "duration": 9.962939,
     "end_time": "2023-02-16T13:19:35.171471",
     "exception": false,
     "start_time": "2023-02-16T13:19:25.208532",
     "status": "completed"
    },
    "tags": []
   },
   "outputs": [
    {
     "name": "stdout",
     "output_type": "stream",
     "text": [
      "/kaggle/input/titanic/train.csv\n",
      "/kaggle/input/titanic/test.csv\n",
      "/kaggle/input/titanic/gender_submission.csv\n"
     ]
    }
   ],
   "source": [
    "import numpy as np \n",
    "import pandas as pd \n",
    "import os\n",
    "import matplotlib.pyplot as plt\n",
    "from sklearn.preprocessing import OrdinalEncoder, MinMaxScaler, KBinsDiscretizer\n",
    "from sklearn.model_selection import train_test_split\n",
    "from keras.models import Model, Sequential \n",
    "from numpy import mean\n",
    "from numpy import std\n",
    "from sklearn.datasets import make_classification\n",
    "from sklearn.model_selection import cross_val_score\n",
    "from sklearn.model_selection import RepeatedStratifiedKFold\n",
    "from sklearn.linear_model import LogisticRegression\n",
    "from sklearn.neighbors import KNeighborsClassifier\n",
    "from sklearn.tree import DecisionTreeClassifier\n",
    "from sklearn.svm import SVC\n",
    "from sklearn.naive_bayes import GaussianNB\n",
    "from matplotlib import pyplot\n",
    "from numpy import mean\n",
    "from sklearn.ensemble import StackingClassifier\n",
    "\n",
    "\n",
    "for dirname, _, filenames in os.walk('/kaggle/input'):\n",
    "    for filename in filenames:\n",
    "        print(os.path.join(dirname, filename))"
   ]
  },
  {
   "cell_type": "markdown",
   "id": "d280d7fb",
   "metadata": {
    "papermill": {
     "duration": 0.005593,
     "end_time": "2023-02-16T13:19:35.183503",
     "exception": false,
     "start_time": "2023-02-16T13:19:35.177910",
     "status": "completed"
    },
    "tags": []
   },
   "source": [
    "# Load data"
   ]
  },
  {
   "cell_type": "code",
   "execution_count": 2,
   "id": "ece311c2",
   "metadata": {
    "execution": {
     "iopub.execute_input": "2023-02-16T13:19:35.198094Z",
     "iopub.status.busy": "2023-02-16T13:19:35.197025Z",
     "iopub.status.idle": "2023-02-16T13:19:35.242705Z",
     "shell.execute_reply": "2023-02-16T13:19:35.241377Z"
    },
    "papermill": {
     "duration": 0.056221,
     "end_time": "2023-02-16T13:19:35.245509",
     "exception": false,
     "start_time": "2023-02-16T13:19:35.189288",
     "status": "completed"
    },
    "tags": []
   },
   "outputs": [],
   "source": [
    "# load data from files\n",
    "X_train = pd.read_csv(\"/kaggle/input/titanic/train.csv\")\n",
    "X_submission = pd.read_csv(\"/kaggle/input/titanic/test.csv\")\n",
    "y_train = X_train['Survived']\n",
    "\n",
    "# remove y column\n",
    "X_train = X_train.drop(columns='Survived')"
   ]
  },
  {
   "cell_type": "markdown",
   "id": "793be4d7",
   "metadata": {
    "papermill": {
     "duration": 0.005849,
     "end_time": "2023-02-16T13:19:35.257262",
     "exception": false,
     "start_time": "2023-02-16T13:19:35.251413",
     "status": "completed"
    },
    "tags": []
   },
   "source": [
    "## Data dictionary\n",
    "\n",
    "\n",
    "|Variable|Definition|Key\n",
    "|----|----|----\n",
    "|survival|Survival|0 = No, 1 = Yes\n",
    "|pclass|Ticket class|1 = 1st, 2 = 2nd, 3 = 3rd\n",
    "|sex|Sex|\n",
    "|Age|Age in years|\n",
    "|sibsp|# of siblings / spouses aboard the Titanic\n",
    "|parch|# of parents / children aboard the Titanic\n",
    "|ticket|Ticket number\n",
    "|fare|Passenger fare\n",
    "|cabin|Cabin number\n",
    "|embarked|Port of Embarkation|C = Cherbourg, Q = Queenstown, S = Southampto"
   ]
  },
  {
   "cell_type": "markdown",
   "id": "dea7ef3c",
   "metadata": {
    "papermill": {
     "duration": 0.005515,
     "end_time": "2023-02-16T13:19:35.269315",
     "exception": false,
     "start_time": "2023-02-16T13:19:35.263800",
     "status": "completed"
    },
    "tags": []
   },
   "source": [
    "# Preprocessing"
   ]
  },
  {
   "cell_type": "code",
   "execution_count": 3,
   "id": "45e2a741",
   "metadata": {
    "execution": {
     "iopub.execute_input": "2023-02-16T13:19:35.285238Z",
     "iopub.status.busy": "2023-02-16T13:19:35.284409Z",
     "iopub.status.idle": "2023-02-16T13:19:35.295248Z",
     "shell.execute_reply": "2023-02-16T13:19:35.293862Z"
    },
    "papermill": {
     "duration": 0.021173,
     "end_time": "2023-02-16T13:19:35.297423",
     "exception": false,
     "start_time": "2023-02-16T13:19:35.276250",
     "status": "completed"
    },
    "tags": []
   },
   "outputs": [],
   "source": [
    "X_train[\"Age\"] = X_train[\"Age\"].fillna(0)\n",
    "X_submission[\"Age\"] = X_submission[\"Age\"].fillna(0)\n",
    "\n",
    "X_train[\"Cabin\"] = X_train[\"Cabin\"].fillna(0)\n",
    "X_submission[\"Cabin\"] = X_submission[\"Cabin\"].fillna(0)\n",
    "\n",
    "X_train[\"Embarked\"] = X_train[\"Embarked\"].fillna(0)\n",
    "X_submission[\"Embarked\"] = X_submission[\"Embarked\"].fillna(0)"
   ]
  },
  {
   "cell_type": "code",
   "execution_count": 4,
   "id": "6c7c772c",
   "metadata": {
    "execution": {
     "iopub.execute_input": "2023-02-16T13:19:35.311122Z",
     "iopub.status.busy": "2023-02-16T13:19:35.310657Z",
     "iopub.status.idle": "2023-02-16T13:19:35.323309Z",
     "shell.execute_reply": "2023-02-16T13:19:35.322044Z"
    },
    "papermill": {
     "duration": 0.022636,
     "end_time": "2023-02-16T13:19:35.325981",
     "exception": false,
     "start_time": "2023-02-16T13:19:35.303345",
     "status": "completed"
    },
    "tags": []
   },
   "outputs": [],
   "source": [
    "# to use later for submission\n",
    "X_submission_passengerId = X_submission['PassengerId']\n",
    "\n",
    "X_train = X_train.drop(columns='Name')\n",
    "X_train = X_train.drop(columns='Ticket')\n",
    "X_train = X_train.drop(columns='PassengerId')\n",
    "X_train = X_train.drop(columns='Pclass')\n",
    "X_submission = X_submission.drop(columns='Name')\n",
    "X_submission = X_submission.drop(columns='Ticket')\n",
    "X_submission = X_submission.drop(columns='PassengerId')\n",
    "X_submission = X_submission.drop(columns='Pclass')\n"
   ]
  },
  {
   "cell_type": "code",
   "execution_count": 5,
   "id": "4eeaad42",
   "metadata": {
    "execution": {
     "iopub.execute_input": "2023-02-16T13:19:35.341154Z",
     "iopub.status.busy": "2023-02-16T13:19:35.340009Z",
     "iopub.status.idle": "2023-02-16T13:19:35.371529Z",
     "shell.execute_reply": "2023-02-16T13:19:35.370162Z"
    },
    "papermill": {
     "duration": 0.041457,
     "end_time": "2023-02-16T13:19:35.374010",
     "exception": false,
     "start_time": "2023-02-16T13:19:35.332553",
     "status": "completed"
    },
    "tags": []
   },
   "outputs": [
    {
     "name": "stdout",
     "output_type": "stream",
     "text": [
      "   Sex   Age  SibSp  Parch     Fare  Cabin  Embarked\n",
      "0  1.0  22.0      1      0   7.2500    0.0       3.0\n",
      "1  0.0  38.0      1      0  71.2833   82.0       1.0\n",
      "2  0.0  26.0      0      0   7.9250    0.0       3.0\n",
      "3  0.0  35.0      1      0  53.1000   56.0       3.0\n",
      "4  1.0  35.0      0      0   8.0500    0.0       3.0\n",
      "   Sex   Age  SibSp  Parch     Fare  Cabin  Embarked\n",
      "0  1.0  34.5      0      0   7.8292    0.0       3.0\n",
      "1  0.0  47.0      1      0   7.0000   82.0       1.0\n",
      "2  0.0  62.0      0      0   9.6875    0.0       3.0\n",
      "3  0.0  27.0      0      0   8.6625   56.0       3.0\n",
      "4  1.0  22.0      1      1  12.2875    0.0       3.0\n"
     ]
    }
   ],
   "source": [
    "cols_to_encode = [\"Sex\",\"Cabin\",\"Embarked\"]\n",
    "\n",
    "enc = OrdinalEncoder()\n",
    "for col in cols_to_encode:\n",
    "    X_train[col] = X_train[col].astype('str')\n",
    "    X_submission[col] = X_train[col].astype('str') \n",
    "    \n",
    "enc.fit(X_train[cols_to_encode])\n",
    "enc.categories_\n",
    "X_train[cols_to_encode] = enc.transform(X_train[cols_to_encode])\n",
    "X_submission[cols_to_encode] = enc.transform(X_submission[cols_to_encode])\n",
    "print(X_train.head())\n",
    "print(X_submission.head())"
   ]
  },
  {
   "cell_type": "code",
   "execution_count": 6,
   "id": "db753849",
   "metadata": {
    "execution": {
     "iopub.execute_input": "2023-02-16T13:19:35.388731Z",
     "iopub.status.busy": "2023-02-16T13:19:35.387348Z",
     "iopub.status.idle": "2023-02-16T13:19:35.394282Z",
     "shell.execute_reply": "2023-02-16T13:19:35.393300Z"
    },
    "papermill": {
     "duration": 0.01701,
     "end_time": "2023-02-16T13:19:35.396981",
     "exception": false,
     "start_time": "2023-02-16T13:19:35.379971",
     "status": "completed"
    },
    "tags": []
   },
   "outputs": [],
   "source": [
    "X_submission = X_submission.fillna(0)"
   ]
  },
  {
   "cell_type": "code",
   "execution_count": 7,
   "id": "3bf4f1b8",
   "metadata": {
    "execution": {
     "iopub.execute_input": "2023-02-16T13:19:35.410860Z",
     "iopub.status.busy": "2023-02-16T13:19:35.410420Z",
     "iopub.status.idle": "2023-02-16T13:19:35.424487Z",
     "shell.execute_reply": "2023-02-16T13:19:35.423387Z"
    },
    "papermill": {
     "duration": 0.024104,
     "end_time": "2023-02-16T13:19:35.427086",
     "exception": false,
     "start_time": "2023-02-16T13:19:35.402982",
     "status": "completed"
    },
    "tags": []
   },
   "outputs": [],
   "source": [
    "from sklearn.preprocessing import StandardScaler\n",
    "sc = StandardScaler()\n",
    "X_train = sc.fit_transform(X_train)\n",
    "X_submission = sc.fit_transform(X_submission)"
   ]
  },
  {
   "cell_type": "markdown",
   "id": "5128b75b",
   "metadata": {
    "papermill": {
     "duration": 0.006011,
     "end_time": "2023-02-16T13:19:35.439170",
     "exception": false,
     "start_time": "2023-02-16T13:19:35.433159",
     "status": "completed"
    },
    "tags": []
   },
   "source": [
    "# Ensemble / Stacking"
   ]
  },
  {
   "cell_type": "markdown",
   "id": "85395c3b",
   "metadata": {
    "papermill": {
     "duration": 0.006379,
     "end_time": "2023-02-16T13:19:35.451692",
     "exception": false,
     "start_time": "2023-02-16T13:19:35.445313",
     "status": "completed"
    },
    "tags": []
   },
   "source": []
  },
  {
   "cell_type": "code",
   "execution_count": 8,
   "id": "f3e71d14",
   "metadata": {
    "execution": {
     "iopub.execute_input": "2023-02-16T13:19:35.466388Z",
     "iopub.status.busy": "2023-02-16T13:19:35.465717Z",
     "iopub.status.idle": "2023-02-16T13:19:38.466678Z",
     "shell.execute_reply": "2023-02-16T13:19:38.465333Z"
    },
    "papermill": {
     "duration": 3.011417,
     "end_time": "2023-02-16T13:19:38.469327",
     "exception": false,
     "start_time": "2023-02-16T13:19:35.457910",
     "status": "completed"
    },
    "tags": []
   },
   "outputs": [
    {
     "name": "stdout",
     "output_type": "stream",
     "text": [
      ">lr 0.787 (0.040)\n",
      ">knn 0.796 (0.035)\n",
      ">cart 0.776 (0.041)\n",
      ">svm 0.811 (0.040)\n",
      ">bayes 0.792 (0.045)\n"
     ]
    },
    {
     "data": {
      "image/png": "[encoded data removed]",
      "text/plain": [
       "<Figure size 640x480 with 1 Axes>"
      ]
     },
     "metadata": {},
     "output_type": "display_data"
    }
   ],
   "source": [
    "# get a list of models to evaluate\n",
    "def get_models():\n",
    " models = dict()\n",
    " models['lr'] = LogisticRegression()\n",
    " models['knn'] = KNeighborsClassifier()\n",
    " models['cart'] = DecisionTreeClassifier()\n",
    " models['svm'] = SVC()\n",
    " models['bayes'] = GaussianNB()\n",
    " return models\n",
    "\n",
    "# evaluate a given model using cross-validation\n",
    "def evaluate_model(model, X, y):\n",
    " cv = RepeatedStratifiedKFold(n_splits=10, n_repeats=3, random_state=1)\n",
    " scores = cross_val_score(model, X, y, scoring='accuracy', cv=cv, n_jobs=-1, error_score='raise')\n",
    " return scores\n",
    " \n",
    "# get the models to evaluate\n",
    "models = get_models()\n",
    "\n",
    "# evaluate the models and store results\n",
    "results, names = list(), list()\n",
    "for name, model in models.items():\n",
    " scores = evaluate_model(model, X_train, y_train)\n",
    " results.append(scores)\n",
    " names.append(name)\n",
    " print('>%s %.3f (%.3f)' % (name, mean(scores), std(scores)))\n",
    "# plot model performance for comparison\n",
    "pyplot.boxplot(results, labels=names, showmeans=True)\n",
    "pyplot.show()"
   ]
  },
  {
   "cell_type": "code",
   "execution_count": 9,
   "id": "d6ad4bcb",
   "metadata": {
    "execution": {
     "iopub.execute_input": "2023-02-16T13:19:38.485326Z",
     "iopub.status.busy": "2023-02-16T13:19:38.484882Z",
     "iopub.status.idle": "2023-02-16T13:19:38.492540Z",
     "shell.execute_reply": "2023-02-16T13:19:38.491218Z"
    },
    "papermill": {
     "duration": 0.018359,
     "end_time": "2023-02-16T13:19:38.494908",
     "exception": false,
     "start_time": "2023-02-16T13:19:38.476549",
     "status": "completed"
    },
    "tags": []
   },
   "outputs": [],
   "source": [
    "def get_stacking():\n",
    "    level0 = list()\n",
    "    level0.append(('lr', LogisticRegression()))\n",
    "    level0.append(('knn', KNeighborsClassifier()))\n",
    "    level0.append(('cart', DecisionTreeClassifier()))\n",
    "    level0.append(('svm', SVC()))\n",
    "    level0.append(('bayes', GaussianNB()))\n",
    "    # define meta learner model\n",
    "    level1 = LogisticRegression()\n",
    "    # define the stacking ensemble\n",
    "    model = StackingClassifier(estimators=level0, final_estimator=level1, cv=5)\n",
    "    return model"
   ]
  },
  {
   "cell_type": "code",
   "execution_count": 10,
   "id": "85ca6144",
   "metadata": {
    "execution": {
     "iopub.execute_input": "2023-02-16T13:19:38.510457Z",
     "iopub.status.busy": "2023-02-16T13:19:38.509648Z",
     "iopub.status.idle": "2023-02-16T13:19:38.516008Z",
     "shell.execute_reply": "2023-02-16T13:19:38.514970Z"
    },
    "papermill": {
     "duration": 0.017024,
     "end_time": "2023-02-16T13:19:38.518559",
     "exception": false,
     "start_time": "2023-02-16T13:19:38.501535",
     "status": "completed"
    },
    "tags": []
   },
   "outputs": [],
   "source": [
    "def get_models():\n",
    " models = dict()\n",
    " models['lr'] = LogisticRegression()\n",
    " models['knn'] = KNeighborsClassifier()\n",
    " models['cart'] = DecisionTreeClassifier()\n",
    " models['svm'] = SVC()\n",
    " models['bayes'] = GaussianNB()\n",
    " models['stacking'] = get_stacking()\n",
    " return models"
   ]
  },
  {
   "cell_type": "code",
   "execution_count": 11,
   "id": "20893ff9",
   "metadata": {
    "execution": {
     "iopub.execute_input": "2023-02-16T13:19:38.534792Z",
     "iopub.status.busy": "2023-02-16T13:19:38.534283Z",
     "iopub.status.idle": "2023-02-16T13:19:38.541191Z",
     "shell.execute_reply": "2023-02-16T13:19:38.539840Z"
    },
    "papermill": {
     "duration": 0.018396,
     "end_time": "2023-02-16T13:19:38.543882",
     "exception": false,
     "start_time": "2023-02-16T13:19:38.525486",
     "status": "completed"
    },
    "tags": []
   },
   "outputs": [],
   "source": [
    "# evaluate a give model using cross-validation\n",
    "def evaluate_model(model, X, y):\n",
    " cv = RepeatedStratifiedKFold(n_splits=10, n_repeats=3, random_state=1)\n",
    " scores = cross_val_score(model, X, y, scoring='accuracy', cv=cv, n_jobs=-1, error_score='raise')\n",
    " return scores"
   ]
  },
  {
   "cell_type": "code",
   "execution_count": 12,
   "id": "e8d7ff26",
   "metadata": {
    "execution": {
     "iopub.execute_input": "2023-02-16T13:19:38.559488Z",
     "iopub.status.busy": "2023-02-16T13:19:38.559021Z",
     "iopub.status.idle": "2023-02-16T13:19:42.571957Z",
     "shell.execute_reply": "2023-02-16T13:19:42.570684Z"
    },
    "papermill": {
     "duration": 4.02353,
     "end_time": "2023-02-16T13:19:42.574601",
     "exception": false,
     "start_time": "2023-02-16T13:19:38.551071",
     "status": "completed"
    },
    "tags": []
   },
   "outputs": [
    {
     "name": "stdout",
     "output_type": "stream",
     "text": [
      ">lr 0.787 (0.040)\n",
      ">knn 0.796 (0.035)\n",
      ">cart 0.779 (0.041)\n",
      ">svm 0.811 (0.040)\n",
      ">bayes 0.792 (0.045)\n",
      ">stacking 0.818 (0.041)\n"
     ]
    },
    {
     "data": {
      "image/png": "[encoded data removed]",
      "text/plain": [
       "<Figure size 640x480 with 1 Axes>"
      ]
     },
     "metadata": {},
     "output_type": "display_data"
    }
   ],
   "source": [
    "models = get_models()\n",
    "results, names = list(), list()\n",
    "\n",
    "for name, model in models.items():\n",
    " scores = evaluate_model(model, X_train, y_train)\n",
    " results.append(scores)\n",
    " names.append(name)\n",
    " print('>%s %.3f (%.3f)' % (name, mean(scores), std(scores)))\n",
    "# plot model performance for comparison\n",
    "pyplot.boxplot(results, labels=names, showmeans=True)\n",
    "pyplot.show()"
   ]
  },
  {
   "cell_type": "markdown",
   "id": "cf3a10af",
   "metadata": {
    "papermill": {
     "duration": 0.006992,
     "end_time": "2023-02-16T13:19:42.589065",
     "exception": false,
     "start_time": "2023-02-16T13:19:42.582073",
     "status": "completed"
    },
    "tags": []
   },
   "source": [
    "# Predict and submission"
   ]
  },
  {
   "cell_type": "code",
   "execution_count": 13,
   "id": "52870f0a",
   "metadata": {
    "execution": {
     "iopub.execute_input": "2023-02-16T13:19:42.605324Z",
     "iopub.status.busy": "2023-02-16T13:19:42.604618Z",
     "iopub.status.idle": "2023-02-16T13:19:42.612872Z",
     "shell.execute_reply": "2023-02-16T13:19:42.611641Z"
    },
    "papermill": {
     "duration": 0.019291,
     "end_time": "2023-02-16T13:19:42.615494",
     "exception": false,
     "start_time": "2023-02-16T13:19:42.596203",
     "status": "completed"
    },
    "tags": []
   },
   "outputs": [
    {
     "data": {
      "text/plain": [
       "8.781044088387508"
      ]
     },
     "execution_count": 13,
     "metadata": {},
     "output_type": "execute_result"
    }
   ],
   "source": [
    "np.max(X_submission)"
   ]
  },
  {
   "cell_type": "code",
   "execution_count": 14,
   "id": "40ad096e",
   "metadata": {
    "execution": {
     "iopub.execute_input": "2023-02-16T13:19:42.631758Z",
     "iopub.status.busy": "2023-02-16T13:19:42.631338Z",
     "iopub.status.idle": "2023-02-16T13:19:42.884479Z",
     "shell.execute_reply": "2023-02-16T13:19:42.882983Z"
    },
    "papermill": {
     "duration": 0.264598,
     "end_time": "2023-02-16T13:19:42.887410",
     "exception": false,
     "start_time": "2023-02-16T13:19:42.622812",
     "status": "completed"
    },
    "tags": []
   },
   "outputs": [],
   "source": [
    "level0 = list()\n",
    "level0.append(('lr', LogisticRegression()))\n",
    "level0.append(('knn', KNeighborsClassifier()))\n",
    "level0.append(('cart', DecisionTreeClassifier()))\n",
    "level0.append(('svm', SVC()))\n",
    "level0.append(('bayes', GaussianNB()))\n",
    "\n",
    "# define meta learner model\n",
    "level1 = LogisticRegression()\n",
    "\n",
    "# define the stacking ensemble\n",
    "model = StackingClassifier(estimators=level0, final_estimator=level1, cv=5)\n",
    "\n",
    "# fit the model on all available data\n",
    "model.fit(X_train, y_train)\n",
    "y_pred = model.predict(X_submission)"
   ]
  },
  {
   "cell_type": "code",
   "execution_count": 15,
   "id": "49d4de74",
   "metadata": {
    "execution": {
     "iopub.execute_input": "2023-02-16T13:19:42.903998Z",
     "iopub.status.busy": "2023-02-16T13:19:42.903581Z",
     "iopub.status.idle": "2023-02-16T13:19:42.912911Z",
     "shell.execute_reply": "2023-02-16T13:19:42.911654Z"
    },
    "papermill": {
     "duration": 0.020267,
     "end_time": "2023-02-16T13:19:42.915339",
     "exception": false,
     "start_time": "2023-02-16T13:19:42.895072",
     "status": "completed"
    },
    "tags": []
   },
   "outputs": [
    {
     "data": {
      "text/plain": [
       "array([0, 1, 1, 1, 0, 0, 0, 0, 1, 1, 1, 1, 0, 0, 1, 1, 0, 0, 0, 1, 0, 1,\n",
       "       1, 0, 1, 1, 0, 0, 1, 0, 0, 1, 1, 0, 0, 0, 0, 0, 1, 1, 1, 1, 0, 1,\n",
       "       1, 0, 0, 1, 0, 1, 0, 0, 1, 1, 0, 0, 1, 0, 0, 0, 0, 1, 0, 0, 0, 0,\n",
       "       1, 0, 1, 0, 0, 1, 0, 0, 0, 0, 0, 0, 0, 1, 1, 0, 1, 0, 1, 0, 0, 0,\n",
       "       1, 1, 0, 0, 1, 0, 0, 0, 0, 0, 1, 0, 1, 0, 0, 0, 0, 0, 1, 0, 0, 1,\n",
       "       0, 1, 0, 1, 1, 0, 0, 1, 0, 1, 0, 0, 0, 1, 0, 0, 0, 0, 1, 0, 0, 0,\n",
       "       0, 1, 0, 0, 1, 0, 0, 0, 0, 1, 1, 0, 0, 0, 0, 1, 1, 0, 0, 1, 0, 0,\n",
       "       0, 0, 1, 0, 0, 0, 0, 1, 0, 0, 0, 0, 1, 0, 0, 0, 0, 0, 0, 0, 0, 0,\n",
       "       0, 1, 0, 0, 1, 0, 0, 0, 1, 0, 1, 0, 0, 0, 1, 0, 1, 0, 1, 1, 1, 0,\n",
       "       1, 1, 0, 1, 1, 0, 0, 1, 0, 0, 1, 0, 0, 1, 0, 0, 0, 1, 1, 0, 1, 0,\n",
       "       0, 0, 0, 0, 0, 1, 0, 0, 0, 1, 1, 0, 0, 1, 0, 1, 0, 1, 0, 0, 1, 1,\n",
       "       0, 0, 1, 0, 1, 1, 0, 0, 1, 1, 0, 0, 1, 1, 1, 1, 1, 1, 0, 0, 0, 0,\n",
       "       1, 0, 0, 0, 1, 1, 0, 0, 1, 0, 1, 1, 1, 0, 0, 1, 0, 1, 0, 0, 1, 0,\n",
       "       0, 0, 0, 1, 1, 1, 1, 1, 0, 0, 1, 1, 0, 1, 1, 0, 0, 1, 0, 0, 1, 1,\n",
       "       0, 1, 1, 1, 1, 0, 0, 1, 1, 0, 1, 1, 0, 0, 1, 1, 0, 1, 0, 1, 1, 1,\n",
       "       1, 0, 0, 0, 1, 0, 0, 1, 0, 0, 1, 1, 0, 1, 0, 1, 1, 1, 0, 0, 0, 0,\n",
       "       0, 0, 1, 0, 1, 1, 1, 1, 0, 0, 1, 0, 0, 0, 1, 1, 1, 1, 1, 0, 0, 0,\n",
       "       1, 1, 0, 0, 0, 0, 1, 1, 0, 1, 0, 0, 0, 1, 0, 0, 0, 0, 0, 1, 1, 0,\n",
       "       1, 0, 0, 1, 0, 0, 1, 0, 1, 0, 0, 0, 0, 1, 0, 0, 1, 0, 0, 1, 1, 1])"
      ]
     },
     "execution_count": 15,
     "metadata": {},
     "output_type": "execute_result"
    }
   ],
   "source": [
    "y_pred"
   ]
  },
  {
   "cell_type": "code",
   "execution_count": 16,
   "id": "160c79f4",
   "metadata": {
    "execution": {
     "iopub.execute_input": "2023-02-16T13:19:42.932400Z",
     "iopub.status.busy": "2023-02-16T13:19:42.931492Z",
     "iopub.status.idle": "2023-02-16T13:19:42.947799Z",
     "shell.execute_reply": "2023-02-16T13:19:42.946611Z"
    },
    "papermill": {
     "duration": 0.027262,
     "end_time": "2023-02-16T13:19:42.950111",
     "exception": false,
     "start_time": "2023-02-16T13:19:42.922849",
     "status": "completed"
    },
    "tags": []
   },
   "outputs": [
    {
     "data": {
      "text/html": [
       "<div>\n",
       "<style scoped>\n",
       "    .dataframe tbody tr th:only-of-type {\n",
       "        vertical-align: middle;\n",
       "    }\n",
       "\n",
       "    .dataframe tbody tr th {\n",
       "        vertical-align: top;\n",
       "    }\n",
       "\n",
       "    .dataframe thead th {\n",
       "        text-align: right;\n",
       "    }\n",
       "</style>\n",
       "<table border=\"1\" class=\"dataframe\">\n",
       "  <thead>\n",
       "    <tr style=\"text-align: right;\">\n",
       "      <th></th>\n",
       "      <th>PassengerId</th>\n",
       "      <th>Survived</th>\n",
       "    </tr>\n",
       "  </thead>\n",
       "  <tbody>\n",
       "    <tr>\n",
       "      <th>0</th>\n",
       "      <td>892</td>\n",
       "      <td>0</td>\n",
       "    </tr>\n",
       "    <tr>\n",
       "      <th>1</th>\n",
       "      <td>893</td>\n",
       "      <td>1</td>\n",
       "    </tr>\n",
       "    <tr>\n",
       "      <th>2</th>\n",
       "      <td>894</td>\n",
       "      <td>1</td>\n",
       "    </tr>\n",
       "    <tr>\n",
       "      <th>3</th>\n",
       "      <td>895</td>\n",
       "      <td>1</td>\n",
       "    </tr>\n",
       "    <tr>\n",
       "      <th>4</th>\n",
       "      <td>896</td>\n",
       "      <td>0</td>\n",
       "    </tr>\n",
       "    <tr>\n",
       "      <th>5</th>\n",
       "      <td>897</td>\n",
       "      <td>0</td>\n",
       "    </tr>\n",
       "    <tr>\n",
       "      <th>6</th>\n",
       "      <td>898</td>\n",
       "      <td>0</td>\n",
       "    </tr>\n",
       "    <tr>\n",
       "      <th>7</th>\n",
       "      <td>899</td>\n",
       "      <td>0</td>\n",
       "    </tr>\n",
       "    <tr>\n",
       "      <th>8</th>\n",
       "      <td>900</td>\n",
       "      <td>1</td>\n",
       "    </tr>\n",
       "    <tr>\n",
       "      <th>9</th>\n",
       "      <td>901</td>\n",
       "      <td>1</td>\n",
       "    </tr>\n",
       "    <tr>\n",
       "      <th>10</th>\n",
       "      <td>902</td>\n",
       "      <td>1</td>\n",
       "    </tr>\n",
       "    <tr>\n",
       "      <th>11</th>\n",
       "      <td>903</td>\n",
       "      <td>1</td>\n",
       "    </tr>\n",
       "    <tr>\n",
       "      <th>12</th>\n",
       "      <td>904</td>\n",
       "      <td>0</td>\n",
       "    </tr>\n",
       "    <tr>\n",
       "      <th>13</th>\n",
       "      <td>905</td>\n",
       "      <td>0</td>\n",
       "    </tr>\n",
       "    <tr>\n",
       "      <th>14</th>\n",
       "      <td>906</td>\n",
       "      <td>1</td>\n",
       "    </tr>\n",
       "    <tr>\n",
       "      <th>15</th>\n",
       "      <td>907</td>\n",
       "      <td>1</td>\n",
       "    </tr>\n",
       "    <tr>\n",
       "      <th>16</th>\n",
       "      <td>908</td>\n",
       "      <td>0</td>\n",
       "    </tr>\n",
       "    <tr>\n",
       "      <th>17</th>\n",
       "      <td>909</td>\n",
       "      <td>0</td>\n",
       "    </tr>\n",
       "    <tr>\n",
       "      <th>18</th>\n",
       "      <td>910</td>\n",
       "      <td>0</td>\n",
       "    </tr>\n",
       "    <tr>\n",
       "      <th>19</th>\n",
       "      <td>911</td>\n",
       "      <td>1</td>\n",
       "    </tr>\n",
       "  </tbody>\n",
       "</table>\n",
       "</div>"
      ],
      "text/plain": [
       "    PassengerId  Survived\n",
       "0           892         0\n",
       "1           893         1\n",
       "2           894         1\n",
       "3           895         1\n",
       "4           896         0\n",
       "5           897         0\n",
       "6           898         0\n",
       "7           899         0\n",
       "8           900         1\n",
       "9           901         1\n",
       "10          902         1\n",
       "11          903         1\n",
       "12          904         0\n",
       "13          905         0\n",
       "14          906         1\n",
       "15          907         1\n",
       "16          908         0\n",
       "17          909         0\n",
       "18          910         0\n",
       "19          911         1"
      ]
     },
     "execution_count": 16,
     "metadata": {},
     "output_type": "execute_result"
    }
   ],
   "source": [
    "final_df = pd.DataFrame({'PassengerId': X_submission_passengerId, 'Survived': y_pred.astype(int).tolist()})\n",
    "final_df.head(20)"
   ]
  },
  {
   "cell_type": "code",
   "execution_count": 17,
   "id": "c7378695",
   "metadata": {
    "execution": {
     "iopub.execute_input": "2023-02-16T13:19:42.967265Z",
     "iopub.status.busy": "2023-02-16T13:19:42.966800Z",
     "iopub.status.idle": "2023-02-16T13:19:42.977383Z",
     "shell.execute_reply": "2023-02-16T13:19:42.975744Z"
    },
    "papermill": {
     "duration": 0.022427,
     "end_time": "2023-02-16T13:19:42.980165",
     "exception": false,
     "start_time": "2023-02-16T13:19:42.957738",
     "status": "completed"
    },
    "tags": []
   },
   "outputs": [
    {
     "name": "stdout",
     "output_type": "stream",
     "text": [
      " Submission saved\n"
     ]
    }
   ],
   "source": [
    "final_df.to_csv('submission.csv', index=False)\n",
    "print(\" Submission saved\")"
   ]
  }
 ],
 "metadata": {
  "kernelspec": {
   "display_name": "Python 3",
   "language": "python",
   "name": "python3"
  },
  "language_info": {
   "codemirror_mode": {
    "name": "ipython",
    "version": 3
   },
   "file_extension": ".py",
   "mimetype": "text/x-python",
   "name": "python",
   "nbconvert_exporter": "python",
   "pygments_lexer": "ipython3",
   "version": "3.7.12"
  },
  "papermill": {
   "default_parameters": {},
   "duration": 29.631807,
   "end_time": "2023-02-16T13:19:45.610616",
   "environment_variables": {},
   "exception": null,
   "input_path": "__notebook__.ipynb",
   "output_path": "__notebook__.ipynb",
   "parameters": {},
   "start_time": "2023-02-16T13:19:15.978809",
   "version": "2.3.4"
  }
 },
 "nbformat": 4,
 "nbformat_minor": 5
}
