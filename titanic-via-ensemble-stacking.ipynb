{
 "cells": [
  {
   "cell_type": "code",
   "execution_count": 1,
   "id": "96fe39ec",
   "metadata": {
    "_cell_guid": "b1076dfc-b9ad-4769-8c92-a6c4dae69d19",
    "_uuid": "8f2839f25d086af736a60e9eeb907d3b93b6e0e5",
    "execution": {
     "iopub.execute_input": "2023-02-16T13:43:51.689879Z",
     "iopub.status.busy": "2023-02-16T13:43:51.689330Z",
     "iopub.status.idle": "2023-02-16T13:44:01.765452Z",
     "shell.execute_reply": "2023-02-16T13:44:01.763313Z"
    },
    "papermill": {
     "duration": 10.08866,
     "end_time": "2023-02-16T13:44:01.768753",
     "exception": false,
     "start_time": "2023-02-16T13:43:51.680093",
     "status": "completed"
    },
    "tags": []
   },
   "outputs": [
    {
     "name": "stdout",
     "output_type": "stream",
     "text": [
      "/kaggle/input/titanic/train.csv\n",
      "/kaggle/input/titanic/test.csv\n",
      "/kaggle/input/titanic/gender_submission.csv\n"
     ]
    }
   ],
   "source": [
    "import numpy as np \n",
    "import pandas as pd \n",
    "import os\n",
    "import matplotlib.pyplot as plt\n",
    "from sklearn.preprocessing import OrdinalEncoder, MinMaxScaler, KBinsDiscretizer\n",
    "from sklearn.model_selection import train_test_split\n",
    "from keras.models import Model, Sequential \n",
    "from numpy import mean\n",
    "from numpy import std\n",
    "from sklearn.datasets import make_classification\n",
    "from sklearn.model_selection import cross_val_score\n",
    "from sklearn.model_selection import RepeatedStratifiedKFold\n",
    "from sklearn.linear_model import LogisticRegression\n",
    "from sklearn.neighbors import KNeighborsClassifier\n",
    "from sklearn.tree import DecisionTreeClassifier\n",
    "from sklearn.svm import SVC\n",
    "from sklearn.naive_bayes import GaussianNB\n",
    "from matplotlib import pyplot\n",
    "from numpy import mean\n",
    "from sklearn.ensemble import StackingClassifier\n",
    "\n",
    "for dirname, _, filenames in os.walk('/kaggle/input'):\n",
    "    for filename in filenames:\n",
    "        print(os.path.join(dirname, filename))"
   ]
  },
  {
   "cell_type": "markdown",
   "id": "f363cc0e",
   "metadata": {
    "papermill": {
     "duration": 0.005457,
     "end_time": "2023-02-16T13:44:01.781466",
     "exception": false,
     "start_time": "2023-02-16T13:44:01.776009",
     "status": "completed"
    },
    "tags": []
   },
   "source": [
    "# Load data"
   ]
  },
  {
   "cell_type": "code",
   "execution_count": 2,
   "id": "f1756cab",
   "metadata": {
    "execution": {
     "iopub.execute_input": "2023-02-16T13:44:01.796097Z",
     "iopub.status.busy": "2023-02-16T13:44:01.794500Z",
     "iopub.status.idle": "2023-02-16T13:44:01.848492Z",
     "shell.execute_reply": "2023-02-16T13:44:01.847041Z"
    },
    "papermill": {
     "duration": 0.064603,
     "end_time": "2023-02-16T13:44:01.851773",
     "exception": false,
     "start_time": "2023-02-16T13:44:01.787170",
     "status": "completed"
    },
    "tags": []
   },
   "outputs": [],
   "source": [
    "# load data from files\n",
    "X_train = pd.read_csv(\"/kaggle/input/titanic/train.csv\")\n",
    "X_submission = pd.read_csv(\"/kaggle/input/titanic/test.csv\")\n",
    "y_train = X_train['Survived']\n",
    "\n",
    "# remove y column\n",
    "X_train = X_train.drop(columns='Survived')"
   ]
  },
  {
   "cell_type": "markdown",
   "id": "5a1eb4a0",
   "metadata": {
    "papermill": {
     "duration": 0.005824,
     "end_time": "2023-02-16T13:44:01.863417",
     "exception": false,
     "start_time": "2023-02-16T13:44:01.857593",
     "status": "completed"
    },
    "tags": []
   },
   "source": [
    "## Data dictionary\n",
    "\n",
    "\n",
    "|Variable|Definition|Key\n",
    "|----|----|----\n",
    "|survival|Survival|0 = No, 1 = Yes\n",
    "|pclass|Ticket class|1 = 1st, 2 = 2nd, 3 = 3rd\n",
    "|sex|Sex|\n",
    "|Age|Age in years|\n",
    "|sibsp|# of siblings / spouses aboard the Titanic\n",
    "|parch|# of parents / children aboard the Titanic\n",
    "|ticket|Ticket number\n",
    "|fare|Passenger fare\n",
    "|cabin|Cabin number\n",
    "|embarked|Port of Embarkation|C = Cherbourg, Q = Queenstown, S = Southampto"
   ]
  },
  {
   "cell_type": "markdown",
   "id": "ef5054c4",
   "metadata": {
    "papermill": {
     "duration": 0.005428,
     "end_time": "2023-02-16T13:44:01.875382",
     "exception": false,
     "start_time": "2023-02-16T13:44:01.869954",
     "status": "completed"
    },
    "tags": []
   },
   "source": [
    "# Preprocessing"
   ]
  },
  {
   "cell_type": "code",
   "execution_count": 3,
   "id": "04a4f35d",
   "metadata": {
    "execution": {
     "iopub.execute_input": "2023-02-16T13:44:01.889321Z",
     "iopub.status.busy": "2023-02-16T13:44:01.888421Z",
     "iopub.status.idle": "2023-02-16T13:44:01.899965Z",
     "shell.execute_reply": "2023-02-16T13:44:01.898772Z"
    },
    "papermill": {
     "duration": 0.021408,
     "end_time": "2023-02-16T13:44:01.902658",
     "exception": false,
     "start_time": "2023-02-16T13:44:01.881250",
     "status": "completed"
    },
    "tags": []
   },
   "outputs": [],
   "source": [
    "X_train[\"Age\"] = X_train[\"Age\"].fillna(X_train[\"Age\"].mean())\n",
    "X_submission[\"Age\"] = X_submission[\"Age\"].fillna(X_submission[\"Age\"].mean())\n",
    "\n",
    "X_train[\"Cabin\"] = X_train[\"Cabin\"].fillna(0)\n",
    "X_submission[\"Cabin\"] = X_submission[\"Cabin\"].fillna(0)\n",
    "\n",
    "X_train[\"Embarked\"] = X_train[\"Embarked\"].fillna(0)\n",
    "X_submission[\"Embarked\"] = X_submission[\"Embarked\"].fillna(0)"
   ]
  },
  {
   "cell_type": "code",
   "execution_count": 4,
   "id": "3dacc9b9",
   "metadata": {
    "execution": {
     "iopub.execute_input": "2023-02-16T13:44:01.916900Z",
     "iopub.status.busy": "2023-02-16T13:44:01.915656Z",
     "iopub.status.idle": "2023-02-16T13:44:01.930702Z",
     "shell.execute_reply": "2023-02-16T13:44:01.929286Z"
    },
    "papermill": {
     "duration": 0.024982,
     "end_time": "2023-02-16T13:44:01.933492",
     "exception": false,
     "start_time": "2023-02-16T13:44:01.908510",
     "status": "completed"
    },
    "tags": []
   },
   "outputs": [],
   "source": [
    "# to use later for submission\n",
    "X_submission_passengerId = X_submission['PassengerId']\n",
    "\n",
    "X_train = X_train.drop(columns='Name')\n",
    "X_train = X_train.drop(columns='Ticket')\n",
    "X_train = X_train.drop(columns='PassengerId')\n",
    "X_train = X_train.drop(columns='Pclass')\n",
    "X_submission = X_submission.drop(columns='Name')\n",
    "X_submission = X_submission.drop(columns='Ticket')\n",
    "X_submission = X_submission.drop(columns='PassengerId')\n",
    "X_submission = X_submission.drop(columns='Pclass')\n"
   ]
  },
  {
   "cell_type": "code",
   "execution_count": 5,
   "id": "04f5139d",
   "metadata": {
    "execution": {
     "iopub.execute_input": "2023-02-16T13:44:01.947327Z",
     "iopub.status.busy": "2023-02-16T13:44:01.946913Z",
     "iopub.status.idle": "2023-02-16T13:44:01.978033Z",
     "shell.execute_reply": "2023-02-16T13:44:01.976441Z"
    },
    "papermill": {
     "duration": 0.041425,
     "end_time": "2023-02-16T13:44:01.980815",
     "exception": false,
     "start_time": "2023-02-16T13:44:01.939390",
     "status": "completed"
    },
    "tags": []
   },
   "outputs": [
    {
     "name": "stdout",
     "output_type": "stream",
     "text": [
      "   Sex   Age  SibSp  Parch     Fare  Cabin  Embarked\n",
      "0  1.0  22.0      1      0   7.2500    0.0       3.0\n",
      "1  0.0  38.0      1      0  71.2833   82.0       1.0\n",
      "2  0.0  26.0      0      0   7.9250    0.0       3.0\n",
      "3  0.0  35.0      1      0  53.1000   56.0       3.0\n",
      "4  1.0  35.0      0      0   8.0500    0.0       3.0\n",
      "\n",
      "   Sex   Age  SibSp  Parch     Fare  Cabin  Embarked\n",
      "0  1.0  34.5      0      0   7.8292    0.0       3.0\n",
      "1  0.0  47.0      1      0   7.0000   82.0       1.0\n",
      "2  0.0  62.0      0      0   9.6875    0.0       3.0\n",
      "3  0.0  27.0      0      0   8.6625   56.0       3.0\n",
      "4  1.0  22.0      1      1  12.2875    0.0       3.0\n"
     ]
    }
   ],
   "source": [
    "cols_to_encode = [\"Sex\",\"Cabin\",\"Embarked\"]\n",
    "\n",
    "enc = OrdinalEncoder()\n",
    "for col in cols_to_encode:\n",
    "    X_train[col] = X_train[col].astype('str')\n",
    "    X_submission[col] = X_train[col].astype('str') \n",
    "    \n",
    "enc.fit(X_train[cols_to_encode])\n",
    "enc.categories_\n",
    "X_train[cols_to_encode] = enc.transform(X_train[cols_to_encode])\n",
    "X_submission[cols_to_encode] = enc.transform(X_submission[cols_to_encode])\n",
    "print(X_train.head())\n",
    "print()\n",
    "print(X_submission.head())"
   ]
  },
  {
   "cell_type": "code",
   "execution_count": 6,
   "id": "4745235b",
   "metadata": {
    "execution": {
     "iopub.execute_input": "2023-02-16T13:44:01.995250Z",
     "iopub.status.busy": "2023-02-16T13:44:01.993868Z",
     "iopub.status.idle": "2023-02-16T13:44:02.001108Z",
     "shell.execute_reply": "2023-02-16T13:44:02.000138Z"
    },
    "papermill": {
     "duration": 0.017006,
     "end_time": "2023-02-16T13:44:02.003781",
     "exception": false,
     "start_time": "2023-02-16T13:44:01.986775",
     "status": "completed"
    },
    "tags": []
   },
   "outputs": [],
   "source": [
    "X_submission = X_submission.fillna(0)"
   ]
  },
  {
   "cell_type": "code",
   "execution_count": 7,
   "id": "593ba37c",
   "metadata": {
    "execution": {
     "iopub.execute_input": "2023-02-16T13:44:02.017267Z",
     "iopub.status.busy": "2023-02-16T13:44:02.016860Z",
     "iopub.status.idle": "2023-02-16T13:44:02.031539Z",
     "shell.execute_reply": "2023-02-16T13:44:02.030351Z"
    },
    "papermill": {
     "duration": 0.024795,
     "end_time": "2023-02-16T13:44:02.034491",
     "exception": false,
     "start_time": "2023-02-16T13:44:02.009696",
     "status": "completed"
    },
    "tags": []
   },
   "outputs": [],
   "source": [
    "from sklearn.preprocessing import StandardScaler\n",
    "sc = StandardScaler()\n",
    "X_train = sc.fit_transform(X_train)\n",
    "X_submission = sc.fit_transform(X_submission)"
   ]
  },
  {
   "cell_type": "markdown",
   "id": "aa6e8ce0",
   "metadata": {
    "papermill": {
     "duration": 0.005599,
     "end_time": "2023-02-16T13:44:02.046448",
     "exception": false,
     "start_time": "2023-02-16T13:44:02.040849",
     "status": "completed"
    },
    "tags": []
   },
   "source": [
    "# Ensemble / Stacking"
   ]
  },
  {
   "cell_type": "markdown",
   "id": "0a1e61ab",
   "metadata": {
    "papermill": {
     "duration": 0.005508,
     "end_time": "2023-02-16T13:44:02.057804",
     "exception": false,
     "start_time": "2023-02-16T13:44:02.052296",
     "status": "completed"
    },
    "tags": []
   },
   "source": []
  },
  {
   "cell_type": "code",
   "execution_count": 8,
   "id": "76b35cbf",
   "metadata": {
    "execution": {
     "iopub.execute_input": "2023-02-16T13:44:02.071441Z",
     "iopub.status.busy": "2023-02-16T13:44:02.071001Z",
     "iopub.status.idle": "2023-02-16T13:44:05.114755Z",
     "shell.execute_reply": "2023-02-16T13:44:05.113446Z"
    },
    "papermill": {
     "duration": 3.054048,
     "end_time": "2023-02-16T13:44:05.117686",
     "exception": false,
     "start_time": "2023-02-16T13:44:02.063638",
     "status": "completed"
    },
    "tags": []
   },
   "outputs": [
    {
     "name": "stdout",
     "output_type": "stream",
     "text": [
      ">lr 0.790 (0.039)\n",
      ">knn 0.796 (0.034)\n",
      ">dt 0.775 (0.036)\n",
      ">svm 0.818 (0.038)\n",
      ">bayes 0.792 (0.044)\n"
     ]
    },
    {
     "data": {
      "image/png": "[encoded data removed]",
      "text/plain": [
       "<Figure size 640x480 with 1 Axes>"
      ]
     },
     "metadata": {},
     "output_type": "display_data"
    }
   ],
   "source": [
    "# get a list of models to evaluate\n",
    "def get_models():\n",
    " models = dict()\n",
    " models['lr'] = LogisticRegression()\n",
    " models['knn'] = KNeighborsClassifier()\n",
    " models['dt'] = DecisionTreeClassifier()\n",
    " models['svm'] = SVC()\n",
    " models['bayes'] = GaussianNB()\n",
    " return models\n",
    "\n",
    "# evaluate a given model using cross-validation\n",
    "def evaluate_model(model, X, y):\n",
    " cv = RepeatedStratifiedKFold(n_splits=10, n_repeats=3, random_state=1)\n",
    " scores = cross_val_score(model, X, y, scoring='accuracy', cv=cv, n_jobs=-1, error_score='raise')\n",
    " return scores\n",
    " \n",
    "# get the models to evaluate\n",
    "models = get_models()\n",
    "\n",
    "# evaluate the models and store results\n",
    "results, names = list(), list()\n",
    "for name, model in models.items():\n",
    " scores = evaluate_model(model, X_train, y_train)\n",
    " results.append(scores)\n",
    " names.append(name)\n",
    " print('>%s %.3f (%.3f)' % (name, mean(scores), std(scores)))\n",
    "# plot model performance for comparison\n",
    "pyplot.boxplot(results, labels=names, showmeans=True)\n",
    "pyplot.show()"
   ]
  },
  {
   "cell_type": "code",
   "execution_count": 9,
   "id": "56fa9dc6",
   "metadata": {
    "execution": {
     "iopub.execute_input": "2023-02-16T13:44:05.132869Z",
     "iopub.status.busy": "2023-02-16T13:44:05.132403Z",
     "iopub.status.idle": "2023-02-16T13:44:05.142161Z",
     "shell.execute_reply": "2023-02-16T13:44:05.140369Z"
    },
    "papermill": {
     "duration": 0.0206,
     "end_time": "2023-02-16T13:44:05.144931",
     "exception": false,
     "start_time": "2023-02-16T13:44:05.124331",
     "status": "completed"
    },
    "tags": []
   },
   "outputs": [],
   "source": [
    "def get_stacking():\n",
    "    level0 = list()\n",
    "    level0.append(('lr', LogisticRegression()))\n",
    "    level0.append(('knn', KNeighborsClassifier()))\n",
    "    level0.append(('dt', DecisionTreeClassifier()))\n",
    "    level0.append(('svm', SVC()))\n",
    "    level0.append(('bayes', GaussianNB()))\n",
    "    # define meta learner model\n",
    "    level1 = LogisticRegression()\n",
    "    # define the stacking ensemble\n",
    "    model = StackingClassifier(estimators=level0, final_estimator=level1, cv=5)\n",
    "    return model"
   ]
  },
  {
   "cell_type": "code",
   "execution_count": 10,
   "id": "9f33cedb",
   "metadata": {
    "execution": {
     "iopub.execute_input": "2023-02-16T13:44:05.161935Z",
     "iopub.status.busy": "2023-02-16T13:44:05.160766Z",
     "iopub.status.idle": "2023-02-16T13:44:05.168139Z",
     "shell.execute_reply": "2023-02-16T13:44:05.166855Z"
    },
    "papermill": {
     "duration": 0.01907,
     "end_time": "2023-02-16T13:44:05.171038",
     "exception": false,
     "start_time": "2023-02-16T13:44:05.151968",
     "status": "completed"
    },
    "tags": []
   },
   "outputs": [],
   "source": [
    "def get_models():\n",
    " models = dict()\n",
    " models['lr'] = LogisticRegression()\n",
    " models['knn'] = KNeighborsClassifier()\n",
    " models['dt'] = DecisionTreeClassifier()\n",
    " models['svm'] = SVC()\n",
    " models['bayes'] = GaussianNB()\n",
    " models['stacking'] = get_stacking()\n",
    " return models"
   ]
  },
  {
   "cell_type": "code",
   "execution_count": 11,
   "id": "7b257007",
   "metadata": {
    "execution": {
     "iopub.execute_input": "2023-02-16T13:44:05.186278Z",
     "iopub.status.busy": "2023-02-16T13:44:05.185844Z",
     "iopub.status.idle": "2023-02-16T13:44:05.192430Z",
     "shell.execute_reply": "2023-02-16T13:44:05.191009Z"
    },
    "papermill": {
     "duration": 0.017413,
     "end_time": "2023-02-16T13:44:05.194972",
     "exception": false,
     "start_time": "2023-02-16T13:44:05.177559",
     "status": "completed"
    },
    "tags": []
   },
   "outputs": [],
   "source": [
    "# evaluate a give model using cross-validation\n",
    "def evaluate_model(model, X, y):\n",
    " cv = RepeatedStratifiedKFold(n_splits=10, n_repeats=3, random_state=1)\n",
    " scores = cross_val_score(model, X, y, scoring='accuracy', cv=cv, n_jobs=-1, error_score='raise')\n",
    " return scores"
   ]
  },
  {
   "cell_type": "code",
   "execution_count": 12,
   "id": "fed916e3",
   "metadata": {
    "execution": {
     "iopub.execute_input": "2023-02-16T13:44:05.210134Z",
     "iopub.status.busy": "2023-02-16T13:44:05.209713Z",
     "iopub.status.idle": "2023-02-16T13:44:09.133740Z",
     "shell.execute_reply": "2023-02-16T13:44:09.132575Z"
    },
    "papermill": {
     "duration": 3.934299,
     "end_time": "2023-02-16T13:44:09.136142",
     "exception": false,
     "start_time": "2023-02-16T13:44:05.201843",
     "status": "completed"
    },
    "tags": []
   },
   "outputs": [
    {
     "name": "stdout",
     "output_type": "stream",
     "text": [
      ">lr 0.790 (0.039)\n",
      ">knn 0.796 (0.034)\n",
      ">dt 0.776 (0.038)\n",
      ">svm 0.818 (0.038)\n",
      ">bayes 0.792 (0.044)\n",
      ">stacking 0.816 (0.037)\n"
     ]
    },
    {
     "data": {
      "image/png": "[encoded data removed]",
      "text/plain": [
       "<Figure size 640x480 with 1 Axes>"
      ]
     },
     "metadata": {},
     "output_type": "display_data"
    }
   ],
   "source": [
    "models = get_models()\n",
    "results, names = list(), list()\n",
    "\n",
    "for name, model in models.items():\n",
    " scores = evaluate_model(model, X_train, y_train)\n",
    " results.append(scores)\n",
    " names.append(name)\n",
    " print('>%s %.3f (%.3f)' % (name, mean(scores), std(scores)))\n",
    "# plot model performance for comparison\n",
    "pyplot.boxplot(results, labels=names, showmeans=True)\n",
    "pyplot.show()"
   ]
  },
  {
   "cell_type": "markdown",
   "id": "d3e82dc9",
   "metadata": {
    "papermill": {
     "duration": 0.006807,
     "end_time": "2023-02-16T13:44:09.150191",
     "exception": false,
     "start_time": "2023-02-16T13:44:09.143384",
     "status": "completed"
    },
    "tags": []
   },
   "source": [
    "# Predict and submission"
   ]
  },
  {
   "cell_type": "code",
   "execution_count": 13,
   "id": "5d144a8b",
   "metadata": {
    "execution": {
     "iopub.execute_input": "2023-02-16T13:44:09.167397Z",
     "iopub.status.busy": "2023-02-16T13:44:09.166278Z",
     "iopub.status.idle": "2023-02-16T13:44:09.413880Z",
     "shell.execute_reply": "2023-02-16T13:44:09.412676Z"
    },
    "papermill": {
     "duration": 0.259227,
     "end_time": "2023-02-16T13:44:09.416661",
     "exception": false,
     "start_time": "2023-02-16T13:44:09.157434",
     "status": "completed"
    },
    "tags": []
   },
   "outputs": [],
   "source": [
    "level0 = list()\n",
    "level0.append(('lr', LogisticRegression()))\n",
    "level0.append(('knn', KNeighborsClassifier()))\n",
    "level0.append(('cart', DecisionTreeClassifier()))\n",
    "level0.append(('svm', SVC()))\n",
    "level0.append(('bayes', GaussianNB()))\n",
    "\n",
    "# define meta learner model\n",
    "level1 = LogisticRegression()\n",
    "\n",
    "# define the stacking ensemble\n",
    "model = StackingClassifier(estimators=level0, final_estimator=level1, cv=5)\n",
    "\n",
    "# fit the model on all available data\n",
    "model.fit(X_train, y_train)\n",
    "y_pred = model.predict(X_submission)"
   ]
  },
  {
   "cell_type": "code",
   "execution_count": 14,
   "id": "2e678074",
   "metadata": {
    "execution": {
     "iopub.execute_input": "2023-02-16T13:44:09.432594Z",
     "iopub.status.busy": "2023-02-16T13:44:09.432177Z",
     "iopub.status.idle": "2023-02-16T13:44:09.440963Z",
     "shell.execute_reply": "2023-02-16T13:44:09.439699Z"
    },
    "papermill": {
     "duration": 0.019483,
     "end_time": "2023-02-16T13:44:09.443357",
     "exception": false,
     "start_time": "2023-02-16T13:44:09.423874",
     "status": "completed"
    },
    "tags": []
   },
   "outputs": [
    {
     "data": {
      "text/plain": [
       "array([0, 1, 1, 1, 0, 0, 0, 0, 1, 1, 1, 1, 0, 0, 1, 1, 0, 0, 0, 1, 0, 1,\n",
       "       1, 0, 1, 1, 0, 0, 1, 0, 0, 1, 0, 0, 0, 0, 0, 0, 1, 1, 1, 1, 0, 1,\n",
       "       1, 0, 0, 1, 0, 1, 0, 0, 1, 1, 0, 0, 1, 0, 1, 0, 0, 1, 1, 0, 0, 0,\n",
       "       1, 0, 1, 0, 0, 1, 0, 0, 0, 0, 0, 0, 0, 1, 1, 0, 1, 0, 1, 1, 0, 0,\n",
       "       1, 1, 0, 0, 1, 0, 0, 0, 0, 0, 1, 0, 1, 0, 0, 0, 0, 0, 1, 0, 0, 1,\n",
       "       0, 1, 0, 1, 1, 0, 0, 1, 0, 1, 0, 0, 0, 1, 0, 0, 0, 0, 1, 0, 0, 0,\n",
       "       1, 0, 0, 0, 1, 0, 0, 0, 0, 1, 1, 0, 0, 0, 0, 1, 1, 0, 0, 1, 0, 0,\n",
       "       0, 0, 1, 0, 0, 0, 0, 1, 0, 0, 0, 0, 1, 0, 0, 0, 0, 0, 0, 0, 0, 0,\n",
       "       0, 1, 0, 0, 1, 0, 0, 0, 1, 0, 1, 0, 0, 0, 1, 0, 1, 0, 1, 1, 1, 0,\n",
       "       1, 1, 0, 1, 1, 0, 0, 1, 0, 0, 1, 0, 0, 1, 0, 0, 0, 1, 1, 0, 1, 0,\n",
       "       0, 0, 0, 0, 0, 0, 0, 0, 0, 1, 1, 0, 0, 1, 0, 1, 0, 1, 0, 0, 1, 1,\n",
       "       0, 0, 0, 0, 1, 1, 0, 0, 1, 1, 0, 0, 1, 1, 1, 1, 1, 1, 0, 0, 0, 1,\n",
       "       1, 0, 0, 0, 1, 1, 0, 0, 1, 0, 1, 1, 1, 0, 0, 1, 0, 1, 0, 1, 1, 0,\n",
       "       0, 0, 0, 1, 1, 1, 0, 1, 0, 0, 1, 1, 0, 1, 1, 0, 0, 1, 0, 0, 1, 1,\n",
       "       0, 1, 1, 1, 1, 0, 0, 1, 1, 0, 1, 1, 0, 0, 1, 1, 0, 1, 0, 1, 1, 1,\n",
       "       1, 0, 0, 0, 1, 0, 0, 1, 0, 0, 1, 1, 0, 1, 0, 1, 1, 1, 0, 0, 0, 0,\n",
       "       0, 0, 1, 0, 1, 1, 1, 1, 0, 0, 1, 0, 0, 0, 1, 1, 1, 1, 1, 0, 0, 0,\n",
       "       1, 1, 0, 1, 0, 0, 1, 1, 0, 1, 0, 0, 0, 1, 0, 1, 0, 0, 1, 1, 1, 0,\n",
       "       1, 0, 0, 1, 0, 0, 1, 0, 1, 0, 0, 1, 0, 1, 0, 0, 1, 0, 0, 1, 1, 1])"
      ]
     },
     "execution_count": 14,
     "metadata": {},
     "output_type": "execute_result"
    }
   ],
   "source": [
    "y_pred"
   ]
  },
  {
   "cell_type": "code",
   "execution_count": 15,
   "id": "8cb340fe",
   "metadata": {
    "execution": {
     "iopub.execute_input": "2023-02-16T13:44:09.460111Z",
     "iopub.status.busy": "2023-02-16T13:44:09.459684Z",
     "iopub.status.idle": "2023-02-16T13:44:09.476979Z",
     "shell.execute_reply": "2023-02-16T13:44:09.475991Z"
    },
    "papermill": {
     "duration": 0.028604,
     "end_time": "2023-02-16T13:44:09.479406",
     "exception": false,
     "start_time": "2023-02-16T13:44:09.450802",
     "status": "completed"
    },
    "tags": []
   },
   "outputs": [
    {
     "data": {
      "text/html": [
       "<div>\n",
       "<style scoped>\n",
       "    .dataframe tbody tr th:only-of-type {\n",
       "        vertical-align: middle;\n",
       "    }\n",
       "\n",
       "    .dataframe tbody tr th {\n",
       "        vertical-align: top;\n",
       "    }\n",
       "\n",
       "    .dataframe thead th {\n",
       "        text-align: right;\n",
       "    }\n",
       "</style>\n",
       "<table border=\"1\" class=\"dataframe\">\n",
       "  <thead>\n",
       "    <tr style=\"text-align: right;\">\n",
       "      <th></th>\n",
       "      <th>PassengerId</th>\n",
       "      <th>Survived</th>\n",
       "    </tr>\n",
       "  </thead>\n",
       "  <tbody>\n",
       "    <tr>\n",
       "      <th>0</th>\n",
       "      <td>892</td>\n",
       "      <td>0</td>\n",
       "    </tr>\n",
       "    <tr>\n",
       "      <th>1</th>\n",
       "      <td>893</td>\n",
       "      <td>1</td>\n",
       "    </tr>\n",
       "    <tr>\n",
       "      <th>2</th>\n",
       "      <td>894</td>\n",
       "      <td>1</td>\n",
       "    </tr>\n",
       "    <tr>\n",
       "      <th>3</th>\n",
       "      <td>895</td>\n",
       "      <td>1</td>\n",
       "    </tr>\n",
       "    <tr>\n",
       "      <th>4</th>\n",
       "      <td>896</td>\n",
       "      <td>0</td>\n",
       "    </tr>\n",
       "    <tr>\n",
       "      <th>...</th>\n",
       "      <td>...</td>\n",
       "      <td>...</td>\n",
       "    </tr>\n",
       "    <tr>\n",
       "      <th>413</th>\n",
       "      <td>1305</td>\n",
       "      <td>0</td>\n",
       "    </tr>\n",
       "    <tr>\n",
       "      <th>414</th>\n",
       "      <td>1306</td>\n",
       "      <td>0</td>\n",
       "    </tr>\n",
       "    <tr>\n",
       "      <th>415</th>\n",
       "      <td>1307</td>\n",
       "      <td>1</td>\n",
       "    </tr>\n",
       "    <tr>\n",
       "      <th>416</th>\n",
       "      <td>1308</td>\n",
       "      <td>1</td>\n",
       "    </tr>\n",
       "    <tr>\n",
       "      <th>417</th>\n",
       "      <td>1309</td>\n",
       "      <td>1</td>\n",
       "    </tr>\n",
       "  </tbody>\n",
       "</table>\n",
       "<p>418 rows × 2 columns</p>\n",
       "</div>"
      ],
      "text/plain": [
       "     PassengerId  Survived\n",
       "0            892         0\n",
       "1            893         1\n",
       "2            894         1\n",
       "3            895         1\n",
       "4            896         0\n",
       "..           ...       ...\n",
       "413         1305         0\n",
       "414         1306         0\n",
       "415         1307         1\n",
       "416         1308         1\n",
       "417         1309         1\n",
       "\n",
       "[418 rows x 2 columns]"
      ]
     },
     "execution_count": 15,
     "metadata": {},
     "output_type": "execute_result"
    }
   ],
   "source": [
    "final_df = pd.DataFrame({'PassengerId': X_submission_passengerId, 'Survived': y_pred})\n",
    "final_df"
   ]
  },
  {
   "cell_type": "code",
   "execution_count": 16,
   "id": "4fae9840",
   "metadata": {
    "execution": {
     "iopub.execute_input": "2023-02-16T13:44:09.496647Z",
     "iopub.status.busy": "2023-02-16T13:44:09.495976Z",
     "iopub.status.idle": "2023-02-16T13:44:09.505846Z",
     "shell.execute_reply": "2023-02-16T13:44:09.504279Z"
    },
    "papermill": {
     "duration": 0.022299,
     "end_time": "2023-02-16T13:44:09.509392",
     "exception": false,
     "start_time": "2023-02-16T13:44:09.487093",
     "status": "completed"
    },
    "tags": []
   },
   "outputs": [
    {
     "name": "stdout",
     "output_type": "stream",
     "text": [
      " Submission saved\n"
     ]
    }
   ],
   "source": [
    "final_df.to_csv('submission.csv', index=False)\n",
    "print(\" Submission saved\")"
   ]
  }
 ],
 "metadata": {
  "kernelspec": {
   "display_name": "Python 3",
   "language": "python",
   "name": "python3"
  },
  "language_info": {
   "codemirror_mode": {
    "name": "ipython",
    "version": 3
   },
   "file_extension": ".py",
   "mimetype": "text/x-python",
   "name": "python",
   "nbconvert_exporter": "python",
   "pygments_lexer": "ipython3",
   "version": "3.7.12"
  },
  "papermill": {
   "default_parameters": {},
   "duration": 30.717695,
   "end_time": "2023-02-16T13:44:12.139573",
   "environment_variables": {},
   "exception": null,
   "input_path": "__notebook__.ipynb",
   "output_path": "__notebook__.ipynb",
   "parameters": {},
   "start_time": "2023-02-16T13:43:41.421878",
   "version": "2.3.4"
  }
 },
 "nbformat": 4,
 "nbformat_minor": 5
}
