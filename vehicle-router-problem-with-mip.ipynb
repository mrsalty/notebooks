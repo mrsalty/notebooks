{
 "cells": [
  {
   "cell_type": "markdown",
   "id": "fceed032",
   "metadata": {
    "papermill": {
     "duration": 0.004374,
     "end_time": "2024-04-13T07:37:25.115984",
     "exception": false,
     "start_time": "2024-04-13T07:37:25.111610",
     "status": "completed"
    },
    "tags": []
   },
   "source": [
    "# Solving a vehicle router problem with Mixed Integer Programming (PuLP)"
   ]
  },
  {
   "cell_type": "markdown",
   "id": "92cb1739",
   "metadata": {
    "papermill": {
     "duration": 0.003424,
     "end_time": "2024-04-13T07:37:25.123201",
     "exception": false,
     "start_time": "2024-04-13T07:37:25.119777",
     "status": "completed"
    },
    "tags": []
   },
   "source": [
    "## Problem"
   ]
  },
  {
   "cell_type": "markdown",
   "id": "3986c44e",
   "metadata": {
    "papermill": {
     "duration": 0.003169,
     "end_time": "2024-04-13T07:37:25.129954",
     "exception": false,
     "start_time": "2024-04-13T07:37:25.126785",
     "status": "completed"
    },
    "tags": []
   },
   "source": [
    "We have $m$ couriers that must distribute $n ≥ m$ items at different customer locations. Each courier $i$ has a maximum load size $l$i. Each item $j$ has a distribution point $j$ and a size $s_j$ (which can represent for instance a weight or a volume). The goal of VCP is to decide for each courier the items to be distributed and plan a tour (i.e. a sequence of location points to visit) to perform the necessary distribution tasks. Each courier tour must start and end at a given origin point o. Moreover, the maximum load $l_i$ of the courier $i$ should be respected when items are assigned to it. To achieve a fair division among drivers, the objective is to minimize the maximum distance travelled by any courier. All couriers must contribute to the items delivery.\n",
    "\n",
    "### Instance format \n",
    "\n",
    "An instance of VRP is a text file of the form: \n",
    "\n",
    "$m$<br>\n",
    "$n$<br>\n",
    "$l_1,l_2,...,l_m$<br>\n",
    "$s_1,s_2,...,s_n$<br>\n",
    "$D_{1,1},D_{1,2},...D_{1,n+1}$<br>\n",
    "$D_{2,1},D_{1,2},...D_{1,n+1}$<br>\n",
    "$...$<br>\n",
    "$D_{n,1},D_{n,2},...D_{n,n+1}$<br>\n",
    "$D_{n+1,1},D_{n+1,2},...D_{n+1,n+1}$<br>\n",
    "\n",
    "\n",
    "where $m$, $n$, $li$, $s_j$ have the meaning explained above, while $D_i$,$j$ is the distance between distribution point $i$ and distribution point $j$ for $i,j=1,...,n+1$. In particular, distribution point $n + 1$ corresponds to the origin origin point (clearly, $Di,i=0 for i=1,...,n+1)$. For example, the following instance file (.dat):\n",
    "\n",
    "```\n",
    "3\n",
    "7\n",
    "15 10 7\n",
    "3  2  6  8  5  4  4\n",
    "0  3  3  6  5  6  6  2\n",
    "3  0  4  3  4  7  7  3\n",
    "3  4  0  7  6  3  5  3\n",
    "6  3  7  0  3  6  6  4\n",
    "5  4  6  3  0  3  3  3\n",
    "6  7  3  6  3  0  2  4\n",
    "6  7  5  6  3  2  0  4\n",
    "2  3  3  4  3  4  4  0\n",
    "```\n",
    "corresponds to a VCP instance with 3 couriers and 7 items where, e.g., $D_{2,n+1}=D_{2,8}=3$ is the distance between the distribution point 2 to $o$, while $D_{4,7}=6$ is the distance between the distribution points 4 and 7. Note that in general $D$ is *not* guaranteed to be symmetrical, i.e., it is possible that $D_{i,j}\\not=D_{j,i}$. \n",
    "\n"
   ]
  },
  {
   "cell_type": "markdown",
   "id": "678be9bc",
   "metadata": {
    "papermill": {
     "duration": 0.003378,
     "end_time": "2024-04-13T07:37:25.136704",
     "exception": false,
     "start_time": "2024-04-13T07:37:25.133326",
     "status": "completed"
    },
    "tags": []
   },
   "source": [
    "# Solution"
   ]
  },
  {
   "cell_type": "markdown",
   "id": "27fff947",
   "metadata": {
    "papermill": {
     "duration": 0.003418,
     "end_time": "2024-04-13T07:37:25.143549",
     "exception": false,
     "start_time": "2024-04-13T07:37:25.140131",
     "status": "completed"
    },
    "tags": []
   },
   "source": [
    "## Decision variables\n",
    "\n",
    "### $trips$ variable\n",
    "\n",
    "3d array of val int with domain 0..1 (binary). The 3d array has size $[1..m,1..n+1,1..n+1]$. Used to represent for each courier trip (first dimension $1..n$) the delivered items (2d array with dimension $(n+1)*(n+1)$. \n",
    "\n",
    "Specifically: \n",
    "- each courier trip is represented by a $(n+1)\\times (n+1)$ matrix of boolean values 0..1.\n",
    "- each courier matrix identifies the item picked for delivery and points to next item with the same logic defined for input matrix D.\n",
    "- value 0 for all cells in the same column means courier is not delivering that item (item = column index with base 1).\n",
    "- value 1 in one cells of the column means courier delivers that itme (item = column index  with base 1) and then proceed to pick next item defined in row=column index.  \n",
    "- as per input matrix D, row=$n+1$ and column=$n+1$ identify depots (start and end).\n",
    "- first item picked by courier is the one with row=$n+1$ \n",
    "\n",
    "Here an example matrix for 2 couriers (<span style=\"color:red\">Red</span>=courier #1, <span style=\"color:green\">Green</span>=courier #2) delivering 4 items (3d array $2 x 5 x 5$):\n",
    "\n",
    "| | | | | | \n",
    "|-|-|-|-|-|\n",
    "|0|0|<span style=\"color:red\">**1**</span>|0|0| \n",
    "|0|0|0|0|0| \n",
    "|0|0|0|0|<span style=\"color:red\">**1**</span>| \n",
    "|<span style=\"color:red\">**1**</span>|0|0|0|0| \n",
    "|0|0|0|<span style=\"color:red\">**1**</span>|0| \n",
    "\n",
    "| | | | | | \n",
    "|-|-|-|-|-|\n",
    "|0|0|0|0|0| \n",
    "|0|0|0|0|<span style=\"color:green\">**1**</span>| \n",
    "|0|0|0|0|0| \n",
    "|0|0|0|0|0| \n",
    "|0|<span style=\"color:green\">**1**</span>|0|0|0|  \n",
    "\n",
    "Can be read as: \n",
    "- <span style=\"color:red\">courier \\#1</span> starts from depot and picks item 4 (row=5, value 1 in column 4).  \n",
    "- <span style=\"color:red\">courier \\#1</span> then picks item 1 (value 1 in row 4, column 1). \n",
    "- <span style=\"color:red\">courier \\#1</span> then picks item 3 (value 1 in row 1 column 3). \n",
    "- <span style=\"color:red\">courier \\#1</span> then goes to depot (value 1 in row 3 column 5). \n",
    "- <span style=\"color:red\">courier \\#1</span>1 matrix has column 2 with all zeroes as doesn't deliver that item. \n",
    "- <span style=\"color:green\">courier \\#2</span> starts from depot and picks item 2 (row=5, value 1 in column 2).  \n",
    "- <span style=\"color:green\">courier \\#2</span> then goes to depot (value 1 in row 2 column 5). \n",
    "- <span style=\"color:green\">courier \\#2</span> matrix has column 1,3 and 4 with all zeroes as doesn't deliver those items. \n",
    "\n",
    "### $courier\\_items$ variable\n",
    "\n",
    "1d array to assign every items to each courier. It has range $1..n$ (items size) and with values $1..m$ (couriers size). E.g.\n",
    "\n",
    "| | | | | | |\n",
    "|-|-|-|-|-|-|\n",
    "|3|2|2|1|3|1|\n",
    "\n",
    "Can be read as: \n",
    "* item \\#1 is assigned to courier \\#3\n",
    "* item \\#2 is assigned to courier \\#2\n",
    "* item \\#3 is assigned to courier \\#2\n",
    "* item \\#4 is assigned to courier \\#1 \n",
    "* and so on. \n",
    "\n",
    "## Objective function\n",
    "\n",
    "The problem is to minimize the distance travelled by *any* courier. We can then formalise the objective function as:\n",
    "$$ obj=\\sum_{i=1}^{m}\\sum_{j=1}^{n+1}\\sum_{k=1}^{n+1}D_{jk}*trips_{ijk}$$ \n",
    "\n",
    "## Constraints\n",
    "\n",
    "### All items must be delivered\n",
    "The constraint can be interpreted as that aggregated couriers matrices in $trips$ variable must have exactly one value=1 for each column, except for depot column (index $n+1$). The same for each row: all aggregated couriers matrices must have exactly one value=1 in each row, except for depot row (index $n+1$). Formally: \n",
    "$$\\sum_{j=1}^{n}\\sum_{i=1}^{m}\\sum_{k=1}^{n+1}trips_{ikj}=1$$ $$\\sum_{j=1}^{n}\\sum_{i=1}^{m}\\sum_{k=1}^{n+1}trips_{ijk}=1$$\n",
    "\n",
    "### Aggregated courier matrix last row and column must equals $m$ \n",
    "Each courier will start from depot (row=$n+1$) and deliver to depot (column=$n+1$), so aggregating all couriers matrices the sum of row=$n+1$ must be $m$, same for the sum of column with index $n+1$:\n",
    "\n",
    "$$\\sum_{i=1}^{m}\\sum_{j=1}^{n+1}trips_{ij_{n+1}}= m$$\n",
    "$$\\sum_{i=1}^{m}\\sum_{j=1}^{n+1}trips_{i_{n+1}j}= m$$\n",
    "\n",
    "### The diagonal of each courier matrix must be $0$s\n",
    "Diagonal should be ignored (all zeroes):\n",
    "\n",
    "$$\\sum_{i=1}^{m}\\sum_{j=1}^{n+1}trips_{ijj}=0$$ \n",
    "\n",
    "### Each courier matrix row and columns sum must be less or equal to $1$\n",
    "Each row and column of $trips$ courier matrix must have all single rows and columns (including depots) summing less or equal to 1:\n",
    "\n",
    "$$ \\sum_{j=1}^{n+1}\\sum_{i=1}^{m}\\sum_{k=1}^{n+1}trips_{ikj}<=1$$\n",
    "\n",
    "\n",
    "### Each courier shouldn't carry more than their max load\n",
    "Each courier has a max load defined in the \\textit{couriers} variable. We need to make sure the sum of each item assigned to a courier is not exceeding it's max load: \n",
    "\n",
    "$$\\sum_{i=1}^{m}(\\sum_{j=1}^{n}\\sum_{k=1}^{n+1}items_j*trips_{ikj} <= couriers_i)$$\n",
    "\n",
    "### Each courier matrix columns and rows with same index must have same sum\n",
    "As visible from the matrices example in the $trips$ variable description, each courier matrix must show rows and columns with same index having the same sum (0 or 1):\n",
    "\n",
    "$$\\sum_{i=1}^{m}\\sum_{j=1}^{n+1}(\\sum_{k=1}^{n+1}trips_{ikj}=\\sum_{k=1}^{n+1}trips_{ijk})$$ \n",
    "\n",
    "### Avoid subtours when single item delivered\n",
    "Avoid creating loops between items: symmetric cells in matrix $n\\times n$ (not depot) must sum $<= 1$: \n",
    "\n",
    "$$\\sum_{i=1}^{m}\\sum_{j=1}^{n}\\sum_{k=1}^{n}(trips_{ijk} + trips_{ikj}<=1)$$ \n",
    "\n",
    "### Avoid inner loops when courier delivers 1 item\n",
    "When courier delivers 1 item we have symmetry between depot row and depot column $trips$ variable. When this happens the internal $n\\times n$ matrix (depot are excluded) overall sum must be 0:\n",
    "\n",
    "$$\n",
    "\\sum_{i=1}^{m}\\sum_{j=1}^{n}((trips_i_(_n_+_1_)_j + trips_i_j_(_n_+_1_) = 2) + \\sum_{k=1}^{n}\\sum_{x=1}^{n}trips_i_k_x >= 0) <= 1\\;\n",
    "$$\n"
   ]
  },
  {
   "cell_type": "code",
   "execution_count": 1,
   "id": "123dbdff",
   "metadata": {
    "execution": {
     "iopub.execute_input": "2024-04-13T07:37:25.152090Z",
     "iopub.status.busy": "2024-04-13T07:37:25.151744Z",
     "iopub.status.idle": "2024-04-13T07:37:38.179024Z",
     "shell.execute_reply": "2024-04-13T07:37:38.177924Z"
    },
    "papermill": {
     "duration": 13.034321,
     "end_time": "2024-04-13T07:37:38.181462",
     "exception": false,
     "start_time": "2024-04-13T07:37:25.147141",
     "status": "completed"
    },
    "tags": []
   },
   "outputs": [
    {
     "name": "stdout",
     "output_type": "stream",
     "text": [
      "Requirement already satisfied: pulp in /opt/conda/lib/python3.10/site-packages (2.8.0)\r\n"
     ]
    }
   ],
   "source": [
    "!pip install pulp"
   ]
  },
  {
   "cell_type": "code",
   "execution_count": 2,
   "id": "5b986cad",
   "metadata": {
    "execution": {
     "iopub.execute_input": "2024-04-13T07:37:38.190813Z",
     "iopub.status.busy": "2024-04-13T07:37:38.190451Z",
     "iopub.status.idle": "2024-04-13T07:37:39.030473Z",
     "shell.execute_reply": "2024-04-13T07:37:39.029489Z"
    },
    "papermill": {
     "duration": 0.847755,
     "end_time": "2024-04-13T07:37:39.033326",
     "exception": false,
     "start_time": "2024-04-13T07:37:38.185571",
     "status": "completed"
    },
    "tags": []
   },
   "outputs": [],
   "source": [
    "from pulp import *\n",
    "import numpy as np\n",
    "import pulp as pl\n",
    "import json\n",
    "import pandas as pd\n",
    "import numpy as np\n",
    "import datetime\n",
    "import time"
   ]
  },
  {
   "cell_type": "code",
   "execution_count": 3,
   "id": "0e326f5a",
   "metadata": {
    "execution": {
     "iopub.execute_input": "2024-04-13T07:37:39.042229Z",
     "iopub.status.busy": "2024-04-13T07:37:39.041800Z",
     "iopub.status.idle": "2024-04-13T07:37:39.051543Z",
     "shell.execute_reply": "2024-04-13T07:37:39.050707Z"
    },
    "jupyter": {
     "source_hidden": true
    },
    "papermill": {
     "duration": 0.016214,
     "end_time": "2024-04-13T07:37:39.053466",
     "exception": false,
     "start_time": "2024-04-13T07:37:39.037252",
     "status": "completed"
    },
    "tags": []
   },
   "outputs": [],
   "source": [
    "def get_inst_from_file(inst):\n",
    "  inst = str(inst).zfill(2)\n",
    "  inst = f\"inst{str(inst)}\"\n",
    "  inst_file_path = f\"/kaggle/input/vehicle-router-problem-instances/{inst}.dat\"\n",
    "  instance = pd.read_csv(inst_file_path, delimiter='\\t')\n",
    "  if len(instance) < 5:\n",
    "      print(\"Invalid params, expecting 5 parameters (m,n,couriers,items,D)\")\n",
    "      quit()\n",
    "\n",
    "  m = 0\n",
    "  n = 0\n",
    "  couriers = []\n",
    "  items = []\n",
    "  D = []\n",
    "\n",
    "  f =  open(inst_file_path,'r')\n",
    "  lines = f.readlines()\n",
    "  f.close()\n",
    "  line_count = 0\n",
    "  for line in lines:\n",
    "      if line_count == 0:\n",
    "        m = int(line)\n",
    "      elif line_count == 1:\n",
    "        n = int(line)\n",
    "      elif line_count == 2:\n",
    "        couriers = [int(x) for x in line.split()]\n",
    "      elif line_count == 3:\n",
    "        items = [int(x) for x in line.split()]\n",
    "      elif line_count > 3:\n",
    "        line = line.replace('\\n','')\n",
    "        D.append( [int(x) for x in line.split()] )\n",
    "      line_count += 1\n",
    "\n",
    "  # print('m=',m)\n",
    "  # print('n=',n)\n",
    "  # print('couriers=',couriers)\n",
    "  # print('items=',items)\n",
    "  # print('D=',D)\n",
    "  results = {\n",
    "          \"m\": m,\n",
    "          \"n\": n,\n",
    "          \"couriers\": couriers,\n",
    "          \"items\": items,\n",
    "          \"D\": D,\n",
    "          }\n",
    "  return json.dumps(results) "
   ]
  },
  {
   "cell_type": "code",
   "execution_count": 4,
   "id": "794b14c4",
   "metadata": {
    "_cell_guid": "b1076dfc-b9ad-4769-8c92-a6c4dae69d19",
    "_uuid": "8f2839f25d086af736a60e9eeb907d3b93b6e0e5",
    "execution": {
     "iopub.execute_input": "2024-04-13T07:37:39.061996Z",
     "iopub.status.busy": "2024-04-13T07:37:39.061727Z",
     "iopub.status.idle": "2024-04-13T07:37:39.090222Z",
     "shell.execute_reply": "2024-04-13T07:37:39.089405Z"
    },
    "papermill": {
     "duration": 0.035066,
     "end_time": "2024-04-13T07:37:39.092170",
     "exception": false,
     "start_time": "2024-04-13T07:37:39.057104",
     "status": "completed"
    },
    "tags": []
   },
   "outputs": [],
   "source": [
    "def run_mip_model(solver_name, inst):\n",
    "    #print(pl.listSolvers(onlyAvailable=True))\n",
    "    print(f'loading instance #{inst}...')\n",
    "    instance = json.loads(get_inst_from_file(inst))\n",
    "\n",
    "    m = instance['m']\n",
    "    n = instance['n']\n",
    "    couriers = instance['couriers']\n",
    "    items = instance['items']\n",
    "    D = instance['D']\n",
    "    prob = LpProblem(\"Multiple_Courier_Planning\", LpMinimize)\n",
    "\n",
    "    # decision variables\n",
    "    Trips = LpVariable.dicts('trips',(range(m),range(n+1),range(n+1)), cat='Binary')\n",
    "    Max = LpVariable('max_distance', lowBound=0, cat='Integer')\n",
    "    \n",
    "    # problem\n",
    "    prob = LpProblem(\"max_distance\", LpMinimize)\n",
    "    #print(prob)\n",
    "\n",
    "    # objective function\n",
    "    prob += Max\n",
    "    \n",
    "    #############\n",
    "    # Constraints\n",
    "    #############\n",
    "\n",
    "    # minimize max\n",
    "    for i in range(m):\n",
    "        prob += Max >= [Trips[i][j][k] * D[j][k] for j in range(n+1) for k in range(n+1)]\n",
    "\n",
    "    print('loading constraints...')\n",
    "\n",
    "    # all couriers must be assigned an item \n",
    "    for j in range(n):\n",
    "        # aggregated columns (except last) sum == 1\n",
    "        prob += lpSum([Trips[i][k][j] for i in range(m) for k in range(n+1)]) == 1\n",
    "        # aggregated rows (except last) sum == 1\n",
    "        prob += lpSum([Trips[i][j][k] for i in range(m) for k in range(n+1)]) == 1\n",
    "    \n",
    "    # aggregated last columns must sum m\n",
    "    prob += lpSum([Trips[i][k][n] for i in range(m) for k in range(n+1)]) == m\n",
    "    # aggregated last rows must sum m\n",
    "    prob += lpSum([Trips[i][n][k] for i in range(m) for k in range(n+1)]) == m\n",
    "    \n",
    "    # diagonal must be 0\n",
    "    for i in range(m):\n",
    "        for j in range(n+1):\n",
    "            prob += Trips[i][j][j] == 0\n",
    "    \n",
    "    # the sum of each courier matrix rows (resp column) must be <=1\n",
    "    for i in range(m):\n",
    "        for j in range(n+1):\n",
    "            # cols\n",
    "            prob += lpSum([Trips[i][k][j] for k in range(n+1)]) <= 1\n",
    "            # rows\n",
    "            prob += lpSum([Trips[i][j][k] for k in range(n+1)]) <= 1\n",
    "        \n",
    "    # couriers should be assigned items based on their max load\n",
    "    for i in range(m):\n",
    "        prob += lpSum([items[j] * Trips[i][k][j] for j in range(n) for k in range(n+1)]) <= couriers[i]\n",
    "              \n",
    "    # each courier matrix column sum must be equivalent to sum of the row with same index (either 0 or 1)\n",
    "    for i in range(m):\n",
    "        for j in range(n+1):\n",
    "                prob += lpSum([Trips[i][k][j] for k in range(n+1)]) == lpSum([Trips[i][j][k] for k in range(n+1)])\n",
    "    \n",
    "    #To be revisited (for multiple item subtours)\n",
    "    # break subtours unless deliver 1 items only (depot -> item -> depot): n*n matrix sum of symmetric cells must sum < 2\n",
    "    for i in range(m):\n",
    "        for j in range(n):\n",
    "            for k in range(n):\n",
    "               prob += (Trips[i][j][k] + Trips[i][k][j]) <= 1\n",
    "    \n",
    "    # break internal subtours when 1 item delivered: \n",
    "    for i in range(m):\n",
    "        for j in range(n):\n",
    "            # symmetric depot are equal + sum of all internal cells > 0 == 1\n",
    "            prob += (((Trips[i][n][j] + Trips[i][j][n]) == 2) + (lpSum([Trips[i][k][x] for k in range(n) for x in range(n)]) >= 1)) <= 1\n",
    "\n",
    "    #while True:\n",
    "    print(f'invoking mip solver {solver_name}... ')\n",
    "    print(\"\\033[32;5mSolving...\\033[0m\")\n",
    "\n",
    "    if solver_name == 'cbc':\n",
    "        solver = pl.getSolver('PULP_CBC_CMD', msg=0)    \n",
    "    elif solver_name == 'highs':\n",
    "        solver = pl.getSolver('HiGHS_CMD', msg=0)  \n",
    "    else:\n",
    "        raise Exception(f'invalid solver: {solver_name}')\n",
    "    \n",
    "    prob.solve(solver)\n",
    "    #    if LpStatus[prob.status] == \"Optimal\":\n",
    "    #        break\n",
    "       \n",
    "    #print_sol(Trips,m,n)\n",
    "\n",
    "    varsdict = {}\n",
    "    for v in prob.variables():\n",
    "        varsdict[v.name] = v.varValue\n",
    "    \n",
    "    # all couriers distances\n",
    "    distances = [sum([value(Trips[i][j][k]) * D[j][k] for j in range(n+1) for k in range(n+1)]) for i in range(m) ]\n",
    "\n",
    "    # max distance consumed\n",
    "    max_distance = np.max(distances)\n",
    "\n",
    "    solution_matrix = []\n",
    "    for i in range(m):\n",
    "        solution_matrix.append([[int(value(Trips[i][j][k])) for k in range(n+1)] for j in range(n+1)])\n",
    "    #print(solution_matrix)\n",
    "    \n",
    "    np.array([[[value(Trips[i][j][k]) for j in range(n+1)] for k in range(n+1)] for i in range(m)])\n",
    "    results = {\n",
    "          \"opt\": LpStatus[prob.status] == \"Optimal\", \n",
    "          \"obj\": float(max_distance),\n",
    "          \"trips\": translate_solution(solution_matrix,n),\n",
    "          \"solver\": solver_name\n",
    "      }\n",
    "    \n",
    "    return results\n",
    "\n",
    "def translate_solution(solution_matrix,n):\n",
    "    ret = []\n",
    "    for item in solution_matrix:\n",
    "        ret_item = []\n",
    "        index = list(item[n]).index(1)\n",
    "        while index != n:\n",
    "            #print(index)\n",
    "            ret_item.append(index+1)\n",
    "            index = list(item[index]).index(1)\n",
    "        ret.append(ret_item)\n",
    "    #print(ret)\n",
    "    return ret\n",
    "\n",
    "def print_sol(Trips, m, n):\n",
    "    for i in range(m):\n",
    "        print('-'*20)\n",
    "        for j in range(n+1):\n",
    "            print([int(value(Trips[i][j][k])) for k in range(n+1)])"
   ]
  },
  {
   "cell_type": "code",
   "execution_count": 5,
   "id": "f5910f5b",
   "metadata": {
    "execution": {
     "iopub.execute_input": "2024-04-13T07:37:39.100442Z",
     "iopub.status.busy": "2024-04-13T07:37:39.100194Z",
     "iopub.status.idle": "2024-04-13T07:37:39.831125Z",
     "shell.execute_reply": "2024-04-13T07:37:39.830153Z"
    },
    "papermill": {
     "duration": 0.737597,
     "end_time": "2024-04-13T07:37:39.833381",
     "exception": false,
     "start_time": "2024-04-13T07:37:39.095784",
     "status": "completed"
    },
    "tags": []
   },
   "outputs": [
    {
     "name": "stdout",
     "output_type": "stream",
     "text": [
      "----------\n",
      "loading instance #1...\n",
      "loading constraints...\n",
      "invoking mip solver cbc... \n",
      "\u001b[32;5mSolving...\u001b[0m\n",
      "{'opt': True, 'obj': 14.0, 'trips': [[1, 3, 4], [2, 5, 6]], 'solver': 'cbc'}\n",
      "Excution time=0:00:00.723528\n"
     ]
    }
   ],
   "source": [
    "for i in range(1,2):\n",
    "    print('-'*10)\n",
    "    start_time = datetime.datetime.now()\n",
    "    res = run_mip_model('cbc',i)\n",
    "    #res = run_mip_model('highs',i)\n",
    "    end_time = datetime.datetime.now()\n",
    "    elapsed_time = end_time - start_time\n",
    "    \n",
    "    print(res)\n",
    "    print(f'Excution time={str(elapsed_time) }')"
   ]
  }
 ],
 "metadata": {
  "kaggle": {
   "accelerator": "gpu",
   "dataSources": [
    {
     "datasetId": 4784121,
     "sourceId": 8101082,
     "sourceType": "datasetVersion"
    }
   ],
   "dockerImageVersionId": 30683,
   "isGpuEnabled": true,
   "isInternetEnabled": true,
   "language": "python",
   "sourceType": "notebook"
  },
  "kernelspec": {
   "display_name": "Python 3",
   "language": "python",
   "name": "python3"
  },
  "language_info": {
   "codemirror_mode": {
    "name": "ipython",
    "version": 3
   },
   "file_extension": ".py",
   "mimetype": "text/x-python",
   "name": "python",
   "nbconvert_exporter": "python",
   "pygments_lexer": "ipython3",
   "version": "3.10.13"
  },
  "papermill": {
   "default_parameters": {},
   "duration": 17.83916,
   "end_time": "2024-04-13T07:37:40.156121",
   "environment_variables": {},
   "exception": null,
   "input_path": "__notebook__.ipynb",
   "output_path": "__notebook__.ipynb",
   "parameters": {},
   "start_time": "2024-04-13T07:37:22.316961",
   "version": "2.5.0"
  }
 },
 "nbformat": 4,
 "nbformat_minor": 5
}
