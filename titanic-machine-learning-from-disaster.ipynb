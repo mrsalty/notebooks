{
 "cells": [
  {
   "cell_type": "markdown",
   "id": "cb1ff4b9",
   "metadata": {
    "papermill": {
     "duration": 0.006601,
     "end_time": "2023-02-13T16:34:37.252470",
     "exception": false,
     "start_time": "2023-02-13T16:34:37.245869",
     "status": "completed"
    },
    "tags": []
   },
   "source": [
    "## Imports"
   ]
  },
  {
   "cell_type": "code",
   "execution_count": 1,
   "id": "8307069a",
   "metadata": {
    "_cell_guid": "b1076dfc-b9ad-4769-8c92-a6c4dae69d19",
    "_uuid": "8f2839f25d086af736a60e9eeb907d3b93b6e0e5",
    "execution": {
     "iopub.execute_input": "2023-02-13T16:34:37.264706Z",
     "iopub.status.busy": "2023-02-13T16:34:37.263419Z",
     "iopub.status.idle": "2023-02-13T16:34:37.280013Z",
     "shell.execute_reply": "2023-02-13T16:34:37.279109Z"
    },
    "papermill": {
     "duration": 0.02544,
     "end_time": "2023-02-13T16:34:37.282607",
     "exception": false,
     "start_time": "2023-02-13T16:34:37.257167",
     "status": "completed"
    },
    "tags": []
   },
   "outputs": [
    {
     "name": "stdout",
     "output_type": "stream",
     "text": [
      "/kaggle/input/titanic/train.csv\n",
      "/kaggle/input/titanic/test.csv\n",
      "/kaggle/input/titanic/gender_submission.csv\n"
     ]
    }
   ],
   "source": [
    "import numpy as np # linear algebra\n",
    "import pandas as pd # data processing, CSV file I/O (e.g. pd.read_csv)\n",
    "\n",
    "import os\n",
    "for dirname, _, filenames in os.walk('/kaggle/input'):\n",
    "    for filename in filenames:\n",
    "        print(os.path.join(dirname, filename))"
   ]
  },
  {
   "cell_type": "markdown",
   "id": "7cd06166",
   "metadata": {
    "papermill": {
     "duration": 0.004094,
     "end_time": "2023-02-13T16:34:37.291212",
     "exception": false,
     "start_time": "2023-02-13T16:34:37.287118",
     "status": "completed"
    },
    "tags": []
   },
   "source": [
    "## Load data"
   ]
  },
  {
   "cell_type": "code",
   "execution_count": 2,
   "id": "0be31011",
   "metadata": {
    "execution": {
     "iopub.execute_input": "2023-02-13T16:34:37.302096Z",
     "iopub.status.busy": "2023-02-13T16:34:37.301502Z",
     "iopub.status.idle": "2023-02-13T16:34:37.351956Z",
     "shell.execute_reply": "2023-02-13T16:34:37.350963Z"
    },
    "papermill": {
     "duration": 0.059128,
     "end_time": "2023-02-13T16:34:37.354565",
     "exception": false,
     "start_time": "2023-02-13T16:34:37.295437",
     "status": "completed"
    },
    "tags": []
   },
   "outputs": [
    {
     "name": "stderr",
     "output_type": "stream",
     "text": [
      "/opt/conda/lib/python3.7/site-packages/ipykernel_launcher.py:7: FutureWarning: In a future version of pandas all arguments of DataFrame.drop except for the argument 'labels' will be keyword-only\n",
      "  import sys\n"
     ]
    }
   ],
   "source": [
    "# load data from files\n",
    "train_ds = pd.read_csv(\"/kaggle/input/titanic/train.csv\")\n",
    "submission_ds = pd.read_csv(\"/kaggle/input/titanic/test.csv\")\n",
    "y_train = train_ds['Survived']\n",
    "\n",
    "# remove y column\n",
    "train_ds = train_ds.drop('Survived', 1)"
   ]
  },
  {
   "cell_type": "markdown",
   "id": "4ffb5248",
   "metadata": {
    "papermill": {
     "duration": 0.004291,
     "end_time": "2023-02-13T16:34:37.363375",
     "exception": false,
     "start_time": "2023-02-13T16:34:37.359084",
     "status": "completed"
    },
    "tags": []
   },
   "source": [
    "## Data dictionary\n",
    "\n",
    "\n",
    "|Variable|Definition|Key\n",
    "|----|----|----\n",
    "|survival|Survival|0 = No, 1 = Yes\n",
    "|pclass|Ticket class|1 = 1st, 2 = 2nd, 3 = 3rd\n",
    "|sex|Sex|\n",
    "|Age|Age in years|\n",
    "|sibsp|# of siblings / spouses aboard the Titanic\n",
    "|parch|# of parents / children aboard the Titanic\n",
    "|ticket|Ticket number\n",
    "|fare|Passenger fare\n",
    "|cabin|Cabin number\n",
    "|embarked|Port of Embarkation|C = Cherbourg, Q = Queenstown, S = Southampto"
   ]
  },
  {
   "cell_type": "markdown",
   "id": "a8a2b3d2",
   "metadata": {
    "papermill": {
     "duration": 0.004499,
     "end_time": "2023-02-13T16:34:37.372517",
     "exception": false,
     "start_time": "2023-02-13T16:34:37.368018",
     "status": "completed"
    },
    "tags": []
   },
   "source": [
    "## Data visualization"
   ]
  },
  {
   "cell_type": "code",
   "execution_count": 3,
   "id": "957f18ce",
   "metadata": {
    "execution": {
     "iopub.execute_input": "2023-02-13T16:34:37.384274Z",
     "iopub.status.busy": "2023-02-13T16:34:37.383508Z",
     "iopub.status.idle": "2023-02-13T16:34:37.392297Z",
     "shell.execute_reply": "2023-02-13T16:34:37.391309Z"
    },
    "papermill": {
     "duration": 0.017544,
     "end_time": "2023-02-13T16:34:37.394639",
     "exception": false,
     "start_time": "2023-02-13T16:34:37.377095",
     "status": "completed"
    },
    "tags": []
   },
   "outputs": [
    {
     "data": {
      "text/plain": [
       "(891, 11)"
      ]
     },
     "execution_count": 3,
     "metadata": {},
     "output_type": "execute_result"
    }
   ],
   "source": [
    "train_ds.shape"
   ]
  },
  {
   "cell_type": "code",
   "execution_count": 4,
   "id": "0252787d",
   "metadata": {
    "execution": {
     "iopub.execute_input": "2023-02-13T16:34:37.406581Z",
     "iopub.status.busy": "2023-02-13T16:34:37.405880Z",
     "iopub.status.idle": "2023-02-13T16:34:37.411933Z",
     "shell.execute_reply": "2023-02-13T16:34:37.410909Z"
    },
    "papermill": {
     "duration": 0.014666,
     "end_time": "2023-02-13T16:34:37.414145",
     "exception": false,
     "start_time": "2023-02-13T16:34:37.399479",
     "status": "completed"
    },
    "tags": []
   },
   "outputs": [
    {
     "data": {
      "text/plain": [
       "(418, 11)"
      ]
     },
     "execution_count": 4,
     "metadata": {},
     "output_type": "execute_result"
    }
   ],
   "source": [
    "submission_ds.shape"
   ]
  },
  {
   "cell_type": "code",
   "execution_count": 5,
   "id": "3970be6e",
   "metadata": {
    "execution": {
     "iopub.execute_input": "2023-02-13T16:34:37.426120Z",
     "iopub.status.busy": "2023-02-13T16:34:37.425331Z",
     "iopub.status.idle": "2023-02-13T16:34:37.457506Z",
     "shell.execute_reply": "2023-02-13T16:34:37.456187Z"
    },
    "papermill": {
     "duration": 0.041216,
     "end_time": "2023-02-13T16:34:37.460175",
     "exception": false,
     "start_time": "2023-02-13T16:34:37.418959",
     "status": "completed"
    },
    "tags": []
   },
   "outputs": [
    {
     "data": {
      "text/html": [
       "<div>\n",
       "<style scoped>\n",
       "    .dataframe tbody tr th:only-of-type {\n",
       "        vertical-align: middle;\n",
       "    }\n",
       "\n",
       "    .dataframe tbody tr th {\n",
       "        vertical-align: top;\n",
       "    }\n",
       "\n",
       "    .dataframe thead th {\n",
       "        text-align: right;\n",
       "    }\n",
       "</style>\n",
       "<table border=\"1\" class=\"dataframe\">\n",
       "  <thead>\n",
       "    <tr style=\"text-align: right;\">\n",
       "      <th></th>\n",
       "      <th>PassengerId</th>\n",
       "      <th>Pclass</th>\n",
       "      <th>Name</th>\n",
       "      <th>Sex</th>\n",
       "      <th>Age</th>\n",
       "      <th>SibSp</th>\n",
       "      <th>Parch</th>\n",
       "      <th>Ticket</th>\n",
       "      <th>Fare</th>\n",
       "      <th>Cabin</th>\n",
       "      <th>Embarked</th>\n",
       "    </tr>\n",
       "  </thead>\n",
       "  <tbody>\n",
       "    <tr>\n",
       "      <th>0</th>\n",
       "      <td>1</td>\n",
       "      <td>3</td>\n",
       "      <td>Braund, Mr. Owen Harris</td>\n",
       "      <td>male</td>\n",
       "      <td>22.0</td>\n",
       "      <td>1</td>\n",
       "      <td>0</td>\n",
       "      <td>A/5 21171</td>\n",
       "      <td>7.2500</td>\n",
       "      <td>NaN</td>\n",
       "      <td>S</td>\n",
       "    </tr>\n",
       "    <tr>\n",
       "      <th>1</th>\n",
       "      <td>2</td>\n",
       "      <td>1</td>\n",
       "      <td>Cumings, Mrs. John Bradley (Florence Briggs Th...</td>\n",
       "      <td>female</td>\n",
       "      <td>38.0</td>\n",
       "      <td>1</td>\n",
       "      <td>0</td>\n",
       "      <td>PC 17599</td>\n",
       "      <td>71.2833</td>\n",
       "      <td>C85</td>\n",
       "      <td>C</td>\n",
       "    </tr>\n",
       "    <tr>\n",
       "      <th>2</th>\n",
       "      <td>3</td>\n",
       "      <td>3</td>\n",
       "      <td>Heikkinen, Miss. Laina</td>\n",
       "      <td>female</td>\n",
       "      <td>26.0</td>\n",
       "      <td>0</td>\n",
       "      <td>0</td>\n",
       "      <td>STON/O2. 3101282</td>\n",
       "      <td>7.9250</td>\n",
       "      <td>NaN</td>\n",
       "      <td>S</td>\n",
       "    </tr>\n",
       "    <tr>\n",
       "      <th>3</th>\n",
       "      <td>4</td>\n",
       "      <td>1</td>\n",
       "      <td>Futrelle, Mrs. Jacques Heath (Lily May Peel)</td>\n",
       "      <td>female</td>\n",
       "      <td>35.0</td>\n",
       "      <td>1</td>\n",
       "      <td>0</td>\n",
       "      <td>113803</td>\n",
       "      <td>53.1000</td>\n",
       "      <td>C123</td>\n",
       "      <td>S</td>\n",
       "    </tr>\n",
       "    <tr>\n",
       "      <th>4</th>\n",
       "      <td>5</td>\n",
       "      <td>3</td>\n",
       "      <td>Allen, Mr. William Henry</td>\n",
       "      <td>male</td>\n",
       "      <td>35.0</td>\n",
       "      <td>0</td>\n",
       "      <td>0</td>\n",
       "      <td>373450</td>\n",
       "      <td>8.0500</td>\n",
       "      <td>NaN</td>\n",
       "      <td>S</td>\n",
       "    </tr>\n",
       "  </tbody>\n",
       "</table>\n",
       "</div>"
      ],
      "text/plain": [
       "   PassengerId  Pclass                                               Name  \\\n",
       "0            1       3                            Braund, Mr. Owen Harris   \n",
       "1            2       1  Cumings, Mrs. John Bradley (Florence Briggs Th...   \n",
       "2            3       3                             Heikkinen, Miss. Laina   \n",
       "3            4       1       Futrelle, Mrs. Jacques Heath (Lily May Peel)   \n",
       "4            5       3                           Allen, Mr. William Henry   \n",
       "\n",
       "      Sex   Age  SibSp  Parch            Ticket     Fare Cabin Embarked  \n",
       "0    male  22.0      1      0         A/5 21171   7.2500   NaN        S  \n",
       "1  female  38.0      1      0          PC 17599  71.2833   C85        C  \n",
       "2  female  26.0      0      0  STON/O2. 3101282   7.9250   NaN        S  \n",
       "3  female  35.0      1      0            113803  53.1000  C123        S  \n",
       "4    male  35.0      0      0            373450   8.0500   NaN        S  "
      ]
     },
     "execution_count": 5,
     "metadata": {},
     "output_type": "execute_result"
    }
   ],
   "source": [
    "train_ds.head()"
   ]
  },
  {
   "cell_type": "code",
   "execution_count": 6,
   "id": "40078d5d",
   "metadata": {
    "execution": {
     "iopub.execute_input": "2023-02-13T16:34:37.473654Z",
     "iopub.status.busy": "2023-02-13T16:34:37.472837Z",
     "iopub.status.idle": "2023-02-13T16:34:37.490506Z",
     "shell.execute_reply": "2023-02-13T16:34:37.489234Z"
    },
    "papermill": {
     "duration": 0.027317,
     "end_time": "2023-02-13T16:34:37.492990",
     "exception": false,
     "start_time": "2023-02-13T16:34:37.465673",
     "status": "completed"
    },
    "tags": []
   },
   "outputs": [
    {
     "data": {
      "text/html": [
       "<div>\n",
       "<style scoped>\n",
       "    .dataframe tbody tr th:only-of-type {\n",
       "        vertical-align: middle;\n",
       "    }\n",
       "\n",
       "    .dataframe tbody tr th {\n",
       "        vertical-align: top;\n",
       "    }\n",
       "\n",
       "    .dataframe thead th {\n",
       "        text-align: right;\n",
       "    }\n",
       "</style>\n",
       "<table border=\"1\" class=\"dataframe\">\n",
       "  <thead>\n",
       "    <tr style=\"text-align: right;\">\n",
       "      <th></th>\n",
       "      <th>PassengerId</th>\n",
       "      <th>Pclass</th>\n",
       "      <th>Name</th>\n",
       "      <th>Sex</th>\n",
       "      <th>Age</th>\n",
       "      <th>SibSp</th>\n",
       "      <th>Parch</th>\n",
       "      <th>Ticket</th>\n",
       "      <th>Fare</th>\n",
       "      <th>Cabin</th>\n",
       "      <th>Embarked</th>\n",
       "    </tr>\n",
       "  </thead>\n",
       "  <tbody>\n",
       "    <tr>\n",
       "      <th>0</th>\n",
       "      <td>892</td>\n",
       "      <td>3</td>\n",
       "      <td>Kelly, Mr. James</td>\n",
       "      <td>male</td>\n",
       "      <td>34.5</td>\n",
       "      <td>0</td>\n",
       "      <td>0</td>\n",
       "      <td>330911</td>\n",
       "      <td>7.8292</td>\n",
       "      <td>NaN</td>\n",
       "      <td>Q</td>\n",
       "    </tr>\n",
       "    <tr>\n",
       "      <th>1</th>\n",
       "      <td>893</td>\n",
       "      <td>3</td>\n",
       "      <td>Wilkes, Mrs. James (Ellen Needs)</td>\n",
       "      <td>female</td>\n",
       "      <td>47.0</td>\n",
       "      <td>1</td>\n",
       "      <td>0</td>\n",
       "      <td>363272</td>\n",
       "      <td>7.0000</td>\n",
       "      <td>NaN</td>\n",
       "      <td>S</td>\n",
       "    </tr>\n",
       "    <tr>\n",
       "      <th>2</th>\n",
       "      <td>894</td>\n",
       "      <td>2</td>\n",
       "      <td>Myles, Mr. Thomas Francis</td>\n",
       "      <td>male</td>\n",
       "      <td>62.0</td>\n",
       "      <td>0</td>\n",
       "      <td>0</td>\n",
       "      <td>240276</td>\n",
       "      <td>9.6875</td>\n",
       "      <td>NaN</td>\n",
       "      <td>Q</td>\n",
       "    </tr>\n",
       "    <tr>\n",
       "      <th>3</th>\n",
       "      <td>895</td>\n",
       "      <td>3</td>\n",
       "      <td>Wirz, Mr. Albert</td>\n",
       "      <td>male</td>\n",
       "      <td>27.0</td>\n",
       "      <td>0</td>\n",
       "      <td>0</td>\n",
       "      <td>315154</td>\n",
       "      <td>8.6625</td>\n",
       "      <td>NaN</td>\n",
       "      <td>S</td>\n",
       "    </tr>\n",
       "    <tr>\n",
       "      <th>4</th>\n",
       "      <td>896</td>\n",
       "      <td>3</td>\n",
       "      <td>Hirvonen, Mrs. Alexander (Helga E Lindqvist)</td>\n",
       "      <td>female</td>\n",
       "      <td>22.0</td>\n",
       "      <td>1</td>\n",
       "      <td>1</td>\n",
       "      <td>3101298</td>\n",
       "      <td>12.2875</td>\n",
       "      <td>NaN</td>\n",
       "      <td>S</td>\n",
       "    </tr>\n",
       "  </tbody>\n",
       "</table>\n",
       "</div>"
      ],
      "text/plain": [
       "   PassengerId  Pclass                                          Name     Sex  \\\n",
       "0          892       3                              Kelly, Mr. James    male   \n",
       "1          893       3              Wilkes, Mrs. James (Ellen Needs)  female   \n",
       "2          894       2                     Myles, Mr. Thomas Francis    male   \n",
       "3          895       3                              Wirz, Mr. Albert    male   \n",
       "4          896       3  Hirvonen, Mrs. Alexander (Helga E Lindqvist)  female   \n",
       "\n",
       "    Age  SibSp  Parch   Ticket     Fare Cabin Embarked  \n",
       "0  34.5      0      0   330911   7.8292   NaN        Q  \n",
       "1  47.0      1      0   363272   7.0000   NaN        S  \n",
       "2  62.0      0      0   240276   9.6875   NaN        Q  \n",
       "3  27.0      0      0   315154   8.6625   NaN        S  \n",
       "4  22.0      1      1  3101298  12.2875   NaN        S  "
      ]
     },
     "execution_count": 6,
     "metadata": {},
     "output_type": "execute_result"
    }
   ],
   "source": [
    "submission_ds.head()"
   ]
  },
  {
   "cell_type": "code",
   "execution_count": 7,
   "id": "89201dd5",
   "metadata": {
    "execution": {
     "iopub.execute_input": "2023-02-13T16:34:37.506298Z",
     "iopub.status.busy": "2023-02-13T16:34:37.505556Z",
     "iopub.status.idle": "2023-02-13T16:34:37.517000Z",
     "shell.execute_reply": "2023-02-13T16:34:37.515490Z"
    },
    "papermill": {
     "duration": 0.021664,
     "end_time": "2023-02-13T16:34:37.519936",
     "exception": false,
     "start_time": "2023-02-13T16:34:37.498272",
     "status": "completed"
    },
    "tags": []
   },
   "outputs": [
    {
     "name": "stdout",
     "output_type": "stream",
     "text": [
      "Age:177\n",
      "Cabin:687\n",
      "Embarked:2\n"
     ]
    }
   ],
   "source": [
    "# count of nan values per column\n",
    "for col in train_ds:\n",
    "    nan_count = train_ds[col].isna().sum()\n",
    "    if nan_count>0:\n",
    "        print(f'{col}:{nan_count}')"
   ]
  },
  {
   "cell_type": "code",
   "execution_count": 8,
   "id": "6df68459",
   "metadata": {
    "execution": {
     "iopub.execute_input": "2023-02-13T16:34:37.533506Z",
     "iopub.status.busy": "2023-02-13T16:34:37.532882Z",
     "iopub.status.idle": "2023-02-13T16:34:37.547461Z",
     "shell.execute_reply": "2023-02-13T16:34:37.546024Z"
    },
    "papermill": {
     "duration": 0.026145,
     "end_time": "2023-02-13T16:34:37.551916",
     "exception": false,
     "start_time": "2023-02-13T16:34:37.525771",
     "status": "completed"
    },
    "tags": []
   },
   "outputs": [
    {
     "name": "stdout",
     "output_type": "stream",
     "text": [
      "PassengerId:891\n",
      "Pclass:3\n",
      "Name:891\n",
      "Sex:2\n",
      "Age:88\n",
      "SibSp:7\n",
      "Parch:7\n",
      "Ticket:681\n",
      "Fare:248\n",
      "Cabin:147\n",
      "Embarked:3\n"
     ]
    }
   ],
   "source": [
    "# count of unique values per column\n",
    "for col in train_ds:\n",
    "        print(f'{col}:{train_ds[col].nunique()}')"
   ]
  },
  {
   "cell_type": "markdown",
   "id": "33715222",
   "metadata": {
    "papermill": {
     "duration": 0.005167,
     "end_time": "2023-02-13T16:34:37.563195",
     "exception": false,
     "start_time": "2023-02-13T16:34:37.558028",
     "status": "completed"
    },
    "tags": []
   },
   "source": [
    "## Preprocessing "
   ]
  },
  {
   "cell_type": "markdown",
   "id": "c91ba6b2",
   "metadata": {
    "papermill": {
     "duration": 0.005011,
     "end_time": "2023-02-13T16:34:37.574076",
     "exception": false,
     "start_time": "2023-02-13T16:34:37.569065",
     "status": "completed"
    },
    "tags": []
   },
   "source": [
    "Fill nan with 0"
   ]
  },
  {
   "cell_type": "code",
   "execution_count": 9,
   "id": "a31d6c62",
   "metadata": {
    "execution": {
     "iopub.execute_input": "2023-02-13T16:34:37.587707Z",
     "iopub.status.busy": "2023-02-13T16:34:37.586356Z",
     "iopub.status.idle": "2023-02-13T16:34:37.598612Z",
     "shell.execute_reply": "2023-02-13T16:34:37.596904Z"
    },
    "papermill": {
     "duration": 0.02306,
     "end_time": "2023-02-13T16:34:37.602484",
     "exception": false,
     "start_time": "2023-02-13T16:34:37.579424",
     "status": "completed"
    },
    "tags": []
   },
   "outputs": [
    {
     "name": "stdout",
     "output_type": "stream",
     "text": [
      "Age:177\n",
      "Cabin:687\n",
      "Embarked:2\n"
     ]
    }
   ],
   "source": [
    "for col in train_ds:\n",
    "    nan_count = train_ds[col].isna().sum()\n",
    "    if nan_count>0:\n",
    "        print(f'{col}:{nan_count}')\n",
    "        train_ds[col] = train_ds[col].fillna(0)"
   ]
  },
  {
   "cell_type": "markdown",
   "id": "e0825c05",
   "metadata": {
    "papermill": {
     "duration": 0.005572,
     "end_time": "2023-02-13T16:34:37.614297",
     "exception": false,
     "start_time": "2023-02-13T16:34:37.608725",
     "status": "completed"
    },
    "tags": []
   },
   "source": []
  },
  {
   "cell_type": "code",
   "execution_count": null,
   "id": "5cb9e7fd",
   "metadata": {
    "papermill": {
     "duration": 0.005216,
     "end_time": "2023-02-13T16:34:37.625377",
     "exception": false,
     "start_time": "2023-02-13T16:34:37.620161",
     "status": "completed"
    },
    "tags": []
   },
   "outputs": [],
   "source": []
  }
 ],
 "metadata": {
  "kernelspec": {
   "display_name": "Python 3",
   "language": "python",
   "name": "python3"
  },
  "language_info": {
   "codemirror_mode": {
    "name": "ipython",
    "version": 3
   },
   "file_extension": ".py",
   "mimetype": "text/x-python",
   "name": "python",
   "nbconvert_exporter": "python",
   "pygments_lexer": "ipython3",
   "version": "3.7.12"
  },
  "papermill": {
   "default_parameters": {},
   "duration": 10.884488,
   "end_time": "2023-02-13T16:34:38.556953",
   "environment_variables": {},
   "exception": null,
   "input_path": "__notebook__.ipynb",
   "output_path": "__notebook__.ipynb",
   "parameters": {},
   "start_time": "2023-02-13T16:34:27.672465",
   "version": "2.3.4"
  }
 },
 "nbformat": 4,
 "nbformat_minor": 5
}
