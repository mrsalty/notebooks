{
 "cells": [
  {
   "cell_type": "markdown",
   "id": "5da86de8",
   "metadata": {
    "papermill": {
     "duration": 0.009017,
     "end_time": "2023-02-14T12:57:26.470847",
     "exception": false,
     "start_time": "2023-02-14T12:57:26.461830",
     "status": "completed"
    },
    "tags": []
   },
   "source": [
    "## Imports"
   ]
  },
  {
   "cell_type": "code",
   "execution_count": 1,
   "id": "535ab2df",
   "metadata": {
    "_cell_guid": "b1076dfc-b9ad-4769-8c92-a6c4dae69d19",
    "_uuid": "8f2839f25d086af736a60e9eeb907d3b93b6e0e5",
    "execution": {
     "iopub.execute_input": "2023-02-14T12:57:26.490417Z",
     "iopub.status.busy": "2023-02-14T12:57:26.489772Z",
     "iopub.status.idle": "2023-02-14T12:57:35.099180Z",
     "shell.execute_reply": "2023-02-14T12:57:35.097774Z"
    },
    "papermill": {
     "duration": 8.624268,
     "end_time": "2023-02-14T12:57:35.104202",
     "exception": false,
     "start_time": "2023-02-14T12:57:26.479934",
     "status": "completed"
    },
    "tags": []
   },
   "outputs": [
    {
     "name": "stdout",
     "output_type": "stream",
     "text": [
      "/kaggle/input/titanic/train.csv\n",
      "/kaggle/input/titanic/test.csv\n",
      "/kaggle/input/titanic/gender_submission.csv\n"
     ]
    }
   ],
   "source": [
    "import numpy as np \n",
    "import pandas as pd \n",
    "import os\n",
    "from sklearn.preprocessing import OrdinalEncoder, MinMaxScaler\n",
    "from sklearn.model_selection import train_test_split\n",
    "from keras.layers import Dense, Dropout, Activation, BatchNormalization, Input\n",
    "from keras.models import Model, Sequential \n",
    "from keras.callbacks import EarlyStopping\n",
    "\n",
    "for dirname, _, filenames in os.walk('/kaggle/input'):\n",
    "    for filename in filenames:\n",
    "        print(os.path.join(dirname, filename))"
   ]
  },
  {
   "cell_type": "markdown",
   "id": "a1dfd13c",
   "metadata": {
    "papermill": {
     "duration": 0.007562,
     "end_time": "2023-02-14T12:57:35.121443",
     "exception": false,
     "start_time": "2023-02-14T12:57:35.113881",
     "status": "completed"
    },
    "tags": []
   },
   "source": [
    "## Load data"
   ]
  },
  {
   "cell_type": "code",
   "execution_count": 2,
   "id": "e8edad8e",
   "metadata": {
    "execution": {
     "iopub.execute_input": "2023-02-14T12:57:35.143606Z",
     "iopub.status.busy": "2023-02-14T12:57:35.142468Z",
     "iopub.status.idle": "2023-02-14T12:57:35.190623Z",
     "shell.execute_reply": "2023-02-14T12:57:35.189161Z"
    },
    "papermill": {
     "duration": 0.06439,
     "end_time": "2023-02-14T12:57:35.194484",
     "exception": false,
     "start_time": "2023-02-14T12:57:35.130094",
     "status": "completed"
    },
    "tags": []
   },
   "outputs": [],
   "source": [
    "# load data from files\n",
    "X_train = pd.read_csv(\"/kaggle/input/titanic/train.csv\")\n",
    "X_submission = pd.read_csv(\"/kaggle/input/titanic/test.csv\")\n",
    "y_train = X_train['Survived']\n",
    "\n",
    "# remove y column\n",
    "X_train = X_train.drop(columns='Survived')"
   ]
  },
  {
   "cell_type": "markdown",
   "id": "092e2d0c",
   "metadata": {
    "papermill": {
     "duration": 0.010247,
     "end_time": "2023-02-14T12:57:35.215630",
     "exception": false,
     "start_time": "2023-02-14T12:57:35.205383",
     "status": "completed"
    },
    "tags": []
   },
   "source": [
    "## Data dictionary\n",
    "\n",
    "\n",
    "|Variable|Definition|Key\n",
    "|----|----|----\n",
    "|survival|Survival|0 = No, 1 = Yes\n",
    "|pclass|Ticket class|1 = 1st, 2 = 2nd, 3 = 3rd\n",
    "|sex|Sex|\n",
    "|Age|Age in years|\n",
    "|sibsp|# of siblings / spouses aboard the Titanic\n",
    "|parch|# of parents / children aboard the Titanic\n",
    "|ticket|Ticket number\n",
    "|fare|Passenger fare\n",
    "|cabin|Cabin number\n",
    "|embarked|Port of Embarkation|C = Cherbourg, Q = Queenstown, S = Southampto"
   ]
  },
  {
   "cell_type": "markdown",
   "id": "71d50c60",
   "metadata": {
    "papermill": {
     "duration": 0.007622,
     "end_time": "2023-02-14T12:57:35.230859",
     "exception": false,
     "start_time": "2023-02-14T12:57:35.223237",
     "status": "completed"
    },
    "tags": []
   },
   "source": [
    "## Data analysis"
   ]
  },
  {
   "cell_type": "code",
   "execution_count": 3,
   "id": "73117e20",
   "metadata": {
    "execution": {
     "iopub.execute_input": "2023-02-14T12:57:35.251973Z",
     "iopub.status.busy": "2023-02-14T12:57:35.249760Z",
     "iopub.status.idle": "2023-02-14T12:57:35.261223Z",
     "shell.execute_reply": "2023-02-14T12:57:35.259881Z"
    },
    "papermill": {
     "duration": 0.024847,
     "end_time": "2023-02-14T12:57:35.263715",
     "exception": false,
     "start_time": "2023-02-14T12:57:35.238868",
     "status": "completed"
    },
    "tags": []
   },
   "outputs": [
    {
     "data": {
      "text/plain": [
       "(891, 11)"
      ]
     },
     "execution_count": 3,
     "metadata": {},
     "output_type": "execute_result"
    }
   ],
   "source": [
    "X_train.shape"
   ]
  },
  {
   "cell_type": "code",
   "execution_count": 4,
   "id": "3078be67",
   "metadata": {
    "execution": {
     "iopub.execute_input": "2023-02-14T12:57:35.282123Z",
     "iopub.status.busy": "2023-02-14T12:57:35.281281Z",
     "iopub.status.idle": "2023-02-14T12:57:35.290068Z",
     "shell.execute_reply": "2023-02-14T12:57:35.288986Z"
    },
    "papermill": {
     "duration": 0.020311,
     "end_time": "2023-02-14T12:57:35.292620",
     "exception": false,
     "start_time": "2023-02-14T12:57:35.272309",
     "status": "completed"
    },
    "tags": []
   },
   "outputs": [
    {
     "data": {
      "text/plain": [
       "(418, 11)"
      ]
     },
     "execution_count": 4,
     "metadata": {},
     "output_type": "execute_result"
    }
   ],
   "source": [
    "X_submission.shape"
   ]
  },
  {
   "cell_type": "code",
   "execution_count": 5,
   "id": "a355e638",
   "metadata": {
    "execution": {
     "iopub.execute_input": "2023-02-14T12:57:35.310486Z",
     "iopub.status.busy": "2023-02-14T12:57:35.310014Z",
     "iopub.status.idle": "2023-02-14T12:57:35.333054Z",
     "shell.execute_reply": "2023-02-14T12:57:35.331792Z"
    },
    "papermill": {
     "duration": 0.034829,
     "end_time": "2023-02-14T12:57:35.335722",
     "exception": false,
     "start_time": "2023-02-14T12:57:35.300893",
     "status": "completed"
    },
    "tags": []
   },
   "outputs": [
    {
     "data": {
      "text/html": [
       "<div>\n",
       "<style scoped>\n",
       "    .dataframe tbody tr th:only-of-type {\n",
       "        vertical-align: middle;\n",
       "    }\n",
       "\n",
       "    .dataframe tbody tr th {\n",
       "        vertical-align: top;\n",
       "    }\n",
       "\n",
       "    .dataframe thead th {\n",
       "        text-align: right;\n",
       "    }\n",
       "</style>\n",
       "<table border=\"1\" class=\"dataframe\">\n",
       "  <thead>\n",
       "    <tr style=\"text-align: right;\">\n",
       "      <th></th>\n",
       "      <th>PassengerId</th>\n",
       "      <th>Pclass</th>\n",
       "      <th>Name</th>\n",
       "      <th>Sex</th>\n",
       "      <th>Age</th>\n",
       "      <th>SibSp</th>\n",
       "      <th>Parch</th>\n",
       "      <th>Ticket</th>\n",
       "      <th>Fare</th>\n",
       "      <th>Cabin</th>\n",
       "      <th>Embarked</th>\n",
       "    </tr>\n",
       "  </thead>\n",
       "  <tbody>\n",
       "    <tr>\n",
       "      <th>0</th>\n",
       "      <td>1</td>\n",
       "      <td>3</td>\n",
       "      <td>Braund, Mr. Owen Harris</td>\n",
       "      <td>male</td>\n",
       "      <td>22.0</td>\n",
       "      <td>1</td>\n",
       "      <td>0</td>\n",
       "      <td>A/5 21171</td>\n",
       "      <td>7.2500</td>\n",
       "      <td>NaN</td>\n",
       "      <td>S</td>\n",
       "    </tr>\n",
       "    <tr>\n",
       "      <th>1</th>\n",
       "      <td>2</td>\n",
       "      <td>1</td>\n",
       "      <td>Cumings, Mrs. John Bradley (Florence Briggs Th...</td>\n",
       "      <td>female</td>\n",
       "      <td>38.0</td>\n",
       "      <td>1</td>\n",
       "      <td>0</td>\n",
       "      <td>PC 17599</td>\n",
       "      <td>71.2833</td>\n",
       "      <td>C85</td>\n",
       "      <td>C</td>\n",
       "    </tr>\n",
       "    <tr>\n",
       "      <th>2</th>\n",
       "      <td>3</td>\n",
       "      <td>3</td>\n",
       "      <td>Heikkinen, Miss. Laina</td>\n",
       "      <td>female</td>\n",
       "      <td>26.0</td>\n",
       "      <td>0</td>\n",
       "      <td>0</td>\n",
       "      <td>STON/O2. 3101282</td>\n",
       "      <td>7.9250</td>\n",
       "      <td>NaN</td>\n",
       "      <td>S</td>\n",
       "    </tr>\n",
       "    <tr>\n",
       "      <th>3</th>\n",
       "      <td>4</td>\n",
       "      <td>1</td>\n",
       "      <td>Futrelle, Mrs. Jacques Heath (Lily May Peel)</td>\n",
       "      <td>female</td>\n",
       "      <td>35.0</td>\n",
       "      <td>1</td>\n",
       "      <td>0</td>\n",
       "      <td>113803</td>\n",
       "      <td>53.1000</td>\n",
       "      <td>C123</td>\n",
       "      <td>S</td>\n",
       "    </tr>\n",
       "    <tr>\n",
       "      <th>4</th>\n",
       "      <td>5</td>\n",
       "      <td>3</td>\n",
       "      <td>Allen, Mr. William Henry</td>\n",
       "      <td>male</td>\n",
       "      <td>35.0</td>\n",
       "      <td>0</td>\n",
       "      <td>0</td>\n",
       "      <td>373450</td>\n",
       "      <td>8.0500</td>\n",
       "      <td>NaN</td>\n",
       "      <td>S</td>\n",
       "    </tr>\n",
       "  </tbody>\n",
       "</table>\n",
       "</div>"
      ],
      "text/plain": [
       "   PassengerId  Pclass                                               Name  \\\n",
       "0            1       3                            Braund, Mr. Owen Harris   \n",
       "1            2       1  Cumings, Mrs. John Bradley (Florence Briggs Th...   \n",
       "2            3       3                             Heikkinen, Miss. Laina   \n",
       "3            4       1       Futrelle, Mrs. Jacques Heath (Lily May Peel)   \n",
       "4            5       3                           Allen, Mr. William Henry   \n",
       "\n",
       "      Sex   Age  SibSp  Parch            Ticket     Fare Cabin Embarked  \n",
       "0    male  22.0      1      0         A/5 21171   7.2500   NaN        S  \n",
       "1  female  38.0      1      0          PC 17599  71.2833   C85        C  \n",
       "2  female  26.0      0      0  STON/O2. 3101282   7.9250   NaN        S  \n",
       "3  female  35.0      1      0            113803  53.1000  C123        S  \n",
       "4    male  35.0      0      0            373450   8.0500   NaN        S  "
      ]
     },
     "execution_count": 5,
     "metadata": {},
     "output_type": "execute_result"
    }
   ],
   "source": [
    "X_train.head()"
   ]
  },
  {
   "cell_type": "code",
   "execution_count": 6,
   "id": "e74a9687",
   "metadata": {
    "execution": {
     "iopub.execute_input": "2023-02-14T12:57:35.353883Z",
     "iopub.status.busy": "2023-02-14T12:57:35.353393Z",
     "iopub.status.idle": "2023-02-14T12:57:35.371874Z",
     "shell.execute_reply": "2023-02-14T12:57:35.370736Z"
    },
    "papermill": {
     "duration": 0.030752,
     "end_time": "2023-02-14T12:57:35.374476",
     "exception": false,
     "start_time": "2023-02-14T12:57:35.343724",
     "status": "completed"
    },
    "tags": []
   },
   "outputs": [
    {
     "data": {
      "text/html": [
       "<div>\n",
       "<style scoped>\n",
       "    .dataframe tbody tr th:only-of-type {\n",
       "        vertical-align: middle;\n",
       "    }\n",
       "\n",
       "    .dataframe tbody tr th {\n",
       "        vertical-align: top;\n",
       "    }\n",
       "\n",
       "    .dataframe thead th {\n",
       "        text-align: right;\n",
       "    }\n",
       "</style>\n",
       "<table border=\"1\" class=\"dataframe\">\n",
       "  <thead>\n",
       "    <tr style=\"text-align: right;\">\n",
       "      <th></th>\n",
       "      <th>PassengerId</th>\n",
       "      <th>Pclass</th>\n",
       "      <th>Name</th>\n",
       "      <th>Sex</th>\n",
       "      <th>Age</th>\n",
       "      <th>SibSp</th>\n",
       "      <th>Parch</th>\n",
       "      <th>Ticket</th>\n",
       "      <th>Fare</th>\n",
       "      <th>Cabin</th>\n",
       "      <th>Embarked</th>\n",
       "    </tr>\n",
       "  </thead>\n",
       "  <tbody>\n",
       "    <tr>\n",
       "      <th>0</th>\n",
       "      <td>892</td>\n",
       "      <td>3</td>\n",
       "      <td>Kelly, Mr. James</td>\n",
       "      <td>male</td>\n",
       "      <td>34.5</td>\n",
       "      <td>0</td>\n",
       "      <td>0</td>\n",
       "      <td>330911</td>\n",
       "      <td>7.8292</td>\n",
       "      <td>NaN</td>\n",
       "      <td>Q</td>\n",
       "    </tr>\n",
       "    <tr>\n",
       "      <th>1</th>\n",
       "      <td>893</td>\n",
       "      <td>3</td>\n",
       "      <td>Wilkes, Mrs. James (Ellen Needs)</td>\n",
       "      <td>female</td>\n",
       "      <td>47.0</td>\n",
       "      <td>1</td>\n",
       "      <td>0</td>\n",
       "      <td>363272</td>\n",
       "      <td>7.0000</td>\n",
       "      <td>NaN</td>\n",
       "      <td>S</td>\n",
       "    </tr>\n",
       "    <tr>\n",
       "      <th>2</th>\n",
       "      <td>894</td>\n",
       "      <td>2</td>\n",
       "      <td>Myles, Mr. Thomas Francis</td>\n",
       "      <td>male</td>\n",
       "      <td>62.0</td>\n",
       "      <td>0</td>\n",
       "      <td>0</td>\n",
       "      <td>240276</td>\n",
       "      <td>9.6875</td>\n",
       "      <td>NaN</td>\n",
       "      <td>Q</td>\n",
       "    </tr>\n",
       "    <tr>\n",
       "      <th>3</th>\n",
       "      <td>895</td>\n",
       "      <td>3</td>\n",
       "      <td>Wirz, Mr. Albert</td>\n",
       "      <td>male</td>\n",
       "      <td>27.0</td>\n",
       "      <td>0</td>\n",
       "      <td>0</td>\n",
       "      <td>315154</td>\n",
       "      <td>8.6625</td>\n",
       "      <td>NaN</td>\n",
       "      <td>S</td>\n",
       "    </tr>\n",
       "    <tr>\n",
       "      <th>4</th>\n",
       "      <td>896</td>\n",
       "      <td>3</td>\n",
       "      <td>Hirvonen, Mrs. Alexander (Helga E Lindqvist)</td>\n",
       "      <td>female</td>\n",
       "      <td>22.0</td>\n",
       "      <td>1</td>\n",
       "      <td>1</td>\n",
       "      <td>3101298</td>\n",
       "      <td>12.2875</td>\n",
       "      <td>NaN</td>\n",
       "      <td>S</td>\n",
       "    </tr>\n",
       "  </tbody>\n",
       "</table>\n",
       "</div>"
      ],
      "text/plain": [
       "   PassengerId  Pclass                                          Name     Sex  \\\n",
       "0          892       3                              Kelly, Mr. James    male   \n",
       "1          893       3              Wilkes, Mrs. James (Ellen Needs)  female   \n",
       "2          894       2                     Myles, Mr. Thomas Francis    male   \n",
       "3          895       3                              Wirz, Mr. Albert    male   \n",
       "4          896       3  Hirvonen, Mrs. Alexander (Helga E Lindqvist)  female   \n",
       "\n",
       "    Age  SibSp  Parch   Ticket     Fare Cabin Embarked  \n",
       "0  34.5      0      0   330911   7.8292   NaN        Q  \n",
       "1  47.0      1      0   363272   7.0000   NaN        S  \n",
       "2  62.0      0      0   240276   9.6875   NaN        Q  \n",
       "3  27.0      0      0   315154   8.6625   NaN        S  \n",
       "4  22.0      1      1  3101298  12.2875   NaN        S  "
      ]
     },
     "execution_count": 6,
     "metadata": {},
     "output_type": "execute_result"
    }
   ],
   "source": [
    "X_submission.head()"
   ]
  },
  {
   "cell_type": "code",
   "execution_count": 7,
   "id": "f1cf4609",
   "metadata": {
    "execution": {
     "iopub.execute_input": "2023-02-14T12:57:35.392967Z",
     "iopub.status.busy": "2023-02-14T12:57:35.392143Z",
     "iopub.status.idle": "2023-02-14T12:57:35.403199Z",
     "shell.execute_reply": "2023-02-14T12:57:35.401533Z"
    },
    "papermill": {
     "duration": 0.024508,
     "end_time": "2023-02-14T12:57:35.407103",
     "exception": false,
     "start_time": "2023-02-14T12:57:35.382595",
     "status": "completed"
    },
    "tags": []
   },
   "outputs": [
    {
     "name": "stdout",
     "output_type": "stream",
     "text": [
      "Age:177\n",
      "Cabin:687\n",
      "Embarked:2\n"
     ]
    }
   ],
   "source": [
    "# count of nan values per column\n",
    "for col in X_train:\n",
    "    nan_count = X_train[col].isna().sum()\n",
    "    if nan_count>0:\n",
    "        print(f'{col}:{nan_count}')"
   ]
  },
  {
   "cell_type": "code",
   "execution_count": 8,
   "id": "b17fc4d5",
   "metadata": {
    "execution": {
     "iopub.execute_input": "2023-02-14T12:57:35.425834Z",
     "iopub.status.busy": "2023-02-14T12:57:35.425384Z",
     "iopub.status.idle": "2023-02-14T12:57:35.438229Z",
     "shell.execute_reply": "2023-02-14T12:57:35.436728Z"
    },
    "papermill": {
     "duration": 0.025483,
     "end_time": "2023-02-14T12:57:35.441006",
     "exception": false,
     "start_time": "2023-02-14T12:57:35.415523",
     "status": "completed"
    },
    "tags": []
   },
   "outputs": [
    {
     "name": "stdout",
     "output_type": "stream",
     "text": [
      "PassengerId:891\n",
      "Pclass:3\n",
      "Name:891\n",
      "Sex:2\n",
      "Age:88\n",
      "SibSp:7\n",
      "Parch:7\n",
      "Ticket:681\n",
      "Fare:248\n",
      "Cabin:147\n",
      "Embarked:3\n"
     ]
    }
   ],
   "source": [
    "# count of unique values per column\n",
    "for col in X_train:\n",
    "        print(f'{col}:{X_train[col].nunique()}')"
   ]
  },
  {
   "cell_type": "markdown",
   "id": "0de063aa",
   "metadata": {
    "papermill": {
     "duration": 0.008007,
     "end_time": "2023-02-14T12:57:35.457173",
     "exception": false,
     "start_time": "2023-02-14T12:57:35.449166",
     "status": "completed"
    },
    "tags": []
   },
   "source": [
    "## Preprocessing "
   ]
  },
  {
   "cell_type": "markdown",
   "id": "adde9cbe",
   "metadata": {
    "papermill": {
     "duration": 0.007862,
     "end_time": "2023-02-14T12:57:35.473156",
     "exception": false,
     "start_time": "2023-02-14T12:57:35.465294",
     "status": "completed"
    },
    "tags": []
   },
   "source": [
    "Fill nan with 0"
   ]
  },
  {
   "cell_type": "code",
   "execution_count": 9,
   "id": "efdbd461",
   "metadata": {
    "execution": {
     "iopub.execute_input": "2023-02-14T12:57:35.492019Z",
     "iopub.status.busy": "2023-02-14T12:57:35.491639Z",
     "iopub.status.idle": "2023-02-14T12:57:35.507918Z",
     "shell.execute_reply": "2023-02-14T12:57:35.505977Z"
    },
    "papermill": {
     "duration": 0.029106,
     "end_time": "2023-02-14T12:57:35.510901",
     "exception": false,
     "start_time": "2023-02-14T12:57:35.481795",
     "status": "completed"
    },
    "tags": []
   },
   "outputs": [
    {
     "name": "stdout",
     "output_type": "stream",
     "text": [
      "Age:177\n",
      "Cabin:687\n",
      "Embarked:2\n"
     ]
    }
   ],
   "source": [
    "for col in X_train:\n",
    "    nan_count = X_train[col].isna().sum()\n",
    "    if nan_count>0:\n",
    "        print(f'{col}:{nan_count}')\n",
    "        X_train[col] = X_train[col].fillna(0)\n",
    "        X_submission[col] = X_train[col].fillna(0)"
   ]
  },
  {
   "cell_type": "markdown",
   "id": "8453454d",
   "metadata": {
    "papermill": {
     "duration": 0.008032,
     "end_time": "2023-02-14T12:57:35.527256",
     "exception": false,
     "start_time": "2023-02-14T12:57:35.519224",
     "status": "completed"
    },
    "tags": []
   },
   "source": []
  },
  {
   "cell_type": "markdown",
   "id": "91bd5b49",
   "metadata": {
    "papermill": {
     "duration": 0.008083,
     "end_time": "2023-02-14T12:57:35.543603",
     "exception": false,
     "start_time": "2023-02-14T12:57:35.535520",
     "status": "completed"
    },
    "tags": []
   },
   "source": [
    "remove column not relevant for training"
   ]
  },
  {
   "cell_type": "code",
   "execution_count": 10,
   "id": "49afceab",
   "metadata": {
    "execution": {
     "iopub.execute_input": "2023-02-14T12:57:35.562101Z",
     "iopub.status.busy": "2023-02-14T12:57:35.561702Z",
     "iopub.status.idle": "2023-02-14T12:57:35.574701Z",
     "shell.execute_reply": "2023-02-14T12:57:35.573659Z"
    },
    "papermill": {
     "duration": 0.025143,
     "end_time": "2023-02-14T12:57:35.577158",
     "exception": false,
     "start_time": "2023-02-14T12:57:35.552015",
     "status": "completed"
    },
    "tags": []
   },
   "outputs": [],
   "source": [
    "X_train = X_train.drop(columns='Name')\n",
    "X_train = X_train.drop(columns='Ticket')\n",
    "X_train = X_train.drop(columns='PassengerId')\n",
    "X_submission = X_submission.drop(columns='Name')\n",
    "X_submission = X_submission.drop(columns='Ticket')\n",
    "X_submission_passengerId = X_submission['PassengerId']\n",
    "X_submission = X_submission.drop(columns='PassengerId')\n"
   ]
  },
  {
   "cell_type": "code",
   "execution_count": 11,
   "id": "2e1f1036",
   "metadata": {
    "execution": {
     "iopub.execute_input": "2023-02-14T12:57:35.596349Z",
     "iopub.status.busy": "2023-02-14T12:57:35.595229Z",
     "iopub.status.idle": "2023-02-14T12:57:35.610814Z",
     "shell.execute_reply": "2023-02-14T12:57:35.609599Z"
    },
    "papermill": {
     "duration": 0.027837,
     "end_time": "2023-02-14T12:57:35.613349",
     "exception": false,
     "start_time": "2023-02-14T12:57:35.585512",
     "status": "completed"
    },
    "tags": []
   },
   "outputs": [
    {
     "data": {
      "text/html": [
       "<div>\n",
       "<style scoped>\n",
       "    .dataframe tbody tr th:only-of-type {\n",
       "        vertical-align: middle;\n",
       "    }\n",
       "\n",
       "    .dataframe tbody tr th {\n",
       "        vertical-align: top;\n",
       "    }\n",
       "\n",
       "    .dataframe thead th {\n",
       "        text-align: right;\n",
       "    }\n",
       "</style>\n",
       "<table border=\"1\" class=\"dataframe\">\n",
       "  <thead>\n",
       "    <tr style=\"text-align: right;\">\n",
       "      <th></th>\n",
       "      <th>Pclass</th>\n",
       "      <th>Sex</th>\n",
       "      <th>Age</th>\n",
       "      <th>SibSp</th>\n",
       "      <th>Parch</th>\n",
       "      <th>Fare</th>\n",
       "      <th>Cabin</th>\n",
       "      <th>Embarked</th>\n",
       "    </tr>\n",
       "  </thead>\n",
       "  <tbody>\n",
       "    <tr>\n",
       "      <th>0</th>\n",
       "      <td>3</td>\n",
       "      <td>male</td>\n",
       "      <td>22.0</td>\n",
       "      <td>1</td>\n",
       "      <td>0</td>\n",
       "      <td>7.2500</td>\n",
       "      <td>0</td>\n",
       "      <td>S</td>\n",
       "    </tr>\n",
       "    <tr>\n",
       "      <th>1</th>\n",
       "      <td>1</td>\n",
       "      <td>female</td>\n",
       "      <td>38.0</td>\n",
       "      <td>1</td>\n",
       "      <td>0</td>\n",
       "      <td>71.2833</td>\n",
       "      <td>C85</td>\n",
       "      <td>C</td>\n",
       "    </tr>\n",
       "    <tr>\n",
       "      <th>2</th>\n",
       "      <td>3</td>\n",
       "      <td>female</td>\n",
       "      <td>26.0</td>\n",
       "      <td>0</td>\n",
       "      <td>0</td>\n",
       "      <td>7.9250</td>\n",
       "      <td>0</td>\n",
       "      <td>S</td>\n",
       "    </tr>\n",
       "    <tr>\n",
       "      <th>3</th>\n",
       "      <td>1</td>\n",
       "      <td>female</td>\n",
       "      <td>35.0</td>\n",
       "      <td>1</td>\n",
       "      <td>0</td>\n",
       "      <td>53.1000</td>\n",
       "      <td>C123</td>\n",
       "      <td>S</td>\n",
       "    </tr>\n",
       "    <tr>\n",
       "      <th>4</th>\n",
       "      <td>3</td>\n",
       "      <td>male</td>\n",
       "      <td>35.0</td>\n",
       "      <td>0</td>\n",
       "      <td>0</td>\n",
       "      <td>8.0500</td>\n",
       "      <td>0</td>\n",
       "      <td>S</td>\n",
       "    </tr>\n",
       "  </tbody>\n",
       "</table>\n",
       "</div>"
      ],
      "text/plain": [
       "   Pclass     Sex   Age  SibSp  Parch     Fare Cabin Embarked\n",
       "0       3    male  22.0      1      0   7.2500     0        S\n",
       "1       1  female  38.0      1      0  71.2833   C85        C\n",
       "2       3  female  26.0      0      0   7.9250     0        S\n",
       "3       1  female  35.0      1      0  53.1000  C123        S\n",
       "4       3    male  35.0      0      0   8.0500     0        S"
      ]
     },
     "execution_count": 11,
     "metadata": {},
     "output_type": "execute_result"
    }
   ],
   "source": [
    "X_train.head()"
   ]
  },
  {
   "cell_type": "markdown",
   "id": "f1dd77db",
   "metadata": {
    "papermill": {
     "duration": 0.008084,
     "end_time": "2023-02-14T12:57:35.630057",
     "exception": false,
     "start_time": "2023-02-14T12:57:35.621973",
     "status": "completed"
    },
    "tags": []
   },
   "source": [
    "ordinal encode categorical features"
   ]
  },
  {
   "cell_type": "code",
   "execution_count": 12,
   "id": "b7175651",
   "metadata": {
    "execution": {
     "iopub.execute_input": "2023-02-14T12:57:35.650771Z",
     "iopub.status.busy": "2023-02-14T12:57:35.650335Z",
     "iopub.status.idle": "2023-02-14T12:57:35.681698Z",
     "shell.execute_reply": "2023-02-14T12:57:35.680063Z"
    },
    "papermill": {
     "duration": 0.045963,
     "end_time": "2023-02-14T12:57:35.684579",
     "exception": false,
     "start_time": "2023-02-14T12:57:35.638616",
     "status": "completed"
    },
    "tags": []
   },
   "outputs": [
    {
     "data": {
      "text/html": [
       "<div>\n",
       "<style scoped>\n",
       "    .dataframe tbody tr th:only-of-type {\n",
       "        vertical-align: middle;\n",
       "    }\n",
       "\n",
       "    .dataframe tbody tr th {\n",
       "        vertical-align: top;\n",
       "    }\n",
       "\n",
       "    .dataframe thead th {\n",
       "        text-align: right;\n",
       "    }\n",
       "</style>\n",
       "<table border=\"1\" class=\"dataframe\">\n",
       "  <thead>\n",
       "    <tr style=\"text-align: right;\">\n",
       "      <th></th>\n",
       "      <th>Pclass</th>\n",
       "      <th>Sex</th>\n",
       "      <th>Age</th>\n",
       "      <th>SibSp</th>\n",
       "      <th>Parch</th>\n",
       "      <th>Fare</th>\n",
       "      <th>Cabin</th>\n",
       "      <th>Embarked</th>\n",
       "    </tr>\n",
       "  </thead>\n",
       "  <tbody>\n",
       "    <tr>\n",
       "      <th>0</th>\n",
       "      <td>3</td>\n",
       "      <td>1.0</td>\n",
       "      <td>22.0</td>\n",
       "      <td>1</td>\n",
       "      <td>0</td>\n",
       "      <td>7.2500</td>\n",
       "      <td>0.0</td>\n",
       "      <td>3.0</td>\n",
       "    </tr>\n",
       "    <tr>\n",
       "      <th>1</th>\n",
       "      <td>1</td>\n",
       "      <td>0.0</td>\n",
       "      <td>38.0</td>\n",
       "      <td>1</td>\n",
       "      <td>0</td>\n",
       "      <td>71.2833</td>\n",
       "      <td>82.0</td>\n",
       "      <td>1.0</td>\n",
       "    </tr>\n",
       "    <tr>\n",
       "      <th>2</th>\n",
       "      <td>3</td>\n",
       "      <td>0.0</td>\n",
       "      <td>26.0</td>\n",
       "      <td>0</td>\n",
       "      <td>0</td>\n",
       "      <td>7.9250</td>\n",
       "      <td>0.0</td>\n",
       "      <td>3.0</td>\n",
       "    </tr>\n",
       "    <tr>\n",
       "      <th>3</th>\n",
       "      <td>1</td>\n",
       "      <td>0.0</td>\n",
       "      <td>35.0</td>\n",
       "      <td>1</td>\n",
       "      <td>0</td>\n",
       "      <td>53.1000</td>\n",
       "      <td>56.0</td>\n",
       "      <td>3.0</td>\n",
       "    </tr>\n",
       "    <tr>\n",
       "      <th>4</th>\n",
       "      <td>3</td>\n",
       "      <td>1.0</td>\n",
       "      <td>35.0</td>\n",
       "      <td>0</td>\n",
       "      <td>0</td>\n",
       "      <td>8.0500</td>\n",
       "      <td>0.0</td>\n",
       "      <td>3.0</td>\n",
       "    </tr>\n",
       "  </tbody>\n",
       "</table>\n",
       "</div>"
      ],
      "text/plain": [
       "   Pclass  Sex   Age  SibSp  Parch     Fare  Cabin  Embarked\n",
       "0       3  1.0  22.0      1      0   7.2500    0.0       3.0\n",
       "1       1  0.0  38.0      1      0  71.2833   82.0       1.0\n",
       "2       3  0.0  26.0      0      0   7.9250    0.0       3.0\n",
       "3       1  0.0  35.0      1      0  53.1000   56.0       3.0\n",
       "4       3  1.0  35.0      0      0   8.0500    0.0       3.0"
      ]
     },
     "execution_count": 12,
     "metadata": {},
     "output_type": "execute_result"
    }
   ],
   "source": [
    "cols_to_encode = [\"Sex\",\"Cabin\",\"Embarked\"]\n",
    "\n",
    "enc = OrdinalEncoder()\n",
    "for col in cols_to_encode:\n",
    "    X_train[col] = X_train[col].astype('str')\n",
    "    X_submission[col] = X_train[col].astype('str') \n",
    "    \n",
    "enc.fit(X_train[cols_to_encode])\n",
    "enc.categories_\n",
    "X_train[cols_to_encode] = enc.transform(X_train[cols_to_encode])\n",
    "X_submission[cols_to_encode] = enc.transform(X_submission[cols_to_encode])\n",
    "X_train.head()"
   ]
  },
  {
   "cell_type": "markdown",
   "id": "0f26885e",
   "metadata": {
    "papermill": {
     "duration": 0.008564,
     "end_time": "2023-02-14T12:57:35.702048",
     "exception": false,
     "start_time": "2023-02-14T12:57:35.693484",
     "status": "completed"
    },
    "tags": []
   },
   "source": [
    "TODO: scale columns?"
   ]
  },
  {
   "cell_type": "code",
   "execution_count": 13,
   "id": "ceac7b6e",
   "metadata": {
    "execution": {
     "iopub.execute_input": "2023-02-14T12:57:35.721336Z",
     "iopub.status.busy": "2023-02-14T12:57:35.720846Z",
     "iopub.status.idle": "2023-02-14T12:57:35.739854Z",
     "shell.execute_reply": "2023-02-14T12:57:35.738494Z"
    },
    "papermill": {
     "duration": 0.031755,
     "end_time": "2023-02-14T12:57:35.742478",
     "exception": false,
     "start_time": "2023-02-14T12:57:35.710723",
     "status": "completed"
    },
    "tags": []
   },
   "outputs": [
    {
     "data": {
      "text/html": [
       "<div>\n",
       "<style scoped>\n",
       "    .dataframe tbody tr th:only-of-type {\n",
       "        vertical-align: middle;\n",
       "    }\n",
       "\n",
       "    .dataframe tbody tr th {\n",
       "        vertical-align: top;\n",
       "    }\n",
       "\n",
       "    .dataframe thead th {\n",
       "        text-align: right;\n",
       "    }\n",
       "</style>\n",
       "<table border=\"1\" class=\"dataframe\">\n",
       "  <thead>\n",
       "    <tr style=\"text-align: right;\">\n",
       "      <th></th>\n",
       "      <th>Pclass</th>\n",
       "      <th>Sex</th>\n",
       "      <th>Age</th>\n",
       "      <th>Fare</th>\n",
       "      <th>Cabin</th>\n",
       "    </tr>\n",
       "  </thead>\n",
       "  <tbody>\n",
       "    <tr>\n",
       "      <th>0</th>\n",
       "      <td>3</td>\n",
       "      <td>1.0</td>\n",
       "      <td>22.0</td>\n",
       "      <td>7.2500</td>\n",
       "      <td>0.0</td>\n",
       "    </tr>\n",
       "    <tr>\n",
       "      <th>1</th>\n",
       "      <td>1</td>\n",
       "      <td>0.0</td>\n",
       "      <td>38.0</td>\n",
       "      <td>71.2833</td>\n",
       "      <td>82.0</td>\n",
       "    </tr>\n",
       "    <tr>\n",
       "      <th>2</th>\n",
       "      <td>3</td>\n",
       "      <td>0.0</td>\n",
       "      <td>26.0</td>\n",
       "      <td>7.9250</td>\n",
       "      <td>0.0</td>\n",
       "    </tr>\n",
       "    <tr>\n",
       "      <th>3</th>\n",
       "      <td>1</td>\n",
       "      <td>0.0</td>\n",
       "      <td>35.0</td>\n",
       "      <td>53.1000</td>\n",
       "      <td>56.0</td>\n",
       "    </tr>\n",
       "    <tr>\n",
       "      <th>4</th>\n",
       "      <td>3</td>\n",
       "      <td>1.0</td>\n",
       "      <td>35.0</td>\n",
       "      <td>8.0500</td>\n",
       "      <td>0.0</td>\n",
       "    </tr>\n",
       "  </tbody>\n",
       "</table>\n",
       "</div>"
      ],
      "text/plain": [
       "   Pclass  Sex   Age     Fare  Cabin\n",
       "0       3  1.0  22.0   7.2500    0.0\n",
       "1       1  0.0  38.0  71.2833   82.0\n",
       "2       3  0.0  26.0   7.9250    0.0\n",
       "3       1  0.0  35.0  53.1000   56.0\n",
       "4       3  1.0  35.0   8.0500    0.0"
      ]
     },
     "execution_count": 13,
     "metadata": {},
     "output_type": "execute_result"
    }
   ],
   "source": [
    "scaler = MinMaxScaler()\n",
    " \n",
    "scaled_ds = scaler.fit_transform(X_train.to_numpy())\n",
    "scaled_ds = pd.DataFrame(X_train, columns=['Pclass', 'Sex', 'Age', 'Fare', 'Cabin'])\n",
    " \n",
    "scaled_ds.head()"
   ]
  },
  {
   "cell_type": "markdown",
   "id": "2f72f15d",
   "metadata": {
    "papermill": {
     "duration": 0.010019,
     "end_time": "2023-02-14T12:57:35.762239",
     "exception": false,
     "start_time": "2023-02-14T12:57:35.752220",
     "status": "completed"
    },
    "tags": []
   },
   "source": [
    "## Split train and test data"
   ]
  },
  {
   "cell_type": "code",
   "execution_count": 14,
   "id": "8a083bc5",
   "metadata": {
    "execution": {
     "iopub.execute_input": "2023-02-14T12:57:35.783115Z",
     "iopub.status.busy": "2023-02-14T12:57:35.782718Z",
     "iopub.status.idle": "2023-02-14T12:57:35.794081Z",
     "shell.execute_reply": "2023-02-14T12:57:35.793001Z"
    },
    "papermill": {
     "duration": 0.025,
     "end_time": "2023-02-14T12:57:35.796871",
     "exception": false,
     "start_time": "2023-02-14T12:57:35.771871",
     "status": "completed"
    },
    "tags": []
   },
   "outputs": [],
   "source": [
    "X_train, X_test, y_train, y_test = train_test_split(X_train, y_train, test_size=0.2, random_state=1)\n",
    "\n",
    "X_train, X_val, y_train, y_val = train_test_split(X_train, y_train, test_size=0.25, random_state=1) # 0.25 x 0.8 = 0.2"
   ]
  },
  {
   "cell_type": "markdown",
   "id": "3ffdfb6c",
   "metadata": {
    "papermill": {
     "duration": 0.008796,
     "end_time": "2023-02-14T12:57:35.815068",
     "exception": false,
     "start_time": "2023-02-14T12:57:35.806272",
     "status": "completed"
    },
    "tags": []
   },
   "source": [
    "## Train model"
   ]
  },
  {
   "cell_type": "code",
   "execution_count": 15,
   "id": "e164a923",
   "metadata": {
    "execution": {
     "iopub.execute_input": "2023-02-14T12:57:35.835316Z",
     "iopub.status.busy": "2023-02-14T12:57:35.834930Z",
     "iopub.status.idle": "2023-02-14T12:57:36.040302Z",
     "shell.execute_reply": "2023-02-14T12:57:36.038133Z"
    },
    "papermill": {
     "duration": 0.219052,
     "end_time": "2023-02-14T12:57:36.043310",
     "exception": false,
     "start_time": "2023-02-14T12:57:35.824258",
     "status": "completed"
    },
    "tags": []
   },
   "outputs": [
    {
     "name": "stderr",
     "output_type": "stream",
     "text": [
      "2023-02-14 12:57:35.899546: I tensorflow/core/common_runtime/process_util.cc:146] Creating new thread pool with default inter op setting: 2. Tune using inter_op_parallelism_threads for best performance.\n"
     ]
    }
   ],
   "source": [
    "input = Input(shape=(8,))\n",
    "x = Dense(64, activation='relu')(input)\n",
    "x = BatchNormalization()(x)\n",
    "x = Dense(128, activation='relu',)(x)\n",
    "x = BatchNormalization()(x)\n",
    "x = Dense(64, activation='relu',)(x)\n",
    "x = BatchNormalization()(x)\n",
    "x = Dense(1, activation='sigmoid')(x)\n",
    "model = Model(inputs=input, outputs=x)"
   ]
  },
  {
   "cell_type": "code",
   "execution_count": 16,
   "id": "358bd875",
   "metadata": {
    "execution": {
     "iopub.execute_input": "2023-02-14T12:57:36.066334Z",
     "iopub.status.busy": "2023-02-14T12:57:36.065908Z",
     "iopub.status.idle": "2023-02-14T12:57:36.083133Z",
     "shell.execute_reply": "2023-02-14T12:57:36.081517Z"
    },
    "papermill": {
     "duration": 0.032861,
     "end_time": "2023-02-14T12:57:36.086308",
     "exception": false,
     "start_time": "2023-02-14T12:57:36.053447",
     "status": "completed"
    },
    "tags": []
   },
   "outputs": [],
   "source": [
    "early_stopping_callback = EarlyStopping(monitor='val_loss', patience = 2, verbose=1)\n",
    "\n",
    "model.compile(optimizer='adam'\n",
    "                    , loss='binary_crossentropy'\n",
    "                    , metrics=['accuracy'])"
   ]
  },
  {
   "cell_type": "code",
   "execution_count": 17,
   "id": "78d603f2",
   "metadata": {
    "execution": {
     "iopub.execute_input": "2023-02-14T12:57:36.107808Z",
     "iopub.status.busy": "2023-02-14T12:57:36.107382Z",
     "iopub.status.idle": "2023-02-14T12:57:39.206059Z",
     "shell.execute_reply": "2023-02-14T12:57:39.203882Z"
    },
    "papermill": {
     "duration": 3.115214,
     "end_time": "2023-02-14T12:57:39.211200",
     "exception": false,
     "start_time": "2023-02-14T12:57:36.095986",
     "status": "completed"
    },
    "tags": []
   },
   "outputs": [
    {
     "name": "stderr",
     "output_type": "stream",
     "text": [
      "2023-02-14 12:57:36.239740: I tensorflow/compiler/mlir/mlir_graph_optimization_pass.cc:185] None of the MLIR Optimization Passes are enabled (registered 2)\n"
     ]
    },
    {
     "name": "stdout",
     "output_type": "stream",
     "text": [
      "Epoch 1/20\n",
      "5/5 [==============================] - 2s 97ms/step - loss: 0.7321 - accuracy: 0.5880 - val_loss: 0.8019 - val_accuracy: 0.3596\n",
      "Epoch 2/20\n",
      "5/5 [==============================] - 0s 15ms/step - loss: 0.6001 - accuracy: 0.7116 - val_loss: 0.7258 - val_accuracy: 0.3708\n",
      "Epoch 3/20\n",
      "5/5 [==============================] - 0s 16ms/step - loss: 0.5645 - accuracy: 0.7172 - val_loss: 0.6551 - val_accuracy: 0.6798\n",
      "Epoch 4/20\n",
      "5/5 [==============================] - 0s 17ms/step - loss: 0.5498 - accuracy: 0.7154 - val_loss: 0.6209 - val_accuracy: 0.7472\n",
      "Epoch 5/20\n",
      "5/5 [==============================] - 0s 15ms/step - loss: 0.5299 - accuracy: 0.7266 - val_loss: 0.6174 - val_accuracy: 0.7528\n",
      "Epoch 6/20\n",
      "5/5 [==============================] - 0s 16ms/step - loss: 0.5198 - accuracy: 0.7472 - val_loss: 0.5921 - val_accuracy: 0.7809\n",
      "Epoch 7/20\n",
      "5/5 [==============================] - 0s 15ms/step - loss: 0.5149 - accuracy: 0.7434 - val_loss: 0.5823 - val_accuracy: 0.7809\n",
      "Epoch 8/20\n",
      "5/5 [==============================] - 0s 14ms/step - loss: 0.5074 - accuracy: 0.7472 - val_loss: 0.5797 - val_accuracy: 0.7640\n",
      "Epoch 9/20\n",
      "5/5 [==============================] - 0s 15ms/step - loss: 0.4945 - accuracy: 0.7753 - val_loss: 0.5797 - val_accuracy: 0.7528\n",
      "Epoch 10/20\n",
      "5/5 [==============================] - 0s 15ms/step - loss: 0.4865 - accuracy: 0.7659 - val_loss: 0.5698 - val_accuracy: 0.7697\n",
      "Epoch 11/20\n",
      "5/5 [==============================] - 0s 15ms/step - loss: 0.4842 - accuracy: 0.7734 - val_loss: 0.5531 - val_accuracy: 0.7697\n",
      "Epoch 12/20\n",
      "5/5 [==============================] - 0s 16ms/step - loss: 0.5009 - accuracy: 0.7846 - val_loss: 0.5665 - val_accuracy: 0.7416\n",
      "Epoch 13/20\n",
      "5/5 [==============================] - 0s 17ms/step - loss: 0.4550 - accuracy: 0.8258 - val_loss: 0.5702 - val_accuracy: 0.7303\n",
      "Epoch 00013: early stopping\n"
     ]
    }
   ],
   "source": [
    "NUM_EPOCHS = 20\n",
    "BATCH_SIZE = 128\n",
    "\n",
    "history = model.fit(X_train\n",
    "                    , y_train\n",
    "                    , epochs=NUM_EPOCHS\n",
    "                    , batch_size=BATCH_SIZE\n",
    "                    , validation_data=(X_val, y_val)\n",
    "                    , verbose=1\n",
    "                    , callbacks=[early_stopping_callback])\n"
   ]
  },
  {
   "cell_type": "code",
   "execution_count": 18,
   "id": "63ff4769",
   "metadata": {
    "execution": {
     "iopub.execute_input": "2023-02-14T12:57:39.236255Z",
     "iopub.status.busy": "2023-02-14T12:57:39.235803Z",
     "iopub.status.idle": "2023-02-14T12:57:39.243424Z",
     "shell.execute_reply": "2023-02-14T12:57:39.242075Z"
    },
    "papermill": {
     "duration": 0.022476,
     "end_time": "2023-02-14T12:57:39.245899",
     "exception": false,
     "start_time": "2023-02-14T12:57:39.223423",
     "status": "completed"
    },
    "tags": []
   },
   "outputs": [
    {
     "data": {
      "text/plain": [
       "(418,)"
      ]
     },
     "execution_count": 18,
     "metadata": {},
     "output_type": "execute_result"
    }
   ],
   "source": [
    "X_submission_passengerId.shape"
   ]
  },
  {
   "cell_type": "code",
   "execution_count": 19,
   "id": "1c0f6431",
   "metadata": {
    "execution": {
     "iopub.execute_input": "2023-02-14T12:57:39.270848Z",
     "iopub.status.busy": "2023-02-14T12:57:39.270434Z",
     "iopub.status.idle": "2023-02-14T12:57:40.576461Z",
     "shell.execute_reply": "2023-02-14T12:57:40.575186Z"
    },
    "papermill": {
     "duration": 1.321601,
     "end_time": "2023-02-14T12:57:40.579137",
     "exception": false,
     "start_time": "2023-02-14T12:57:39.257536",
     "status": "completed"
    },
    "tags": []
   },
   "outputs": [],
   "source": [
    "y_true, y_pred = y_test, model.predict(X_submission)\n",
    "y_pred[y_pred <= 0.5] = 0.\n",
    "y_pred[y_pred > 0.5] = 1.\n",
    "final_df = pd.DataFrame({'PassengerId': X_submission_passengerId, 'Survived': pd.Series(y_pred.tolist())})\n"
   ]
  },
  {
   "cell_type": "code",
   "execution_count": 20,
   "id": "64122c63",
   "metadata": {
    "execution": {
     "iopub.execute_input": "2023-02-14T12:57:40.603330Z",
     "iopub.status.busy": "2023-02-14T12:57:40.602885Z",
     "iopub.status.idle": "2023-02-14T12:57:40.615591Z",
     "shell.execute_reply": "2023-02-14T12:57:40.614410Z"
    },
    "papermill": {
     "duration": 0.027697,
     "end_time": "2023-02-14T12:57:40.617944",
     "exception": false,
     "start_time": "2023-02-14T12:57:40.590247",
     "status": "completed"
    },
    "tags": []
   },
   "outputs": [
    {
     "data": {
      "text/html": [
       "<div>\n",
       "<style scoped>\n",
       "    .dataframe tbody tr th:only-of-type {\n",
       "        vertical-align: middle;\n",
       "    }\n",
       "\n",
       "    .dataframe tbody tr th {\n",
       "        vertical-align: top;\n",
       "    }\n",
       "\n",
       "    .dataframe thead th {\n",
       "        text-align: right;\n",
       "    }\n",
       "</style>\n",
       "<table border=\"1\" class=\"dataframe\">\n",
       "  <thead>\n",
       "    <tr style=\"text-align: right;\">\n",
       "      <th></th>\n",
       "      <th>PassengerId</th>\n",
       "      <th>Survived</th>\n",
       "    </tr>\n",
       "  </thead>\n",
       "  <tbody>\n",
       "    <tr>\n",
       "      <th>0</th>\n",
       "      <td>892</td>\n",
       "      <td>[0.0]</td>\n",
       "    </tr>\n",
       "    <tr>\n",
       "      <th>1</th>\n",
       "      <td>893</td>\n",
       "      <td>[0.0]</td>\n",
       "    </tr>\n",
       "    <tr>\n",
       "      <th>2</th>\n",
       "      <td>894</td>\n",
       "      <td>[0.0]</td>\n",
       "    </tr>\n",
       "    <tr>\n",
       "      <th>3</th>\n",
       "      <td>895</td>\n",
       "      <td>[0.0]</td>\n",
       "    </tr>\n",
       "    <tr>\n",
       "      <th>4</th>\n",
       "      <td>896</td>\n",
       "      <td>[0.0]</td>\n",
       "    </tr>\n",
       "  </tbody>\n",
       "</table>\n",
       "</div>"
      ],
      "text/plain": [
       "   PassengerId Survived\n",
       "0          892    [0.0]\n",
       "1          893    [0.0]\n",
       "2          894    [0.0]\n",
       "3          895    [0.0]\n",
       "4          896    [0.0]"
      ]
     },
     "execution_count": 20,
     "metadata": {},
     "output_type": "execute_result"
    }
   ],
   "source": [
    "final_df.head()"
   ]
  },
  {
   "cell_type": "code",
   "execution_count": 21,
   "id": "2d7eca64",
   "metadata": {
    "execution": {
     "iopub.execute_input": "2023-02-14T12:57:40.642499Z",
     "iopub.status.busy": "2023-02-14T12:57:40.642015Z",
     "iopub.status.idle": "2023-02-14T12:57:40.653665Z",
     "shell.execute_reply": "2023-02-14T12:57:40.652125Z"
    },
    "papermill": {
     "duration": 0.027108,
     "end_time": "2023-02-14T12:57:40.656089",
     "exception": false,
     "start_time": "2023-02-14T12:57:40.628981",
     "status": "completed"
    },
    "tags": []
   },
   "outputs": [
    {
     "name": "stdout",
     "output_type": "stream",
     "text": [
      " Submission saved\n"
     ]
    }
   ],
   "source": [
    "final_df.to_csv('submission.csv', index=False)\n",
    "print(\" Submission saved\")"
   ]
  }
 ],
 "metadata": {
  "kernelspec": {
   "display_name": "Python 3",
   "language": "python",
   "name": "python3"
  },
  "language_info": {
   "codemirror_mode": {
    "name": "ipython",
    "version": 3
   },
   "file_extension": ".py",
   "mimetype": "text/x-python",
   "name": "python",
   "nbconvert_exporter": "python",
   "pygments_lexer": "ipython3",
   "version": "3.7.12"
  },
  "papermill": {
   "default_parameters": {},
   "duration": 27.285451,
   "end_time": "2023-02-14T12:57:43.669033",
   "environment_variables": {},
   "exception": null,
   "input_path": "__notebook__.ipynb",
   "output_path": "__notebook__.ipynb",
   "parameters": {},
   "start_time": "2023-02-14T12:57:16.383582",
   "version": "2.3.4"
  }
 },
 "nbformat": 4,
 "nbformat_minor": 5
}
