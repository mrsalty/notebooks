{
 "cells": [
  {
   "cell_type": "markdown",
   "id": "9ea1e6ce",
   "metadata": {
    "papermill": {
     "duration": 0.010322,
     "end_time": "2024-04-19T21:20:45.858816",
     "exception": false,
     "start_time": "2024-04-19T21:20:45.848494",
     "status": "completed"
    },
    "tags": []
   },
   "source": [
    "# Sentiment analysis with GRU and LSTM"
   ]
  },
  {
   "cell_type": "code",
   "execution_count": 1,
   "id": "388a02e2",
   "metadata": {
    "execution": {
     "iopub.execute_input": "2024-04-19T21:20:45.880921Z",
     "iopub.status.busy": "2024-04-19T21:20:45.880168Z",
     "iopub.status.idle": "2024-04-19T21:21:05.959497Z",
     "shell.execute_reply": "2024-04-19T21:21:05.957952Z"
    },
    "id": "RjH-Oz3cgQeT",
    "outputId": "6996264a-355d-4214-b318-d1165f56faac",
    "papermill": {
     "duration": 20.093649,
     "end_time": "2024-04-19T21:21:05.962389",
     "exception": false,
     "start_time": "2024-04-19T21:20:45.868740",
     "status": "completed"
    },
    "tags": []
   },
   "outputs": [
    {
     "name": "stderr",
     "output_type": "stream",
     "text": [
      "2024-04-19 21:20:50.591593: E external/local_xla/xla/stream_executor/cuda/cuda_dnn.cc:9261] Unable to register cuDNN factory: Attempting to register factory for plugin cuDNN when one has already been registered\n",
      "2024-04-19 21:20:50.591705: E external/local_xla/xla/stream_executor/cuda/cuda_fft.cc:607] Unable to register cuFFT factory: Attempting to register factory for plugin cuFFT when one has already been registered\n",
      "2024-04-19 21:20:50.728991: E external/local_xla/xla/stream_executor/cuda/cuda_blas.cc:1515] Unable to register cuBLAS factory: Attempting to register factory for plugin cuBLAS when one has already been registered\n"
     ]
    },
    {
     "name": "stdout",
     "output_type": "stream",
     "text": [
      "[nltk_data] Downloading package wordnet to /usr/share/nltk_data...\n",
      "[nltk_data]   Package wordnet is already up-to-date!\n",
      "[nltk_data] Downloading package stopwords to /usr/share/nltk_data...\n",
      "[nltk_data]   Package stopwords is already up-to-date!\n",
      "[nltk_data] Downloading package omw-1.4 to /usr/share/nltk_data...\n",
      "Archive:  /usr/share/nltk_data/corpora/wordnet.zip\r\n",
      "   creating: /usr/share/nltk_data/corpora/wordnet/\r\n",
      "  inflating: /usr/share/nltk_data/corpora/wordnet/lexnames  \r\n",
      "  inflating: /usr/share/nltk_data/corpora/wordnet/data.verb  \r\n",
      "  inflating: /usr/share/nltk_data/corpora/wordnet/index.adv  \r\n",
      "  inflating: /usr/share/nltk_data/corpora/wordnet/adv.exc  \r\n",
      "  inflating: /usr/share/nltk_data/corpora/wordnet/index.verb  \r\n",
      "  inflating: /usr/share/nltk_data/corpora/wordnet/cntlist.rev  \r\n",
      "  inflating: /usr/share/nltk_data/corpora/wordnet/data.adj  \r\n",
      "  inflating: /usr/share/nltk_data/corpora/wordnet/index.adj  \r\n",
      "  inflating: /usr/share/nltk_data/corpora/wordnet/LICENSE  \r\n",
      "  inflating: /usr/share/nltk_data/corpora/wordnet/citation.bib  \r\n",
      "  inflating: /usr/share/nltk_data/corpora/wordnet/noun.exc  \r\n",
      "  inflating: /usr/share/nltk_data/corpora/wordnet/verb.exc  \r\n",
      "  inflating: /usr/share/nltk_data/corpora/wordnet/README  \r\n",
      "  inflating: /usr/share/nltk_data/corpora/wordnet/index.sense  \r\n",
      "  inflating: /usr/share/nltk_data/corpora/wordnet/data.noun  \r\n",
      "  inflating: /usr/share/nltk_data/corpora/wordnet/data.adv  \r\n",
      "  inflating: /usr/share/nltk_data/corpora/wordnet/index.noun  \r\n",
      "  inflating: /usr/share/nltk_data/corpora/wordnet/adj.exc  \r\n",
      "Archive:  /usr/share/nltk_data/corpora/wordnet.zip\r\n",
      "   creating: /usr/share/nltk_data/stopwords/wordnet/\r\n",
      "  inflating: /usr/share/nltk_data/stopwords/wordnet/lexnames  \r\n",
      "  inflating: /usr/share/nltk_data/stopwords/wordnet/data.verb  \r\n",
      "  inflating: /usr/share/nltk_data/stopwords/wordnet/index.adv  \r\n",
      "  inflating: /usr/share/nltk_data/stopwords/wordnet/adv.exc  \r\n",
      "  inflating: /usr/share/nltk_data/stopwords/wordnet/index.verb  \r\n",
      "  inflating: /usr/share/nltk_data/stopwords/wordnet/cntlist.rev  \r\n",
      "  inflating: /usr/share/nltk_data/stopwords/wordnet/data.adj  \r\n",
      "  inflating: /usr/share/nltk_data/stopwords/wordnet/index.adj  \r\n",
      "  inflating: /usr/share/nltk_data/stopwords/wordnet/LICENSE  \r\n",
      "  inflating: /usr/share/nltk_data/stopwords/wordnet/citation.bib  \r\n",
      "  inflating: /usr/share/nltk_data/stopwords/wordnet/noun.exc  \r\n",
      "  inflating: /usr/share/nltk_data/stopwords/wordnet/verb.exc  \r\n",
      "  inflating: /usr/share/nltk_data/stopwords/wordnet/README  \r\n",
      "  inflating: /usr/share/nltk_data/stopwords/wordnet/index.sense  \r\n",
      "  inflating: /usr/share/nltk_data/stopwords/wordnet/data.noun  \r\n",
      "  inflating: /usr/share/nltk_data/stopwords/wordnet/data.adv  \r\n",
      "  inflating: /usr/share/nltk_data/stopwords/wordnet/index.noun  \r\n",
      "  inflating: /usr/share/nltk_data/stopwords/wordnet/adj.exc  \r\n",
      "Archive:  /usr/share/nltk_data/corpora/wordnet.zip\r\n",
      "   creating: /usr/share/nltk_data/omw-1.4/wordnet/\r\n",
      "  inflating: /usr/share/nltk_data/omw-1.4/wordnet/lexnames  \r\n",
      "  inflating: /usr/share/nltk_data/omw-1.4/wordnet/data.verb  \r\n",
      "  inflating: /usr/share/nltk_data/omw-1.4/wordnet/index.adv  \r\n",
      "  inflating: /usr/share/nltk_data/omw-1.4/wordnet/adv.exc  \r\n",
      "  inflating: /usr/share/nltk_data/omw-1.4/wordnet/index.verb  \r\n",
      "  inflating: /usr/share/nltk_data/omw-1.4/wordnet/cntlist.rev  \r\n",
      "  inflating: /usr/share/nltk_data/omw-1.4/wordnet/data.adj  \r\n",
      "  inflating: /usr/share/nltk_data/omw-1.4/wordnet/index.adj  \r\n",
      "  inflating: /usr/share/nltk_data/omw-1.4/wordnet/LICENSE  \r\n",
      "  inflating: /usr/share/nltk_data/omw-1.4/wordnet/citation.bib  \r\n",
      "  inflating: /usr/share/nltk_data/omw-1.4/wordnet/noun.exc  \r\n",
      "  inflating: /usr/share/nltk_data/omw-1.4/wordnet/verb.exc  \r\n",
      "  inflating: /usr/share/nltk_data/omw-1.4/wordnet/README  \r\n",
      "  inflating: /usr/share/nltk_data/omw-1.4/wordnet/index.sense  \r\n",
      "  inflating: /usr/share/nltk_data/omw-1.4/wordnet/data.noun  \r\n",
      "  inflating: /usr/share/nltk_data/omw-1.4/wordnet/data.adv  \r\n",
      "  inflating: /usr/share/nltk_data/omw-1.4/wordnet/index.noun  \r\n",
      "  inflating: /usr/share/nltk_data/omw-1.4/wordnet/adj.exc  \r\n"
     ]
    }
   ],
   "source": [
    "import pandas as pd\n",
    "import numpy as np\n",
    "import nltk\n",
    "import re\n",
    "import seaborn as sns\n",
    "import tensorflow as tf\n",
    "import collections\n",
    "import matplotlib.pyplot as plt\n",
    "import keras\n",
    "from tensorflow.keras.callbacks import EarlyStopping\n",
    "from tensorflow.keras.models import Sequential\n",
    "from tensorflow.keras.models import Model\n",
    "from tensorflow.keras.layers import LSTM, Bidirectional, Input, GRU,Activation, Dropout, Dense, Embedding\n",
    "from tensorflow.keras.preprocessing.text import Tokenizer\n",
    "from tensorflow.keras.preprocessing.sequence import pad_sequences\n",
    "from tensorflow.keras.utils import to_categorical\n",
    "from tensorflow.keras import models, layers, backend as K\n",
    "from nltk.corpus import stopwords\n",
    "from nltk.stem import WordNetLemmatizer \n",
    "from nltk.tokenize import word_tokenize\n",
    "from nltk.stem import PorterStemmer\n",
    "from numpy import array, asarray, zeros\n",
    "from sklearn import preprocessing\n",
    "from sklearn.metrics import classification_report, confusion_matrix, f1_score\n",
    "from sklearn.utils import class_weight \n",
    "\n",
    "# download nltk resources\n",
    "nltk.download('wordnet')\n",
    "nltk.download(\"stopwords\")\n",
    "nltk.download('omw-1.4')\n",
    "\n",
    "# need to unzip nltk resources manually on notebook\n",
    "!unzip /usr/share/nltk_data/corpora/wordnet.zip -d /usr/share/nltk_data/corpora/ \n",
    "!unzip /usr/share/nltk_data/corpora/wordnet.zip -d /usr/share/nltk_data/stopwords/ \n",
    "!unzip /usr/share/nltk_data/corpora/wordnet.zip -d /usr/share/nltk_data/omw-1.4/ "
   ]
  },
  {
   "cell_type": "code",
   "execution_count": 2,
   "id": "3eb23577",
   "metadata": {
    "execution": {
     "iopub.execute_input": "2024-04-19T21:21:05.989405Z",
     "iopub.status.busy": "2024-04-19T21:21:05.987324Z",
     "iopub.status.idle": "2024-04-19T21:21:05.993947Z",
     "shell.execute_reply": "2024-04-19T21:21:05.993056Z"
    },
    "id": "6KVJkPHHIaLy",
    "papermill": {
     "duration": 0.022175,
     "end_time": "2024-04-19T21:21:05.996082",
     "exception": false,
     "start_time": "2024-04-19T21:21:05.973907",
     "status": "completed"
    },
    "tags": []
   },
   "outputs": [],
   "source": [
    "# global params\n",
    "VOCAB_SIZE = 5000\n",
    "NUM_EPOCHS = 20\n",
    "BATCH_SIZE = 64"
   ]
  },
  {
   "cell_type": "markdown",
   "id": "25863682",
   "metadata": {
    "id": "H85kp19OXwjK",
    "papermill": {
     "duration": 0.010937,
     "end_time": "2024-04-19T21:21:06.018841",
     "exception": false,
     "start_time": "2024-04-19T21:21:06.007904",
     "status": "completed"
    },
    "tags": []
   },
   "source": [
    "# Load the data"
   ]
  },
  {
   "cell_type": "code",
   "execution_count": 3,
   "id": "6da6bce2",
   "metadata": {
    "execution": {
     "iopub.execute_input": "2024-04-19T21:21:06.042588Z",
     "iopub.status.busy": "2024-04-19T21:21:06.042191Z",
     "iopub.status.idle": "2024-04-19T21:21:06.270125Z",
     "shell.execute_reply": "2024-04-19T21:21:06.268965Z"
    },
    "id": "gceWqnephvyO",
    "outputId": "ce4cae9e-bdba-4b31-c37d-34488c376c9d",
    "papermill": {
     "duration": 0.242711,
     "end_time": "2024-04-19T21:21:06.272696",
     "exception": false,
     "start_time": "2024-04-19T21:21:06.029985",
     "status": "completed"
    },
    "tags": []
   },
   "outputs": [],
   "source": [
    "# load data from files\n",
    "train_ds = pd.read_csv(\"/kaggle/input/sentiment-analysis-on-ekmans-emotions/train_ekmann.csv\")\n",
    "test_ds = pd.read_csv(\"/kaggle/input/sentiment-analysis-on-ekmans-emotions/test_ekmann.csv\")\n",
    "val_ds = pd.read_csv(\"/kaggle/input/sentiment-analysis-on-ekmans-emotions/val_ekmann.csv\")\n",
    "\n",
    "# remove Id column\n",
    "train_ds = train_ds.drop('Id', axis=1)\n",
    "test_ds = test_ds.drop('Id', axis=1)\n",
    "val_ds = val_ds.drop('Id', axis=1)"
   ]
  },
  {
   "cell_type": "markdown",
   "id": "5d78c20e",
   "metadata": {
    "id": "YrJV7ViS2mxJ",
    "papermill": {
     "duration": 0.010262,
     "end_time": "2024-04-19T21:21:06.293865",
     "exception": false,
     "start_time": "2024-04-19T21:21:06.283603",
     "status": "completed"
    },
    "tags": []
   },
   "source": [
    "# Data visualization"
   ]
  },
  {
   "cell_type": "code",
   "execution_count": 4,
   "id": "39560616",
   "metadata": {
    "execution": {
     "iopub.execute_input": "2024-04-19T21:21:06.317766Z",
     "iopub.status.busy": "2024-04-19T21:21:06.317396Z",
     "iopub.status.idle": "2024-04-19T21:21:06.325270Z",
     "shell.execute_reply": "2024-04-19T21:21:06.324120Z"
    },
    "id": "3viA3N7rlJ_k",
    "outputId": "6fed1b07-fad5-487c-c41d-ff60ef33b3cd",
    "papermill": {
     "duration": 0.022213,
     "end_time": "2024-04-19T21:21:06.327468",
     "exception": false,
     "start_time": "2024-04-19T21:21:06.305255",
     "status": "completed"
    },
    "tags": []
   },
   "outputs": [
    {
     "data": {
      "text/plain": [
       "(43410, 2)"
      ]
     },
     "execution_count": 4,
     "metadata": {},
     "output_type": "execute_result"
    }
   ],
   "source": [
    "train_ds.shape"
   ]
  },
  {
   "cell_type": "code",
   "execution_count": 5,
   "id": "19d8601c",
   "metadata": {
    "execution": {
     "iopub.execute_input": "2024-04-19T21:21:06.350733Z",
     "iopub.status.busy": "2024-04-19T21:21:06.350405Z",
     "iopub.status.idle": "2024-04-19T21:21:06.363303Z",
     "shell.execute_reply": "2024-04-19T21:21:06.362288Z"
    },
    "id": "_HaXK4j2-f4a",
    "outputId": "6726aaeb-9316-47ba-a6d1-fb0eff35c4be",
    "papermill": {
     "duration": 0.027319,
     "end_time": "2024-04-19T21:21:06.365720",
     "exception": false,
     "start_time": "2024-04-19T21:21:06.338401",
     "status": "completed"
    },
    "tags": []
   },
   "outputs": [
    {
     "data": {
      "text/plain": [
       "<bound method NDFrame.head of                                                     Text   Emotion\n",
       "0      My favourite food is anything I didn't have to...   neutral\n",
       "1      Now if he does off himself, everyone will thin...   neutral\n",
       "2                         WHY THE FUCK IS BAYLESS ISOING     anger\n",
       "3                            To make her feel threatened      fear\n",
       "4                                 Dirty Southern Wankers     anger\n",
       "...                                                  ...       ...\n",
       "43405  Added you mate well I’ve just got the bow and ...       joy\n",
       "43406  Always thought that was funny but is it a refe...  surprise\n",
       "43407  What are you talking about? Anything bad that ...     anger\n",
       "43408            More like a baptism, with sexy results!       joy\n",
       "43409                                    Enjoy the ride!       joy\n",
       "\n",
       "[43410 rows x 2 columns]>"
      ]
     },
     "execution_count": 5,
     "metadata": {},
     "output_type": "execute_result"
    }
   ],
   "source": [
    "train_ds.head"
   ]
  },
  {
   "cell_type": "code",
   "execution_count": 6,
   "id": "d9deebb9",
   "metadata": {
    "execution": {
     "iopub.execute_input": "2024-04-19T21:21:06.391764Z",
     "iopub.status.busy": "2024-04-19T21:21:06.391355Z",
     "iopub.status.idle": "2024-04-19T21:21:06.790548Z",
     "shell.execute_reply": "2024-04-19T21:21:06.789435Z"
    },
    "id": "48mrQEkwmC53",
    "outputId": "3b22cc60-4058-4926-a89b-ec7f7ac06d16",
    "papermill": {
     "duration": 0.414446,
     "end_time": "2024-04-19T21:21:06.793178",
     "exception": false,
     "start_time": "2024-04-19T21:21:06.378732",
     "status": "completed"
    },
    "tags": []
   },
   "outputs": [
    {
     "data": {
      "text/plain": [
       "<Axes: xlabel='Emotion', ylabel='count'>"
      ]
     },
     "execution_count": 6,
     "metadata": {},
     "output_type": "execute_result"
    },
    {
     "data": {
      "image/png": "[encoded data removed]",
      "text/plain": [
       "<Figure size 640x480 with 1 Axes>"
      ]
     },
     "metadata": {},
     "output_type": "display_data"
    }
   ],
   "source": [
    "# emotion distribution\n",
    "sns.countplot(x='Emotion', data=train_ds)"
   ]
  },
  {
   "cell_type": "markdown",
   "id": "8a26fea3",
   "metadata": {
    "id": "owmpa2S9IvZ6",
    "papermill": {
     "duration": 0.011215,
     "end_time": "2024-04-19T21:21:06.818030",
     "exception": false,
     "start_time": "2024-04-19T21:21:06.806815",
     "status": "completed"
    },
    "tags": []
   },
   "source": [
    "# Preprocessing"
   ]
  },
  {
   "cell_type": "code",
   "execution_count": 7,
   "id": "263a4d64",
   "metadata": {
    "execution": {
     "iopub.execute_input": "2024-04-19T21:21:06.844846Z",
     "iopub.status.busy": "2024-04-19T21:21:06.844405Z",
     "iopub.status.idle": "2024-04-19T21:21:06.850285Z",
     "shell.execute_reply": "2024-04-19T21:21:06.849221Z"
    },
    "id": "WgOrreQ3IvZ6",
    "papermill": {
     "duration": 0.022716,
     "end_time": "2024-04-19T21:21:06.852550",
     "exception": false,
     "start_time": "2024-04-19T21:21:06.829834",
     "status": "completed"
    },
    "tags": []
   },
   "outputs": [],
   "source": [
    "def preprocess_text(sentence):\n",
    "    # to lower case\n",
    "    sentence = sentence.lower()\n",
    "    # remove punctuations and numbers\n",
    "    sentence = re.sub('[^a-zA-Z]', ' ', sentence)\n",
    "    # removing multiple spaces\n",
    "    sentence = re.sub(r'\\s+', ' ', sentence)\n",
    "    return sentence"
   ]
  },
  {
   "cell_type": "code",
   "execution_count": 8,
   "id": "295df53f",
   "metadata": {
    "execution": {
     "iopub.execute_input": "2024-04-19T21:21:06.879316Z",
     "iopub.status.busy": "2024-04-19T21:21:06.878901Z",
     "iopub.status.idle": "2024-04-19T21:21:06.884919Z",
     "shell.execute_reply": "2024-04-19T21:21:06.883809Z"
    },
    "id": "FaSSHci9iIpF",
    "papermill": {
     "duration": 0.0222,
     "end_time": "2024-04-19T21:21:06.887242",
     "exception": false,
     "start_time": "2024-04-19T21:21:06.865042",
     "status": "completed"
    },
    "tags": []
   },
   "outputs": [],
   "source": [
    "# lemmatize\n",
    "w_tokenizer = nltk.tokenize.WhitespaceTokenizer()\n",
    "lemmatizer = nltk.stem.WordNetLemmatizer()\n",
    "\n",
    "def lemmatize(text):\n",
    "    return [lemmatizer.lemmatize(w) for w in w_tokenizer.tokenize(text)]"
   ]
  },
  {
   "cell_type": "code",
   "execution_count": 9,
   "id": "9a77340c",
   "metadata": {
    "execution": {
     "iopub.execute_input": "2024-04-19T21:21:06.913015Z",
     "iopub.status.busy": "2024-04-19T21:21:06.912663Z",
     "iopub.status.idle": "2024-04-19T21:21:06.919362Z",
     "shell.execute_reply": "2024-04-19T21:21:06.918375Z"
    },
    "id": "QEJDlv58IvZ7",
    "papermill": {
     "duration": 0.022438,
     "end_time": "2024-04-19T21:21:06.921855",
     "exception": false,
     "start_time": "2024-04-19T21:21:06.899417",
     "status": "completed"
    },
    "tags": []
   },
   "outputs": [],
   "source": [
    "def map_emotion(emotion):\n",
    "    if emotion == \"neutral\":\n",
    "        return 0\n",
    "    elif emotion == \"anger\":\n",
    "        return 1\n",
    "    elif emotion == \"sadness\":\n",
    "        return 2\n",
    "    elif emotion == \"fear\":\n",
    "        return 3\n",
    "    elif emotion == \"disgust\":\n",
    "        return 4\n",
    "    elif emotion == \"surprise\":\n",
    "        return 5\n",
    "    elif emotion == \"joy\":\n",
    "        return 6\n",
    "    else:\n",
    "      return -1"
   ]
  },
  {
   "cell_type": "code",
   "execution_count": 10,
   "id": "839b6be7",
   "metadata": {
    "execution": {
     "iopub.execute_input": "2024-04-19T21:21:06.947168Z",
     "iopub.status.busy": "2024-04-19T21:21:06.946845Z",
     "iopub.status.idle": "2024-04-19T21:21:15.426479Z",
     "shell.execute_reply": "2024-04-19T21:21:15.425247Z"
    },
    "id": "adZtmENoIvZ7",
    "outputId": "6bdb0dfa-7405-4930-b2af-0d51056ac8f8",
    "papermill": {
     "duration": 8.495031,
     "end_time": "2024-04-19T21:21:15.428877",
     "exception": false,
     "start_time": "2024-04-19T21:21:06.933846",
     "status": "completed"
    },
    "tags": []
   },
   "outputs": [
    {
     "name": "stdout",
     "output_type": "stream",
     "text": [
      "['my', 'favourite', 'food', 'is', 'anything', 'i', 'didn', 't', 'have', 'to', 'cook', 'myself']\n",
      "['i', 'm', 'really', 'sorry', 'about', 'your', 'situation', 'although', 'i', 'love', 'the', 'name', 'sapphira', 'cirilla', 'and', 'scarlett']\n",
      "['is', 'this', 'in', 'new', 'orleans', 'i', 'really', 'feel', 'like', 'this', 'is', 'new', 'orleans']\n"
     ]
    }
   ],
   "source": [
    "# preprocess all dataframes\n",
    "train_ds['Text'] = train_ds['Text'].apply(lambda x: preprocess_text(x))\n",
    "train_ds['Text'] = train_ds['Text'].apply(lambda x: lemmatize(x))\n",
    "print(train_ds['Text'][0])\n",
    "\n",
    "test_ds['Text'] = test_ds['Text'].apply(lambda x: preprocess_text(x))\n",
    "test_ds['Text'] = test_ds['Text'].apply(lambda x: lemmatize(x))\n",
    "print(test_ds['Text'][0])\n",
    "\n",
    "val_ds['Text'] = val_ds['Text'].apply(lambda x: preprocess_text(x))\n",
    "val_ds['Text'] = val_ds['Text'].apply(lambda x: lemmatize(x))\n",
    "print(val_ds['Text'][0])"
   ]
  },
  {
   "cell_type": "code",
   "execution_count": 11,
   "id": "cd7c0499",
   "metadata": {
    "execution": {
     "iopub.execute_input": "2024-04-19T21:21:15.455544Z",
     "iopub.status.busy": "2024-04-19T21:21:15.455161Z",
     "iopub.status.idle": "2024-04-19T21:21:15.492578Z",
     "shell.execute_reply": "2024-04-19T21:21:15.491735Z"
    },
    "id": "T-WXt65cIvZ7",
    "papermill": {
     "duration": 0.053098,
     "end_time": "2024-04-19T21:21:15.494790",
     "exception": false,
     "start_time": "2024-04-19T21:21:15.441692",
     "status": "completed"
    },
    "tags": []
   },
   "outputs": [],
   "source": [
    "# prepare arrays for model\n",
    "y_train = train_ds['Emotion'].values.tolist()\n",
    "y_train = np.array(list(map(lambda x: map_emotion(x), y_train)))\n",
    "X_train = train_ds[\"Text\"].values.tolist()\n",
    "\n",
    "y_test = test_ds['Emotion'].values.tolist()\n",
    "y_test = np.array(list(map(lambda x: map_emotion(x), y_test)))\n",
    "X_test = test_ds[\"Text\"].values.tolist()\n",
    "\n",
    "y_val = val_ds['Emotion'].values.tolist()\n",
    "y_val = np.array(list(map(lambda x: map_emotion(x), y_val)))\n",
    "X_val = val_ds[\"Text\"].values.tolist()"
   ]
  },
  {
   "cell_type": "code",
   "execution_count": 12,
   "id": "0fa8b856",
   "metadata": {
    "execution": {
     "iopub.execute_input": "2024-04-19T21:21:15.521845Z",
     "iopub.status.busy": "2024-04-19T21:21:15.521150Z",
     "iopub.status.idle": "2024-04-19T21:21:16.949317Z",
     "shell.execute_reply": "2024-04-19T21:21:16.948160Z"
    },
    "id": "_e2_yKaWPLjr",
    "outputId": "ec591484-1b79-445d-d0f9-958ea0c17622",
    "papermill": {
     "duration": 1.444687,
     "end_time": "2024-04-19T21:21:16.951813",
     "exception": false,
     "start_time": "2024-04-19T21:21:15.507126",
     "status": "completed"
    },
    "tags": []
   },
   "outputs": [
    {
     "name": "stdout",
     "output_type": "stream",
     "text": [
      "Fitted tokenizer on 43410 documents\n",
      "Top 5 most common words are: [('i', 20778), ('the', 18003), ('a', 14536), ('to', 12600), ('you', 11459)]\n",
      "\"['my', 'favourite', 'food', 'is', 'anything', 'i', 'didn', 't', 'have', 'to', 'cook', 'myself']\" is converted into [18, 1061, 471, 9, 202, 1, 112, 14, 26, 4, 2784, 350]\n"
     ]
    }
   ],
   "source": [
    "# initialize tokenizer on train set \n",
    "tk = Tokenizer(num_words=VOCAB_SIZE,\n",
    "               filters='!\"#$%&()*+,-./:;<=>?@[\\\\]^_`{|}~\\t\\n',\n",
    "               lower=True,\n",
    "               split=\" \")\n",
    "tk.fit_on_texts(X_train)\n",
    "print('Fitted tokenizer on {} documents'.format(tk.document_count))\n",
    "print('Top 5 most common words are:', collections.Counter(tk.word_counts).most_common(5))\n",
    "\n",
    "# transform words in sequences of int\n",
    "X_train_seq = tk.texts_to_sequences(X_train)\n",
    "X_test_seq = tk.texts_to_sequences(X_test)\n",
    "X_val_seq = tk.texts_to_sequences(X_val)\n",
    "\n",
    "print('\"{}\" is converted into {}'.format(X_train[0], X_train_seq[0]))"
   ]
  },
  {
   "cell_type": "code",
   "execution_count": 13,
   "id": "c5b8334e",
   "metadata": {
    "execution": {
     "iopub.execute_input": "2024-04-19T21:21:16.977864Z",
     "iopub.status.busy": "2024-04-19T21:21:16.977510Z",
     "iopub.status.idle": "2024-04-19T21:21:17.276713Z",
     "shell.execute_reply": "2024-04-19T21:21:17.275653Z"
    },
    "id": "WqpsbSMuEOJP",
    "outputId": "a2b6c69d-f724-42e6-e6bb-da43ea67e0e8",
    "papermill": {
     "duration": 0.315251,
     "end_time": "2024-04-19T21:21:17.279483",
     "exception": false,
     "start_time": "2024-04-19T21:21:16.964232",
     "status": "completed"
    },
    "tags": []
   },
   "outputs": [
    {
     "name": "stdout",
     "output_type": "stream",
     "text": [
      "Shapes before padding:\n",
      "(43410, 32)\n",
      "(5427, 30)\n",
      "(5426, 30)\n",
      "32\n",
      "Shapes after padding:\n",
      "(43410, 32)\n",
      "(5427, 32)\n",
      "(5426, 32)\n"
     ]
    }
   ],
   "source": [
    "# padding each array to max lenght of sequences within the array\n",
    "X_train_seq = tf.keras.preprocessing.sequence.pad_sequences(X_train_seq, padding=\"post\")\n",
    "X_test_seq = tf.keras.preprocessing.sequence.pad_sequences(X_test_seq, padding=\"post\")\n",
    "X_val_seq = tf.keras.preprocessing.sequence.pad_sequences(X_val_seq, padding=\"post\")\n",
    "\n",
    "print(\"Shapes before padding:\")\n",
    "print(X_train_seq.shape)\n",
    "print(X_test_seq.shape)\n",
    "print(X_val_seq.shape)\n",
    "\n",
    "# pad each array to the longest of the three arrays so they are all same length\n",
    "max_padding = max(max(X_train_seq.shape[1], X_test_seq.shape[1]), X_val_seq.shape[1])\n",
    "print(max_padding)\n",
    "\n",
    "if (X_train_seq.shape[1] < max_padding):\n",
    "    padding_val_train = max_padding - X_train_seq.shape[1] \n",
    "    X_train_seq = np.pad(X_train_seq, [(0, 0), (0, padding_val_train)], mode='constant', constant_values=0)\n",
    "\n",
    "if (X_test_seq.shape[1] < max_padding):\n",
    "    padding_val_test = max_padding - X_test_seq.shape[1]\n",
    "    X_test_seq = np.pad(X_test_seq, [(0, 0), (0, padding_val_test)], mode='constant', constant_values=0)\n",
    "\n",
    "if (X_val_seq.shape[1] < max_padding):\n",
    "    padding_val_val = max_padding - X_val_seq.shape[1] \n",
    "    X_val_seq = np.pad(X_val_seq, [(0, 0), (0, padding_val_val)], mode='constant', constant_values=0)\n",
    "\n",
    "print(\"Shapes after padding:\")\n",
    "print(X_train_seq.shape)\n",
    "print(X_test_seq.shape)\n",
    "print(X_val_seq.shape)"
   ]
  },
  {
   "cell_type": "code",
   "execution_count": 14,
   "id": "3ca80986",
   "metadata": {
    "execution": {
     "iopub.execute_input": "2024-04-19T21:21:17.307066Z",
     "iopub.status.busy": "2024-04-19T21:21:17.306221Z",
     "iopub.status.idle": "2024-04-19T21:21:17.314735Z",
     "shell.execute_reply": "2024-04-19T21:21:17.313300Z"
    },
    "id": "KrWPFgwwRk_u",
    "outputId": "d5229634-d218-4d9a-d3c1-7c4ccd91222e",
    "papermill": {
     "duration": 0.024449,
     "end_time": "2024-04-19T21:21:17.317020",
     "exception": false,
     "start_time": "2024-04-19T21:21:17.292571",
     "status": "completed"
    },
    "tags": []
   },
   "outputs": [
    {
     "name": "stdout",
     "output_type": "stream",
     "text": [
      "eg: 5 -> [0. 0. 0. 0. 0. 1. 0.]\n"
     ]
    }
   ],
   "source": [
    "# one hot encoding\n",
    "y_train_oh = to_categorical(y_train)\n",
    "y_test_oh = to_categorical(y_test)\n",
    "y_val_oh = to_categorical(y_val)\n",
    "\n",
    "print('eg: {} -> {}'.format(y_train[10], y_train_oh[10]))"
   ]
  },
  {
   "cell_type": "markdown",
   "id": "14a69ad9",
   "metadata": {
    "id": "_3vTI72pFPg-",
    "papermill": {
     "duration": 0.012813,
     "end_time": "2024-04-19T21:21:17.342764",
     "exception": false,
     "start_time": "2024-04-19T21:21:17.329951",
     "status": "completed"
    },
    "tags": []
   },
   "source": [
    "# Bidirectional LSTM"
   ]
  },
  {
   "cell_type": "markdown",
   "id": "5f19328b",
   "metadata": {
    "id": "EqO-oyrgaGT0",
    "papermill": {
     "duration": 0.012592,
     "end_time": "2024-04-19T21:21:17.368113",
     "exception": false,
     "start_time": "2024-04-19T21:21:17.355521",
     "status": "completed"
    },
    "tags": []
   },
   "source": [
    "## Build model"
   ]
  },
  {
   "cell_type": "code",
   "execution_count": 15,
   "id": "20669c27",
   "metadata": {
    "execution": {
     "iopub.execute_input": "2024-04-19T21:21:17.396165Z",
     "iopub.status.busy": "2024-04-19T21:21:17.395097Z",
     "iopub.status.idle": "2024-04-19T21:21:18.873245Z",
     "shell.execute_reply": "2024-04-19T21:21:18.872194Z"
    },
    "id": "WHtaRDuwGP_s",
    "outputId": "0bbe827f-96eb-4998-a14a-3a31f7c774eb",
    "papermill": {
     "duration": 1.494525,
     "end_time": "2024-04-19T21:21:18.875663",
     "exception": false,
     "start_time": "2024-04-19T21:21:17.381138",
     "status": "completed"
    },
    "tags": []
   },
   "outputs": [
    {
     "name": "stderr",
     "output_type": "stream",
     "text": [
      "/opt/conda/lib/python3.10/site-packages/keras/src/layers/core/embedding.py:86: UserWarning: Argument `input_length` is deprecated. Just remove it.\n",
      "  warnings.warn(\n"
     ]
    },
    {
     "data": {
      "text/html": [
       "<pre style=\"white-space:pre;overflow-x:auto;line-height:normal;font-family:Menlo,'DejaVu Sans Mono',consolas,'Courier New',monospace\"><span style=\"font-weight: bold\">Model: \"functional_1\"</span>\n",
       "</pre>\n"
      ],
      "text/plain": [
       "\u001b[1mModel: \"functional_1\"\u001b[0m\n"
      ]
     },
     "metadata": {},
     "output_type": "display_data"
    },
    {
     "data": {
      "text/html": [
       "<pre style=\"white-space:pre;overflow-x:auto;line-height:normal;font-family:Menlo,'DejaVu Sans Mono',consolas,'Courier New',monospace\">┏━━━━━━━━━━━━━━━━━━━━━━━━━━━━━━━━━┳━━━━━━━━━━━━━━━━━━━━━━━━┳━━━━━━━━━━━━━━━┓\n",
       "┃<span style=\"font-weight: bold\"> Layer (type)                    </span>┃<span style=\"font-weight: bold\"> Output Shape           </span>┃<span style=\"font-weight: bold\">       Param # </span>┃\n",
       "┡━━━━━━━━━━━━━━━━━━━━━━━━━━━━━━━━━╇━━━━━━━━━━━━━━━━━━━━━━━━╇━━━━━━━━━━━━━━━┩\n",
       "│ input_layer (<span style=\"color: #0087ff; text-decoration-color: #0087ff\">InputLayer</span>)        │ (<span style=\"color: #00d7ff; text-decoration-color: #00d7ff\">None</span>, <span style=\"color: #00af00; text-decoration-color: #00af00\">32</span>)             │             <span style=\"color: #00af00; text-decoration-color: #00af00\">0</span> │\n",
       "├─────────────────────────────────┼────────────────────────┼───────────────┤\n",
       "│ embedding (<span style=\"color: #0087ff; text-decoration-color: #0087ff\">Embedding</span>)           │ (<span style=\"color: #00d7ff; text-decoration-color: #00d7ff\">None</span>, <span style=\"color: #00af00; text-decoration-color: #00af00\">32</span>, <span style=\"color: #00af00; text-decoration-color: #00af00\">256</span>)        │     <span style=\"color: #00af00; text-decoration-color: #00af00\">1,280,000</span> │\n",
       "├─────────────────────────────────┼────────────────────────┼───────────────┤\n",
       "│ dropout (<span style=\"color: #0087ff; text-decoration-color: #0087ff\">Dropout</span>)               │ (<span style=\"color: #00d7ff; text-decoration-color: #00d7ff\">None</span>, <span style=\"color: #00af00; text-decoration-color: #00af00\">32</span>, <span style=\"color: #00af00; text-decoration-color: #00af00\">256</span>)        │             <span style=\"color: #00af00; text-decoration-color: #00af00\">0</span> │\n",
       "├─────────────────────────────────┼────────────────────────┼───────────────┤\n",
       "│ bidirectional (<span style=\"color: #0087ff; text-decoration-color: #0087ff\">Bidirectional</span>)   │ (<span style=\"color: #00d7ff; text-decoration-color: #00d7ff\">None</span>, <span style=\"color: #00af00; text-decoration-color: #00af00\">32</span>, <span style=\"color: #00af00; text-decoration-color: #00af00\">256</span>)        │       <span style=\"color: #00af00; text-decoration-color: #00af00\">394,240</span> │\n",
       "├─────────────────────────────────┼────────────────────────┼───────────────┤\n",
       "│ bidirectional_1 (<span style=\"color: #0087ff; text-decoration-color: #0087ff\">Bidirectional</span>) │ (<span style=\"color: #00d7ff; text-decoration-color: #00d7ff\">None</span>, <span style=\"color: #00af00; text-decoration-color: #00af00\">256</span>)            │       <span style=\"color: #00af00; text-decoration-color: #00af00\">394,240</span> │\n",
       "├─────────────────────────────────┼────────────────────────┼───────────────┤\n",
       "│ dense (<span style=\"color: #0087ff; text-decoration-color: #0087ff\">Dense</span>)                   │ (<span style=\"color: #00d7ff; text-decoration-color: #00d7ff\">None</span>, <span style=\"color: #00af00; text-decoration-color: #00af00\">7</span>)              │         <span style=\"color: #00af00; text-decoration-color: #00af00\">1,799</span> │\n",
       "└─────────────────────────────────┴────────────────────────┴───────────────┘\n",
       "</pre>\n"
      ],
      "text/plain": [
       "┏━━━━━━━━━━━━━━━━━━━━━━━━━━━━━━━━━┳━━━━━━━━━━━━━━━━━━━━━━━━┳━━━━━━━━━━━━━━━┓\n",
       "┃\u001b[1m \u001b[0m\u001b[1mLayer (type)                   \u001b[0m\u001b[1m \u001b[0m┃\u001b[1m \u001b[0m\u001b[1mOutput Shape          \u001b[0m\u001b[1m \u001b[0m┃\u001b[1m \u001b[0m\u001b[1m      Param #\u001b[0m\u001b[1m \u001b[0m┃\n",
       "┡━━━━━━━━━━━━━━━━━━━━━━━━━━━━━━━━━╇━━━━━━━━━━━━━━━━━━━━━━━━╇━━━━━━━━━━━━━━━┩\n",
       "│ input_layer (\u001b[38;5;33mInputLayer\u001b[0m)        │ (\u001b[38;5;45mNone\u001b[0m, \u001b[38;5;34m32\u001b[0m)             │             \u001b[38;5;34m0\u001b[0m │\n",
       "├─────────────────────────────────┼────────────────────────┼───────────────┤\n",
       "│ embedding (\u001b[38;5;33mEmbedding\u001b[0m)           │ (\u001b[38;5;45mNone\u001b[0m, \u001b[38;5;34m32\u001b[0m, \u001b[38;5;34m256\u001b[0m)        │     \u001b[38;5;34m1,280,000\u001b[0m │\n",
       "├─────────────────────────────────┼────────────────────────┼───────────────┤\n",
       "│ dropout (\u001b[38;5;33mDropout\u001b[0m)               │ (\u001b[38;5;45mNone\u001b[0m, \u001b[38;5;34m32\u001b[0m, \u001b[38;5;34m256\u001b[0m)        │             \u001b[38;5;34m0\u001b[0m │\n",
       "├─────────────────────────────────┼────────────────────────┼───────────────┤\n",
       "│ bidirectional (\u001b[38;5;33mBidirectional\u001b[0m)   │ (\u001b[38;5;45mNone\u001b[0m, \u001b[38;5;34m32\u001b[0m, \u001b[38;5;34m256\u001b[0m)        │       \u001b[38;5;34m394,240\u001b[0m │\n",
       "├─────────────────────────────────┼────────────────────────┼───────────────┤\n",
       "│ bidirectional_1 (\u001b[38;5;33mBidirectional\u001b[0m) │ (\u001b[38;5;45mNone\u001b[0m, \u001b[38;5;34m256\u001b[0m)            │       \u001b[38;5;34m394,240\u001b[0m │\n",
       "├─────────────────────────────────┼────────────────────────┼───────────────┤\n",
       "│ dense (\u001b[38;5;33mDense\u001b[0m)                   │ (\u001b[38;5;45mNone\u001b[0m, \u001b[38;5;34m7\u001b[0m)              │         \u001b[38;5;34m1,799\u001b[0m │\n",
       "└─────────────────────────────────┴────────────────────────┴───────────────┘\n"
      ]
     },
     "metadata": {},
     "output_type": "display_data"
    },
    {
     "data": {
      "text/html": [
       "<pre style=\"white-space:pre;overflow-x:auto;line-height:normal;font-family:Menlo,'DejaVu Sans Mono',consolas,'Courier New',monospace\"><span style=\"font-weight: bold\"> Total params: </span><span style=\"color: #00af00; text-decoration-color: #00af00\">2,070,279</span> (7.90 MB)\n",
       "</pre>\n"
      ],
      "text/plain": [
       "\u001b[1m Total params: \u001b[0m\u001b[38;5;34m2,070,279\u001b[0m (7.90 MB)\n"
      ]
     },
     "metadata": {},
     "output_type": "display_data"
    },
    {
     "data": {
      "text/html": [
       "<pre style=\"white-space:pre;overflow-x:auto;line-height:normal;font-family:Menlo,'DejaVu Sans Mono',consolas,'Courier New',monospace\"><span style=\"font-weight: bold\"> Trainable params: </span><span style=\"color: #00af00; text-decoration-color: #00af00\">2,070,279</span> (7.90 MB)\n",
       "</pre>\n"
      ],
      "text/plain": [
       "\u001b[1m Trainable params: \u001b[0m\u001b[38;5;34m2,070,279\u001b[0m (7.90 MB)\n"
      ]
     },
     "metadata": {},
     "output_type": "display_data"
    },
    {
     "data": {
      "text/html": [
       "<pre style=\"white-space:pre;overflow-x:auto;line-height:normal;font-family:Menlo,'DejaVu Sans Mono',consolas,'Courier New',monospace\"><span style=\"font-weight: bold\"> Non-trainable params: </span><span style=\"color: #00af00; text-decoration-color: #00af00\">0</span> (0.00 B)\n",
       "</pre>\n"
      ],
      "text/plain": [
       "\u001b[1m Non-trainable params: \u001b[0m\u001b[38;5;34m0\u001b[0m (0.00 B)\n"
      ]
     },
     "metadata": {},
     "output_type": "display_data"
    }
   ],
   "source": [
    "input = Input(shape=(max_padding,))\n",
    "x = Embedding(input_dim=VOCAB_SIZE,output_dim=256, input_length=max_padding)(input)\n",
    "x = Dropout(0.8)(x)\n",
    "x = Bidirectional(LSTM(128, return_sequences=True))(x)\n",
    "x = Bidirectional(LSTM(128))(x)\n",
    "x = Dense(7, activation='softmax')(x)\n",
    "model_lstm = Model(inputs=input, outputs=x)\n",
    "model_lstm.summary()"
   ]
  },
  {
   "cell_type": "code",
   "execution_count": 16,
   "id": "3491c7c7",
   "metadata": {
    "execution": {
     "iopub.execute_input": "2024-04-19T21:21:18.905619Z",
     "iopub.status.busy": "2024-04-19T21:21:18.905193Z",
     "iopub.status.idle": "2024-04-19T21:22:22.792321Z",
     "shell.execute_reply": "2024-04-19T21:22:22.791352Z"
    },
    "id": "k-xBBhtqS1CK",
    "outputId": "4adde006-c1a1-4f82-d8d3-9fe538280a0b",
    "papermill": {
     "duration": 63.905559,
     "end_time": "2024-04-19T21:22:22.795445",
     "exception": false,
     "start_time": "2024-04-19T21:21:18.889886",
     "status": "completed"
    },
    "tags": []
   },
   "outputs": [
    {
     "name": "stdout",
     "output_type": "stream",
     "text": [
      "Epoch 1/20\n",
      "\u001b[1m679/679\u001b[0m \u001b[32m━━━━━━━━━━━━━━━━━━━━\u001b[0m\u001b[37m\u001b[0m \u001b[1m16s\u001b[0m 15ms/step - accuracy: 0.4637 - loss: 1.4029 - val_accuracy: 0.6137 - val_loss: 1.0838\n",
      "Epoch 2/20\n",
      "\u001b[1m679/679\u001b[0m \u001b[32m━━━━━━━━━━━━━━━━━━━━\u001b[0m\u001b[37m\u001b[0m \u001b[1m9s\u001b[0m 14ms/step - accuracy: 0.6102 - loss: 1.0814 - val_accuracy: 0.6344 - val_loss: 1.0017\n",
      "Epoch 3/20\n",
      "\u001b[1m679/679\u001b[0m \u001b[32m━━━━━━━━━━━━━━━━━━━━\u001b[0m\u001b[37m\u001b[0m \u001b[1m9s\u001b[0m 14ms/step - accuracy: 0.6397 - loss: 0.9868 - val_accuracy: 0.6388 - val_loss: 0.9760\n",
      "Epoch 4/20\n",
      "\u001b[1m679/679\u001b[0m \u001b[32m━━━━━━━━━━━━━━━━━━━━\u001b[0m\u001b[37m\u001b[0m \u001b[1m9s\u001b[0m 14ms/step - accuracy: 0.6556 - loss: 0.9397 - val_accuracy: 0.6399 - val_loss: 0.9701\n",
      "Epoch 5/20\n",
      "\u001b[1m679/679\u001b[0m \u001b[32m━━━━━━━━━━━━━━━━━━━━\u001b[0m\u001b[37m\u001b[0m \u001b[1m9s\u001b[0m 14ms/step - accuracy: 0.6681 - loss: 0.9032 - val_accuracy: 0.6386 - val_loss: 0.9756\n",
      "Epoch 6/20\n",
      "\u001b[1m679/679\u001b[0m \u001b[32m━━━━━━━━━━━━━━━━━━━━\u001b[0m\u001b[37m\u001b[0m \u001b[1m9s\u001b[0m 14ms/step - accuracy: 0.6824 - loss: 0.8633 - val_accuracy: 0.6412 - val_loss: 0.9861\n",
      "Epoch 6: early stopping\n"
     ]
    }
   ],
   "source": [
    "early_stopping_callback = EarlyStopping(monitor='val_loss', patience = 2, verbose=1)\n",
    "\n",
    "model_lstm.compile(optimizer='adam'\n",
    "                    , loss='categorical_crossentropy'\n",
    "                    , metrics=['accuracy'])\n",
    "\n",
    "history_lstm = model_lstm.fit(X_train_seq\n",
    "                    , y_train_oh\n",
    "                    , epochs=NUM_EPOCHS\n",
    "                    , batch_size=BATCH_SIZE\n",
    "                    , validation_data=(X_val_seq, y_val_oh)\n",
    "                    , verbose=1\n",
    "                    , callbacks=[early_stopping_callback])"
   ]
  },
  {
   "cell_type": "markdown",
   "id": "a876cc01",
   "metadata": {
    "id": "2i7YHRP9FQwL",
    "papermill": {
     "duration": 0.10698,
     "end_time": "2024-04-19T21:22:23.011505",
     "exception": false,
     "start_time": "2024-04-19T21:22:22.904525",
     "status": "completed"
    },
    "tags": []
   },
   "source": [
    "## Prediction and scores"
   ]
  },
  {
   "cell_type": "code",
   "execution_count": 17,
   "id": "7c200e31",
   "metadata": {
    "execution": {
     "iopub.execute_input": "2024-04-19T21:22:23.279081Z",
     "iopub.status.busy": "2024-04-19T21:22:23.278700Z",
     "iopub.status.idle": "2024-04-19T21:22:24.890425Z",
     "shell.execute_reply": "2024-04-19T21:22:24.889270Z"
    },
    "id": "uPwS2vhsJEj1",
    "papermill": {
     "duration": 1.722566,
     "end_time": "2024-04-19T21:22:24.893140",
     "exception": false,
     "start_time": "2024-04-19T21:22:23.170574",
     "status": "completed"
    },
    "tags": []
   },
   "outputs": [
    {
     "name": "stdout",
     "output_type": "stream",
     "text": [
      "\u001b[1m170/170\u001b[0m \u001b[32m━━━━━━━━━━━━━━━━━━━━\u001b[0m\u001b[37m\u001b[0m \u001b[1m1s\u001b[0m 6ms/step\n"
     ]
    }
   ],
   "source": [
    "y_true, y_pred = y_test_oh, model_lstm.predict(X_test_seq)"
   ]
  },
  {
   "cell_type": "code",
   "execution_count": 18,
   "id": "f3a1749b",
   "metadata": {
    "execution": {
     "iopub.execute_input": "2024-04-19T21:22:25.117207Z",
     "iopub.status.busy": "2024-04-19T21:22:25.116706Z",
     "iopub.status.idle": "2024-04-19T21:22:25.196491Z",
     "shell.execute_reply": "2024-04-19T21:22:25.195327Z"
    },
    "id": "CgotBj7VGuNy",
    "outputId": "ec0d502e-3165-4521-f19c-083113226bfb",
    "papermill": {
     "duration": 0.194727,
     "end_time": "2024-04-19T21:22:25.198763",
     "exception": false,
     "start_time": "2024-04-19T21:22:25.004036",
     "status": "completed"
    },
    "tags": []
   },
   "outputs": [
    {
     "name": "stdout",
     "output_type": "stream",
     "text": [
      "Classification report (LSTM):\n",
      "\n",
      "              precision    recall  f1-score   support\n",
      "\n",
      "       anger       0.55      0.78      0.64      1648\n",
      "     disgust       0.55      0.32      0.40       572\n",
      "        fear       0.68      0.48      0.56       355\n",
      "         joy       0.84      0.46      0.59        81\n",
      "     neutral       0.56      0.41      0.48       116\n",
      "     sadness       0.59      0.38      0.46       677\n",
      "    surprise       0.78      0.76      0.77      1978\n",
      "\n",
      "   micro avg       0.64      0.64      0.64      5427\n",
      "   macro avg       0.65      0.51      0.56      5427\n",
      "weighted avg       0.65      0.64      0.63      5427\n",
      " samples avg       0.64      0.64      0.64      5427\n",
      "\n",
      "Macro avg f1 score: 0.5591748540681885\n"
     ]
    }
   ],
   "source": [
    "class_names = np.unique(train_ds[\"Emotion\"])\n",
    "\n",
    "# hot encode y_pred\n",
    "y_pred_cat = to_categorical(np.argmax(y_pred, axis=1), 7)\n",
    "\n",
    "# classification report\n",
    "print(\"Classification report (LSTM):\")\n",
    "print()\n",
    "print(classification_report(y_true, y_pred_cat, target_names=class_names))\n",
    "\n",
    "# f1 macro score\n",
    "print(\"Macro avg f1 score:\", f1_score(y_true, y_pred_cat, average='macro'))"
   ]
  },
  {
   "cell_type": "markdown",
   "id": "79e36cd9",
   "metadata": {
    "id": "UL30bLLnYPvf",
    "papermill": {
     "duration": 0.109704,
     "end_time": "2024-04-19T21:22:25.418633",
     "exception": false,
     "start_time": "2024-04-19T21:22:25.308929",
     "status": "completed"
    },
    "tags": []
   },
   "source": [
    "# GRU"
   ]
  },
  {
   "cell_type": "markdown",
   "id": "2f767892",
   "metadata": {
    "id": "VtwRQ2Q1aMPV",
    "papermill": {
     "duration": 0.111099,
     "end_time": "2024-04-19T21:22:25.641054",
     "exception": false,
     "start_time": "2024-04-19T21:22:25.529955",
     "status": "completed"
    },
    "tags": []
   },
   "source": [
    "## Build the model"
   ]
  },
  {
   "cell_type": "code",
   "execution_count": 19,
   "id": "132f9fcc",
   "metadata": {
    "execution": {
     "iopub.execute_input": "2024-04-19T21:22:25.864796Z",
     "iopub.status.busy": "2024-04-19T21:22:25.863826Z",
     "iopub.status.idle": "2024-04-19T21:22:25.954828Z",
     "shell.execute_reply": "2024-04-19T21:22:25.953854Z"
    },
    "id": "8Vbiqm1tYPvo",
    "outputId": "aca47e96-6b9d-4db1-baeb-1893abe855b8",
    "papermill": {
     "duration": 0.206373,
     "end_time": "2024-04-19T21:22:25.956975",
     "exception": false,
     "start_time": "2024-04-19T21:22:25.750602",
     "status": "completed"
    },
    "tags": []
   },
   "outputs": [
    {
     "name": "stderr",
     "output_type": "stream",
     "text": [
      "/opt/conda/lib/python3.10/site-packages/keras/src/layers/core/embedding.py:86: UserWarning: Argument `input_length` is deprecated. Just remove it.\n",
      "  warnings.warn(\n"
     ]
    },
    {
     "data": {
      "text/html": [
       "<pre style=\"white-space:pre;overflow-x:auto;line-height:normal;font-family:Menlo,'DejaVu Sans Mono',consolas,'Courier New',monospace\"><span style=\"font-weight: bold\">Model: \"functional_3\"</span>\n",
       "</pre>\n"
      ],
      "text/plain": [
       "\u001b[1mModel: \"functional_3\"\u001b[0m\n"
      ]
     },
     "metadata": {},
     "output_type": "display_data"
    },
    {
     "data": {
      "text/html": [
       "<pre style=\"white-space:pre;overflow-x:auto;line-height:normal;font-family:Menlo,'DejaVu Sans Mono',consolas,'Courier New',monospace\">┏━━━━━━━━━━━━━━━━━━━━━━━━━━━━━━━━━┳━━━━━━━━━━━━━━━━━━━━━━━━┳━━━━━━━━━━━━━━━┓\n",
       "┃<span style=\"font-weight: bold\"> Layer (type)                    </span>┃<span style=\"font-weight: bold\"> Output Shape           </span>┃<span style=\"font-weight: bold\">       Param # </span>┃\n",
       "┡━━━━━━━━━━━━━━━━━━━━━━━━━━━━━━━━━╇━━━━━━━━━━━━━━━━━━━━━━━━╇━━━━━━━━━━━━━━━┩\n",
       "│ input_layer_1 (<span style=\"color: #0087ff; text-decoration-color: #0087ff\">InputLayer</span>)      │ (<span style=\"color: #00d7ff; text-decoration-color: #00d7ff\">None</span>, <span style=\"color: #00af00; text-decoration-color: #00af00\">32</span>)             │             <span style=\"color: #00af00; text-decoration-color: #00af00\">0</span> │\n",
       "├─────────────────────────────────┼────────────────────────┼───────────────┤\n",
       "│ embedding_1 (<span style=\"color: #0087ff; text-decoration-color: #0087ff\">Embedding</span>)         │ (<span style=\"color: #00d7ff; text-decoration-color: #00d7ff\">None</span>, <span style=\"color: #00af00; text-decoration-color: #00af00\">32</span>, <span style=\"color: #00af00; text-decoration-color: #00af00\">256</span>)        │     <span style=\"color: #00af00; text-decoration-color: #00af00\">1,280,000</span> │\n",
       "├─────────────────────────────────┼────────────────────────┼───────────────┤\n",
       "│ dropout_1 (<span style=\"color: #0087ff; text-decoration-color: #0087ff\">Dropout</span>)             │ (<span style=\"color: #00d7ff; text-decoration-color: #00d7ff\">None</span>, <span style=\"color: #00af00; text-decoration-color: #00af00\">32</span>, <span style=\"color: #00af00; text-decoration-color: #00af00\">256</span>)        │             <span style=\"color: #00af00; text-decoration-color: #00af00\">0</span> │\n",
       "├─────────────────────────────────┼────────────────────────┼───────────────┤\n",
       "│ gru (<span style=\"color: #0087ff; text-decoration-color: #0087ff\">GRU</span>)                       │ (<span style=\"color: #00d7ff; text-decoration-color: #00d7ff\">None</span>, <span style=\"color: #00af00; text-decoration-color: #00af00\">256</span>)            │       <span style=\"color: #00af00; text-decoration-color: #00af00\">394,752</span> │\n",
       "├─────────────────────────────────┼────────────────────────┼───────────────┤\n",
       "│ dense_1 (<span style=\"color: #0087ff; text-decoration-color: #0087ff\">Dense</span>)                 │ (<span style=\"color: #00d7ff; text-decoration-color: #00d7ff\">None</span>, <span style=\"color: #00af00; text-decoration-color: #00af00\">256</span>)            │        <span style=\"color: #00af00; text-decoration-color: #00af00\">65,792</span> │\n",
       "├─────────────────────────────────┼────────────────────────┼───────────────┤\n",
       "│ dense_2 (<span style=\"color: #0087ff; text-decoration-color: #0087ff\">Dense</span>)                 │ (<span style=\"color: #00d7ff; text-decoration-color: #00d7ff\">None</span>, <span style=\"color: #00af00; text-decoration-color: #00af00\">7</span>)              │         <span style=\"color: #00af00; text-decoration-color: #00af00\">1,799</span> │\n",
       "└─────────────────────────────────┴────────────────────────┴───────────────┘\n",
       "</pre>\n"
      ],
      "text/plain": [
       "┏━━━━━━━━━━━━━━━━━━━━━━━━━━━━━━━━━┳━━━━━━━━━━━━━━━━━━━━━━━━┳━━━━━━━━━━━━━━━┓\n",
       "┃\u001b[1m \u001b[0m\u001b[1mLayer (type)                   \u001b[0m\u001b[1m \u001b[0m┃\u001b[1m \u001b[0m\u001b[1mOutput Shape          \u001b[0m\u001b[1m \u001b[0m┃\u001b[1m \u001b[0m\u001b[1m      Param #\u001b[0m\u001b[1m \u001b[0m┃\n",
       "┡━━━━━━━━━━━━━━━━━━━━━━━━━━━━━━━━━╇━━━━━━━━━━━━━━━━━━━━━━━━╇━━━━━━━━━━━━━━━┩\n",
       "│ input_layer_1 (\u001b[38;5;33mInputLayer\u001b[0m)      │ (\u001b[38;5;45mNone\u001b[0m, \u001b[38;5;34m32\u001b[0m)             │             \u001b[38;5;34m0\u001b[0m │\n",
       "├─────────────────────────────────┼────────────────────────┼───────────────┤\n",
       "│ embedding_1 (\u001b[38;5;33mEmbedding\u001b[0m)         │ (\u001b[38;5;45mNone\u001b[0m, \u001b[38;5;34m32\u001b[0m, \u001b[38;5;34m256\u001b[0m)        │     \u001b[38;5;34m1,280,000\u001b[0m │\n",
       "├─────────────────────────────────┼────────────────────────┼───────────────┤\n",
       "│ dropout_1 (\u001b[38;5;33mDropout\u001b[0m)             │ (\u001b[38;5;45mNone\u001b[0m, \u001b[38;5;34m32\u001b[0m, \u001b[38;5;34m256\u001b[0m)        │             \u001b[38;5;34m0\u001b[0m │\n",
       "├─────────────────────────────────┼────────────────────────┼───────────────┤\n",
       "│ gru (\u001b[38;5;33mGRU\u001b[0m)                       │ (\u001b[38;5;45mNone\u001b[0m, \u001b[38;5;34m256\u001b[0m)            │       \u001b[38;5;34m394,752\u001b[0m │\n",
       "├─────────────────────────────────┼────────────────────────┼───────────────┤\n",
       "│ dense_1 (\u001b[38;5;33mDense\u001b[0m)                 │ (\u001b[38;5;45mNone\u001b[0m, \u001b[38;5;34m256\u001b[0m)            │        \u001b[38;5;34m65,792\u001b[0m │\n",
       "├─────────────────────────────────┼────────────────────────┼───────────────┤\n",
       "│ dense_2 (\u001b[38;5;33mDense\u001b[0m)                 │ (\u001b[38;5;45mNone\u001b[0m, \u001b[38;5;34m7\u001b[0m)              │         \u001b[38;5;34m1,799\u001b[0m │\n",
       "└─────────────────────────────────┴────────────────────────┴───────────────┘\n"
      ]
     },
     "metadata": {},
     "output_type": "display_data"
    },
    {
     "data": {
      "text/html": [
       "<pre style=\"white-space:pre;overflow-x:auto;line-height:normal;font-family:Menlo,'DejaVu Sans Mono',consolas,'Courier New',monospace\"><span style=\"font-weight: bold\"> Total params: </span><span style=\"color: #00af00; text-decoration-color: #00af00\">1,742,343</span> (6.65 MB)\n",
       "</pre>\n"
      ],
      "text/plain": [
       "\u001b[1m Total params: \u001b[0m\u001b[38;5;34m1,742,343\u001b[0m (6.65 MB)\n"
      ]
     },
     "metadata": {},
     "output_type": "display_data"
    },
    {
     "data": {
      "text/html": [
       "<pre style=\"white-space:pre;overflow-x:auto;line-height:normal;font-family:Menlo,'DejaVu Sans Mono',consolas,'Courier New',monospace\"><span style=\"font-weight: bold\"> Trainable params: </span><span style=\"color: #00af00; text-decoration-color: #00af00\">1,742,343</span> (6.65 MB)\n",
       "</pre>\n"
      ],
      "text/plain": [
       "\u001b[1m Trainable params: \u001b[0m\u001b[38;5;34m1,742,343\u001b[0m (6.65 MB)\n"
      ]
     },
     "metadata": {},
     "output_type": "display_data"
    },
    {
     "data": {
      "text/html": [
       "<pre style=\"white-space:pre;overflow-x:auto;line-height:normal;font-family:Menlo,'DejaVu Sans Mono',consolas,'Courier New',monospace\"><span style=\"font-weight: bold\"> Non-trainable params: </span><span style=\"color: #00af00; text-decoration-color: #00af00\">0</span> (0.00 B)\n",
       "</pre>\n"
      ],
      "text/plain": [
       "\u001b[1m Non-trainable params: \u001b[0m\u001b[38;5;34m0\u001b[0m (0.00 B)\n"
      ]
     },
     "metadata": {},
     "output_type": "display_data"
    }
   ],
   "source": [
    "input = Input(shape=(max_padding,))\n",
    "x = Embedding(input_dim=VOCAB_SIZE,output_dim=256, input_length=max_padding)(input)\n",
    "x = Dropout(0.8)(x)\n",
    "x = GRU(256)(x)\n",
    "x = Dense(256, activation='relu')(x)\n",
    "x = Dense(7, activation='softmax')(x)\n",
    "model_gru = Model(inputs=input, outputs=x)\n",
    "model_gru.summary()"
   ]
  },
  {
   "cell_type": "code",
   "execution_count": 20,
   "id": "b4bed7a0",
   "metadata": {
    "execution": {
     "iopub.execute_input": "2024-04-19T21:22:26.179602Z",
     "iopub.status.busy": "2024-04-19T21:22:26.179159Z",
     "iopub.status.idle": "2024-04-19T21:23:02.665774Z",
     "shell.execute_reply": "2024-04-19T21:23:02.664888Z"
    },
    "id": "4pC0zc6IYPvo",
    "outputId": "ed709eba-5202-4938-9c6b-09d67fa255b9",
    "papermill": {
     "duration": 36.601409,
     "end_time": "2024-04-19T21:23:02.668121",
     "exception": false,
     "start_time": "2024-04-19T21:22:26.066712",
     "status": "completed"
    },
    "tags": []
   },
   "outputs": [
    {
     "name": "stdout",
     "output_type": "stream",
     "text": [
      "Epoch 1/20\n",
      "\u001b[1m679/679\u001b[0m \u001b[32m━━━━━━━━━━━━━━━━━━━━\u001b[0m\u001b[37m\u001b[0m \u001b[1m7s\u001b[0m 8ms/step - accuracy: 0.3697 - loss: 1.5479 - val_accuracy: 0.5606 - val_loss: 1.2194\n",
      "Epoch 2/20\n",
      "\u001b[1m679/679\u001b[0m \u001b[32m━━━━━━━━━━━━━━━━━━━━\u001b[0m\u001b[37m\u001b[0m \u001b[1m5s\u001b[0m 7ms/step - accuracy: 0.5635 - loss: 1.2046 - val_accuracy: 0.6050 - val_loss: 1.1049\n",
      "Epoch 3/20\n",
      "\u001b[1m679/679\u001b[0m \u001b[32m━━━━━━━━━━━━━━━━━━━━\u001b[0m\u001b[37m\u001b[0m \u001b[1m5s\u001b[0m 7ms/step - accuracy: 0.6087 - loss: 1.0799 - val_accuracy: 0.6320 - val_loss: 1.0197\n",
      "Epoch 4/20\n",
      "\u001b[1m679/679\u001b[0m \u001b[32m━━━━━━━━━━━━━━━━━━━━\u001b[0m\u001b[37m\u001b[0m \u001b[1m5s\u001b[0m 7ms/step - accuracy: 0.6401 - loss: 0.9931 - val_accuracy: 0.6401 - val_loss: 0.9997\n",
      "Epoch 5/20\n",
      "\u001b[1m679/679\u001b[0m \u001b[32m━━━━━━━━━━━━━━━━━━━━\u001b[0m\u001b[37m\u001b[0m \u001b[1m5s\u001b[0m 7ms/step - accuracy: 0.6555 - loss: 0.9397 - val_accuracy: 0.6454 - val_loss: 0.9752\n",
      "Epoch 6/20\n",
      "\u001b[1m679/679\u001b[0m \u001b[32m━━━━━━━━━━━━━━━━━━━━\u001b[0m\u001b[37m\u001b[0m \u001b[1m5s\u001b[0m 7ms/step - accuracy: 0.6655 - loss: 0.9166 - val_accuracy: 0.6399 - val_loss: 0.9923\n",
      "Epoch 7/20\n",
      "\u001b[1m679/679\u001b[0m \u001b[32m━━━━━━━━━━━━━━━━━━━━\u001b[0m\u001b[37m\u001b[0m \u001b[1m5s\u001b[0m 7ms/step - accuracy: 0.6782 - loss: 0.8789 - val_accuracy: 0.6404 - val_loss: 0.9849\n",
      "Epoch 7: early stopping\n"
     ]
    }
   ],
   "source": [
    "early_stopping_callback = EarlyStopping(monitor='val_loss', patience = 2, verbose=1)\n",
    "\n",
    "model_gru.compile(optimizer='adam'\n",
    "                    , loss='categorical_crossentropy'\n",
    "                    , metrics=['accuracy'])\n",
    "\n",
    "history_gru = model_gru.fit(X_train_seq\n",
    "                    , y_train_oh\n",
    "                    , epochs=NUM_EPOCHS\n",
    "                    , batch_size=BATCH_SIZE\n",
    "                    , validation_data=(X_val_seq, y_val_oh)\n",
    "                    , verbose=1\n",
    "                    , callbacks=[early_stopping_callback])"
   ]
  },
  {
   "cell_type": "markdown",
   "id": "ab6ba095",
   "metadata": {
    "id": "nSknfIgrYPvp",
    "papermill": {
     "duration": 0.156661,
     "end_time": "2024-04-19T21:23:02.987319",
     "exception": false,
     "start_time": "2024-04-19T21:23:02.830658",
     "status": "completed"
    },
    "tags": []
   },
   "source": [
    "## Prediction and scores"
   ]
  },
  {
   "cell_type": "code",
   "execution_count": 21,
   "id": "6a3262c2",
   "metadata": {
    "execution": {
     "iopub.execute_input": "2024-04-19T21:23:03.319008Z",
     "iopub.status.busy": "2024-04-19T21:23:03.318625Z",
     "iopub.status.idle": "2024-04-19T21:23:04.020063Z",
     "shell.execute_reply": "2024-04-19T21:23:04.019130Z"
    },
    "id": "HeWFCWpVYPvp",
    "papermill": {
     "duration": 0.876487,
     "end_time": "2024-04-19T21:23:04.022623",
     "exception": false,
     "start_time": "2024-04-19T21:23:03.146136",
     "status": "completed"
    },
    "tags": []
   },
   "outputs": [
    {
     "name": "stdout",
     "output_type": "stream",
     "text": [
      "\u001b[1m170/170\u001b[0m \u001b[32m━━━━━━━━━━━━━━━━━━━━\u001b[0m\u001b[37m\u001b[0m \u001b[1m1s\u001b[0m 3ms/step\n"
     ]
    }
   ],
   "source": [
    "y_true, y_pred = y_test_oh, model_gru.predict(X_test_seq)"
   ]
  },
  {
   "cell_type": "code",
   "execution_count": 22,
   "id": "a186769c",
   "metadata": {
    "execution": {
     "iopub.execute_input": "2024-04-19T21:23:04.356047Z",
     "iopub.status.busy": "2024-04-19T21:23:04.355262Z",
     "iopub.status.idle": "2024-04-19T21:23:04.430335Z",
     "shell.execute_reply": "2024-04-19T21:23:04.429186Z"
    },
    "id": "dpcURT0-YPvp",
    "outputId": "b98fc375-207e-45ce-b83d-27db368258fc",
    "papermill": {
     "duration": 0.247862,
     "end_time": "2024-04-19T21:23:04.432652",
     "exception": false,
     "start_time": "2024-04-19T21:23:04.184790",
     "status": "completed"
    },
    "tags": []
   },
   "outputs": [
    {
     "name": "stdout",
     "output_type": "stream",
     "text": [
      "Classification report (GRU):\n",
      "\n",
      "              precision    recall  f1-score   support\n",
      "\n",
      "       anger       0.58      0.66      0.62      1648\n",
      "     disgust       0.50      0.44      0.47       572\n",
      "        fear       0.64      0.51      0.57       355\n",
      "         joy       0.77      0.58      0.66        81\n",
      "     neutral       0.61      0.49      0.54       116\n",
      "     sadness       0.59      0.33      0.42       677\n",
      "    surprise       0.72      0.82      0.77      1978\n",
      "\n",
      "   micro avg       0.64      0.64      0.64      5427\n",
      "   macro avg       0.63      0.55      0.58      5427\n",
      "weighted avg       0.63      0.64      0.63      5427\n",
      " samples avg       0.64      0.64      0.64      5427\n",
      "\n",
      "Macro avg f1 score: 0.5788522422339233\n"
     ]
    }
   ],
   "source": [
    "class_names = np.unique(train_ds[\"Emotion\"])\n",
    "\n",
    "# hot encode y_pred\n",
    "y_pred_cat = to_categorical(np.argmax(y_pred, axis=1), 7)\n",
    "\n",
    "# classification report\\\n",
    "print(\"Classification report (GRU):\")\n",
    "print()\n",
    "print(classification_report(y_true, y_pred_cat, target_names=class_names))\n",
    "\n",
    "# f1 macro score\n",
    "print(\"Macro avg f1 score:\", f1_score(y_true, y_pred_cat, average='macro'))"
   ]
  }
 ],
 "metadata": {
  "accelerator": "GPU",
  "colab": {
   "collapsed_sections": [
    "H85kp19OXwjK"
   ],
   "include_colab_link": true,
   "machine_shape": "hm",
   "provenance": []
  },
  "gpuClass": "standard",
  "kaggle": {
   "accelerator": "nvidiaTeslaT4",
   "dataSources": [
    {
     "datasetId": 4834029,
     "sourceId": 8168683,
     "sourceType": "datasetVersion"
    }
   ],
   "dockerImageVersionId": 30698,
   "isGpuEnabled": true,
   "isInternetEnabled": true,
   "language": "python",
   "sourceType": "notebook"
  },
  "kernelspec": {
   "display_name": "Python 3",
   "language": "python",
   "name": "python3"
  },
  "language_info": {
   "codemirror_mode": {
    "name": "ipython",
    "version": 3
   },
   "file_extension": ".py",
   "mimetype": "text/x-python",
   "name": "python",
   "nbconvert_exporter": "python",
   "pygments_lexer": "ipython3",
   "version": "3.10.13"
  },
  "papermill": {
   "default_parameters": {},
   "duration": 145.458169,
   "end_time": "2024-04-19T21:23:08.178038",
   "environment_variables": {},
   "exception": null,
   "input_path": "__notebook__.ipynb",
   "output_path": "__notebook__.ipynb",
   "parameters": {},
   "start_time": "2024-04-19T21:20:42.719869",
   "version": "2.5.0"
  }
 },
 "nbformat": 4,
 "nbformat_minor": 5
}
