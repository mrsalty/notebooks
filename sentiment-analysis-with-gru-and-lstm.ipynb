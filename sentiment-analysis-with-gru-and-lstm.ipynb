{
 "cells": [
  {
   "cell_type": "markdown",
   "id": "b3346dea",
   "metadata": {
    "papermill": {
     "duration": 0.008895,
     "end_time": "2024-04-19T21:25:40.840491",
     "exception": false,
     "start_time": "2024-04-19T21:25:40.831596",
     "status": "completed"
    },
    "tags": []
   },
   "source": [
    "# Sentiment analysis with GRU and LSTM"
   ]
  },
  {
   "cell_type": "code",
   "execution_count": 1,
   "id": "0feeb019",
   "metadata": {
    "execution": {
     "iopub.execute_input": "2024-04-19T21:25:40.858733Z",
     "iopub.status.busy": "2024-04-19T21:25:40.858374Z",
     "iopub.status.idle": "2024-04-19T21:25:58.665241Z",
     "shell.execute_reply": "2024-04-19T21:25:58.664089Z"
    },
    "id": "RjH-Oz3cgQeT",
    "outputId": "6996264a-355d-4214-b318-d1165f56faac",
    "papermill": {
     "duration": 17.818727,
     "end_time": "2024-04-19T21:25:58.667673",
     "exception": false,
     "start_time": "2024-04-19T21:25:40.848946",
     "status": "completed"
    },
    "tags": []
   },
   "outputs": [
    {
     "name": "stderr",
     "output_type": "stream",
     "text": [
      "2024-04-19 21:25:45.010898: E external/local_xla/xla/stream_executor/cuda/cuda_dnn.cc:9261] Unable to register cuDNN factory: Attempting to register factory for plugin cuDNN when one has already been registered\n",
      "2024-04-19 21:25:45.011003: E external/local_xla/xla/stream_executor/cuda/cuda_fft.cc:607] Unable to register cuFFT factory: Attempting to register factory for plugin cuFFT when one has already been registered\n",
      "2024-04-19 21:25:45.129145: E external/local_xla/xla/stream_executor/cuda/cuda_blas.cc:1515] Unable to register cuBLAS factory: Attempting to register factory for plugin cuBLAS when one has already been registered\n"
     ]
    },
    {
     "name": "stdout",
     "output_type": "stream",
     "text": [
      "[nltk_data] Downloading package wordnet to /usr/share/nltk_data...\n",
      "[nltk_data]   Package wordnet is already up-to-date!\n",
      "[nltk_data] Downloading package stopwords to /usr/share/nltk_data...\n",
      "[nltk_data]   Package stopwords is already up-to-date!\n",
      "[nltk_data] Downloading package omw-1.4 to /usr/share/nltk_data...\n",
      "Archive:  /usr/share/nltk_data/corpora/wordnet.zip\r\n",
      "   creating: /usr/share/nltk_data/corpora/wordnet/\r\n",
      "  inflating: /usr/share/nltk_data/corpora/wordnet/lexnames  \r\n",
      "  inflating: /usr/share/nltk_data/corpora/wordnet/data.verb  \r\n",
      "  inflating: /usr/share/nltk_data/corpora/wordnet/index.adv  \r\n",
      "  inflating: /usr/share/nltk_data/corpora/wordnet/adv.exc  \r\n",
      "  inflating: /usr/share/nltk_data/corpora/wordnet/index.verb  \r\n",
      "  inflating: /usr/share/nltk_data/corpora/wordnet/cntlist.rev  \r\n",
      "  inflating: /usr/share/nltk_data/corpora/wordnet/data.adj  \r\n",
      "  inflating: /usr/share/nltk_data/corpora/wordnet/index.adj  \r\n",
      "  inflating: /usr/share/nltk_data/corpora/wordnet/LICENSE  \r\n",
      "  inflating: /usr/share/nltk_data/corpora/wordnet/citation.bib  \r\n",
      "  inflating: /usr/share/nltk_data/corpora/wordnet/noun.exc  \r\n",
      "  inflating: /usr/share/nltk_data/corpora/wordnet/verb.exc  \r\n",
      "  inflating: /usr/share/nltk_data/corpora/wordnet/README  \r\n",
      "  inflating: /usr/share/nltk_data/corpora/wordnet/index.sense  \r\n",
      "  inflating: /usr/share/nltk_data/corpora/wordnet/data.noun  \r\n",
      "  inflating: /usr/share/nltk_data/corpora/wordnet/data.adv  \r\n",
      "  inflating: /usr/share/nltk_data/corpora/wordnet/index.noun  \r\n",
      "  inflating: /usr/share/nltk_data/corpora/wordnet/adj.exc  \r\n",
      "Archive:  /usr/share/nltk_data/corpora/wordnet.zip\r\n",
      "   creating: /usr/share/nltk_data/stopwords/wordnet/\r\n",
      "  inflating: /usr/share/nltk_data/stopwords/wordnet/lexnames  \r\n",
      "  inflating: /usr/share/nltk_data/stopwords/wordnet/data.verb  \r\n",
      "  inflating: /usr/share/nltk_data/stopwords/wordnet/index.adv  \r\n",
      "  inflating: /usr/share/nltk_data/stopwords/wordnet/adv.exc  \r\n",
      "  inflating: /usr/share/nltk_data/stopwords/wordnet/index.verb  \r\n",
      "  inflating: /usr/share/nltk_data/stopwords/wordnet/cntlist.rev  \r\n",
      "  inflating: /usr/share/nltk_data/stopwords/wordnet/data.adj  \r\n",
      "  inflating: /usr/share/nltk_data/stopwords/wordnet/index.adj  \r\n",
      "  inflating: /usr/share/nltk_data/stopwords/wordnet/LICENSE  \r\n",
      "  inflating: /usr/share/nltk_data/stopwords/wordnet/citation.bib  \r\n",
      "  inflating: /usr/share/nltk_data/stopwords/wordnet/noun.exc  \r\n",
      "  inflating: /usr/share/nltk_data/stopwords/wordnet/verb.exc  \r\n",
      "  inflating: /usr/share/nltk_data/stopwords/wordnet/README  \r\n",
      "  inflating: /usr/share/nltk_data/stopwords/wordnet/index.sense  \r\n",
      "  inflating: /usr/share/nltk_data/stopwords/wordnet/data.noun  \r\n",
      "  inflating: /usr/share/nltk_data/stopwords/wordnet/data.adv  \r\n",
      "  inflating: /usr/share/nltk_data/stopwords/wordnet/index.noun  \r\n",
      "  inflating: /usr/share/nltk_data/stopwords/wordnet/adj.exc  \r\n",
      "Archive:  /usr/share/nltk_data/corpora/wordnet.zip\r\n",
      "   creating: /usr/share/nltk_data/omw-1.4/wordnet/\r\n",
      "  inflating: /usr/share/nltk_data/omw-1.4/wordnet/lexnames  \r\n",
      "  inflating: /usr/share/nltk_data/omw-1.4/wordnet/data.verb  \r\n",
      "  inflating: /usr/share/nltk_data/omw-1.4/wordnet/index.adv  \r\n",
      "  inflating: /usr/share/nltk_data/omw-1.4/wordnet/adv.exc  \r\n",
      "  inflating: /usr/share/nltk_data/omw-1.4/wordnet/index.verb  \r\n",
      "  inflating: /usr/share/nltk_data/omw-1.4/wordnet/cntlist.rev  \r\n",
      "  inflating: /usr/share/nltk_data/omw-1.4/wordnet/data.adj  \r\n",
      "  inflating: /usr/share/nltk_data/omw-1.4/wordnet/index.adj  \r\n",
      "  inflating: /usr/share/nltk_data/omw-1.4/wordnet/LICENSE  \r\n",
      "  inflating: /usr/share/nltk_data/omw-1.4/wordnet/citation.bib  \r\n",
      "  inflating: /usr/share/nltk_data/omw-1.4/wordnet/noun.exc  \r\n",
      "  inflating: /usr/share/nltk_data/omw-1.4/wordnet/verb.exc  \r\n",
      "  inflating: /usr/share/nltk_data/omw-1.4/wordnet/README  \r\n",
      "  inflating: /usr/share/nltk_data/omw-1.4/wordnet/index.sense  \r\n",
      "  inflating: /usr/share/nltk_data/omw-1.4/wordnet/data.noun  \r\n",
      "  inflating: /usr/share/nltk_data/omw-1.4/wordnet/data.adv  \r\n",
      "  inflating: /usr/share/nltk_data/omw-1.4/wordnet/index.noun  \r\n",
      "  inflating: /usr/share/nltk_data/omw-1.4/wordnet/adj.exc  \r\n"
     ]
    }
   ],
   "source": [
    "import pandas as pd\n",
    "import numpy as np\n",
    "import nltk\n",
    "import re\n",
    "import seaborn as sns\n",
    "import tensorflow as tf\n",
    "import collections\n",
    "import matplotlib.pyplot as plt\n",
    "import keras\n",
    "from tensorflow.keras.callbacks import EarlyStopping\n",
    "from tensorflow.keras.models import Sequential\n",
    "from tensorflow.keras.models import Model\n",
    "from tensorflow.keras.layers import LSTM, Bidirectional, Input, GRU,Activation, Dropout, Dense, Embedding\n",
    "from tensorflow.keras.preprocessing.text import Tokenizer\n",
    "from tensorflow.keras.preprocessing.sequence import pad_sequences\n",
    "from tensorflow.keras.utils import to_categorical\n",
    "from tensorflow.keras import models, layers, backend as K\n",
    "from nltk.corpus import stopwords\n",
    "from nltk.stem import WordNetLemmatizer \n",
    "from nltk.tokenize import word_tokenize\n",
    "from nltk.stem import PorterStemmer\n",
    "from numpy import array, asarray, zeros\n",
    "from sklearn import preprocessing\n",
    "from sklearn.metrics import classification_report, confusion_matrix, f1_score\n",
    "from sklearn.utils import class_weight \n",
    "\n",
    "# download nltk resources\n",
    "nltk.download('wordnet')\n",
    "nltk.download(\"stopwords\")\n",
    "nltk.download('omw-1.4')\n",
    "\n",
    "# need to unzip nltk resources manually on notebook\n",
    "!unzip /usr/share/nltk_data/corpora/wordnet.zip -d /usr/share/nltk_data/corpora/ \n",
    "!unzip /usr/share/nltk_data/corpora/wordnet.zip -d /usr/share/nltk_data/stopwords/ \n",
    "!unzip /usr/share/nltk_data/corpora/wordnet.zip -d /usr/share/nltk_data/omw-1.4/ "
   ]
  },
  {
   "cell_type": "code",
   "execution_count": 2,
   "id": "85583b43",
   "metadata": {
    "execution": {
     "iopub.execute_input": "2024-04-19T21:25:58.690230Z",
     "iopub.status.busy": "2024-04-19T21:25:58.688756Z",
     "iopub.status.idle": "2024-04-19T21:25:58.694072Z",
     "shell.execute_reply": "2024-04-19T21:25:58.693210Z"
    },
    "id": "6KVJkPHHIaLy",
    "papermill": {
     "duration": 0.018426,
     "end_time": "2024-04-19T21:25:58.696054",
     "exception": false,
     "start_time": "2024-04-19T21:25:58.677628",
     "status": "completed"
    },
    "tags": []
   },
   "outputs": [],
   "source": [
    "# global params\n",
    "VOCAB_SIZE = 5000\n",
    "NUM_EPOCHS = 20\n",
    "BATCH_SIZE = 64"
   ]
  },
  {
   "cell_type": "markdown",
   "id": "5d4b954c",
   "metadata": {
    "id": "H85kp19OXwjK",
    "papermill": {
     "duration": 0.009377,
     "end_time": "2024-04-19T21:25:58.715256",
     "exception": false,
     "start_time": "2024-04-19T21:25:58.705879",
     "status": "completed"
    },
    "tags": []
   },
   "source": [
    "# Load the data"
   ]
  },
  {
   "cell_type": "code",
   "execution_count": 3,
   "id": "f12a346e",
   "metadata": {
    "execution": {
     "iopub.execute_input": "2024-04-19T21:25:58.735839Z",
     "iopub.status.busy": "2024-04-19T21:25:58.735515Z",
     "iopub.status.idle": "2024-04-19T21:25:58.980099Z",
     "shell.execute_reply": "2024-04-19T21:25:58.979281Z"
    },
    "id": "gceWqnephvyO",
    "outputId": "ce4cae9e-bdba-4b31-c37d-34488c376c9d",
    "papermill": {
     "duration": 0.257479,
     "end_time": "2024-04-19T21:25:58.982419",
     "exception": false,
     "start_time": "2024-04-19T21:25:58.724940",
     "status": "completed"
    },
    "tags": []
   },
   "outputs": [],
   "source": [
    "# load data from files\n",
    "train_ds = pd.read_csv(\"/kaggle/input/sentiment-analysis-on-ekmans-emotions/train_ekmann.csv\")\n",
    "test_ds = pd.read_csv(\"/kaggle/input/sentiment-analysis-on-ekmans-emotions/test_ekmann.csv\")\n",
    "val_ds = pd.read_csv(\"/kaggle/input/sentiment-analysis-on-ekmans-emotions/val_ekmann.csv\")\n",
    "\n",
    "# remove Id column\n",
    "train_ds = train_ds.drop('Id', axis=1)\n",
    "test_ds = test_ds.drop('Id', axis=1)\n",
    "val_ds = val_ds.drop('Id', axis=1)"
   ]
  },
  {
   "cell_type": "markdown",
   "id": "cd57cdf0",
   "metadata": {
    "id": "YrJV7ViS2mxJ",
    "papermill": {
     "duration": 0.009502,
     "end_time": "2024-04-19T21:25:59.002169",
     "exception": false,
     "start_time": "2024-04-19T21:25:58.992667",
     "status": "completed"
    },
    "tags": []
   },
   "source": [
    "# Data visualization"
   ]
  },
  {
   "cell_type": "code",
   "execution_count": 4,
   "id": "973feec5",
   "metadata": {
    "execution": {
     "iopub.execute_input": "2024-04-19T21:25:59.023771Z",
     "iopub.status.busy": "2024-04-19T21:25:59.023407Z",
     "iopub.status.idle": "2024-04-19T21:25:59.030650Z",
     "shell.execute_reply": "2024-04-19T21:25:59.029814Z"
    },
    "id": "3viA3N7rlJ_k",
    "outputId": "6fed1b07-fad5-487c-c41d-ff60ef33b3cd",
    "papermill": {
     "duration": 0.019764,
     "end_time": "2024-04-19T21:25:59.032552",
     "exception": false,
     "start_time": "2024-04-19T21:25:59.012788",
     "status": "completed"
    },
    "tags": []
   },
   "outputs": [
    {
     "data": {
      "text/plain": [
       "(43410, 2)"
      ]
     },
     "execution_count": 4,
     "metadata": {},
     "output_type": "execute_result"
    }
   ],
   "source": [
    "train_ds.shape"
   ]
  },
  {
   "cell_type": "code",
   "execution_count": 5,
   "id": "047dc95a",
   "metadata": {
    "execution": {
     "iopub.execute_input": "2024-04-19T21:25:59.053374Z",
     "iopub.status.busy": "2024-04-19T21:25:59.052849Z",
     "iopub.status.idle": "2024-04-19T21:25:59.064998Z",
     "shell.execute_reply": "2024-04-19T21:25:59.064103Z"
    },
    "id": "_HaXK4j2-f4a",
    "outputId": "6726aaeb-9316-47ba-a6d1-fb0eff35c4be",
    "papermill": {
     "duration": 0.024794,
     "end_time": "2024-04-19T21:25:59.067074",
     "exception": false,
     "start_time": "2024-04-19T21:25:59.042280",
     "status": "completed"
    },
    "tags": []
   },
   "outputs": [
    {
     "data": {
      "text/html": [
       "<div>\n",
       "<style scoped>\n",
       "    .dataframe tbody tr th:only-of-type {\n",
       "        vertical-align: middle;\n",
       "    }\n",
       "\n",
       "    .dataframe tbody tr th {\n",
       "        vertical-align: top;\n",
       "    }\n",
       "\n",
       "    .dataframe thead th {\n",
       "        text-align: right;\n",
       "    }\n",
       "</style>\n",
       "<table border=\"1\" class=\"dataframe\">\n",
       "  <thead>\n",
       "    <tr style=\"text-align: right;\">\n",
       "      <th></th>\n",
       "      <th>Text</th>\n",
       "      <th>Emotion</th>\n",
       "    </tr>\n",
       "  </thead>\n",
       "  <tbody>\n",
       "    <tr>\n",
       "      <th>0</th>\n",
       "      <td>My favourite food is anything I didn't have to...</td>\n",
       "      <td>neutral</td>\n",
       "    </tr>\n",
       "  </tbody>\n",
       "</table>\n",
       "</div>"
      ],
      "text/plain": [
       "                                                Text  Emotion\n",
       "0  My favourite food is anything I didn't have to...  neutral"
      ]
     },
     "execution_count": 5,
     "metadata": {},
     "output_type": "execute_result"
    }
   ],
   "source": [
    "train_ds.head(1)"
   ]
  },
  {
   "cell_type": "code",
   "execution_count": 6,
   "id": "cf5795e6",
   "metadata": {
    "execution": {
     "iopub.execute_input": "2024-04-19T21:25:59.088842Z",
     "iopub.status.busy": "2024-04-19T21:25:59.088326Z",
     "iopub.status.idle": "2024-04-19T21:25:59.428603Z",
     "shell.execute_reply": "2024-04-19T21:25:59.427507Z"
    },
    "id": "48mrQEkwmC53",
    "outputId": "3b22cc60-4058-4926-a89b-ec7f7ac06d16",
    "papermill": {
     "duration": 0.353259,
     "end_time": "2024-04-19T21:25:59.430698",
     "exception": false,
     "start_time": "2024-04-19T21:25:59.077439",
     "status": "completed"
    },
    "tags": []
   },
   "outputs": [
    {
     "data": {
      "text/plain": [
       "<Axes: xlabel='Emotion', ylabel='count'>"
      ]
     },
     "execution_count": 6,
     "metadata": {},
     "output_type": "execute_result"
    },
    {
     "data": {
      "image/png": "[encoded data removed]",
      "text/plain": [
       "<Figure size 640x480 with 1 Axes>"
      ]
     },
     "metadata": {},
     "output_type": "display_data"
    }
   ],
   "source": [
    "# emotion distribution\n",
    "sns.countplot(x='Emotion', data=train_ds)"
   ]
  },
  {
   "cell_type": "markdown",
   "id": "448027a7",
   "metadata": {
    "id": "owmpa2S9IvZ6",
    "papermill": {
     "duration": 0.010561,
     "end_time": "2024-04-19T21:25:59.451828",
     "exception": false,
     "start_time": "2024-04-19T21:25:59.441267",
     "status": "completed"
    },
    "tags": []
   },
   "source": [
    "# Preprocessing"
   ]
  },
  {
   "cell_type": "code",
   "execution_count": 7,
   "id": "c28222d3",
   "metadata": {
    "execution": {
     "iopub.execute_input": "2024-04-19T21:25:59.474142Z",
     "iopub.status.busy": "2024-04-19T21:25:59.473820Z",
     "iopub.status.idle": "2024-04-19T21:25:59.478765Z",
     "shell.execute_reply": "2024-04-19T21:25:59.477905Z"
    },
    "id": "WgOrreQ3IvZ6",
    "papermill": {
     "duration": 0.018376,
     "end_time": "2024-04-19T21:25:59.480703",
     "exception": false,
     "start_time": "2024-04-19T21:25:59.462327",
     "status": "completed"
    },
    "tags": []
   },
   "outputs": [],
   "source": [
    "def preprocess_text(sentence):\n",
    "    # to lower case\n",
    "    sentence = sentence.lower()\n",
    "    # remove punctuations and numbers\n",
    "    sentence = re.sub('[^a-zA-Z]', ' ', sentence)\n",
    "    # removing multiple spaces\n",
    "    sentence = re.sub(r'\\s+', ' ', sentence)\n",
    "    return sentence"
   ]
  },
  {
   "cell_type": "code",
   "execution_count": 8,
   "id": "ef66904f",
   "metadata": {
    "execution": {
     "iopub.execute_input": "2024-04-19T21:25:59.504058Z",
     "iopub.status.busy": "2024-04-19T21:25:59.503785Z",
     "iopub.status.idle": "2024-04-19T21:25:59.508499Z",
     "shell.execute_reply": "2024-04-19T21:25:59.507640Z"
    },
    "id": "FaSSHci9iIpF",
    "papermill": {
     "duration": 0.018156,
     "end_time": "2024-04-19T21:25:59.510392",
     "exception": false,
     "start_time": "2024-04-19T21:25:59.492236",
     "status": "completed"
    },
    "tags": []
   },
   "outputs": [],
   "source": [
    "# lemmatize\n",
    "w_tokenizer = nltk.tokenize.WhitespaceTokenizer()\n",
    "lemmatizer = nltk.stem.WordNetLemmatizer()\n",
    "\n",
    "def lemmatize(text):\n",
    "    return [lemmatizer.lemmatize(w) for w in w_tokenizer.tokenize(text)]"
   ]
  },
  {
   "cell_type": "code",
   "execution_count": 9,
   "id": "f14b6552",
   "metadata": {
    "execution": {
     "iopub.execute_input": "2024-04-19T21:25:59.532825Z",
     "iopub.status.busy": "2024-04-19T21:25:59.532185Z",
     "iopub.status.idle": "2024-04-19T21:25:59.537715Z",
     "shell.execute_reply": "2024-04-19T21:25:59.536907Z"
    },
    "id": "QEJDlv58IvZ7",
    "papermill": {
     "duration": 0.018759,
     "end_time": "2024-04-19T21:25:59.539643",
     "exception": false,
     "start_time": "2024-04-19T21:25:59.520884",
     "status": "completed"
    },
    "tags": []
   },
   "outputs": [],
   "source": [
    "def map_emotion(emotion):\n",
    "    if emotion == \"neutral\":\n",
    "        return 0\n",
    "    elif emotion == \"anger\":\n",
    "        return 1\n",
    "    elif emotion == \"sadness\":\n",
    "        return 2\n",
    "    elif emotion == \"fear\":\n",
    "        return 3\n",
    "    elif emotion == \"disgust\":\n",
    "        return 4\n",
    "    elif emotion == \"surprise\":\n",
    "        return 5\n",
    "    elif emotion == \"joy\":\n",
    "        return 6\n",
    "    else:\n",
    "      return -1"
   ]
  },
  {
   "cell_type": "code",
   "execution_count": 10,
   "id": "a065f4e2",
   "metadata": {
    "execution": {
     "iopub.execute_input": "2024-04-19T21:25:59.561731Z",
     "iopub.status.busy": "2024-04-19T21:25:59.561260Z",
     "iopub.status.idle": "2024-04-19T21:26:06.874810Z",
     "shell.execute_reply": "2024-04-19T21:26:06.873881Z"
    },
    "id": "adZtmENoIvZ7",
    "outputId": "6bdb0dfa-7405-4930-b2af-0d51056ac8f8",
    "papermill": {
     "duration": 7.326978,
     "end_time": "2024-04-19T21:26:06.877015",
     "exception": false,
     "start_time": "2024-04-19T21:25:59.550037",
     "status": "completed"
    },
    "tags": []
   },
   "outputs": [
    {
     "name": "stdout",
     "output_type": "stream",
     "text": [
      "['my', 'favourite', 'food', 'is', 'anything', 'i', 'didn', 't', 'have', 'to', 'cook', 'myself']\n",
      "['i', 'm', 'really', 'sorry', 'about', 'your', 'situation', 'although', 'i', 'love', 'the', 'name', 'sapphira', 'cirilla', 'and', 'scarlett']\n",
      "['is', 'this', 'in', 'new', 'orleans', 'i', 'really', 'feel', 'like', 'this', 'is', 'new', 'orleans']\n"
     ]
    }
   ],
   "source": [
    "# preprocess all dataframes\n",
    "train_ds['Text'] = train_ds['Text'].apply(lambda x: preprocess_text(x))\n",
    "train_ds['Text'] = train_ds['Text'].apply(lambda x: lemmatize(x))\n",
    "print(train_ds['Text'][0])\n",
    "\n",
    "test_ds['Text'] = test_ds['Text'].apply(lambda x: preprocess_text(x))\n",
    "test_ds['Text'] = test_ds['Text'].apply(lambda x: lemmatize(x))\n",
    "print(test_ds['Text'][0])\n",
    "\n",
    "val_ds['Text'] = val_ds['Text'].apply(lambda x: preprocess_text(x))\n",
    "val_ds['Text'] = val_ds['Text'].apply(lambda x: lemmatize(x))\n",
    "print(val_ds['Text'][0])"
   ]
  },
  {
   "cell_type": "code",
   "execution_count": 11,
   "id": "48cc58a3",
   "metadata": {
    "execution": {
     "iopub.execute_input": "2024-04-19T21:26:06.899990Z",
     "iopub.status.busy": "2024-04-19T21:26:06.899701Z",
     "iopub.status.idle": "2024-04-19T21:26:06.932154Z",
     "shell.execute_reply": "2024-04-19T21:26:06.931297Z"
    },
    "id": "T-WXt65cIvZ7",
    "papermill": {
     "duration": 0.04584,
     "end_time": "2024-04-19T21:26:06.934049",
     "exception": false,
     "start_time": "2024-04-19T21:26:06.888209",
     "status": "completed"
    },
    "tags": []
   },
   "outputs": [],
   "source": [
    "# prepare arrays for model\n",
    "y_train = train_ds['Emotion'].values.tolist()\n",
    "y_train = np.array(list(map(lambda x: map_emotion(x), y_train)))\n",
    "X_train = train_ds[\"Text\"].values.tolist()\n",
    "\n",
    "y_test = test_ds['Emotion'].values.tolist()\n",
    "y_test = np.array(list(map(lambda x: map_emotion(x), y_test)))\n",
    "X_test = test_ds[\"Text\"].values.tolist()\n",
    "\n",
    "y_val = val_ds['Emotion'].values.tolist()\n",
    "y_val = np.array(list(map(lambda x: map_emotion(x), y_val)))\n",
    "X_val = val_ds[\"Text\"].values.tolist()"
   ]
  },
  {
   "cell_type": "code",
   "execution_count": 12,
   "id": "2ce7e92a",
   "metadata": {
    "execution": {
     "iopub.execute_input": "2024-04-19T21:26:06.956927Z",
     "iopub.status.busy": "2024-04-19T21:26:06.956421Z",
     "iopub.status.idle": "2024-04-19T21:26:08.209407Z",
     "shell.execute_reply": "2024-04-19T21:26:08.208234Z"
    },
    "id": "_e2_yKaWPLjr",
    "outputId": "ec591484-1b79-445d-d0f9-958ea0c17622",
    "papermill": {
     "duration": 1.266975,
     "end_time": "2024-04-19T21:26:08.211705",
     "exception": false,
     "start_time": "2024-04-19T21:26:06.944730",
     "status": "completed"
    },
    "tags": []
   },
   "outputs": [
    {
     "name": "stdout",
     "output_type": "stream",
     "text": [
      "Fitted tokenizer on 43410 documents\n",
      "Top 5 most common words are: [('i', 20778), ('the', 18003), ('a', 14536), ('to', 12600), ('you', 11459)]\n",
      "\"['my', 'favourite', 'food', 'is', 'anything', 'i', 'didn', 't', 'have', 'to', 'cook', 'myself']\" is converted into [18, 1061, 471, 9, 202, 1, 112, 14, 26, 4, 2784, 350]\n"
     ]
    }
   ],
   "source": [
    "# initialize tokenizer on train set \n",
    "tk = Tokenizer(num_words=VOCAB_SIZE,\n",
    "               filters='!\"#$%&()*+,-./:;<=>?@[\\\\]^_`{|}~\\t\\n',\n",
    "               lower=True,\n",
    "               split=\" \")\n",
    "tk.fit_on_texts(X_train)\n",
    "print('Fitted tokenizer on {} documents'.format(tk.document_count))\n",
    "print('Top 5 most common words are:', collections.Counter(tk.word_counts).most_common(5))\n",
    "\n",
    "# transform words in sequences of int\n",
    "X_train_seq = tk.texts_to_sequences(X_train)\n",
    "X_test_seq = tk.texts_to_sequences(X_test)\n",
    "X_val_seq = tk.texts_to_sequences(X_val)\n",
    "\n",
    "print('\"{}\" is converted into {}'.format(X_train[0], X_train_seq[0]))"
   ]
  },
  {
   "cell_type": "code",
   "execution_count": 13,
   "id": "c7844b16",
   "metadata": {
    "execution": {
     "iopub.execute_input": "2024-04-19T21:26:08.234927Z",
     "iopub.status.busy": "2024-04-19T21:26:08.234601Z",
     "iopub.status.idle": "2024-04-19T21:26:08.487713Z",
     "shell.execute_reply": "2024-04-19T21:26:08.486795Z"
    },
    "id": "WqpsbSMuEOJP",
    "outputId": "a2b6c69d-f724-42e6-e6bb-da43ea67e0e8",
    "papermill": {
     "duration": 0.267234,
     "end_time": "2024-04-19T21:26:08.490020",
     "exception": false,
     "start_time": "2024-04-19T21:26:08.222786",
     "status": "completed"
    },
    "tags": []
   },
   "outputs": [
    {
     "name": "stdout",
     "output_type": "stream",
     "text": [
      "Shapes before padding:\n",
      "(43410, 32)\n",
      "(5427, 30)\n",
      "(5426, 30)\n",
      "32\n",
      "Shapes after padding:\n",
      "(43410, 32)\n",
      "(5427, 32)\n",
      "(5426, 32)\n"
     ]
    }
   ],
   "source": [
    "# padding each array to max lenght of sequences within the array\n",
    "X_train_seq = tf.keras.preprocessing.sequence.pad_sequences(X_train_seq, padding=\"post\")\n",
    "X_test_seq = tf.keras.preprocessing.sequence.pad_sequences(X_test_seq, padding=\"post\")\n",
    "X_val_seq = tf.keras.preprocessing.sequence.pad_sequences(X_val_seq, padding=\"post\")\n",
    "\n",
    "print(\"Shapes before padding:\")\n",
    "print(X_train_seq.shape)\n",
    "print(X_test_seq.shape)\n",
    "print(X_val_seq.shape)\n",
    "\n",
    "# pad each array to the longest of the three arrays so they are all same length\n",
    "max_padding = max(max(X_train_seq.shape[1], X_test_seq.shape[1]), X_val_seq.shape[1])\n",
    "print(max_padding)\n",
    "\n",
    "if (X_train_seq.shape[1] < max_padding):\n",
    "    padding_val_train = max_padding - X_train_seq.shape[1] \n",
    "    X_train_seq = np.pad(X_train_seq, [(0, 0), (0, padding_val_train)], mode='constant', constant_values=0)\n",
    "\n",
    "if (X_test_seq.shape[1] < max_padding):\n",
    "    padding_val_test = max_padding - X_test_seq.shape[1]\n",
    "    X_test_seq = np.pad(X_test_seq, [(0, 0), (0, padding_val_test)], mode='constant', constant_values=0)\n",
    "\n",
    "if (X_val_seq.shape[1] < max_padding):\n",
    "    padding_val_val = max_padding - X_val_seq.shape[1] \n",
    "    X_val_seq = np.pad(X_val_seq, [(0, 0), (0, padding_val_val)], mode='constant', constant_values=0)\n",
    "\n",
    "print(\"Shapes after padding:\")\n",
    "print(X_train_seq.shape)\n",
    "print(X_test_seq.shape)\n",
    "print(X_val_seq.shape)"
   ]
  },
  {
   "cell_type": "code",
   "execution_count": 14,
   "id": "293f258e",
   "metadata": {
    "execution": {
     "iopub.execute_input": "2024-04-19T21:26:08.513510Z",
     "iopub.status.busy": "2024-04-19T21:26:08.513218Z",
     "iopub.status.idle": "2024-04-19T21:26:08.522982Z",
     "shell.execute_reply": "2024-04-19T21:26:08.521948Z"
    },
    "id": "KrWPFgwwRk_u",
    "outputId": "d5229634-d218-4d9a-d3c1-7c4ccd91222e",
    "papermill": {
     "duration": 0.023609,
     "end_time": "2024-04-19T21:26:08.524916",
     "exception": false,
     "start_time": "2024-04-19T21:26:08.501307",
     "status": "completed"
    },
    "tags": []
   },
   "outputs": [
    {
     "name": "stdout",
     "output_type": "stream",
     "text": [
      "eg: 5 -> [0. 0. 0. 0. 0. 1. 0.]\n"
     ]
    }
   ],
   "source": [
    "# one hot encoding\n",
    "y_train_oh = to_categorical(y_train)\n",
    "y_test_oh = to_categorical(y_test)\n",
    "y_val_oh = to_categorical(y_val)\n",
    "\n",
    "print('eg: {} -> {}'.format(y_train[10], y_train_oh[10]))"
   ]
  },
  {
   "cell_type": "markdown",
   "id": "2f5ae7f2",
   "metadata": {
    "id": "_3vTI72pFPg-",
    "papermill": {
     "duration": 0.010879,
     "end_time": "2024-04-19T21:26:08.546717",
     "exception": false,
     "start_time": "2024-04-19T21:26:08.535838",
     "status": "completed"
    },
    "tags": []
   },
   "source": [
    "# Bidirectional LSTM"
   ]
  },
  {
   "cell_type": "markdown",
   "id": "1dcce309",
   "metadata": {
    "id": "EqO-oyrgaGT0",
    "papermill": {
     "duration": 0.010643,
     "end_time": "2024-04-19T21:26:08.568339",
     "exception": false,
     "start_time": "2024-04-19T21:26:08.557696",
     "status": "completed"
    },
    "tags": []
   },
   "source": [
    "## Build model"
   ]
  },
  {
   "cell_type": "code",
   "execution_count": 15,
   "id": "4b93d428",
   "metadata": {
    "execution": {
     "iopub.execute_input": "2024-04-19T21:26:08.591310Z",
     "iopub.status.busy": "2024-04-19T21:26:08.590986Z",
     "iopub.status.idle": "2024-04-19T21:26:09.816977Z",
     "shell.execute_reply": "2024-04-19T21:26:09.816062Z"
    },
    "id": "WHtaRDuwGP_s",
    "outputId": "0bbe827f-96eb-4998-a14a-3a31f7c774eb",
    "papermill": {
     "duration": 1.239636,
     "end_time": "2024-04-19T21:26:09.818799",
     "exception": false,
     "start_time": "2024-04-19T21:26:08.579163",
     "status": "completed"
    },
    "tags": []
   },
   "outputs": [
    {
     "name": "stderr",
     "output_type": "stream",
     "text": [
      "/opt/conda/lib/python3.10/site-packages/keras/src/layers/core/embedding.py:86: UserWarning: Argument `input_length` is deprecated. Just remove it.\n",
      "  warnings.warn(\n"
     ]
    },
    {
     "data": {
      "text/html": [
       "<pre style=\"white-space:pre;overflow-x:auto;line-height:normal;font-family:Menlo,'DejaVu Sans Mono',consolas,'Courier New',monospace\"><span style=\"font-weight: bold\">Model: \"functional_1\"</span>\n",
       "</pre>\n"
      ],
      "text/plain": [
       "\u001b[1mModel: \"functional_1\"\u001b[0m\n"
      ]
     },
     "metadata": {},
     "output_type": "display_data"
    },
    {
     "data": {
      "text/html": [
       "<pre style=\"white-space:pre;overflow-x:auto;line-height:normal;font-family:Menlo,'DejaVu Sans Mono',consolas,'Courier New',monospace\">┏━━━━━━━━━━━━━━━━━━━━━━━━━━━━━━━━━┳━━━━━━━━━━━━━━━━━━━━━━━━┳━━━━━━━━━━━━━━━┓\n",
       "┃<span style=\"font-weight: bold\"> Layer (type)                    </span>┃<span style=\"font-weight: bold\"> Output Shape           </span>┃<span style=\"font-weight: bold\">       Param # </span>┃\n",
       "┡━━━━━━━━━━━━━━━━━━━━━━━━━━━━━━━━━╇━━━━━━━━━━━━━━━━━━━━━━━━╇━━━━━━━━━━━━━━━┩\n",
       "│ input_layer (<span style=\"color: #0087ff; text-decoration-color: #0087ff\">InputLayer</span>)        │ (<span style=\"color: #00d7ff; text-decoration-color: #00d7ff\">None</span>, <span style=\"color: #00af00; text-decoration-color: #00af00\">32</span>)             │             <span style=\"color: #00af00; text-decoration-color: #00af00\">0</span> │\n",
       "├─────────────────────────────────┼────────────────────────┼───────────────┤\n",
       "│ embedding (<span style=\"color: #0087ff; text-decoration-color: #0087ff\">Embedding</span>)           │ (<span style=\"color: #00d7ff; text-decoration-color: #00d7ff\">None</span>, <span style=\"color: #00af00; text-decoration-color: #00af00\">32</span>, <span style=\"color: #00af00; text-decoration-color: #00af00\">256</span>)        │     <span style=\"color: #00af00; text-decoration-color: #00af00\">1,280,000</span> │\n",
       "├─────────────────────────────────┼────────────────────────┼───────────────┤\n",
       "│ dropout (<span style=\"color: #0087ff; text-decoration-color: #0087ff\">Dropout</span>)               │ (<span style=\"color: #00d7ff; text-decoration-color: #00d7ff\">None</span>, <span style=\"color: #00af00; text-decoration-color: #00af00\">32</span>, <span style=\"color: #00af00; text-decoration-color: #00af00\">256</span>)        │             <span style=\"color: #00af00; text-decoration-color: #00af00\">0</span> │\n",
       "├─────────────────────────────────┼────────────────────────┼───────────────┤\n",
       "│ bidirectional (<span style=\"color: #0087ff; text-decoration-color: #0087ff\">Bidirectional</span>)   │ (<span style=\"color: #00d7ff; text-decoration-color: #00d7ff\">None</span>, <span style=\"color: #00af00; text-decoration-color: #00af00\">32</span>, <span style=\"color: #00af00; text-decoration-color: #00af00\">256</span>)        │       <span style=\"color: #00af00; text-decoration-color: #00af00\">394,240</span> │\n",
       "├─────────────────────────────────┼────────────────────────┼───────────────┤\n",
       "│ bidirectional_1 (<span style=\"color: #0087ff; text-decoration-color: #0087ff\">Bidirectional</span>) │ (<span style=\"color: #00d7ff; text-decoration-color: #00d7ff\">None</span>, <span style=\"color: #00af00; text-decoration-color: #00af00\">256</span>)            │       <span style=\"color: #00af00; text-decoration-color: #00af00\">394,240</span> │\n",
       "├─────────────────────────────────┼────────────────────────┼───────────────┤\n",
       "│ dense (<span style=\"color: #0087ff; text-decoration-color: #0087ff\">Dense</span>)                   │ (<span style=\"color: #00d7ff; text-decoration-color: #00d7ff\">None</span>, <span style=\"color: #00af00; text-decoration-color: #00af00\">7</span>)              │         <span style=\"color: #00af00; text-decoration-color: #00af00\">1,799</span> │\n",
       "└─────────────────────────────────┴────────────────────────┴───────────────┘\n",
       "</pre>\n"
      ],
      "text/plain": [
       "┏━━━━━━━━━━━━━━━━━━━━━━━━━━━━━━━━━┳━━━━━━━━━━━━━━━━━━━━━━━━┳━━━━━━━━━━━━━━━┓\n",
       "┃\u001b[1m \u001b[0m\u001b[1mLayer (type)                   \u001b[0m\u001b[1m \u001b[0m┃\u001b[1m \u001b[0m\u001b[1mOutput Shape          \u001b[0m\u001b[1m \u001b[0m┃\u001b[1m \u001b[0m\u001b[1m      Param #\u001b[0m\u001b[1m \u001b[0m┃\n",
       "┡━━━━━━━━━━━━━━━━━━━━━━━━━━━━━━━━━╇━━━━━━━━━━━━━━━━━━━━━━━━╇━━━━━━━━━━━━━━━┩\n",
       "│ input_layer (\u001b[38;5;33mInputLayer\u001b[0m)        │ (\u001b[38;5;45mNone\u001b[0m, \u001b[38;5;34m32\u001b[0m)             │             \u001b[38;5;34m0\u001b[0m │\n",
       "├─────────────────────────────────┼────────────────────────┼───────────────┤\n",
       "│ embedding (\u001b[38;5;33mEmbedding\u001b[0m)           │ (\u001b[38;5;45mNone\u001b[0m, \u001b[38;5;34m32\u001b[0m, \u001b[38;5;34m256\u001b[0m)        │     \u001b[38;5;34m1,280,000\u001b[0m │\n",
       "├─────────────────────────────────┼────────────────────────┼───────────────┤\n",
       "│ dropout (\u001b[38;5;33mDropout\u001b[0m)               │ (\u001b[38;5;45mNone\u001b[0m, \u001b[38;5;34m32\u001b[0m, \u001b[38;5;34m256\u001b[0m)        │             \u001b[38;5;34m0\u001b[0m │\n",
       "├─────────────────────────────────┼────────────────────────┼───────────────┤\n",
       "│ bidirectional (\u001b[38;5;33mBidirectional\u001b[0m)   │ (\u001b[38;5;45mNone\u001b[0m, \u001b[38;5;34m32\u001b[0m, \u001b[38;5;34m256\u001b[0m)        │       \u001b[38;5;34m394,240\u001b[0m │\n",
       "├─────────────────────────────────┼────────────────────────┼───────────────┤\n",
       "│ bidirectional_1 (\u001b[38;5;33mBidirectional\u001b[0m) │ (\u001b[38;5;45mNone\u001b[0m, \u001b[38;5;34m256\u001b[0m)            │       \u001b[38;5;34m394,240\u001b[0m │\n",
       "├─────────────────────────────────┼────────────────────────┼───────────────┤\n",
       "│ dense (\u001b[38;5;33mDense\u001b[0m)                   │ (\u001b[38;5;45mNone\u001b[0m, \u001b[38;5;34m7\u001b[0m)              │         \u001b[38;5;34m1,799\u001b[0m │\n",
       "└─────────────────────────────────┴────────────────────────┴───────────────┘\n"
      ]
     },
     "metadata": {},
     "output_type": "display_data"
    },
    {
     "data": {
      "text/html": [
       "<pre style=\"white-space:pre;overflow-x:auto;line-height:normal;font-family:Menlo,'DejaVu Sans Mono',consolas,'Courier New',monospace\"><span style=\"font-weight: bold\"> Total params: </span><span style=\"color: #00af00; text-decoration-color: #00af00\">2,070,279</span> (7.90 MB)\n",
       "</pre>\n"
      ],
      "text/plain": [
       "\u001b[1m Total params: \u001b[0m\u001b[38;5;34m2,070,279\u001b[0m (7.90 MB)\n"
      ]
     },
     "metadata": {},
     "output_type": "display_data"
    },
    {
     "data": {
      "text/html": [
       "<pre style=\"white-space:pre;overflow-x:auto;line-height:normal;font-family:Menlo,'DejaVu Sans Mono',consolas,'Courier New',monospace\"><span style=\"font-weight: bold\"> Trainable params: </span><span style=\"color: #00af00; text-decoration-color: #00af00\">2,070,279</span> (7.90 MB)\n",
       "</pre>\n"
      ],
      "text/plain": [
       "\u001b[1m Trainable params: \u001b[0m\u001b[38;5;34m2,070,279\u001b[0m (7.90 MB)\n"
      ]
     },
     "metadata": {},
     "output_type": "display_data"
    },
    {
     "data": {
      "text/html": [
       "<pre style=\"white-space:pre;overflow-x:auto;line-height:normal;font-family:Menlo,'DejaVu Sans Mono',consolas,'Courier New',monospace\"><span style=\"font-weight: bold\"> Non-trainable params: </span><span style=\"color: #00af00; text-decoration-color: #00af00\">0</span> (0.00 B)\n",
       "</pre>\n"
      ],
      "text/plain": [
       "\u001b[1m Non-trainable params: \u001b[0m\u001b[38;5;34m0\u001b[0m (0.00 B)\n"
      ]
     },
     "metadata": {},
     "output_type": "display_data"
    }
   ],
   "source": [
    "input = Input(shape=(max_padding,))\n",
    "x = Embedding(input_dim=VOCAB_SIZE,output_dim=256, input_length=max_padding)(input)\n",
    "x = Dropout(0.8)(x)\n",
    "x = Bidirectional(LSTM(128, return_sequences=True))(x)\n",
    "x = Bidirectional(LSTM(128))(x)\n",
    "x = Dense(7, activation='softmax')(x)\n",
    "model_lstm = Model(inputs=input, outputs=x)\n",
    "model_lstm.summary()"
   ]
  },
  {
   "cell_type": "code",
   "execution_count": 16,
   "id": "c6086e4d",
   "metadata": {
    "execution": {
     "iopub.execute_input": "2024-04-19T21:26:09.844166Z",
     "iopub.status.busy": "2024-04-19T21:26:09.843618Z",
     "iopub.status.idle": "2024-04-19T21:27:29.191841Z",
     "shell.execute_reply": "2024-04-19T21:27:29.190872Z"
    },
    "id": "k-xBBhtqS1CK",
    "outputId": "4adde006-c1a1-4f82-d8d3-9fe538280a0b",
    "papermill": {
     "duration": 79.362965,
     "end_time": "2024-04-19T21:27:29.193876",
     "exception": false,
     "start_time": "2024-04-19T21:26:09.830911",
     "status": "completed"
    },
    "tags": []
   },
   "outputs": [
    {
     "name": "stdout",
     "output_type": "stream",
     "text": [
      "Epoch 1/20\n",
      "\u001b[1m679/679\u001b[0m \u001b[32m━━━━━━━━━━━━━━━━━━━━\u001b[0m\u001b[37m\u001b[0m \u001b[1m16s\u001b[0m 16ms/step - accuracy: 0.4674 - loss: 1.3965 - val_accuracy: 0.6207 - val_loss: 1.0706\n",
      "Epoch 2/20\n",
      "\u001b[1m679/679\u001b[0m \u001b[32m━━━━━━━━━━━━━━━━━━━━\u001b[0m\u001b[37m\u001b[0m \u001b[1m11s\u001b[0m 15ms/step - accuracy: 0.6091 - loss: 1.0801 - val_accuracy: 0.6344 - val_loss: 1.0037\n",
      "Epoch 3/20\n",
      "\u001b[1m679/679\u001b[0m \u001b[32m━━━━━━━━━━━━━━━━━━━━\u001b[0m\u001b[37m\u001b[0m \u001b[1m11s\u001b[0m 15ms/step - accuracy: 0.6422 - loss: 0.9878 - val_accuracy: 0.6360 - val_loss: 0.9940\n",
      "Epoch 4/20\n",
      "\u001b[1m679/679\u001b[0m \u001b[32m━━━━━━━━━━━━━━━━━━━━\u001b[0m\u001b[37m\u001b[0m \u001b[1m11s\u001b[0m 15ms/step - accuracy: 0.6495 - loss: 0.9425 - val_accuracy: 0.6452 - val_loss: 0.9741\n",
      "Epoch 5/20\n",
      "\u001b[1m679/679\u001b[0m \u001b[32m━━━━━━━━━━━━━━━━━━━━\u001b[0m\u001b[37m\u001b[0m \u001b[1m10s\u001b[0m 15ms/step - accuracy: 0.6685 - loss: 0.9057 - val_accuracy: 0.6401 - val_loss: 0.9703\n",
      "Epoch 6/20\n",
      "\u001b[1m679/679\u001b[0m \u001b[32m━━━━━━━━━━━━━━━━━━━━\u001b[0m\u001b[37m\u001b[0m \u001b[1m10s\u001b[0m 15ms/step - accuracy: 0.6769 - loss: 0.8713 - val_accuracy: 0.6438 - val_loss: 0.9872\n",
      "Epoch 7/20\n",
      "\u001b[1m679/679\u001b[0m \u001b[32m━━━━━━━━━━━━━━━━━━━━\u001b[0m\u001b[37m\u001b[0m \u001b[1m11s\u001b[0m 16ms/step - accuracy: 0.6892 - loss: 0.8474 - val_accuracy: 0.6395 - val_loss: 0.9889\n",
      "Epoch 7: early stopping\n"
     ]
    }
   ],
   "source": [
    "early_stopping_callback = EarlyStopping(monitor='val_loss', patience = 2, verbose=1)\n",
    "\n",
    "model_lstm.compile(optimizer='adam'\n",
    "                    , loss='categorical_crossentropy'\n",
    "                    , metrics=['accuracy'])\n",
    "\n",
    "history_lstm = model_lstm.fit(X_train_seq\n",
    "                    , y_train_oh\n",
    "                    , epochs=NUM_EPOCHS\n",
    "                    , batch_size=BATCH_SIZE\n",
    "                    , validation_data=(X_val_seq, y_val_oh)\n",
    "                    , verbose=1\n",
    "                    , callbacks=[early_stopping_callback])"
   ]
  },
  {
   "cell_type": "markdown",
   "id": "5e0bad95",
   "metadata": {
    "id": "2i7YHRP9FQwL",
    "papermill": {
     "duration": 0.15119,
     "end_time": "2024-04-19T21:27:29.453303",
     "exception": false,
     "start_time": "2024-04-19T21:27:29.302113",
     "status": "completed"
    },
    "tags": []
   },
   "source": [
    "## Prediction and scores"
   ]
  },
  {
   "cell_type": "code",
   "execution_count": 17,
   "id": "9f7d4398",
   "metadata": {
    "execution": {
     "iopub.execute_input": "2024-04-19T21:27:29.667949Z",
     "iopub.status.busy": "2024-04-19T21:27:29.667302Z",
     "iopub.status.idle": "2024-04-19T21:27:31.173036Z",
     "shell.execute_reply": "2024-04-19T21:27:31.172130Z"
    },
    "id": "uPwS2vhsJEj1",
    "papermill": {
     "duration": 1.615747,
     "end_time": "2024-04-19T21:27:31.175276",
     "exception": false,
     "start_time": "2024-04-19T21:27:29.559529",
     "status": "completed"
    },
    "tags": []
   },
   "outputs": [
    {
     "name": "stdout",
     "output_type": "stream",
     "text": [
      "\u001b[1m170/170\u001b[0m \u001b[32m━━━━━━━━━━━━━━━━━━━━\u001b[0m\u001b[37m\u001b[0m \u001b[1m1s\u001b[0m 6ms/step\n"
     ]
    }
   ],
   "source": [
    "y_true, y_pred = y_test_oh, model_lstm.predict(X_test_seq)"
   ]
  },
  {
   "cell_type": "code",
   "execution_count": 18,
   "id": "3e224236",
   "metadata": {
    "execution": {
     "iopub.execute_input": "2024-04-19T21:27:31.394532Z",
     "iopub.status.busy": "2024-04-19T21:27:31.393815Z",
     "iopub.status.idle": "2024-04-19T21:27:31.462549Z",
     "shell.execute_reply": "2024-04-19T21:27:31.461571Z"
    },
    "id": "CgotBj7VGuNy",
    "outputId": "ec0d502e-3165-4521-f19c-083113226bfb",
    "papermill": {
     "duration": 0.1805,
     "end_time": "2024-04-19T21:27:31.464680",
     "exception": false,
     "start_time": "2024-04-19T21:27:31.284180",
     "status": "completed"
    },
    "tags": []
   },
   "outputs": [
    {
     "name": "stdout",
     "output_type": "stream",
     "text": [
      "Classification report (LSTM):\n",
      "\n",
      "              precision    recall  f1-score   support\n",
      "\n",
      "       anger       0.57      0.70      0.63      1648\n",
      "     disgust       0.52      0.34      0.41       572\n",
      "        fear       0.63      0.51      0.56       355\n",
      "         joy       0.67      0.63      0.65        81\n",
      "     neutral       0.65      0.31      0.42       116\n",
      "     sadness       0.57      0.40      0.47       677\n",
      "    surprise       0.74      0.80      0.77      1978\n",
      "\n",
      "   micro avg       0.64      0.64      0.64      5427\n",
      "   macro avg       0.62      0.53      0.56      5427\n",
      "weighted avg       0.63      0.64      0.63      5427\n",
      " samples avg       0.64      0.64      0.64      5427\n",
      "\n",
      "Macro avg f1 score: 0.5579909045896781\n"
     ]
    }
   ],
   "source": [
    "class_names = np.unique(train_ds[\"Emotion\"])\n",
    "\n",
    "# hot encode y_pred\n",
    "y_pred_cat = to_categorical(np.argmax(y_pred, axis=1), 7)\n",
    "\n",
    "# classification report\n",
    "print(\"Classification report (LSTM):\")\n",
    "print()\n",
    "print(classification_report(y_true, y_pred_cat, target_names=class_names))\n",
    "\n",
    "# f1 macro score\n",
    "print(\"Macro avg f1 score:\", f1_score(y_true, y_pred_cat, average='macro'))"
   ]
  },
  {
   "cell_type": "markdown",
   "id": "8676aedc",
   "metadata": {
    "id": "UL30bLLnYPvf",
    "papermill": {
     "duration": 0.108161,
     "end_time": "2024-04-19T21:27:31.681545",
     "exception": false,
     "start_time": "2024-04-19T21:27:31.573384",
     "status": "completed"
    },
    "tags": []
   },
   "source": [
    "# GRU"
   ]
  },
  {
   "cell_type": "markdown",
   "id": "b44684ce",
   "metadata": {
    "id": "VtwRQ2Q1aMPV",
    "papermill": {
     "duration": 0.109825,
     "end_time": "2024-04-19T21:27:31.898887",
     "exception": false,
     "start_time": "2024-04-19T21:27:31.789062",
     "status": "completed"
    },
    "tags": []
   },
   "source": [
    "## Build the model"
   ]
  },
  {
   "cell_type": "code",
   "execution_count": 19,
   "id": "e941736e",
   "metadata": {
    "execution": {
     "iopub.execute_input": "2024-04-19T21:27:32.117218Z",
     "iopub.status.busy": "2024-04-19T21:27:32.116351Z",
     "iopub.status.idle": "2024-04-19T21:27:32.195760Z",
     "shell.execute_reply": "2024-04-19T21:27:32.194907Z"
    },
    "id": "8Vbiqm1tYPvo",
    "outputId": "aca47e96-6b9d-4db1-baeb-1893abe855b8",
    "papermill": {
     "duration": 0.190822,
     "end_time": "2024-04-19T21:27:32.197711",
     "exception": false,
     "start_time": "2024-04-19T21:27:32.006889",
     "status": "completed"
    },
    "tags": []
   },
   "outputs": [
    {
     "name": "stderr",
     "output_type": "stream",
     "text": [
      "/opt/conda/lib/python3.10/site-packages/keras/src/layers/core/embedding.py:86: UserWarning: Argument `input_length` is deprecated. Just remove it.\n",
      "  warnings.warn(\n"
     ]
    },
    {
     "data": {
      "text/html": [
       "<pre style=\"white-space:pre;overflow-x:auto;line-height:normal;font-family:Menlo,'DejaVu Sans Mono',consolas,'Courier New',monospace\"><span style=\"font-weight: bold\">Model: \"functional_3\"</span>\n",
       "</pre>\n"
      ],
      "text/plain": [
       "\u001b[1mModel: \"functional_3\"\u001b[0m\n"
      ]
     },
     "metadata": {},
     "output_type": "display_data"
    },
    {
     "data": {
      "text/html": [
       "<pre style=\"white-space:pre;overflow-x:auto;line-height:normal;font-family:Menlo,'DejaVu Sans Mono',consolas,'Courier New',monospace\">┏━━━━━━━━━━━━━━━━━━━━━━━━━━━━━━━━━┳━━━━━━━━━━━━━━━━━━━━━━━━┳━━━━━━━━━━━━━━━┓\n",
       "┃<span style=\"font-weight: bold\"> Layer (type)                    </span>┃<span style=\"font-weight: bold\"> Output Shape           </span>┃<span style=\"font-weight: bold\">       Param # </span>┃\n",
       "┡━━━━━━━━━━━━━━━━━━━━━━━━━━━━━━━━━╇━━━━━━━━━━━━━━━━━━━━━━━━╇━━━━━━━━━━━━━━━┩\n",
       "│ input_layer_1 (<span style=\"color: #0087ff; text-decoration-color: #0087ff\">InputLayer</span>)      │ (<span style=\"color: #00d7ff; text-decoration-color: #00d7ff\">None</span>, <span style=\"color: #00af00; text-decoration-color: #00af00\">32</span>)             │             <span style=\"color: #00af00; text-decoration-color: #00af00\">0</span> │\n",
       "├─────────────────────────────────┼────────────────────────┼───────────────┤\n",
       "│ embedding_1 (<span style=\"color: #0087ff; text-decoration-color: #0087ff\">Embedding</span>)         │ (<span style=\"color: #00d7ff; text-decoration-color: #00d7ff\">None</span>, <span style=\"color: #00af00; text-decoration-color: #00af00\">32</span>, <span style=\"color: #00af00; text-decoration-color: #00af00\">256</span>)        │     <span style=\"color: #00af00; text-decoration-color: #00af00\">1,280,000</span> │\n",
       "├─────────────────────────────────┼────────────────────────┼───────────────┤\n",
       "│ dropout_1 (<span style=\"color: #0087ff; text-decoration-color: #0087ff\">Dropout</span>)             │ (<span style=\"color: #00d7ff; text-decoration-color: #00d7ff\">None</span>, <span style=\"color: #00af00; text-decoration-color: #00af00\">32</span>, <span style=\"color: #00af00; text-decoration-color: #00af00\">256</span>)        │             <span style=\"color: #00af00; text-decoration-color: #00af00\">0</span> │\n",
       "├─────────────────────────────────┼────────────────────────┼───────────────┤\n",
       "│ gru (<span style=\"color: #0087ff; text-decoration-color: #0087ff\">GRU</span>)                       │ (<span style=\"color: #00d7ff; text-decoration-color: #00d7ff\">None</span>, <span style=\"color: #00af00; text-decoration-color: #00af00\">256</span>)            │       <span style=\"color: #00af00; text-decoration-color: #00af00\">394,752</span> │\n",
       "├─────────────────────────────────┼────────────────────────┼───────────────┤\n",
       "│ dense_1 (<span style=\"color: #0087ff; text-decoration-color: #0087ff\">Dense</span>)                 │ (<span style=\"color: #00d7ff; text-decoration-color: #00d7ff\">None</span>, <span style=\"color: #00af00; text-decoration-color: #00af00\">256</span>)            │        <span style=\"color: #00af00; text-decoration-color: #00af00\">65,792</span> │\n",
       "├─────────────────────────────────┼────────────────────────┼───────────────┤\n",
       "│ dense_2 (<span style=\"color: #0087ff; text-decoration-color: #0087ff\">Dense</span>)                 │ (<span style=\"color: #00d7ff; text-decoration-color: #00d7ff\">None</span>, <span style=\"color: #00af00; text-decoration-color: #00af00\">7</span>)              │         <span style=\"color: #00af00; text-decoration-color: #00af00\">1,799</span> │\n",
       "└─────────────────────────────────┴────────────────────────┴───────────────┘\n",
       "</pre>\n"
      ],
      "text/plain": [
       "┏━━━━━━━━━━━━━━━━━━━━━━━━━━━━━━━━━┳━━━━━━━━━━━━━━━━━━━━━━━━┳━━━━━━━━━━━━━━━┓\n",
       "┃\u001b[1m \u001b[0m\u001b[1mLayer (type)                   \u001b[0m\u001b[1m \u001b[0m┃\u001b[1m \u001b[0m\u001b[1mOutput Shape          \u001b[0m\u001b[1m \u001b[0m┃\u001b[1m \u001b[0m\u001b[1m      Param #\u001b[0m\u001b[1m \u001b[0m┃\n",
       "┡━━━━━━━━━━━━━━━━━━━━━━━━━━━━━━━━━╇━━━━━━━━━━━━━━━━━━━━━━━━╇━━━━━━━━━━━━━━━┩\n",
       "│ input_layer_1 (\u001b[38;5;33mInputLayer\u001b[0m)      │ (\u001b[38;5;45mNone\u001b[0m, \u001b[38;5;34m32\u001b[0m)             │             \u001b[38;5;34m0\u001b[0m │\n",
       "├─────────────────────────────────┼────────────────────────┼───────────────┤\n",
       "│ embedding_1 (\u001b[38;5;33mEmbedding\u001b[0m)         │ (\u001b[38;5;45mNone\u001b[0m, \u001b[38;5;34m32\u001b[0m, \u001b[38;5;34m256\u001b[0m)        │     \u001b[38;5;34m1,280,000\u001b[0m │\n",
       "├─────────────────────────────────┼────────────────────────┼───────────────┤\n",
       "│ dropout_1 (\u001b[38;5;33mDropout\u001b[0m)             │ (\u001b[38;5;45mNone\u001b[0m, \u001b[38;5;34m32\u001b[0m, \u001b[38;5;34m256\u001b[0m)        │             \u001b[38;5;34m0\u001b[0m │\n",
       "├─────────────────────────────────┼────────────────────────┼───────────────┤\n",
       "│ gru (\u001b[38;5;33mGRU\u001b[0m)                       │ (\u001b[38;5;45mNone\u001b[0m, \u001b[38;5;34m256\u001b[0m)            │       \u001b[38;5;34m394,752\u001b[0m │\n",
       "├─────────────────────────────────┼────────────────────────┼───────────────┤\n",
       "│ dense_1 (\u001b[38;5;33mDense\u001b[0m)                 │ (\u001b[38;5;45mNone\u001b[0m, \u001b[38;5;34m256\u001b[0m)            │        \u001b[38;5;34m65,792\u001b[0m │\n",
       "├─────────────────────────────────┼────────────────────────┼───────────────┤\n",
       "│ dense_2 (\u001b[38;5;33mDense\u001b[0m)                 │ (\u001b[38;5;45mNone\u001b[0m, \u001b[38;5;34m7\u001b[0m)              │         \u001b[38;5;34m1,799\u001b[0m │\n",
       "└─────────────────────────────────┴────────────────────────┴───────────────┘\n"
      ]
     },
     "metadata": {},
     "output_type": "display_data"
    },
    {
     "data": {
      "text/html": [
       "<pre style=\"white-space:pre;overflow-x:auto;line-height:normal;font-family:Menlo,'DejaVu Sans Mono',consolas,'Courier New',monospace\"><span style=\"font-weight: bold\"> Total params: </span><span style=\"color: #00af00; text-decoration-color: #00af00\">1,742,343</span> (6.65 MB)\n",
       "</pre>\n"
      ],
      "text/plain": [
       "\u001b[1m Total params: \u001b[0m\u001b[38;5;34m1,742,343\u001b[0m (6.65 MB)\n"
      ]
     },
     "metadata": {},
     "output_type": "display_data"
    },
    {
     "data": {
      "text/html": [
       "<pre style=\"white-space:pre;overflow-x:auto;line-height:normal;font-family:Menlo,'DejaVu Sans Mono',consolas,'Courier New',monospace\"><span style=\"font-weight: bold\"> Trainable params: </span><span style=\"color: #00af00; text-decoration-color: #00af00\">1,742,343</span> (6.65 MB)\n",
       "</pre>\n"
      ],
      "text/plain": [
       "\u001b[1m Trainable params: \u001b[0m\u001b[38;5;34m1,742,343\u001b[0m (6.65 MB)\n"
      ]
     },
     "metadata": {},
     "output_type": "display_data"
    },
    {
     "data": {
      "text/html": [
       "<pre style=\"white-space:pre;overflow-x:auto;line-height:normal;font-family:Menlo,'DejaVu Sans Mono',consolas,'Courier New',monospace\"><span style=\"font-weight: bold\"> Non-trainable params: </span><span style=\"color: #00af00; text-decoration-color: #00af00\">0</span> (0.00 B)\n",
       "</pre>\n"
      ],
      "text/plain": [
       "\u001b[1m Non-trainable params: \u001b[0m\u001b[38;5;34m0\u001b[0m (0.00 B)\n"
      ]
     },
     "metadata": {},
     "output_type": "display_data"
    }
   ],
   "source": [
    "input = Input(shape=(max_padding,))\n",
    "x = Embedding(input_dim=VOCAB_SIZE,output_dim=256, input_length=max_padding)(input)\n",
    "x = Dropout(0.8)(x)\n",
    "x = GRU(256)(x)\n",
    "x = Dense(256, activation='relu')(x)\n",
    "x = Dense(7, activation='softmax')(x)\n",
    "model_gru = Model(inputs=input, outputs=x)\n",
    "model_gru.summary()"
   ]
  },
  {
   "cell_type": "code",
   "execution_count": 20,
   "id": "942a0217",
   "metadata": {
    "execution": {
     "iopub.execute_input": "2024-04-19T21:27:32.418978Z",
     "iopub.status.busy": "2024-04-19T21:27:32.418623Z",
     "iopub.status.idle": "2024-04-19T21:28:15.497016Z",
     "shell.execute_reply": "2024-04-19T21:28:15.496138Z"
    },
    "id": "4pC0zc6IYPvo",
    "outputId": "ed709eba-5202-4938-9c6b-09d67fa255b9",
    "papermill": {
     "duration": 43.1923,
     "end_time": "2024-04-19T21:28:15.499291",
     "exception": false,
     "start_time": "2024-04-19T21:27:32.306991",
     "status": "completed"
    },
    "tags": []
   },
   "outputs": [
    {
     "name": "stdout",
     "output_type": "stream",
     "text": [
      "Epoch 1/20\n",
      "\u001b[1m679/679\u001b[0m \u001b[32m━━━━━━━━━━━━━━━━━━━━\u001b[0m\u001b[37m\u001b[0m \u001b[1m6s\u001b[0m 7ms/step - accuracy: 0.3671 - loss: 1.5415 - val_accuracy: 0.5564 - val_loss: 1.2275\n",
      "Epoch 2/20\n",
      "\u001b[1m679/679\u001b[0m \u001b[32m━━━━━━━━━━━━━━━━━━━━\u001b[0m\u001b[37m\u001b[0m \u001b[1m4s\u001b[0m 7ms/step - accuracy: 0.5595 - loss: 1.2046 - val_accuracy: 0.6100 - val_loss: 1.0895\n",
      "Epoch 3/20\n",
      "\u001b[1m679/679\u001b[0m \u001b[32m━━━━━━━━━━━━━━━━━━━━\u001b[0m\u001b[37m\u001b[0m \u001b[1m4s\u001b[0m 7ms/step - accuracy: 0.6109 - loss: 1.0713 - val_accuracy: 0.6338 - val_loss: 1.0154\n",
      "Epoch 4/20\n",
      "\u001b[1m679/679\u001b[0m \u001b[32m━━━━━━━━━━━━━━━━━━━━\u001b[0m\u001b[37m\u001b[0m \u001b[1m5s\u001b[0m 7ms/step - accuracy: 0.6409 - loss: 0.9912 - val_accuracy: 0.6460 - val_loss: 0.9913\n",
      "Epoch 5/20\n",
      "\u001b[1m679/679\u001b[0m \u001b[32m━━━━━━━━━━━━━━━━━━━━\u001b[0m\u001b[37m\u001b[0m \u001b[1m5s\u001b[0m 7ms/step - accuracy: 0.6585 - loss: 0.9431 - val_accuracy: 0.6419 - val_loss: 0.9732\n",
      "Epoch 6/20\n",
      "\u001b[1m679/679\u001b[0m \u001b[32m━━━━━━━━━━━━━━━━━━━━\u001b[0m\u001b[37m\u001b[0m \u001b[1m5s\u001b[0m 7ms/step - accuracy: 0.6656 - loss: 0.9137 - val_accuracy: 0.6399 - val_loss: 0.9797\n",
      "Epoch 7/20\n",
      "\u001b[1m679/679\u001b[0m \u001b[32m━━━━━━━━━━━━━━━━━━━━\u001b[0m\u001b[37m\u001b[0m \u001b[1m5s\u001b[0m 7ms/step - accuracy: 0.6821 - loss: 0.8696 - val_accuracy: 0.6461 - val_loss: 0.9727\n",
      "Epoch 8/20\n",
      "\u001b[1m679/679\u001b[0m \u001b[32m━━━━━━━━━━━━━━━━━━━━\u001b[0m\u001b[37m\u001b[0m \u001b[1m4s\u001b[0m 7ms/step - accuracy: 0.6873 - loss: 0.8548 - val_accuracy: 0.6403 - val_loss: 0.9860\n",
      "Epoch 9/20\n",
      "\u001b[1m679/679\u001b[0m \u001b[32m━━━━━━━━━━━━━━━━━━━━\u001b[0m\u001b[37m\u001b[0m \u001b[1m4s\u001b[0m 7ms/step - accuracy: 0.6972 - loss: 0.8301 - val_accuracy: 0.6415 - val_loss: 1.0061\n",
      "Epoch 9: early stopping\n"
     ]
    }
   ],
   "source": [
    "early_stopping_callback = EarlyStopping(monitor='val_loss', patience = 2, verbose=1)\n",
    "\n",
    "model_gru.compile(optimizer='adam'\n",
    "                    , loss='categorical_crossentropy'\n",
    "                    , metrics=['accuracy'])\n",
    "\n",
    "history_gru = model_gru.fit(X_train_seq\n",
    "                    , y_train_oh\n",
    "                    , epochs=NUM_EPOCHS\n",
    "                    , batch_size=BATCH_SIZE\n",
    "                    , validation_data=(X_val_seq, y_val_oh)\n",
    "                    , verbose=1\n",
    "                    , callbacks=[early_stopping_callback])"
   ]
  },
  {
   "cell_type": "markdown",
   "id": "74ba4687",
   "metadata": {
    "id": "nSknfIgrYPvp",
    "papermill": {
     "duration": 0.16734,
     "end_time": "2024-04-19T21:28:15.851231",
     "exception": false,
     "start_time": "2024-04-19T21:28:15.683891",
     "status": "completed"
    },
    "tags": []
   },
   "source": [
    "## Prediction and scores"
   ]
  },
  {
   "cell_type": "code",
   "execution_count": 21,
   "id": "c77a2609",
   "metadata": {
    "execution": {
     "iopub.execute_input": "2024-04-19T21:28:16.188014Z",
     "iopub.status.busy": "2024-04-19T21:28:16.187233Z",
     "iopub.status.idle": "2024-04-19T21:28:16.808212Z",
     "shell.execute_reply": "2024-04-19T21:28:16.807387Z"
    },
    "id": "HeWFCWpVYPvp",
    "papermill": {
     "duration": 0.790606,
     "end_time": "2024-04-19T21:28:16.810194",
     "exception": false,
     "start_time": "2024-04-19T21:28:16.019588",
     "status": "completed"
    },
    "tags": []
   },
   "outputs": [
    {
     "name": "stdout",
     "output_type": "stream",
     "text": [
      "\u001b[1m170/170\u001b[0m \u001b[32m━━━━━━━━━━━━━━━━━━━━\u001b[0m\u001b[37m\u001b[0m \u001b[1m1s\u001b[0m 2ms/step\n"
     ]
    }
   ],
   "source": [
    "y_true, y_pred = y_test_oh, model_gru.predict(X_test_seq)"
   ]
  },
  {
   "cell_type": "code",
   "execution_count": 22,
   "id": "9340c174",
   "metadata": {
    "execution": {
     "iopub.execute_input": "2024-04-19T21:28:17.144955Z",
     "iopub.status.busy": "2024-04-19T21:28:17.144612Z",
     "iopub.status.idle": "2024-04-19T21:28:17.208742Z",
     "shell.execute_reply": "2024-04-19T21:28:17.207297Z"
    },
    "id": "dpcURT0-YPvp",
    "outputId": "b98fc375-207e-45ce-b83d-27db368258fc",
    "papermill": {
     "duration": 0.233888,
     "end_time": "2024-04-19T21:28:17.210798",
     "exception": false,
     "start_time": "2024-04-19T21:28:16.976910",
     "status": "completed"
    },
    "tags": []
   },
   "outputs": [
    {
     "name": "stdout",
     "output_type": "stream",
     "text": [
      "Classification report (GRU):\n",
      "\n",
      "              precision    recall  f1-score   support\n",
      "\n",
      "       anger       0.57      0.71      0.64      1648\n",
      "     disgust       0.52      0.42      0.47       572\n",
      "        fear       0.64      0.52      0.58       355\n",
      "         joy       0.68      0.59      0.63        81\n",
      "     neutral       0.59      0.47      0.52       116\n",
      "     sadness       0.58      0.43      0.49       677\n",
      "    surprise       0.78      0.77      0.77      1978\n",
      "\n",
      "   micro avg       0.65      0.65      0.65      5427\n",
      "   macro avg       0.62      0.56      0.59      5427\n",
      "weighted avg       0.65      0.65      0.64      5427\n",
      " samples avg       0.65      0.65      0.65      5427\n",
      "\n",
      "Macro avg f1 score: 0.5858403400388701\n"
     ]
    }
   ],
   "source": [
    "class_names = np.unique(train_ds[\"Emotion\"])\n",
    "\n",
    "# hot encode y_pred\n",
    "y_pred_cat = to_categorical(np.argmax(y_pred, axis=1), 7)\n",
    "\n",
    "# classification report\\\n",
    "print(\"Classification report (GRU):\")\n",
    "print()\n",
    "print(classification_report(y_true, y_pred_cat, target_names=class_names))\n",
    "\n",
    "# f1 macro score\n",
    "print(\"Macro avg f1 score:\", f1_score(y_true, y_pred_cat, average='macro'))"
   ]
  }
 ],
 "metadata": {
  "accelerator": "GPU",
  "colab": {
   "collapsed_sections": [
    "H85kp19OXwjK"
   ],
   "include_colab_link": true,
   "machine_shape": "hm",
   "provenance": []
  },
  "gpuClass": "standard",
  "kaggle": {
   "accelerator": "gpu",
   "dataSources": [
    {
     "datasetId": 4834029,
     "sourceId": 8168683,
     "sourceType": "datasetVersion"
    }
   ],
   "dockerImageVersionId": 30698,
   "isGpuEnabled": true,
   "isInternetEnabled": true,
   "language": "python",
   "sourceType": "notebook"
  },
  "kernelspec": {
   "display_name": "Python 3",
   "language": "python",
   "name": "python3"
  },
  "language_info": {
   "codemirror_mode": {
    "name": "ipython",
    "version": 3
   },
   "file_extension": ".py",
   "mimetype": "text/x-python",
   "name": "python",
   "nbconvert_exporter": "python",
   "pygments_lexer": "ipython3",
   "version": "3.10.13"
  },
  "papermill": {
   "default_parameters": {},
   "duration": 162.262726,
   "end_time": "2024-04-19T21:28:20.357213",
   "environment_variables": {},
   "exception": null,
   "input_path": "__notebook__.ipynb",
   "output_path": "__notebook__.ipynb",
   "parameters": {},
   "start_time": "2024-04-19T21:25:38.094487",
   "version": "2.5.0"
  }
 },
 "nbformat": 4,
 "nbformat_minor": 5
}
