{
 "cells": [
  {
   "cell_type": "code",
   "execution_count": 1,
   "id": "05c9ab28",
   "metadata": {
    "_cell_guid": "b1076dfc-b9ad-4769-8c92-a6c4dae69d19",
    "_uuid": "8f2839f25d086af736a60e9eeb907d3b93b6e0e5",
    "execution": {
     "iopub.execute_input": "2023-02-17T15:24:33.212879Z",
     "iopub.status.busy": "2023-02-17T15:24:33.212393Z",
     "iopub.status.idle": "2023-02-17T15:24:42.402907Z",
     "shell.execute_reply": "2023-02-17T15:24:42.401564Z"
    },
    "papermill": {
     "duration": 9.207104,
     "end_time": "2023-02-17T15:24:42.406697",
     "exception": false,
     "start_time": "2023-02-17T15:24:33.199593",
     "status": "completed"
    },
    "tags": []
   },
   "outputs": [
    {
     "name": "stdout",
     "output_type": "stream",
     "text": [
      "/kaggle/input/titanic/train.csv\n",
      "/kaggle/input/titanic/test.csv\n",
      "/kaggle/input/titanic/gender_submission.csv\n"
     ]
    }
   ],
   "source": [
    "import numpy as np \n",
    "import pandas as pd \n",
    "import os\n",
    "import matplotlib.pyplot as plt\n",
    "from xgboost import XGBClassifier\n",
    "from sklearn.ensemble import RandomForestClassifier\n",
    "from sklearn.preprocessing import LabelEncoder, MinMaxScaler, KBinsDiscretizer, OneHotEncoder\n",
    "from sklearn.model_selection import train_test_split\n",
    "from keras.models import Model, Sequential \n",
    "from numpy import mean\n",
    "from numpy import std\n",
    "from sklearn.datasets import make_classification\n",
    "from sklearn.model_selection import cross_val_score\n",
    "from sklearn.model_selection import RepeatedStratifiedKFold\n",
    "from sklearn.linear_model import LogisticRegression\n",
    "from sklearn.neighbors import KNeighborsClassifier\n",
    "from sklearn.tree import DecisionTreeClassifier\n",
    "from sklearn.svm import SVC\n",
    "from sklearn.naive_bayes import GaussianNB\n",
    "from matplotlib import pyplot\n",
    "from numpy import mean\n",
    "from sklearn.ensemble import StackingClassifier\n",
    "from sklearn.compose import ColumnTransformer\n",
    "\n",
    "for dirname, _, filenames in os.walk('/kaggle/input'):\n",
    "    for filename in filenames:\n",
    "        print(os.path.join(dirname, filename))"
   ]
  },
  {
   "cell_type": "markdown",
   "id": "c27facd4",
   "metadata": {
    "papermill": {
     "duration": 0.005098,
     "end_time": "2023-02-17T15:24:42.418389",
     "exception": false,
     "start_time": "2023-02-17T15:24:42.413291",
     "status": "completed"
    },
    "tags": []
   },
   "source": [
    "# Load data"
   ]
  },
  {
   "cell_type": "code",
   "execution_count": 2,
   "id": "1174a4b8",
   "metadata": {
    "execution": {
     "iopub.execute_input": "2023-02-17T15:24:42.431498Z",
     "iopub.status.busy": "2023-02-17T15:24:42.430201Z",
     "iopub.status.idle": "2023-02-17T15:24:42.475454Z",
     "shell.execute_reply": "2023-02-17T15:24:42.474359Z"
    },
    "papermill": {
     "duration": 0.056466,
     "end_time": "2023-02-17T15:24:42.480035",
     "exception": false,
     "start_time": "2023-02-17T15:24:42.423569",
     "status": "completed"
    },
    "tags": []
   },
   "outputs": [],
   "source": [
    "# load data from files\n",
    "X_train = pd.read_csv(\"/kaggle/input/titanic/train.csv\")\n",
    "X_submission = pd.read_csv(\"/kaggle/input/titanic/test.csv\")\n",
    "y_train = X_train['Survived']\n",
    "\n",
    "# remove y column\n",
    "X_train = X_train.drop(columns='Survived')"
   ]
  },
  {
   "cell_type": "markdown",
   "id": "9a052e38",
   "metadata": {
    "papermill": {
     "duration": 0.005018,
     "end_time": "2023-02-17T15:24:42.490443",
     "exception": false,
     "start_time": "2023-02-17T15:24:42.485425",
     "status": "completed"
    },
    "tags": []
   },
   "source": [
    "## Data dictionary\n",
    "\n",
    "\n",
    "|Variable|Definition|Key\n",
    "|----|----|----\n",
    "|survival|Survival|0 = No, 1 = Yes\n",
    "|pclass|Ticket class|1 = 1st, 2 = 2nd, 3 = 3rd\n",
    "|sex|Sex|\n",
    "|Age|Age in years|\n",
    "|sibsp|# of siblings / spouses aboard the Titanic\n",
    "|parch|# of parents / children aboard the Titanic\n",
    "|ticket|Ticket number\n",
    "|fare|Passenger fare\n",
    "|cabin|Cabin number\n",
    "|embarked|Port of Embarkation|C = Cherbourg, Q = Queenstown, S = Southampto"
   ]
  },
  {
   "cell_type": "markdown",
   "id": "09b78cd1",
   "metadata": {
    "papermill": {
     "duration": 0.004834,
     "end_time": "2023-02-17T15:24:42.500475",
     "exception": false,
     "start_time": "2023-02-17T15:24:42.495641",
     "status": "completed"
    },
    "tags": []
   },
   "source": [
    "# Preprocessing"
   ]
  },
  {
   "cell_type": "code",
   "execution_count": 3,
   "id": "4aea4faf",
   "metadata": {
    "execution": {
     "iopub.execute_input": "2023-02-17T15:24:42.512662Z",
     "iopub.status.busy": "2023-02-17T15:24:42.512217Z",
     "iopub.status.idle": "2023-02-17T15:24:42.523896Z",
     "shell.execute_reply": "2023-02-17T15:24:42.522740Z"
    },
    "papermill": {
     "duration": 0.020733,
     "end_time": "2023-02-17T15:24:42.526429",
     "exception": false,
     "start_time": "2023-02-17T15:24:42.505696",
     "status": "completed"
    },
    "tags": []
   },
   "outputs": [],
   "source": [
    "# to use later for submission\n",
    "X_submission_passengerId = X_submission['PassengerId']\n",
    "\n",
    "X_train = X_train.drop(columns='Name')\n",
    "X_train = X_train.drop(columns='Ticket')\n",
    "X_train = X_train.drop(columns='PassengerId')\n",
    "X_submission = X_submission.drop(columns='Name')\n",
    "X_submission = X_submission.drop(columns='Ticket')\n",
    "X_submission = X_submission.drop(columns='PassengerId')\n"
   ]
  },
  {
   "cell_type": "code",
   "execution_count": 4,
   "id": "cc52d361",
   "metadata": {
    "execution": {
     "iopub.execute_input": "2023-02-17T15:24:42.540145Z",
     "iopub.status.busy": "2023-02-17T15:24:42.539327Z",
     "iopub.status.idle": "2023-02-17T15:24:42.550906Z",
     "shell.execute_reply": "2023-02-17T15:24:42.549884Z"
    },
    "papermill": {
     "duration": 0.02065,
     "end_time": "2023-02-17T15:24:42.553142",
     "exception": false,
     "start_time": "2023-02-17T15:24:42.532492",
     "status": "completed"
    },
    "tags": []
   },
   "outputs": [],
   "source": [
    "X_train[\"Age\"] = X_train[\"Age\"].fillna(X_train[\"Age\"].mean())\n",
    "X_train[\"Cabin\"] = X_train[\"Cabin\"].fillna(0)\n",
    "X_train[\"Embarked\"] = X_train[\"Embarked\"].fillna('S')\n",
    "\n",
    "X_submission[\"Age\"] = X_submission[\"Age\"].fillna(X_submission[\"Age\"].mean())\n",
    "X_submission[\"Cabin\"] = X_submission[\"Cabin\"].fillna(0)\n",
    "X_submission[\"Embarked\"] = X_submission[\"Embarked\"].fillna('S')"
   ]
  },
  {
   "cell_type": "markdown",
   "id": "30c9fbc3",
   "metadata": {
    "papermill": {
     "duration": 0.005058,
     "end_time": "2023-02-17T15:24:42.563571",
     "exception": false,
     "start_time": "2023-02-17T15:24:42.558513",
     "status": "completed"
    },
    "tags": []
   },
   "source": [
    "encode categorical cols"
   ]
  },
  {
   "cell_type": "code",
   "execution_count": 5,
   "id": "39cb21eb",
   "metadata": {
    "execution": {
     "iopub.execute_input": "2023-02-17T15:24:42.576551Z",
     "iopub.status.busy": "2023-02-17T15:24:42.575689Z",
     "iopub.status.idle": "2023-02-17T15:24:42.581463Z",
     "shell.execute_reply": "2023-02-17T15:24:42.580615Z"
    },
    "papermill": {
     "duration": 0.014668,
     "end_time": "2023-02-17T15:24:42.583593",
     "exception": false,
     "start_time": "2023-02-17T15:24:42.568925",
     "status": "completed"
    },
    "tags": []
   },
   "outputs": [],
   "source": [
    "X_submission = X_submission.fillna(0)"
   ]
  },
  {
   "cell_type": "code",
   "execution_count": 6,
   "id": "cddb0e38",
   "metadata": {
    "execution": {
     "iopub.execute_input": "2023-02-17T15:24:42.596442Z",
     "iopub.status.busy": "2023-02-17T15:24:42.595713Z",
     "iopub.status.idle": "2023-02-17T15:24:42.617686Z",
     "shell.execute_reply": "2023-02-17T15:24:42.616853Z"
    },
    "papermill": {
     "duration": 0.031357,
     "end_time": "2023-02-17T15:24:42.620252",
     "exception": false,
     "start_time": "2023-02-17T15:24:42.588895",
     "status": "completed"
    },
    "tags": []
   },
   "outputs": [
    {
     "name": "stdout",
     "output_type": "stream",
     "text": [
      "     Pclass     Sex        Age  SibSp  Parch     Fare Cabin Embarked\n",
      "0         3    male  22.000000      1      0   7.2500     0        S\n",
      "1         1  female  38.000000      1      0  71.2833   C85        C\n",
      "2         3  female  26.000000      0      0   7.9250     0        S\n",
      "3         1  female  35.000000      1      0  53.1000  C123        S\n",
      "4         3    male  35.000000      0      0   8.0500     0        S\n",
      "..      ...     ...        ...    ...    ...      ...   ...      ...\n",
      "886       2    male  27.000000      0      0  13.0000     0        S\n",
      "887       1  female  19.000000      0      0  30.0000   B42        S\n",
      "888       3  female  29.699118      1      2  23.4500     0        S\n",
      "889       1    male  26.000000      0      0  30.0000  C148        C\n",
      "890       3    male  32.000000      0      0   7.7500     0        Q\n",
      "\n",
      "[891 rows x 8 columns]\n",
      "\n",
      "     Pclass     Sex       Age  SibSp  Parch      Fare Cabin Embarked\n",
      "0         3    male  34.50000      0      0    7.8292     0        Q\n",
      "1         3  female  47.00000      1      0    7.0000     0        S\n",
      "2         2    male  62.00000      0      0    9.6875     0        Q\n",
      "3         3    male  27.00000      0      0    8.6625     0        S\n",
      "4         3  female  22.00000      1      1   12.2875     0        S\n",
      "..      ...     ...       ...    ...    ...       ...   ...      ...\n",
      "413       3    male  30.27259      0      0    8.0500     0        S\n",
      "414       1  female  39.00000      0      0  108.9000  C105        C\n",
      "415       3    male  38.50000      0      0    7.2500     0        S\n",
      "416       3    male  30.27259      0      0    8.0500     0        S\n",
      "417       3    male  30.27259      1      1   22.3583     0        C\n",
      "\n",
      "[418 rows x 8 columns]\n"
     ]
    }
   ],
   "source": [
    "print(X_train)\n",
    "print()\n",
    "print(X_submission)"
   ]
  },
  {
   "cell_type": "code",
   "execution_count": 7,
   "id": "b5cc2c27",
   "metadata": {
    "execution": {
     "iopub.execute_input": "2023-02-17T15:24:42.633352Z",
     "iopub.status.busy": "2023-02-17T15:24:42.632561Z",
     "iopub.status.idle": "2023-02-17T15:24:42.662004Z",
     "shell.execute_reply": "2023-02-17T15:24:42.660700Z"
    },
    "papermill": {
     "duration": 0.038894,
     "end_time": "2023-02-17T15:24:42.664625",
     "exception": false,
     "start_time": "2023-02-17T15:24:42.625731",
     "status": "completed"
    },
    "tags": []
   },
   "outputs": [
    {
     "name": "stdout",
     "output_type": "stream",
     "text": [
      "     Pclass  Sex        Age  SibSp  Parch     Fare  Cabin  Embarked\n",
      "0         2    1  22.000000      1      0   7.2500      0         2\n",
      "1         0    0  38.000000      1      0  71.2833     82         0\n",
      "2         2    0  26.000000      0      0   7.9250      0         2\n",
      "3         0    0  35.000000      1      0  53.1000     56         2\n",
      "4         2    1  35.000000      0      0   8.0500      0         2\n",
      "..      ...  ...        ...    ...    ...      ...    ...       ...\n",
      "886       1    1  27.000000      0      0  13.0000      0         2\n",
      "887       0    0  19.000000      0      0  30.0000     31         2\n",
      "888       2    0  29.699118      1      2  23.4500      0         2\n",
      "889       0    1  26.000000      0      0  30.0000     61         0\n",
      "890       2    1  32.000000      0      0   7.7500      0         1\n",
      "\n",
      "[891 rows x 8 columns]\n",
      "\n",
      "     Pclass  Sex       Age  SibSp  Parch      Fare  Cabin  Embarked\n",
      "0         2    1  34.50000      0      0    7.8292      0         2\n",
      "1         0    0  47.00000      1      0    7.0000     42         0\n",
      "2         2    0  62.00000      0      0    9.6875      0         2\n",
      "3         0    0  27.00000      0      0    8.6625     26         2\n",
      "4         2    1  22.00000      1      1   12.2875      0         2\n",
      "..      ...  ...       ...    ...    ...       ...    ...       ...\n",
      "413       1    1  30.27259      0      0    8.0500      0         2\n",
      "414       2    1  39.00000      0      0  108.9000      0         2\n",
      "415       2    0  38.50000      0      0    7.2500      0         2\n",
      "416       1    0  30.27259      0      0    8.0500      0         2\n",
      "417       1    0  30.27259      1      1   22.3583      0         2\n",
      "\n",
      "[418 rows x 8 columns]\n"
     ]
    }
   ],
   "source": [
    "cols_to_encode = [\"Sex\",\"Cabin\",\"Embarked\",\"Pclass\"]\n",
    "enc = LabelEncoder()\n",
    "\n",
    "for col in cols_to_encode:\n",
    "    X_train[col] = X_train[col].astype('str')\n",
    "    X_submission[col] = X_train[col].astype('str') \n",
    "    X_train[col] = enc.fit_transform(X_train[col] ) \n",
    "    X_submission[col] = enc.fit_transform(X_submission[col])\n",
    "    \n",
    "#ct = ColumnTransformer(transformers = [('encoder',OneHotEncoder(),[6])],remainder = 'passthrough')\n",
    "#X_train = ct.fit_transform(X_train)\n",
    "#X_submission = ct.fit_transform(X_submission)\n",
    "\n",
    "\n",
    "print(X_train)\n",
    "print()\n",
    "print(X_submission)"
   ]
  },
  {
   "cell_type": "markdown",
   "id": "0f9e756e",
   "metadata": {
    "papermill": {
     "duration": 0.005899,
     "end_time": "2023-02-17T15:24:42.676239",
     "exception": false,
     "start_time": "2023-02-17T15:24:42.670340",
     "status": "completed"
    },
    "tags": []
   },
   "source": [
    "scaling"
   ]
  },
  {
   "cell_type": "code",
   "execution_count": 8,
   "id": "e556c823",
   "metadata": {
    "execution": {
     "iopub.execute_input": "2023-02-17T15:24:42.689580Z",
     "iopub.status.busy": "2023-02-17T15:24:42.688583Z",
     "iopub.status.idle": "2023-02-17T15:24:42.731719Z",
     "shell.execute_reply": "2023-02-17T15:24:42.730527Z"
    },
    "papermill": {
     "duration": 0.05398,
     "end_time": "2023-02-17T15:24:42.735772",
     "exception": false,
     "start_time": "2023-02-17T15:24:42.681792",
     "status": "completed"
    },
    "tags": []
   },
   "outputs": [
    {
     "data": {
      "text/html": [
       "<div>\n",
       "<style scoped>\n",
       "    .dataframe tbody tr th:only-of-type {\n",
       "        vertical-align: middle;\n",
       "    }\n",
       "\n",
       "    .dataframe tbody tr th {\n",
       "        vertical-align: top;\n",
       "    }\n",
       "\n",
       "    .dataframe thead th {\n",
       "        text-align: right;\n",
       "    }\n",
       "</style>\n",
       "<table border=\"1\" class=\"dataframe\">\n",
       "  <thead>\n",
       "    <tr style=\"text-align: right;\">\n",
       "      <th></th>\n",
       "      <th>Pclass</th>\n",
       "      <th>Sex</th>\n",
       "      <th>Age</th>\n",
       "      <th>SibSp</th>\n",
       "      <th>Parch</th>\n",
       "      <th>Fare</th>\n",
       "      <th>Cabin</th>\n",
       "      <th>Embarked</th>\n",
       "    </tr>\n",
       "  </thead>\n",
       "  <tbody>\n",
       "    <tr>\n",
       "      <th>0</th>\n",
       "      <td>2</td>\n",
       "      <td>1</td>\n",
       "      <td>-0.592481</td>\n",
       "      <td>1</td>\n",
       "      <td>0</td>\n",
       "      <td>-0.502445</td>\n",
       "      <td>-0.462490</td>\n",
       "      <td>2</td>\n",
       "    </tr>\n",
       "    <tr>\n",
       "      <th>1</th>\n",
       "      <td>0</td>\n",
       "      <td>0</td>\n",
       "      <td>0.638789</td>\n",
       "      <td>1</td>\n",
       "      <td>0</td>\n",
       "      <td>0.786845</td>\n",
       "      <td>1.688672</td>\n",
       "      <td>0</td>\n",
       "    </tr>\n",
       "    <tr>\n",
       "      <th>2</th>\n",
       "      <td>2</td>\n",
       "      <td>0</td>\n",
       "      <td>-0.284663</td>\n",
       "      <td>0</td>\n",
       "      <td>0</td>\n",
       "      <td>-0.488854</td>\n",
       "      <td>-0.462490</td>\n",
       "      <td>2</td>\n",
       "    </tr>\n",
       "    <tr>\n",
       "      <th>3</th>\n",
       "      <td>0</td>\n",
       "      <td>0</td>\n",
       "      <td>0.407926</td>\n",
       "      <td>1</td>\n",
       "      <td>0</td>\n",
       "      <td>0.420730</td>\n",
       "      <td>1.006596</td>\n",
       "      <td>2</td>\n",
       "    </tr>\n",
       "    <tr>\n",
       "      <th>4</th>\n",
       "      <td>2</td>\n",
       "      <td>1</td>\n",
       "      <td>0.407926</td>\n",
       "      <td>0</td>\n",
       "      <td>0</td>\n",
       "      <td>-0.486337</td>\n",
       "      <td>-0.462490</td>\n",
       "      <td>2</td>\n",
       "    </tr>\n",
       "  </tbody>\n",
       "</table>\n",
       "</div>"
      ],
      "text/plain": [
       "   Pclass  Sex       Age  SibSp  Parch      Fare     Cabin  Embarked\n",
       "0       2    1 -0.592481      1      0 -0.502445 -0.462490         2\n",
       "1       0    0  0.638789      1      0  0.786845  1.688672         0\n",
       "2       2    0 -0.284663      0      0 -0.488854 -0.462490         2\n",
       "3       0    0  0.407926      1      0  0.420730  1.006596         2\n",
       "4       2    1  0.407926      0      0 -0.486337 -0.462490         2"
      ]
     },
     "execution_count": 8,
     "metadata": {},
     "output_type": "execute_result"
    }
   ],
   "source": [
    "def scale_cols(df, cols, scaler):\n",
    "    for col in cols:\n",
    "        scaler = StandardScaler().fit(df[[col]])\n",
    "        df[col] = scaler.transform(df[[col]])\n",
    "        # scalers[col] = scaler\n",
    "\n",
    "from sklearn.preprocessing import StandardScaler\n",
    "sc = StandardScaler()\n",
    "\n",
    "col_scale = ['Age', 'Fare', 'Cabin']\n",
    "\n",
    "scale_cols(X_train, col_scale, sc)\n",
    "scale_cols(X_submission, col_scale, sc)\n",
    "X_train.head()"
   ]
  },
  {
   "cell_type": "markdown",
   "id": "3b6aad8b",
   "metadata": {
    "papermill": {
     "duration": 0.005593,
     "end_time": "2023-02-17T15:24:42.747372",
     "exception": false,
     "start_time": "2023-02-17T15:24:42.741779",
     "status": "completed"
    },
    "tags": []
   },
   "source": [
    "discretize"
   ]
  },
  {
   "cell_type": "code",
   "execution_count": 9,
   "id": "8b7110e3",
   "metadata": {
    "execution": {
     "iopub.execute_input": "2023-02-17T15:24:42.761564Z",
     "iopub.status.busy": "2023-02-17T15:24:42.760818Z",
     "iopub.status.idle": "2023-02-17T15:24:42.772830Z",
     "shell.execute_reply": "2023-02-17T15:24:42.771612Z"
    },
    "papermill": {
     "duration": 0.022537,
     "end_time": "2023-02-17T15:24:42.775790",
     "exception": false,
     "start_time": "2023-02-17T15:24:42.753253",
     "status": "completed"
    },
    "tags": []
   },
   "outputs": [],
   "source": [
    "kbinsAge = KBinsDiscretizer(n_bins=15, strategy='uniform', encode='ordinal')\n",
    "X_train['Age'] = kbinsAge.fit_transform(np.array(X_train['Age']).reshape(-1,1))\n",
    "\n",
    "kbinsFare = KBinsDiscretizer(n_bins=30, strategy='uniform', encode='ordinal')\n",
    "X_train['Fare'] = kbinsFare.fit_transform(np.array(X_train['Fare']).reshape(-1,1))\n",
    "\n",
    "kbinsAgeSubm = KBinsDiscretizer(n_bins=15, strategy='uniform', encode='ordinal')\n",
    "X_submission['Age'] = kbinsAgeSubm.fit_transform(np.array(X_submission['Age']).reshape(-1,1))\n",
    "\n",
    "kbinsFareSubm = KBinsDiscretizer(n_bins=30, strategy='uniform', encode='ordinal')\n",
    "X_submission['Fare'] = kbinsFareSubm.fit_transform(np.array(X_submission['Fare']).reshape(-1,1))"
   ]
  },
  {
   "cell_type": "code",
   "execution_count": 10,
   "id": "3b448455",
   "metadata": {
    "execution": {
     "iopub.execute_input": "2023-02-17T15:24:42.789592Z",
     "iopub.status.busy": "2023-02-17T15:24:42.788914Z",
     "iopub.status.idle": "2023-02-17T15:24:42.818278Z",
     "shell.execute_reply": "2023-02-17T15:24:42.817436Z"
    },
    "papermill": {
     "duration": 0.039653,
     "end_time": "2023-02-17T15:24:42.821215",
     "exception": false,
     "start_time": "2023-02-17T15:24:42.781562",
     "status": "completed"
    },
    "tags": []
   },
   "outputs": [
    {
     "name": "stdout",
     "output_type": "stream",
     "text": [
      "[[84 18]\n",
      " [14 63]]\n",
      "0.8212290502793296\n"
     ]
    }
   ],
   "source": [
    "X_train,X_test,y_train,y_test = train_test_split (X_train,y_train,test_size = 0.2)\n",
    "\n",
    "lr = LogisticRegression(max_iter=10000)\n",
    "lr.fit(X_train,y_train)\n",
    "y_pred = lr.predict(X_test)\n",
    "\n",
    "from sklearn.metrics import confusion_matrix,accuracy_score\n",
    "cm = confusion_matrix (y_test,y_pred)\n",
    "score = accuracy_score (y_test,y_pred)\n",
    "\n",
    "print(cm)\n",
    "print(score)"
   ]
  },
  {
   "cell_type": "markdown",
   "id": "57d55023",
   "metadata": {
    "papermill": {
     "duration": 0.005798,
     "end_time": "2023-02-17T15:24:42.833700",
     "exception": false,
     "start_time": "2023-02-17T15:24:42.827902",
     "status": "completed"
    },
    "tags": []
   },
   "source": []
  },
  {
   "cell_type": "markdown",
   "id": "186fa7d2",
   "metadata": {
    "papermill": {
     "duration": 0.005725,
     "end_time": "2023-02-17T15:24:42.845458",
     "exception": false,
     "start_time": "2023-02-17T15:24:42.839733",
     "status": "completed"
    },
    "tags": []
   },
   "source": [
    "# Predict and submission"
   ]
  },
  {
   "cell_type": "code",
   "execution_count": 11,
   "id": "e6b87493",
   "metadata": {
    "execution": {
     "iopub.execute_input": "2023-02-17T15:24:42.859677Z",
     "iopub.status.busy": "2023-02-17T15:24:42.858878Z",
     "iopub.status.idle": "2023-02-17T15:24:42.870795Z",
     "shell.execute_reply": "2023-02-17T15:24:42.869434Z"
    },
    "papermill": {
     "duration": 0.021593,
     "end_time": "2023-02-17T15:24:42.873084",
     "exception": false,
     "start_time": "2023-02-17T15:24:42.851491",
     "status": "completed"
    },
    "tags": []
   },
   "outputs": [
    {
     "data": {
      "text/plain": [
       "array([0, 1, 0, 1, 0, 0, 1, 0, 1, 1, 1, 1, 0, 0, 0, 1, 0, 0, 0, 1, 0, 1,\n",
       "       1, 0, 1, 0, 0, 1, 0, 0, 0, 1, 0, 0, 0, 0, 0, 0, 1, 1, 0, 1, 0, 1,\n",
       "       0, 0, 0, 1, 0, 0, 0, 0, 1, 1, 1, 0, 1, 0, 1, 0, 0, 1, 1, 0, 1, 0,\n",
       "       1, 0, 1, 0, 0, 1, 0, 0, 0, 0, 0, 0, 0, 1, 0, 0, 0, 0, 1, 0, 0, 0,\n",
       "       1, 0, 0, 0, 1, 0, 0, 0, 0, 1, 1, 0, 0, 0, 1, 0, 0, 0, 1, 0, 0, 1,\n",
       "       0, 1, 0, 1, 0, 0, 0, 0, 1, 1, 0, 0, 0, 1, 1, 0, 0, 0, 1, 0, 0, 0,\n",
       "       1, 1, 0, 0, 1, 0, 0, 0, 1, 1, 0, 0, 0, 0, 0, 1, 0, 0, 0, 1, 0, 0,\n",
       "       0, 1, 1, 0, 0, 0, 0, 1, 0, 0, 0, 0, 1, 1, 0, 0, 0, 0, 1, 0, 0, 0,\n",
       "       0, 1, 0, 0, 1, 0, 0, 0, 1, 0, 1, 0, 0, 0, 1, 0, 1, 0, 1, 1, 0, 0,\n",
       "       1, 1, 0, 0, 0, 0, 0, 1, 0, 0, 1, 1, 0, 1, 0, 0, 0, 1, 1, 0, 1, 0,\n",
       "       0, 0, 0, 0, 0, 0, 0, 0, 0, 0, 1, 0, 0, 1, 0, 1, 0, 1, 0, 0, 0, 0,\n",
       "       0, 0, 0, 0, 1, 1, 1, 0, 0, 1, 1, 0, 1, 1, 1, 1, 1, 1, 0, 0, 1, 1,\n",
       "       1, 0, 0, 0, 1, 1, 0, 0, 1, 0, 1, 1, 1, 0, 0, 1, 0, 0, 0, 0, 1, 0,\n",
       "       0, 0, 0, 1, 1, 1, 0, 0, 0, 0, 0, 1, 0, 1, 1, 0, 0, 1, 0, 0, 1, 1,\n",
       "       0, 1, 1, 1, 1, 0, 0, 1, 1, 0, 1, 1, 0, 0, 1, 1, 0, 1, 0, 1, 1, 1,\n",
       "       0, 0, 1, 0, 1, 0, 0, 1, 0, 1, 1, 1, 0, 0, 0, 1, 1, 0, 0, 0, 0, 1,\n",
       "       0, 0, 0, 0, 1, 1, 1, 1, 0, 0, 1, 0, 0, 0, 1, 1, 1, 1, 1, 0, 0, 0,\n",
       "       0, 1, 0, 1, 0, 0, 1, 1, 0, 1, 0, 0, 0, 0, 0, 1, 1, 0, 0, 1, 1, 0,\n",
       "       1, 0, 0, 1, 0, 0, 1, 0, 0, 0, 0, 0, 0, 1, 0, 0, 1, 0, 0, 0, 1, 1])"
      ]
     },
     "execution_count": 11,
     "metadata": {},
     "output_type": "execute_result"
    }
   ],
   "source": [
    "y_pred_subm = lr.predict(X_submission)\n",
    "y_pred_subm"
   ]
  },
  {
   "cell_type": "code",
   "execution_count": 12,
   "id": "15f32481",
   "metadata": {
    "execution": {
     "iopub.execute_input": "2023-02-17T15:24:42.887606Z",
     "iopub.status.busy": "2023-02-17T15:24:42.886757Z",
     "iopub.status.idle": "2023-02-17T15:24:42.900076Z",
     "shell.execute_reply": "2023-02-17T15:24:42.898968Z"
    },
    "papermill": {
     "duration": 0.023307,
     "end_time": "2023-02-17T15:24:42.902587",
     "exception": false,
     "start_time": "2023-02-17T15:24:42.879280",
     "status": "completed"
    },
    "tags": []
   },
   "outputs": [
    {
     "data": {
      "text/html": [
       "<div>\n",
       "<style scoped>\n",
       "    .dataframe tbody tr th:only-of-type {\n",
       "        vertical-align: middle;\n",
       "    }\n",
       "\n",
       "    .dataframe tbody tr th {\n",
       "        vertical-align: top;\n",
       "    }\n",
       "\n",
       "    .dataframe thead th {\n",
       "        text-align: right;\n",
       "    }\n",
       "</style>\n",
       "<table border=\"1\" class=\"dataframe\">\n",
       "  <thead>\n",
       "    <tr style=\"text-align: right;\">\n",
       "      <th></th>\n",
       "      <th>PassengerId</th>\n",
       "      <th>Survived</th>\n",
       "    </tr>\n",
       "  </thead>\n",
       "  <tbody>\n",
       "    <tr>\n",
       "      <th>0</th>\n",
       "      <td>892</td>\n",
       "      <td>0</td>\n",
       "    </tr>\n",
       "    <tr>\n",
       "      <th>1</th>\n",
       "      <td>893</td>\n",
       "      <td>1</td>\n",
       "    </tr>\n",
       "    <tr>\n",
       "      <th>2</th>\n",
       "      <td>894</td>\n",
       "      <td>0</td>\n",
       "    </tr>\n",
       "    <tr>\n",
       "      <th>3</th>\n",
       "      <td>895</td>\n",
       "      <td>1</td>\n",
       "    </tr>\n",
       "    <tr>\n",
       "      <th>4</th>\n",
       "      <td>896</td>\n",
       "      <td>0</td>\n",
       "    </tr>\n",
       "    <tr>\n",
       "      <th>...</th>\n",
       "      <td>...</td>\n",
       "      <td>...</td>\n",
       "    </tr>\n",
       "    <tr>\n",
       "      <th>413</th>\n",
       "      <td>1305</td>\n",
       "      <td>0</td>\n",
       "    </tr>\n",
       "    <tr>\n",
       "      <th>414</th>\n",
       "      <td>1306</td>\n",
       "      <td>0</td>\n",
       "    </tr>\n",
       "    <tr>\n",
       "      <th>415</th>\n",
       "      <td>1307</td>\n",
       "      <td>0</td>\n",
       "    </tr>\n",
       "    <tr>\n",
       "      <th>416</th>\n",
       "      <td>1308</td>\n",
       "      <td>1</td>\n",
       "    </tr>\n",
       "    <tr>\n",
       "      <th>417</th>\n",
       "      <td>1309</td>\n",
       "      <td>1</td>\n",
       "    </tr>\n",
       "  </tbody>\n",
       "</table>\n",
       "<p>418 rows × 2 columns</p>\n",
       "</div>"
      ],
      "text/plain": [
       "     PassengerId  Survived\n",
       "0            892         0\n",
       "1            893         1\n",
       "2            894         0\n",
       "3            895         1\n",
       "4            896         0\n",
       "..           ...       ...\n",
       "413         1305         0\n",
       "414         1306         0\n",
       "415         1307         0\n",
       "416         1308         1\n",
       "417         1309         1\n",
       "\n",
       "[418 rows x 2 columns]"
      ]
     },
     "execution_count": 12,
     "metadata": {},
     "output_type": "execute_result"
    }
   ],
   "source": [
    "final_df = pd.DataFrame({'PassengerId': X_submission_passengerId, 'Survived': y_pred_subm})\n",
    "final_df"
   ]
  },
  {
   "cell_type": "code",
   "execution_count": 13,
   "id": "261dd28f",
   "metadata": {
    "execution": {
     "iopub.execute_input": "2023-02-17T15:24:42.917146Z",
     "iopub.status.busy": "2023-02-17T15:24:42.916717Z",
     "iopub.status.idle": "2023-02-17T15:24:42.927182Z",
     "shell.execute_reply": "2023-02-17T15:24:42.925705Z"
    },
    "papermill": {
     "duration": 0.020853,
     "end_time": "2023-02-17T15:24:42.929875",
     "exception": false,
     "start_time": "2023-02-17T15:24:42.909022",
     "status": "completed"
    },
    "tags": []
   },
   "outputs": [
    {
     "name": "stdout",
     "output_type": "stream",
     "text": [
      " Submission saved\n"
     ]
    }
   ],
   "source": [
    "final_df.to_csv('submission.csv', index=False)\n",
    "print(\" Submission saved\")"
   ]
  }
 ],
 "metadata": {
  "kernelspec": {
   "display_name": "Python 3",
   "language": "python",
   "name": "python3"
  },
  "language_info": {
   "codemirror_mode": {
    "name": "ipython",
    "version": 3
   },
   "file_extension": ".py",
   "mimetype": "text/x-python",
   "name": "python",
   "nbconvert_exporter": "python",
   "pygments_lexer": "ipython3",
   "version": "3.7.12"
  },
  "papermill": {
   "default_parameters": {},
   "duration": 22.194609,
   "end_time": "2023-02-17T15:24:46.534588",
   "environment_variables": {},
   "exception": null,
   "input_path": "__notebook__.ipynb",
   "output_path": "__notebook__.ipynb",
   "parameters": {},
   "start_time": "2023-02-17T15:24:24.339979",
   "version": "2.3.4"
  }
 },
 "nbformat": 4,
 "nbformat_minor": 5
}
